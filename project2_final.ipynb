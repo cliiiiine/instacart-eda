{
 "cells": [
  {
   "cell_type": "markdown",
   "id": "8721f999",
   "metadata": {},
   "source": [
    "# Instacart Data Analysis Project"
   ]
  },
  {
   "cell_type": "markdown",
   "id": "f673c70f",
   "metadata": {},
   "source": [
    "Introduction:\n",
    "    \n",
    "    Brief Description - This project involves analyzing the Instacart dataset to gain insights into customers'    shopping patterns.\n",
    "    \n",
    "    Goal of the Project - The goal of this project is to clean and preprocess the data for further analysis,    identify duplicates, and ensure data integrity. We aim to provide insights into customer ordering behavior  and patterns.\n",
    "    \n",
    "    Description of Data - We are using 5 datasets in this analysis\n",
    "        \n",
    "        1. instacart_orders.csv: Contains information about orders placed by customers\n",
    "        2. products.csv: Contains details about products available in the store\n",
    "        3. departments.csv: Contains information about different departments in the store\n",
    "        4. aisles.csv: Contains details about various aisles in the store\n",
    "        5. order_products.csv: Contains information about products involved in each orders    \n",
    "        "
   ]
  },
  {
   "cell_type": "code",
   "execution_count": 2,
   "id": "fbf1adab",
   "metadata": {},
   "outputs": [],
   "source": [
    "import pandas as pd\n",
    "import numpy as np\n",
    "from matplotlib import pyplot as plt"
   ]
  },
  {
   "cell_type": "code",
   "execution_count": 3,
   "id": "ad36396d",
   "metadata": {},
   "outputs": [],
   "source": [
    "orders = pd.read_csv('/Users/keithrobinson/Desktop/TripleTen/Projects/project2/instacart_orders.csv', sep=';')\n",
    "\n",
    "products = pd.read_csv('/Users/keithrobinson/Desktop/TripleTen/Projects/project2/products.csv', sep=\";\")\n",
    "\n",
    "departments = pd.read_csv('/Users/keithrobinson/Desktop/TripleTen/Projects/project2/departments.csv', sep=\";\")\n",
    "\n",
    "aisles = pd.read_csv('/Users/keithrobinson/Desktop/TripleTen/Projects/project2/aisles.csv', sep=\";\")\n",
    "\n",
    "order_products = pd.read_csv('/Users/keithrobinson/Desktop/TripleTen/Projects/project2/order_products.csv', sep=\";\")"
   ]
  },
  {
   "cell_type": "code",
   "execution_count": 4,
   "id": "ad6a1efa",
   "metadata": {},
   "outputs": [
    {
     "name": "stdout",
     "output_type": "stream",
     "text": [
      "<class 'pandas.core.frame.DataFrame'>\n",
      "RangeIndex: 478967 entries, 0 to 478966\n",
      "Data columns (total 6 columns):\n",
      " #   Column                  Non-Null Count   Dtype  \n",
      "---  ------                  --------------   -----  \n",
      " 0   order_id                478967 non-null  int64  \n",
      " 1   user_id                 478967 non-null  int64  \n",
      " 2   order_number            478967 non-null  int64  \n",
      " 3   order_dow               478967 non-null  int64  \n",
      " 4   order_hour_of_day       478967 non-null  int64  \n",
      " 5   days_since_prior_order  450148 non-null  float64\n",
      "dtypes: float64(1), int64(5)\n",
      "memory usage: 21.9 MB\n"
     ]
    }
   ],
   "source": [
    "orders.info()"
   ]
  },
  {
   "cell_type": "code",
   "execution_count": 5,
   "id": "a3756b53",
   "metadata": {},
   "outputs": [
    {
     "data": {
      "text/plain": [
       "array([ 0.,  1.,  2.,  3.,  4.,  5.,  6.,  7.,  8.,  9., 10., 11., 12.,\n",
       "       13., 14., 15., 16., 17., 18., 19., 20., 21., 22., 23., 24., 25.,\n",
       "       26., 27., 28., 29., 30., nan])"
      ]
     },
     "execution_count": 5,
     "metadata": {},
     "output_type": "execute_result"
    }
   ],
   "source": [
    "orders['days_since_prior_order'].sort_values().unique() #i want to see if i can convert the last column [5] to int64 so i will check for unique values in instacart_orders"
   ]
  },
  {
   "cell_type": "code",
   "execution_count": 6,
   "id": "c8fb1840",
   "metadata": {},
   "outputs": [
    {
     "data": {
      "text/plain": [
       "28819"
      ]
     },
     "execution_count": 6,
     "metadata": {},
     "output_type": "execute_result"
    }
   ],
   "source": [
    "orders['days_since_prior_order'].isna().sum() #added up the total amount of NaN values in the df to see how many NaNs will be converted to Int64\n"
   ]
  },
  {
   "cell_type": "code",
   "execution_count": 7,
   "id": "5bb75dec",
   "metadata": {},
   "outputs": [
    {
     "name": "stdout",
     "output_type": "stream",
     "text": [
      "<class 'pandas.core.frame.DataFrame'>\n",
      "RangeIndex: 478967 entries, 0 to 478966\n",
      "Data columns (total 6 columns):\n",
      " #   Column                  Non-Null Count   Dtype\n",
      "---  ------                  --------------   -----\n",
      " 0   order_id                478967 non-null  int64\n",
      " 1   user_id                 478967 non-null  int64\n",
      " 2   order_number            478967 non-null  int64\n",
      " 3   order_dow               478967 non-null  int64\n",
      " 4   order_hour_of_day       478967 non-null  int64\n",
      " 5   days_since_prior_order  450148 non-null  Int64\n",
      "dtypes: Int64(1), int64(5)\n",
      "memory usage: 22.4 MB\n"
     ]
    }
   ],
   "source": [
    "orders['days_since_prior_order'] = orders['days_since_prior_order'].astype('Int64') #i took the column days_since_prior_order in instacart_orders and converted all the NaNs in the column to Int64\n",
    "orders.info()"
   ]
  },
  {
   "cell_type": "code",
   "execution_count": 8,
   "id": "4fda7541",
   "metadata": {},
   "outputs": [
    {
     "data": {
      "text/plain": [
       "Int64Dtype()"
      ]
     },
     "execution_count": 8,
     "metadata": {},
     "output_type": "execute_result"
    }
   ],
   "source": [
    "orders['days_since_prior_order'].dtype #here i checked the column for datatype to make sure my conversion took"
   ]
  },
  {
   "cell_type": "code",
   "execution_count": 9,
   "id": "bdb89551",
   "metadata": {},
   "outputs": [
    {
     "data": {
      "text/plain": [
       "15"
      ]
     },
     "execution_count": 9,
     "metadata": {},
     "output_type": "execute_result"
    }
   ],
   "source": [
    "orders.duplicated().sum() #here i discovered how many duplicate rows are contained within my df"
   ]
  },
  {
   "cell_type": "code",
   "execution_count": 10,
   "id": "05c7ffcb",
   "metadata": {},
   "outputs": [],
   "source": [
    "unique_orders = orders.drop_duplicates() # i created a variable to assign the unique rows, i dropped all 15 of the duplicate ones"
   ]
  },
  {
   "cell_type": "code",
   "execution_count": 11,
   "id": "85047af8",
   "metadata": {},
   "outputs": [
    {
     "name": "stdout",
     "output_type": "stream",
     "text": [
      "<class 'pandas.core.frame.DataFrame'>\n",
      "Index: 478952 entries, 0 to 478966\n",
      "Data columns (total 6 columns):\n",
      " #   Column                  Non-Null Count   Dtype\n",
      "---  ------                  --------------   -----\n",
      " 0   order_id                478952 non-null  int64\n",
      " 1   user_id                 478952 non-null  int64\n",
      " 2   order_number            478952 non-null  int64\n",
      " 3   order_dow               478952 non-null  int64\n",
      " 4   order_hour_of_day       478952 non-null  int64\n",
      " 5   days_since_prior_order  450135 non-null  Int64\n",
      "dtypes: Int64(1), int64(5)\n",
      "memory usage: 26.0 MB\n"
     ]
    }
   ],
   "source": [
    "unique_orders.info() #called the info again to see if it worked and it did"
   ]
  },
  {
   "cell_type": "markdown",
   "id": "ec39816e",
   "metadata": {},
   "source": [
    "In summary, I noticed that the columns in days_since_prior_order had the dtype of float64, so I changed the dtype of those to Int64 using the astype() method. I then identified duplicated values in the df by using isna().sum(). I created a unique variable for the df and dropped all duplicates using drop_duplicates()."
   ]
  },
  {
   "cell_type": "code",
   "execution_count": 12,
   "id": "5130e05e",
   "metadata": {},
   "outputs": [
    {
     "name": "stdout",
     "output_type": "stream",
     "text": [
      "<class 'pandas.core.frame.DataFrame'>\n",
      "RangeIndex: 49694 entries, 0 to 49693\n",
      "Data columns (total 4 columns):\n",
      " #   Column         Non-Null Count  Dtype \n",
      "---  ------         --------------  ----- \n",
      " 0   product_id     49694 non-null  int64 \n",
      " 1   product_name   48436 non-null  object\n",
      " 2   aisle_id       49694 non-null  int64 \n",
      " 3   department_id  49694 non-null  int64 \n",
      "dtypes: int64(3), object(1)\n",
      "memory usage: 1.5+ MB\n"
     ]
    }
   ],
   "source": [
    "products.info()"
   ]
  },
  {
   "cell_type": "code",
   "execution_count": 13,
   "id": "1bcc08e1",
   "metadata": {},
   "outputs": [
    {
     "data": {
      "text/plain": [
       "product_id          0\n",
       "product_name     1258\n",
       "aisle_id            0\n",
       "department_id       0\n",
       "dtype: int64"
      ]
     },
     "execution_count": 13,
     "metadata": {},
     "output_type": "execute_result"
    }
   ],
   "source": [
    "products.isna().sum() #searched for the NaN values in the df they are all in the product_name column"
   ]
  },
  {
   "cell_type": "code",
   "execution_count": 14,
   "id": "8632d89a",
   "metadata": {},
   "outputs": [
    {
     "data": {
      "text/plain": [
       "0"
      ]
     },
     "execution_count": 14,
     "metadata": {},
     "output_type": "execute_result"
    }
   ],
   "source": [
    "products.duplicated().sum() #searched for duplicated rows in the df, came back with none"
   ]
  },
  {
   "cell_type": "code",
   "execution_count": 15,
   "id": "d8370c05",
   "metadata": {},
   "outputs": [
    {
     "name": "stdout",
     "output_type": "stream",
     "text": [
      "<class 'pandas.core.frame.DataFrame'>\n",
      "RangeIndex: 21 entries, 0 to 20\n",
      "Data columns (total 2 columns):\n",
      " #   Column         Non-Null Count  Dtype \n",
      "---  ------         --------------  ----- \n",
      " 0   department_id  21 non-null     int64 \n",
      " 1   department     21 non-null     object\n",
      "dtypes: int64(1), object(1)\n",
      "memory usage: 468.0+ bytes\n"
     ]
    }
   ],
   "source": [
    "departments.info()"
   ]
  },
  {
   "cell_type": "code",
   "execution_count": 16,
   "id": "6c6f9fc4",
   "metadata": {},
   "outputs": [
    {
     "data": {
      "text/plain": [
       "department_id    0\n",
       "department       0\n",
       "dtype: int64"
      ]
     },
     "execution_count": 16,
     "metadata": {},
     "output_type": "execute_result"
    }
   ],
   "source": [
    "departments.isna().sum() #checked to see if there were any NaN values, there aren't any"
   ]
  },
  {
   "cell_type": "code",
   "execution_count": 17,
   "id": "97c445fc",
   "metadata": {},
   "outputs": [
    {
     "data": {
      "text/plain": [
       "0"
      ]
     },
     "execution_count": 17,
     "metadata": {},
     "output_type": "execute_result"
    }
   ],
   "source": [
    "departments.duplicated().sum() #checked for any duplicate rows, there aren't any"
   ]
  },
  {
   "cell_type": "code",
   "execution_count": 18,
   "id": "59e2090f",
   "metadata": {},
   "outputs": [
    {
     "name": "stdout",
     "output_type": "stream",
     "text": [
      "<class 'pandas.core.frame.DataFrame'>\n",
      "RangeIndex: 134 entries, 0 to 133\n",
      "Data columns (total 2 columns):\n",
      " #   Column    Non-Null Count  Dtype \n",
      "---  ------    --------------  ----- \n",
      " 0   aisle_id  134 non-null    int64 \n",
      " 1   aisle     134 non-null    object\n",
      "dtypes: int64(1), object(1)\n",
      "memory usage: 2.2+ KB\n"
     ]
    }
   ],
   "source": [
    "aisles.info()"
   ]
  },
  {
   "cell_type": "code",
   "execution_count": 19,
   "id": "842ab8a1",
   "metadata": {},
   "outputs": [
    {
     "data": {
      "text/plain": [
       "aisle_id    0\n",
       "aisle       0\n",
       "dtype: int64"
      ]
     },
     "execution_count": 19,
     "metadata": {},
     "output_type": "execute_result"
    }
   ],
   "source": [
    "aisles.isna().sum() #checked for any NaN values in the df, there aren't any"
   ]
  },
  {
   "cell_type": "code",
   "execution_count": 20,
   "id": "9a1f409b",
   "metadata": {},
   "outputs": [
    {
     "data": {
      "text/plain": [
       "0"
      ]
     },
     "execution_count": 20,
     "metadata": {},
     "output_type": "execute_result"
    }
   ],
   "source": [
    "aisles.duplicated().sum() #checked for any duplicate rows, there aren't any"
   ]
  },
  {
   "cell_type": "code",
   "execution_count": 21,
   "id": "88473df0",
   "metadata": {},
   "outputs": [
    {
     "name": "stdout",
     "output_type": "stream",
     "text": [
      "<class 'pandas.core.frame.DataFrame'>\n",
      "RangeIndex: 4545007 entries, 0 to 4545006\n",
      "Data columns (total 4 columns):\n",
      " #   Column             Non-Null Count    Dtype  \n",
      "---  ------             --------------    -----  \n",
      " 0   order_id           4545007 non-null  int64  \n",
      " 1   product_id         4545007 non-null  int64  \n",
      " 2   add_to_cart_order  4544171 non-null  float64\n",
      " 3   reordered          4545007 non-null  int64  \n",
      "dtypes: float64(1), int64(3)\n",
      "memory usage: 138.7 MB\n"
     ]
    }
   ],
   "source": [
    "order_products.info(show_counts=True)"
   ]
  },
  {
   "cell_type": "code",
   "execution_count": 22,
   "id": "7d1a8885",
   "metadata": {},
   "outputs": [
    {
     "data": {
      "text/plain": [
       "order_id               0\n",
       "product_id             0\n",
       "add_to_cart_order    836\n",
       "reordered              0\n",
       "dtype: int64"
      ]
     },
     "execution_count": 22,
     "metadata": {},
     "output_type": "execute_result"
    }
   ],
   "source": [
    "order_products.isna().sum() #checked the df for NaN values, found some so now i will fill it with 0s"
   ]
  },
  {
   "cell_type": "code",
   "execution_count": 23,
   "id": "999806d4",
   "metadata": {},
   "outputs": [
    {
     "name": "stdout",
     "output_type": "stream",
     "text": [
      "<class 'pandas.core.frame.DataFrame'>\n",
      "RangeIndex: 4545007 entries, 0 to 4545006\n",
      "Data columns (total 4 columns):\n",
      " #   Column             Non-Null Count    Dtype\n",
      "---  ------             --------------    -----\n",
      " 0   order_id           4545007 non-null  int64\n",
      " 1   product_id         4545007 non-null  int64\n",
      " 2   add_to_cart_order  4544171 non-null  Int64\n",
      " 3   reordered          4545007 non-null  int64\n",
      "dtypes: Int64(1), int64(3)\n",
      "memory usage: 143.0 MB\n"
     ]
    }
   ],
   "source": [
    "order_products['add_to_cart_order'] = order_products['add_to_cart_order'].astype('Int64') #i took the 'add_to_cart_order' column and changed it from float64 to Int64 so that i can manipulate the data in this column\n",
    "order_products.info(show_counts=True)"
   ]
  },
  {
   "cell_type": "code",
   "execution_count": 24,
   "id": "b035a6d8",
   "metadata": {},
   "outputs": [
    {
     "data": {
      "text/plain": [
       "0"
      ]
     },
     "execution_count": 24,
     "metadata": {},
     "output_type": "execute_result"
    }
   ],
   "source": [
    "order_products.duplicated().sum() #checked for duplicated rows and found none"
   ]
  },
  {
   "cell_type": "markdown",
   "id": "cc6a725c",
   "metadata": {},
   "source": [
    "In summary, I looked at the remainder of the datasets. In the products.csv, I called info() on the df to see what types of data are in each column. I noticed that the product_name column had missing values so I searched its column to find any NaN values. I used isna().sum() to find out that information. I then took the duplicated().sum() method to see if there were any duplicated rows and no duplicated rows were returned. I did the same thing for the departments.csv and the same thing for aisles.csv and had no issues. I performed the same method on the order_products.csv and had similar issues like in the instacart_orders.csv. So I used .isna().sum() to sum all of the NaN values in each column of the df and was shown that I had NaN values in add_to_cart_order column. I then converted those NaN values to 'Int64' using astype() method. I also checked for duplicate rows in the df and none were returned. "
   ]
  },
  {
   "cell_type": "markdown",
   "id": "07357848-dc64-4156-9cc3-01ff4365226d",
   "metadata": {},
   "source": [
    "## Find and remove duplicate values (and describe why you make your choices)"
   ]
  },
  {
   "cell_type": "markdown",
   "id": "f179f0a9",
   "metadata": {},
   "source": [
    "### `orders` data frame"
   ]
  },
  {
   "cell_type": "code",
   "execution_count": 25,
   "id": "b99297a5-405a-463d-8535-9adc3da4ad74",
   "metadata": {},
   "outputs": [
    {
     "data": {
      "text/plain": [
       "15"
      ]
     },
     "execution_count": 25,
     "metadata": {},
     "output_type": "execute_result"
    }
   ],
   "source": [
    "# Check for duplicated orders\n",
    "orders.duplicated().sum() #used duplicated().sum() method to find all the duplicate orders and add them together for me\n"
   ]
  },
  {
   "cell_type": "code",
   "execution_count": 26,
   "id": "80cd1e57",
   "metadata": {},
   "outputs": [
    {
     "data": {
      "text/html": [
       "<div>\n",
       "<style scoped>\n",
       "    .dataframe tbody tr th:only-of-type {\n",
       "        vertical-align: middle;\n",
       "    }\n",
       "\n",
       "    .dataframe tbody tr th {\n",
       "        vertical-align: top;\n",
       "    }\n",
       "\n",
       "    .dataframe thead th {\n",
       "        text-align: right;\n",
       "    }\n",
       "</style>\n",
       "<table border=\"1\" class=\"dataframe\">\n",
       "  <thead>\n",
       "    <tr style=\"text-align: right;\">\n",
       "      <th></th>\n",
       "      <th>order_id</th>\n",
       "      <th>user_id</th>\n",
       "      <th>order_number</th>\n",
       "      <th>order_dow</th>\n",
       "      <th>order_hour_of_day</th>\n",
       "      <th>days_since_prior_order</th>\n",
       "    </tr>\n",
       "  </thead>\n",
       "  <tbody>\n",
       "    <tr>\n",
       "      <th>0</th>\n",
       "      <td>1515936</td>\n",
       "      <td>183418</td>\n",
       "      <td>11</td>\n",
       "      <td>6</td>\n",
       "      <td>13</td>\n",
       "      <td>30</td>\n",
       "    </tr>\n",
       "    <tr>\n",
       "      <th>1</th>\n",
       "      <td>1690866</td>\n",
       "      <td>163593</td>\n",
       "      <td>5</td>\n",
       "      <td>5</td>\n",
       "      <td>12</td>\n",
       "      <td>9</td>\n",
       "    </tr>\n",
       "    <tr>\n",
       "      <th>2</th>\n",
       "      <td>1454967</td>\n",
       "      <td>39980</td>\n",
       "      <td>4</td>\n",
       "      <td>5</td>\n",
       "      <td>19</td>\n",
       "      <td>2</td>\n",
       "    </tr>\n",
       "    <tr>\n",
       "      <th>3</th>\n",
       "      <td>1768857</td>\n",
       "      <td>82516</td>\n",
       "      <td>56</td>\n",
       "      <td>0</td>\n",
       "      <td>20</td>\n",
       "      <td>10</td>\n",
       "    </tr>\n",
       "    <tr>\n",
       "      <th>4</th>\n",
       "      <td>3007858</td>\n",
       "      <td>196724</td>\n",
       "      <td>2</td>\n",
       "      <td>4</td>\n",
       "      <td>12</td>\n",
       "      <td>17</td>\n",
       "    </tr>\n",
       "    <tr>\n",
       "      <th>5</th>\n",
       "      <td>1843871</td>\n",
       "      <td>20084</td>\n",
       "      <td>5</td>\n",
       "      <td>0</td>\n",
       "      <td>11</td>\n",
       "      <td>15</td>\n",
       "    </tr>\n",
       "    <tr>\n",
       "      <th>6</th>\n",
       "      <td>2511640</td>\n",
       "      <td>148233</td>\n",
       "      <td>40</td>\n",
       "      <td>3</td>\n",
       "      <td>8</td>\n",
       "      <td>2</td>\n",
       "    </tr>\n",
       "    <tr>\n",
       "      <th>7</th>\n",
       "      <td>2521283</td>\n",
       "      <td>97711</td>\n",
       "      <td>2</td>\n",
       "      <td>0</td>\n",
       "      <td>18</td>\n",
       "      <td>22</td>\n",
       "    </tr>\n",
       "    <tr>\n",
       "      <th>8</th>\n",
       "      <td>2266494</td>\n",
       "      <td>34954</td>\n",
       "      <td>40</td>\n",
       "      <td>5</td>\n",
       "      <td>15</td>\n",
       "      <td>4</td>\n",
       "    </tr>\n",
       "    <tr>\n",
       "      <th>9</th>\n",
       "      <td>446014</td>\n",
       "      <td>15356</td>\n",
       "      <td>2</td>\n",
       "      <td>4</td>\n",
       "      <td>8</td>\n",
       "      <td>10</td>\n",
       "    </tr>\n",
       "  </tbody>\n",
       "</table>\n",
       "</div>"
      ],
      "text/plain": [
       "   order_id  user_id  order_number  order_dow  order_hour_of_day  \\\n",
       "0   1515936   183418            11          6                 13   \n",
       "1   1690866   163593             5          5                 12   \n",
       "2   1454967    39980             4          5                 19   \n",
       "3   1768857    82516            56          0                 20   \n",
       "4   3007858   196724             2          4                 12   \n",
       "5   1843871    20084             5          0                 11   \n",
       "6   2511640   148233            40          3                  8   \n",
       "7   2521283    97711             2          0                 18   \n",
       "8   2266494    34954            40          5                 15   \n",
       "9    446014    15356             2          4                  8   \n",
       "\n",
       "   days_since_prior_order  \n",
       "0                      30  \n",
       "1                       9  \n",
       "2                       2  \n",
       "3                      10  \n",
       "4                      17  \n",
       "5                      15  \n",
       "6                       2  \n",
       "7                      22  \n",
       "8                       4  \n",
       "9                      10  "
      ]
     },
     "execution_count": 26,
     "metadata": {},
     "output_type": "execute_result"
    }
   ],
   "source": [
    "orders.head(10) #printed to see a table of the df"
   ]
  },
  {
   "cell_type": "code",
   "execution_count": 27,
   "id": "0d44de5d",
   "metadata": {},
   "outputs": [
    {
     "data": {
      "text/html": [
       "<div>\n",
       "<style scoped>\n",
       "    .dataframe tbody tr th:only-of-type {\n",
       "        vertical-align: middle;\n",
       "    }\n",
       "\n",
       "    .dataframe tbody tr th {\n",
       "        vertical-align: top;\n",
       "    }\n",
       "\n",
       "    .dataframe thead th {\n",
       "        text-align: right;\n",
       "    }\n",
       "</style>\n",
       "<table border=\"1\" class=\"dataframe\">\n",
       "  <thead>\n",
       "    <tr style=\"text-align: right;\">\n",
       "      <th></th>\n",
       "      <th>order_id</th>\n",
       "      <th>user_id</th>\n",
       "      <th>order_number</th>\n",
       "      <th>order_dow</th>\n",
       "      <th>order_hour_of_day</th>\n",
       "      <th>days_since_prior_order</th>\n",
       "    </tr>\n",
       "  </thead>\n",
       "  <tbody>\n",
       "    <tr>\n",
       "      <th>4838</th>\n",
       "      <td>2766110</td>\n",
       "      <td>162084</td>\n",
       "      <td>41</td>\n",
       "      <td>3</td>\n",
       "      <td>2</td>\n",
       "      <td>16</td>\n",
       "    </tr>\n",
       "    <tr>\n",
       "      <th>5156</th>\n",
       "      <td>2190225</td>\n",
       "      <td>138285</td>\n",
       "      <td>18</td>\n",
       "      <td>3</td>\n",
       "      <td>2</td>\n",
       "      <td>11</td>\n",
       "    </tr>\n",
       "    <tr>\n",
       "      <th>15506</th>\n",
       "      <td>553049</td>\n",
       "      <td>58599</td>\n",
       "      <td>13</td>\n",
       "      <td>3</td>\n",
       "      <td>2</td>\n",
       "      <td>7</td>\n",
       "    </tr>\n",
       "    <tr>\n",
       "      <th>18420</th>\n",
       "      <td>382357</td>\n",
       "      <td>120200</td>\n",
       "      <td>19</td>\n",
       "      <td>3</td>\n",
       "      <td>2</td>\n",
       "      <td>11</td>\n",
       "    </tr>\n",
       "    <tr>\n",
       "      <th>24691</th>\n",
       "      <td>690242</td>\n",
       "      <td>77357</td>\n",
       "      <td>2</td>\n",
       "      <td>3</td>\n",
       "      <td>2</td>\n",
       "      <td>9</td>\n",
       "    </tr>\n",
       "    <tr>\n",
       "      <th>...</th>\n",
       "      <td>...</td>\n",
       "      <td>...</td>\n",
       "      <td>...</td>\n",
       "      <td>...</td>\n",
       "      <td>...</td>\n",
       "      <td>...</td>\n",
       "    </tr>\n",
       "    <tr>\n",
       "      <th>457013</th>\n",
       "      <td>3384021</td>\n",
       "      <td>14881</td>\n",
       "      <td>6</td>\n",
       "      <td>3</td>\n",
       "      <td>2</td>\n",
       "      <td>30</td>\n",
       "    </tr>\n",
       "    <tr>\n",
       "      <th>458816</th>\n",
       "      <td>910166</td>\n",
       "      <td>164782</td>\n",
       "      <td>18</td>\n",
       "      <td>3</td>\n",
       "      <td>2</td>\n",
       "      <td>4</td>\n",
       "    </tr>\n",
       "    <tr>\n",
       "      <th>459635</th>\n",
       "      <td>1680532</td>\n",
       "      <td>106435</td>\n",
       "      <td>6</td>\n",
       "      <td>3</td>\n",
       "      <td>2</td>\n",
       "      <td>21</td>\n",
       "    </tr>\n",
       "    <tr>\n",
       "      <th>468324</th>\n",
       "      <td>222962</td>\n",
       "      <td>54979</td>\n",
       "      <td>59</td>\n",
       "      <td>3</td>\n",
       "      <td>2</td>\n",
       "      <td>3</td>\n",
       "    </tr>\n",
       "    <tr>\n",
       "      <th>477526</th>\n",
       "      <td>2592344</td>\n",
       "      <td>46860</td>\n",
       "      <td>38</td>\n",
       "      <td>3</td>\n",
       "      <td>2</td>\n",
       "      <td>3</td>\n",
       "    </tr>\n",
       "  </tbody>\n",
       "</table>\n",
       "<p>121 rows × 6 columns</p>\n",
       "</div>"
      ],
      "text/plain": [
       "        order_id  user_id  order_number  order_dow  order_hour_of_day  \\\n",
       "4838     2766110   162084            41          3                  2   \n",
       "5156     2190225   138285            18          3                  2   \n",
       "15506     553049    58599            13          3                  2   \n",
       "18420     382357   120200            19          3                  2   \n",
       "24691     690242    77357             2          3                  2   \n",
       "...          ...      ...           ...        ...                ...   \n",
       "457013   3384021    14881             6          3                  2   \n",
       "458816    910166   164782            18          3                  2   \n",
       "459635   1680532   106435             6          3                  2   \n",
       "468324    222962    54979            59          3                  2   \n",
       "477526   2592344    46860            38          3                  2   \n",
       "\n",
       "        days_since_prior_order  \n",
       "4838                        16  \n",
       "5156                        11  \n",
       "15506                        7  \n",
       "18420                       11  \n",
       "24691                        9  \n",
       "...                        ...  \n",
       "457013                      30  \n",
       "458816                       4  \n",
       "459635                      21  \n",
       "468324                       3  \n",
       "477526                       3  \n",
       "\n",
       "[121 rows x 6 columns]"
      ]
     },
     "execution_count": 27,
     "metadata": {},
     "output_type": "execute_result"
    }
   ],
   "source": [
    "# Check for all orders placed Wednesday at 2:00 AM\n",
    "filtered_orders = orders[(orders['order_dow'] == 3) & (orders['order_hour_of_day'] == 2)]\n",
    "#i setup a variable and set it equal to some booleans. So first boolean said return if equals to 3 which is Wednesday AND return if equals to 2 which is 2:00am. if those two parameters are met i should get values returned to me\n",
    "filtered_orders\n"
   ]
  },
  {
   "cell_type": "code",
   "execution_count": 28,
   "id": "480563c7",
   "metadata": {},
   "outputs": [
    {
     "data": {
      "text/html": [
       "<div>\n",
       "<style scoped>\n",
       "    .dataframe tbody tr th:only-of-type {\n",
       "        vertical-align: middle;\n",
       "    }\n",
       "\n",
       "    .dataframe tbody tr th {\n",
       "        vertical-align: top;\n",
       "    }\n",
       "\n",
       "    .dataframe thead th {\n",
       "        text-align: right;\n",
       "    }\n",
       "</style>\n",
       "<table border=\"1\" class=\"dataframe\">\n",
       "  <thead>\n",
       "    <tr style=\"text-align: right;\">\n",
       "      <th></th>\n",
       "      <th>order_id</th>\n",
       "      <th>user_id</th>\n",
       "      <th>order_number</th>\n",
       "      <th>order_dow</th>\n",
       "      <th>order_hour_of_day</th>\n",
       "      <th>days_since_prior_order</th>\n",
       "    </tr>\n",
       "  </thead>\n",
       "  <tbody>\n",
       "    <tr>\n",
       "      <th>4838</th>\n",
       "      <td>2766110</td>\n",
       "      <td>162084</td>\n",
       "      <td>41</td>\n",
       "      <td>3</td>\n",
       "      <td>2</td>\n",
       "      <td>16</td>\n",
       "    </tr>\n",
       "    <tr>\n",
       "      <th>5156</th>\n",
       "      <td>2190225</td>\n",
       "      <td>138285</td>\n",
       "      <td>18</td>\n",
       "      <td>3</td>\n",
       "      <td>2</td>\n",
       "      <td>11</td>\n",
       "    </tr>\n",
       "    <tr>\n",
       "      <th>15506</th>\n",
       "      <td>553049</td>\n",
       "      <td>58599</td>\n",
       "      <td>13</td>\n",
       "      <td>3</td>\n",
       "      <td>2</td>\n",
       "      <td>7</td>\n",
       "    </tr>\n",
       "    <tr>\n",
       "      <th>18420</th>\n",
       "      <td>382357</td>\n",
       "      <td>120200</td>\n",
       "      <td>19</td>\n",
       "      <td>3</td>\n",
       "      <td>2</td>\n",
       "      <td>11</td>\n",
       "    </tr>\n",
       "    <tr>\n",
       "      <th>24691</th>\n",
       "      <td>690242</td>\n",
       "      <td>77357</td>\n",
       "      <td>2</td>\n",
       "      <td>3</td>\n",
       "      <td>2</td>\n",
       "      <td>9</td>\n",
       "    </tr>\n",
       "    <tr>\n",
       "      <th>...</th>\n",
       "      <td>...</td>\n",
       "      <td>...</td>\n",
       "      <td>...</td>\n",
       "      <td>...</td>\n",
       "      <td>...</td>\n",
       "      <td>...</td>\n",
       "    </tr>\n",
       "    <tr>\n",
       "      <th>457013</th>\n",
       "      <td>3384021</td>\n",
       "      <td>14881</td>\n",
       "      <td>6</td>\n",
       "      <td>3</td>\n",
       "      <td>2</td>\n",
       "      <td>30</td>\n",
       "    </tr>\n",
       "    <tr>\n",
       "      <th>458816</th>\n",
       "      <td>910166</td>\n",
       "      <td>164782</td>\n",
       "      <td>18</td>\n",
       "      <td>3</td>\n",
       "      <td>2</td>\n",
       "      <td>4</td>\n",
       "    </tr>\n",
       "    <tr>\n",
       "      <th>459635</th>\n",
       "      <td>1680532</td>\n",
       "      <td>106435</td>\n",
       "      <td>6</td>\n",
       "      <td>3</td>\n",
       "      <td>2</td>\n",
       "      <td>21</td>\n",
       "    </tr>\n",
       "    <tr>\n",
       "      <th>468324</th>\n",
       "      <td>222962</td>\n",
       "      <td>54979</td>\n",
       "      <td>59</td>\n",
       "      <td>3</td>\n",
       "      <td>2</td>\n",
       "      <td>3</td>\n",
       "    </tr>\n",
       "    <tr>\n",
       "      <th>477526</th>\n",
       "      <td>2592344</td>\n",
       "      <td>46860</td>\n",
       "      <td>38</td>\n",
       "      <td>3</td>\n",
       "      <td>2</td>\n",
       "      <td>3</td>\n",
       "    </tr>\n",
       "  </tbody>\n",
       "</table>\n",
       "<p>106 rows × 6 columns</p>\n",
       "</div>"
      ],
      "text/plain": [
       "        order_id  user_id  order_number  order_dow  order_hour_of_day  \\\n",
       "4838     2766110   162084            41          3                  2   \n",
       "5156     2190225   138285            18          3                  2   \n",
       "15506     553049    58599            13          3                  2   \n",
       "18420     382357   120200            19          3                  2   \n",
       "24691     690242    77357             2          3                  2   \n",
       "...          ...      ...           ...        ...                ...   \n",
       "457013   3384021    14881             6          3                  2   \n",
       "458816    910166   164782            18          3                  2   \n",
       "459635   1680532   106435             6          3                  2   \n",
       "468324    222962    54979            59          3                  2   \n",
       "477526   2592344    46860            38          3                  2   \n",
       "\n",
       "        days_since_prior_order  \n",
       "4838                        16  \n",
       "5156                        11  \n",
       "15506                        7  \n",
       "18420                       11  \n",
       "24691                        9  \n",
       "...                        ...  \n",
       "457013                      30  \n",
       "458816                       4  \n",
       "459635                      21  \n",
       "468324                       3  \n",
       "477526                       3  \n",
       "\n",
       "[106 rows x 6 columns]"
      ]
     },
     "execution_count": 28,
     "metadata": {},
     "output_type": "execute_result"
    }
   ],
   "source": [
    "# Remove duplicate orders\n",
    "filtered_orders.duplicated().sum() #i checked for duplicated rows and found that there are 15 of them\n",
    "filtered_orders = filtered_orders.drop_duplicates() #i set a variable for the cleaned up df that has duplicates dropped \n",
    "filtered_orders"
   ]
  },
  {
   "cell_type": "code",
   "execution_count": 29,
   "id": "0b2396a2",
   "metadata": {},
   "outputs": [
    {
     "data": {
      "text/plain": [
       "0"
      ]
     },
     "execution_count": 29,
     "metadata": {},
     "output_type": "execute_result"
    }
   ],
   "source": [
    "# Double check for duplicate rows\n",
    "filtered_orders.duplicated().sum() #i called that df to look at the number of duplicates that were returned, no duplicates returned"
   ]
  },
  {
   "cell_type": "code",
   "execution_count": 30,
   "id": "f6113ef1",
   "metadata": {},
   "outputs": [
    {
     "data": {
      "text/plain": [
       "0"
      ]
     },
     "execution_count": 30,
     "metadata": {},
     "output_type": "execute_result"
    }
   ],
   "source": [
    "# Double check for duplicate order IDs only\n",
    "filtered_orders['order_id'].duplicated().sum() # i looked at the number of duplicated IDs in order_id, there were none returned"
   ]
  },
  {
   "cell_type": "markdown",
   "id": "45e6bc46",
   "metadata": {},
   "source": [
    "### `products` data frame"
   ]
  },
  {
   "cell_type": "code",
   "execution_count": 31,
   "id": "5f526b5b-8175-46fa-a0fd-441767d50e64",
   "metadata": {},
   "outputs": [
    {
     "data": {
      "text/plain": [
       "0"
      ]
     },
     "execution_count": 31,
     "metadata": {},
     "output_type": "execute_result"
    }
   ],
   "source": [
    "# Check for fully duplicate rows\n",
    "products.duplicated().sum() #used the duplicated().sum() method to find and add up all the duplicated rows, there were none\n"
   ]
  },
  {
   "cell_type": "code",
   "execution_count": 32,
   "id": "88daa4f4",
   "metadata": {},
   "outputs": [
    {
     "data": {
      "text/plain": [
       "0"
      ]
     },
     "execution_count": 32,
     "metadata": {},
     "output_type": "execute_result"
    }
   ],
   "source": [
    "# Check for just duplicate product IDs\n",
    "\n",
    "products['product_id'].duplicated().sum() #added all of the duplicates in the product_id column using duplicated().sum(), there were non"
   ]
  },
  {
   "cell_type": "code",
   "execution_count": 33,
   "id": "d08fea4c",
   "metadata": {},
   "outputs": [
    {
     "data": {
      "text/html": [
       "<div>\n",
       "<style scoped>\n",
       "    .dataframe tbody tr th:only-of-type {\n",
       "        vertical-align: middle;\n",
       "    }\n",
       "\n",
       "    .dataframe tbody tr th {\n",
       "        vertical-align: top;\n",
       "    }\n",
       "\n",
       "    .dataframe thead th {\n",
       "        text-align: right;\n",
       "    }\n",
       "</style>\n",
       "<table border=\"1\" class=\"dataframe\">\n",
       "  <thead>\n",
       "    <tr style=\"text-align: right;\">\n",
       "      <th></th>\n",
       "      <th>product_id</th>\n",
       "      <th>product_name</th>\n",
       "      <th>aisle_id</th>\n",
       "      <th>department_id</th>\n",
       "    </tr>\n",
       "  </thead>\n",
       "  <tbody>\n",
       "    <tr>\n",
       "      <th>46669</th>\n",
       "      <td>46670</td>\n",
       "      <td>Vegenaise Soy-Free</td>\n",
       "      <td>72</td>\n",
       "      <td>13</td>\n",
       "    </tr>\n",
       "    <tr>\n",
       "      <th>37118</th>\n",
       "      <td>37119</td>\n",
       "      <td>Uncured Pepperoni</td>\n",
       "      <td>96</td>\n",
       "      <td>20</td>\n",
       "    </tr>\n",
       "    <tr>\n",
       "      <th>43850</th>\n",
       "      <td>43851</td>\n",
       "      <td>Rolo Ice Cream</td>\n",
       "      <td>37</td>\n",
       "      <td>1</td>\n",
       "    </tr>\n",
       "    <tr>\n",
       "      <th>28989</th>\n",
       "      <td>28990</td>\n",
       "      <td>Curly Parsley Bunch</td>\n",
       "      <td>16</td>\n",
       "      <td>4</td>\n",
       "    </tr>\n",
       "    <tr>\n",
       "      <th>11169</th>\n",
       "      <td>11170</td>\n",
       "      <td>Sweetened Multi-Grain Cereal</td>\n",
       "      <td>121</td>\n",
       "      <td>14</td>\n",
       "    </tr>\n",
       "    <tr>\n",
       "      <th>7740</th>\n",
       "      <td>7741</td>\n",
       "      <td>Chipotle Peppers In Adobo Sauce</td>\n",
       "      <td>30</td>\n",
       "      <td>6</td>\n",
       "    </tr>\n",
       "    <tr>\n",
       "      <th>29543</th>\n",
       "      <td>29544</td>\n",
       "      <td>Cream Top Peach on the Bottom Yogurt</td>\n",
       "      <td>120</td>\n",
       "      <td>16</td>\n",
       "    </tr>\n",
       "    <tr>\n",
       "      <th>4984</th>\n",
       "      <td>4985</td>\n",
       "      <td>Homestyle Some Pulp Orange Juice</td>\n",
       "      <td>31</td>\n",
       "      <td>7</td>\n",
       "    </tr>\n",
       "    <tr>\n",
       "      <th>41111</th>\n",
       "      <td>41112</td>\n",
       "      <td>Brownie Bite Protein Bars</td>\n",
       "      <td>3</td>\n",
       "      <td>19</td>\n",
       "    </tr>\n",
       "    <tr>\n",
       "      <th>1558</th>\n",
       "      <td>1559</td>\n",
       "      <td>Cherry Pomegranate Greek Yogurt</td>\n",
       "      <td>120</td>\n",
       "      <td>16</td>\n",
       "    </tr>\n",
       "  </tbody>\n",
       "</table>\n",
       "</div>"
      ],
      "text/plain": [
       "       product_id                          product_name  aisle_id  \\\n",
       "46669       46670                    Vegenaise Soy-Free        72   \n",
       "37118       37119                     Uncured Pepperoni        96   \n",
       "43850       43851                        Rolo Ice Cream        37   \n",
       "28989       28990                   Curly Parsley Bunch        16   \n",
       "11169       11170          Sweetened Multi-Grain Cereal       121   \n",
       "7740         7741       Chipotle Peppers In Adobo Sauce        30   \n",
       "29543       29544  Cream Top Peach on the Bottom Yogurt       120   \n",
       "4984         4985      Homestyle Some Pulp Orange Juice        31   \n",
       "41111       41112             Brownie Bite Protein Bars         3   \n",
       "1558         1559       Cherry Pomegranate Greek Yogurt       120   \n",
       "\n",
       "       department_id  \n",
       "46669             13  \n",
       "37118             20  \n",
       "43850              1  \n",
       "28989              4  \n",
       "11169             14  \n",
       "7740               6  \n",
       "29543             16  \n",
       "4984               7  \n",
       "41111             19  \n",
       "1558              16  "
      ]
     },
     "execution_count": 33,
     "metadata": {},
     "output_type": "execute_result"
    }
   ],
   "source": [
    "products.sample(10) #got a view of the table"
   ]
  },
  {
   "cell_type": "code",
   "execution_count": 34,
   "id": "01efd02e",
   "metadata": {},
   "outputs": [
    {
     "data": {
      "text/plain": [
       "104"
      ]
     },
     "execution_count": 34,
     "metadata": {},
     "output_type": "execute_result"
    }
   ],
   "source": [
    "# Check for duplicate product names that aren't missing (EXCLUDING NaN)\n",
    "product_name_lower = products['product_name'].dropna().str.lower() #being that the characters were upper and lower I called on the lower() method to make all the characters lower to make names uniform so that I can look at all of the duplicated names with ease\n",
    "product_name_lower.duplicated().sum() #this gave me the number of duplicate product names excluding NaN values"
   ]
  },
  {
   "cell_type": "markdown",
   "id": "60f30db1",
   "metadata": {},
   "source": [
    "### `departments` data frame"
   ]
  },
  {
   "cell_type": "code",
   "execution_count": 35,
   "id": "332b12bb",
   "metadata": {},
   "outputs": [
    {
     "data": {
      "text/plain": [
       "0"
      ]
     },
     "execution_count": 35,
     "metadata": {},
     "output_type": "execute_result"
    }
   ],
   "source": [
    "departments.duplicated().sum() #checked for duplicates"
   ]
  },
  {
   "cell_type": "code",
   "execution_count": 36,
   "id": "d40e4ba4",
   "metadata": {},
   "outputs": [
    {
     "data": {
      "text/plain": [
       "department_id    0\n",
       "department       0\n",
       "dtype: int64"
      ]
     },
     "execution_count": 36,
     "metadata": {},
     "output_type": "execute_result"
    }
   ],
   "source": [
    "departments.isna().sum() #since dataframe was small i checked for any NaN values using isna()"
   ]
  },
  {
   "cell_type": "markdown",
   "id": "889349c1",
   "metadata": {},
   "source": [
    "### `aisles` data frame"
   ]
  },
  {
   "cell_type": "code",
   "execution_count": 37,
   "id": "9da89fb9-4679-40f5-ad0d-c34df753a3f8",
   "metadata": {},
   "outputs": [
    {
     "data": {
      "text/plain": [
       "0"
      ]
     },
     "execution_count": 37,
     "metadata": {},
     "output_type": "execute_result"
    }
   ],
   "source": [
    "aisles.duplicated().sum()"
   ]
  },
  {
   "cell_type": "code",
   "execution_count": 38,
   "id": "da7c2822",
   "metadata": {},
   "outputs": [
    {
     "data": {
      "text/plain": [
       "aisle_id    0\n",
       "aisle       0\n",
       "dtype: int64"
      ]
     },
     "execution_count": 38,
     "metadata": {},
     "output_type": "execute_result"
    }
   ],
   "source": [
    "aisles.isna().sum() #checked for any NaN values in both"
   ]
  },
  {
   "cell_type": "markdown",
   "id": "274cd06a",
   "metadata": {},
   "source": [
    "### `order_products` data frame"
   ]
  },
  {
   "cell_type": "code",
   "execution_count": 39,
   "id": "52326689-84a8-4b8f-a881-7c68780f62c9",
   "metadata": {},
   "outputs": [
    {
     "data": {
      "text/plain": [
       "0"
      ]
     },
     "execution_count": 39,
     "metadata": {},
     "output_type": "execute_result"
    }
   ],
   "source": [
    "# Check for fullly duplicate rows\n",
    "fully_duplicated = order_products.duplicated().sum() #i checked here for any fully duplicated rows\n",
    "fully_duplicated"
   ]
  },
  {
   "cell_type": "code",
   "execution_count": 40,
   "id": "7b861391",
   "metadata": {},
   "outputs": [
    {
     "data": {
      "text/plain": [
       "0"
      ]
     },
     "execution_count": 40,
     "metadata": {},
     "output_type": "execute_result"
    }
   ],
   "source": [
    "# Double check for any other tricky duplicates\n",
    "combo_duplicated = order_products.duplicated(subset=['order_id', 'product_id']).sum() #i created a variable to look at the combination of order_id and product_id to check any duplicates between the two, none were returned\n",
    "combo_duplicated"
   ]
  },
  {
   "cell_type": "code",
   "execution_count": 41,
   "id": "0f9f1a0e",
   "metadata": {},
   "outputs": [
    {
     "data": {
      "text/html": [
       "<div>\n",
       "<style scoped>\n",
       "    .dataframe tbody tr th:only-of-type {\n",
       "        vertical-align: middle;\n",
       "    }\n",
       "\n",
       "    .dataframe tbody tr th {\n",
       "        vertical-align: top;\n",
       "    }\n",
       "\n",
       "    .dataframe thead th {\n",
       "        text-align: right;\n",
       "    }\n",
       "</style>\n",
       "<table border=\"1\" class=\"dataframe\">\n",
       "  <thead>\n",
       "    <tr style=\"text-align: right;\">\n",
       "      <th></th>\n",
       "      <th>order_id</th>\n",
       "      <th>product_id</th>\n",
       "      <th>add_to_cart_order</th>\n",
       "      <th>reordered</th>\n",
       "    </tr>\n",
       "  </thead>\n",
       "  <tbody>\n",
       "    <tr>\n",
       "      <th>0</th>\n",
       "      <td>2141543</td>\n",
       "      <td>11440</td>\n",
       "      <td>17</td>\n",
       "      <td>0</td>\n",
       "    </tr>\n",
       "    <tr>\n",
       "      <th>1</th>\n",
       "      <td>567889</td>\n",
       "      <td>1560</td>\n",
       "      <td>1</td>\n",
       "      <td>1</td>\n",
       "    </tr>\n",
       "    <tr>\n",
       "      <th>2</th>\n",
       "      <td>2261212</td>\n",
       "      <td>26683</td>\n",
       "      <td>1</td>\n",
       "      <td>1</td>\n",
       "    </tr>\n",
       "    <tr>\n",
       "      <th>3</th>\n",
       "      <td>491251</td>\n",
       "      <td>8670</td>\n",
       "      <td>35</td>\n",
       "      <td>1</td>\n",
       "    </tr>\n",
       "    <tr>\n",
       "      <th>4</th>\n",
       "      <td>2571142</td>\n",
       "      <td>1940</td>\n",
       "      <td>5</td>\n",
       "      <td>1</td>\n",
       "    </tr>\n",
       "  </tbody>\n",
       "</table>\n",
       "</div>"
      ],
      "text/plain": [
       "   order_id  product_id  add_to_cart_order  reordered\n",
       "0   2141543       11440                 17          0\n",
       "1    567889        1560                  1          1\n",
       "2   2261212       26683                  1          1\n",
       "3    491251        8670                 35          1\n",
       "4   2571142        1940                  5          1"
      ]
     },
     "execution_count": 41,
     "metadata": {},
     "output_type": "execute_result"
    }
   ],
   "source": [
    "order_products.head()"
   ]
  },
  {
   "cell_type": "markdown",
   "id": "1e46de76",
   "metadata": {},
   "source": [
    "## Find and remove missing values\n"
   ]
  },
  {
   "cell_type": "markdown",
   "id": "c0aebd78",
   "metadata": {},
   "source": [
    "### `products` data frame"
   ]
  },
  {
   "cell_type": "code",
   "execution_count": 42,
   "id": "6516679c",
   "metadata": {},
   "outputs": [
    {
     "data": {
      "text/html": [
       "<div>\n",
       "<style scoped>\n",
       "    .dataframe tbody tr th:only-of-type {\n",
       "        vertical-align: middle;\n",
       "    }\n",
       "\n",
       "    .dataframe tbody tr th {\n",
       "        vertical-align: top;\n",
       "    }\n",
       "\n",
       "    .dataframe thead th {\n",
       "        text-align: right;\n",
       "    }\n",
       "</style>\n",
       "<table border=\"1\" class=\"dataframe\">\n",
       "  <thead>\n",
       "    <tr style=\"text-align: right;\">\n",
       "      <th></th>\n",
       "      <th>product_id</th>\n",
       "      <th>product_name</th>\n",
       "      <th>aisle_id</th>\n",
       "      <th>department_id</th>\n",
       "    </tr>\n",
       "  </thead>\n",
       "  <tbody>\n",
       "    <tr>\n",
       "      <th>41495</th>\n",
       "      <td>41496</td>\n",
       "      <td>Redcurrant Jelly</td>\n",
       "      <td>88</td>\n",
       "      <td>13</td>\n",
       "    </tr>\n",
       "    <tr>\n",
       "      <th>29038</th>\n",
       "      <td>29039</td>\n",
       "      <td>Mocha Latte Ice Cream Bars</td>\n",
       "      <td>37</td>\n",
       "      <td>1</td>\n",
       "    </tr>\n",
       "    <tr>\n",
       "      <th>6861</th>\n",
       "      <td>6862</td>\n",
       "      <td>Soothing Hydro Serum Facial Mask</td>\n",
       "      <td>132</td>\n",
       "      <td>11</td>\n",
       "    </tr>\n",
       "    <tr>\n",
       "      <th>11266</th>\n",
       "      <td>11267</td>\n",
       "      <td>Suddenly Pasta Salad Creamy Italian</td>\n",
       "      <td>4</td>\n",
       "      <td>9</td>\n",
       "    </tr>\n",
       "    <tr>\n",
       "      <th>46288</th>\n",
       "      <td>46289</td>\n",
       "      <td>Fusion ProGlide Razor Handle with FlexBall Tec...</td>\n",
       "      <td>55</td>\n",
       "      <td>11</td>\n",
       "    </tr>\n",
       "    <tr>\n",
       "      <th>24999</th>\n",
       "      <td>25000</td>\n",
       "      <td>Whole Wheat Multigrain Pop Cakes</td>\n",
       "      <td>78</td>\n",
       "      <td>19</td>\n",
       "    </tr>\n",
       "    <tr>\n",
       "      <th>34818</th>\n",
       "      <td>34819</td>\n",
       "      <td>Liquid Vitamin C Orange Flavor</td>\n",
       "      <td>47</td>\n",
       "      <td>11</td>\n",
       "    </tr>\n",
       "    <tr>\n",
       "      <th>29008</th>\n",
       "      <td>29009</td>\n",
       "      <td>Organic Salted Pistachio</td>\n",
       "      <td>117</td>\n",
       "      <td>19</td>\n",
       "    </tr>\n",
       "    <tr>\n",
       "      <th>10340</th>\n",
       "      <td>10341</td>\n",
       "      <td>Organic Honey Green Tea Drink</td>\n",
       "      <td>94</td>\n",
       "      <td>7</td>\n",
       "    </tr>\n",
       "    <tr>\n",
       "      <th>37759</th>\n",
       "      <td>37760</td>\n",
       "      <td>Cherry Flavor Infants' Oral Suspension</td>\n",
       "      <td>6</td>\n",
       "      <td>2</td>\n",
       "    </tr>\n",
       "  </tbody>\n",
       "</table>\n",
       "</div>"
      ],
      "text/plain": [
       "       product_id                                       product_name  \\\n",
       "41495       41496                                   Redcurrant Jelly   \n",
       "29038       29039                         Mocha Latte Ice Cream Bars   \n",
       "6861         6862                   Soothing Hydro Serum Facial Mask   \n",
       "11266       11267                Suddenly Pasta Salad Creamy Italian   \n",
       "46288       46289  Fusion ProGlide Razor Handle with FlexBall Tec...   \n",
       "24999       25000                   Whole Wheat Multigrain Pop Cakes   \n",
       "34818       34819                     Liquid Vitamin C Orange Flavor   \n",
       "29008       29009                           Organic Salted Pistachio   \n",
       "10340       10341                      Organic Honey Green Tea Drink   \n",
       "37759       37760             Cherry Flavor Infants' Oral Suspension   \n",
       "\n",
       "       aisle_id  department_id  \n",
       "41495        88             13  \n",
       "29038        37              1  \n",
       "6861        132             11  \n",
       "11266         4              9  \n",
       "46288        55             11  \n",
       "24999        78             19  \n",
       "34818        47             11  \n",
       "29008       117             19  \n",
       "10340        94              7  \n",
       "37759         6              2  "
      ]
     },
     "execution_count": 42,
     "metadata": {},
     "output_type": "execute_result"
    }
   ],
   "source": [
    "products.sample(10)"
   ]
  },
  {
   "cell_type": "code",
   "execution_count": 43,
   "id": "5f3dcf1b",
   "metadata": {},
   "outputs": [
    {
     "data": {
      "text/plain": [
       "product_id          0\n",
       "product_name     1258\n",
       "aisle_id            0\n",
       "department_id       0\n",
       "dtype: int64"
      ]
     },
     "execution_count": 43,
     "metadata": {},
     "output_type": "execute_result"
    }
   ],
   "source": [
    "products.isna().sum() #i checked for missing values like you stated. And found 1258 in the product_name section"
   ]
  },
  {
   "cell_type": "code",
   "execution_count": 44,
   "id": "441284ac",
   "metadata": {},
   "outputs": [
    {
     "data": {
      "text/html": [
       "<div>\n",
       "<style scoped>\n",
       "    .dataframe tbody tr th:only-of-type {\n",
       "        vertical-align: middle;\n",
       "    }\n",
       "\n",
       "    .dataframe tbody tr th {\n",
       "        vertical-align: top;\n",
       "    }\n",
       "\n",
       "    .dataframe thead th {\n",
       "        text-align: right;\n",
       "    }\n",
       "</style>\n",
       "<table border=\"1\" class=\"dataframe\">\n",
       "  <thead>\n",
       "    <tr style=\"text-align: right;\">\n",
       "      <th></th>\n",
       "      <th>product_id</th>\n",
       "      <th>product_name</th>\n",
       "      <th>aisle_id</th>\n",
       "      <th>department_id</th>\n",
       "    </tr>\n",
       "  </thead>\n",
       "  <tbody>\n",
       "    <tr>\n",
       "      <th>37</th>\n",
       "      <td>38</td>\n",
       "      <td>NaN</td>\n",
       "      <td>100</td>\n",
       "      <td>21</td>\n",
       "    </tr>\n",
       "    <tr>\n",
       "      <th>71</th>\n",
       "      <td>72</td>\n",
       "      <td>NaN</td>\n",
       "      <td>100</td>\n",
       "      <td>21</td>\n",
       "    </tr>\n",
       "    <tr>\n",
       "      <th>109</th>\n",
       "      <td>110</td>\n",
       "      <td>NaN</td>\n",
       "      <td>100</td>\n",
       "      <td>21</td>\n",
       "    </tr>\n",
       "    <tr>\n",
       "      <th>296</th>\n",
       "      <td>297</td>\n",
       "      <td>NaN</td>\n",
       "      <td>100</td>\n",
       "      <td>21</td>\n",
       "    </tr>\n",
       "    <tr>\n",
       "      <th>416</th>\n",
       "      <td>417</td>\n",
       "      <td>NaN</td>\n",
       "      <td>100</td>\n",
       "      <td>21</td>\n",
       "    </tr>\n",
       "    <tr>\n",
       "      <th>...</th>\n",
       "      <td>...</td>\n",
       "      <td>...</td>\n",
       "      <td>...</td>\n",
       "      <td>...</td>\n",
       "    </tr>\n",
       "    <tr>\n",
       "      <th>49552</th>\n",
       "      <td>49553</td>\n",
       "      <td>NaN</td>\n",
       "      <td>100</td>\n",
       "      <td>21</td>\n",
       "    </tr>\n",
       "    <tr>\n",
       "      <th>49574</th>\n",
       "      <td>49575</td>\n",
       "      <td>NaN</td>\n",
       "      <td>100</td>\n",
       "      <td>21</td>\n",
       "    </tr>\n",
       "    <tr>\n",
       "      <th>49640</th>\n",
       "      <td>49641</td>\n",
       "      <td>NaN</td>\n",
       "      <td>100</td>\n",
       "      <td>21</td>\n",
       "    </tr>\n",
       "    <tr>\n",
       "      <th>49663</th>\n",
       "      <td>49664</td>\n",
       "      <td>NaN</td>\n",
       "      <td>100</td>\n",
       "      <td>21</td>\n",
       "    </tr>\n",
       "    <tr>\n",
       "      <th>49668</th>\n",
       "      <td>49669</td>\n",
       "      <td>NaN</td>\n",
       "      <td>100</td>\n",
       "      <td>21</td>\n",
       "    </tr>\n",
       "  </tbody>\n",
       "</table>\n",
       "<p>1258 rows × 4 columns</p>\n",
       "</div>"
      ],
      "text/plain": [
       "       product_id product_name  aisle_id  department_id\n",
       "37             38          NaN       100             21\n",
       "71             72          NaN       100             21\n",
       "109           110          NaN       100             21\n",
       "296           297          NaN       100             21\n",
       "416           417          NaN       100             21\n",
       "...           ...          ...       ...            ...\n",
       "49552       49553          NaN       100             21\n",
       "49574       49575          NaN       100             21\n",
       "49640       49641          NaN       100             21\n",
       "49663       49664          NaN       100             21\n",
       "49668       49669          NaN       100             21\n",
       "\n",
       "[1258 rows x 4 columns]"
      ]
     },
     "execution_count": 44,
     "metadata": {},
     "output_type": "execute_result"
    }
   ],
   "source": [
    "nan_rows = products[products['product_name'].isna()] #i returned all rows that had NaN values in the product_name column\n",
    "nan_rows"
   ]
  },
  {
   "cell_type": "code",
   "execution_count": 45,
   "id": "377fad7b",
   "metadata": {},
   "outputs": [
    {
     "data": {
      "text/plain": [
       "department_id\n",
       "21    1258\n",
       "Name: count, dtype: int64"
      ]
     },
     "execution_count": 45,
     "metadata": {},
     "output_type": "execute_result"
    }
   ],
   "source": [
    "nan_dept_count = nan_rows['department_id'].value_counts() #i wanted to see if there was a particular department that had more NaN values than others. Dept 21 contains all of the NaN values\n",
    "nan_dept_count\n"
   ]
  },
  {
   "cell_type": "code",
   "execution_count": 46,
   "id": "2da1f769",
   "metadata": {},
   "outputs": [
    {
     "data": {
      "text/plain": [
       "1258"
      ]
     },
     "execution_count": 46,
     "metadata": {},
     "output_type": "execute_result"
    }
   ],
   "source": [
    "count_100 = (products['aisle_id'] == 100).sum() #this code returned 1258 lines that contain the 100 aisle_id, so this tells me that all the NaN values are also in the same aisle\n",
    "count_100"
   ]
  },
  {
   "cell_type": "code",
   "execution_count": 47,
   "id": "e96167bc",
   "metadata": {},
   "outputs": [
    {
     "data": {
      "text/plain": [
       "1258"
      ]
     },
     "execution_count": 47,
     "metadata": {},
     "output_type": "execute_result"
    }
   ],
   "source": [
    "# Are all of the missing product names associated with aisle ID 100?\n",
    "aisle_id_100 = (products['aisle_id'] == 100).sum() #called boolean to see if true or false\n",
    "aisle_id_100\n"
   ]
  },
  {
   "cell_type": "code",
   "execution_count": 48,
   "id": "8fd0a541",
   "metadata": {},
   "outputs": [
    {
     "data": {
      "text/plain": [
       "1258"
      ]
     },
     "execution_count": 48,
     "metadata": {},
     "output_type": "execute_result"
    }
   ],
   "source": [
    "# Are all of the missing product names associated with department ID 21?\n",
    "dept_id_21 = (products['department_id'] == 21).sum() #called boolean to see if true or false\n",
    "dept_id_21\n"
   ]
  },
  {
   "cell_type": "code",
   "execution_count": 49,
   "id": "a29b83d9",
   "metadata": {},
   "outputs": [
    {
     "data": {
      "text/html": [
       "<div>\n",
       "<style scoped>\n",
       "    .dataframe tbody tr th:only-of-type {\n",
       "        vertical-align: middle;\n",
       "    }\n",
       "\n",
       "    .dataframe tbody tr th {\n",
       "        vertical-align: top;\n",
       "    }\n",
       "\n",
       "    .dataframe thead th {\n",
       "        text-align: right;\n",
       "    }\n",
       "</style>\n",
       "<table border=\"1\" class=\"dataframe\">\n",
       "  <thead>\n",
       "    <tr style=\"text-align: right;\">\n",
       "      <th></th>\n",
       "      <th>product_id</th>\n",
       "      <th>product_name</th>\n",
       "      <th>aisle_id</th>\n",
       "      <th>department_id</th>\n",
       "    </tr>\n",
       "  </thead>\n",
       "  <tbody>\n",
       "    <tr>\n",
       "      <th>0</th>\n",
       "      <td>1</td>\n",
       "      <td>Chocolate Sandwich Cookies</td>\n",
       "      <td>61</td>\n",
       "      <td>19</td>\n",
       "    </tr>\n",
       "    <tr>\n",
       "      <th>1</th>\n",
       "      <td>2</td>\n",
       "      <td>All-Seasons Salt</td>\n",
       "      <td>104</td>\n",
       "      <td>13</td>\n",
       "    </tr>\n",
       "    <tr>\n",
       "      <th>2</th>\n",
       "      <td>3</td>\n",
       "      <td>Robust Golden Unsweetened Oolong Tea</td>\n",
       "      <td>94</td>\n",
       "      <td>7</td>\n",
       "    </tr>\n",
       "    <tr>\n",
       "      <th>3</th>\n",
       "      <td>4</td>\n",
       "      <td>Smart Ones Classic Favorites Mini Rigatoni Wit...</td>\n",
       "      <td>38</td>\n",
       "      <td>1</td>\n",
       "    </tr>\n",
       "    <tr>\n",
       "      <th>4</th>\n",
       "      <td>5</td>\n",
       "      <td>Green Chile Anytime Sauce</td>\n",
       "      <td>5</td>\n",
       "      <td>13</td>\n",
       "    </tr>\n",
       "  </tbody>\n",
       "</table>\n",
       "</div>"
      ],
      "text/plain": [
       "   product_id                                       product_name  aisle_id  \\\n",
       "0           1                         Chocolate Sandwich Cookies        61   \n",
       "1           2                                   All-Seasons Salt       104   \n",
       "2           3               Robust Golden Unsweetened Oolong Tea        94   \n",
       "3           4  Smart Ones Classic Favorites Mini Rigatoni Wit...        38   \n",
       "4           5                          Green Chile Anytime Sauce         5   \n",
       "\n",
       "   department_id  \n",
       "0             19  \n",
       "1             13  \n",
       "2              7  \n",
       "3              1  \n",
       "4             13  "
      ]
     },
     "execution_count": 49,
     "metadata": {},
     "output_type": "execute_result"
    }
   ],
   "source": [
    "products.head()"
   ]
  },
  {
   "cell_type": "code",
   "execution_count": 50,
   "id": "c8c1ccfb",
   "metadata": {},
   "outputs": [
    {
     "data": {
      "text/html": [
       "<div>\n",
       "<style scoped>\n",
       "    .dataframe tbody tr th:only-of-type {\n",
       "        vertical-align: middle;\n",
       "    }\n",
       "\n",
       "    .dataframe tbody tr th {\n",
       "        vertical-align: top;\n",
       "    }\n",
       "\n",
       "    .dataframe thead th {\n",
       "        text-align: right;\n",
       "    }\n",
       "</style>\n",
       "<table border=\"1\" class=\"dataframe\">\n",
       "  <thead>\n",
       "    <tr style=\"text-align: right;\">\n",
       "      <th></th>\n",
       "      <th>department_id</th>\n",
       "      <th>department</th>\n",
       "    </tr>\n",
       "  </thead>\n",
       "  <tbody>\n",
       "    <tr>\n",
       "      <th>0</th>\n",
       "      <td>1</td>\n",
       "      <td>frozen</td>\n",
       "    </tr>\n",
       "    <tr>\n",
       "      <th>1</th>\n",
       "      <td>2</td>\n",
       "      <td>other</td>\n",
       "    </tr>\n",
       "    <tr>\n",
       "      <th>2</th>\n",
       "      <td>3</td>\n",
       "      <td>bakery</td>\n",
       "    </tr>\n",
       "    <tr>\n",
       "      <th>3</th>\n",
       "      <td>4</td>\n",
       "      <td>produce</td>\n",
       "    </tr>\n",
       "    <tr>\n",
       "      <th>4</th>\n",
       "      <td>5</td>\n",
       "      <td>alcohol</td>\n",
       "    </tr>\n",
       "  </tbody>\n",
       "</table>\n",
       "</div>"
      ],
      "text/plain": [
       "   department_id department\n",
       "0              1     frozen\n",
       "1              2      other\n",
       "2              3     bakery\n",
       "3              4    produce\n",
       "4              5    alcohol"
      ]
     },
     "execution_count": 50,
     "metadata": {},
     "output_type": "execute_result"
    }
   ],
   "source": [
    "departments.head()"
   ]
  },
  {
   "cell_type": "code",
   "execution_count": 51,
   "id": "52bb74cf",
   "metadata": {},
   "outputs": [
    {
     "data": {
      "text/html": [
       "<div>\n",
       "<style scoped>\n",
       "    .dataframe tbody tr th:only-of-type {\n",
       "        vertical-align: middle;\n",
       "    }\n",
       "\n",
       "    .dataframe tbody tr th {\n",
       "        vertical-align: top;\n",
       "    }\n",
       "\n",
       "    .dataframe thead th {\n",
       "        text-align: right;\n",
       "    }\n",
       "</style>\n",
       "<table border=\"1\" class=\"dataframe\">\n",
       "  <thead>\n",
       "    <tr style=\"text-align: right;\">\n",
       "      <th></th>\n",
       "      <th>aisle_id</th>\n",
       "      <th>aisle</th>\n",
       "    </tr>\n",
       "  </thead>\n",
       "  <tbody>\n",
       "    <tr>\n",
       "      <th>0</th>\n",
       "      <td>1</td>\n",
       "      <td>prepared soups salads</td>\n",
       "    </tr>\n",
       "    <tr>\n",
       "      <th>1</th>\n",
       "      <td>2</td>\n",
       "      <td>specialty cheeses</td>\n",
       "    </tr>\n",
       "    <tr>\n",
       "      <th>2</th>\n",
       "      <td>3</td>\n",
       "      <td>energy granola bars</td>\n",
       "    </tr>\n",
       "    <tr>\n",
       "      <th>3</th>\n",
       "      <td>4</td>\n",
       "      <td>instant foods</td>\n",
       "    </tr>\n",
       "    <tr>\n",
       "      <th>4</th>\n",
       "      <td>5</td>\n",
       "      <td>marinades meat preparation</td>\n",
       "    </tr>\n",
       "  </tbody>\n",
       "</table>\n",
       "</div>"
      ],
      "text/plain": [
       "   aisle_id                       aisle\n",
       "0         1       prepared soups salads\n",
       "1         2           specialty cheeses\n",
       "2         3         energy granola bars\n",
       "3         4               instant foods\n",
       "4         5  marinades meat preparation"
      ]
     },
     "execution_count": 51,
     "metadata": {},
     "output_type": "execute_result"
    }
   ],
   "source": [
    "aisles.head()"
   ]
  },
  {
   "cell_type": "code",
   "execution_count": 52,
   "id": "251ec6f2",
   "metadata": {},
   "outputs": [
    {
     "data": {
      "text/html": [
       "<div>\n",
       "<style scoped>\n",
       "    .dataframe tbody tr th:only-of-type {\n",
       "        vertical-align: middle;\n",
       "    }\n",
       "\n",
       "    .dataframe tbody tr th {\n",
       "        vertical-align: top;\n",
       "    }\n",
       "\n",
       "    .dataframe thead th {\n",
       "        text-align: right;\n",
       "    }\n",
       "</style>\n",
       "<table border=\"1\" class=\"dataframe\">\n",
       "  <thead>\n",
       "    <tr style=\"text-align: right;\">\n",
       "      <th></th>\n",
       "      <th>product_id</th>\n",
       "      <th>product_name</th>\n",
       "      <th>aisle_id</th>\n",
       "      <th>department_id</th>\n",
       "      <th>aisle</th>\n",
       "    </tr>\n",
       "  </thead>\n",
       "  <tbody>\n",
       "    <tr>\n",
       "      <th>0</th>\n",
       "      <td>1</td>\n",
       "      <td>Chocolate Sandwich Cookies</td>\n",
       "      <td>61</td>\n",
       "      <td>19</td>\n",
       "      <td>cookies cakes</td>\n",
       "    </tr>\n",
       "    <tr>\n",
       "      <th>1</th>\n",
       "      <td>2</td>\n",
       "      <td>All-Seasons Salt</td>\n",
       "      <td>104</td>\n",
       "      <td>13</td>\n",
       "      <td>spices seasonings</td>\n",
       "    </tr>\n",
       "    <tr>\n",
       "      <th>2</th>\n",
       "      <td>3</td>\n",
       "      <td>Robust Golden Unsweetened Oolong Tea</td>\n",
       "      <td>94</td>\n",
       "      <td>7</td>\n",
       "      <td>tea</td>\n",
       "    </tr>\n",
       "    <tr>\n",
       "      <th>3</th>\n",
       "      <td>4</td>\n",
       "      <td>Smart Ones Classic Favorites Mini Rigatoni Wit...</td>\n",
       "      <td>38</td>\n",
       "      <td>1</td>\n",
       "      <td>frozen meals</td>\n",
       "    </tr>\n",
       "    <tr>\n",
       "      <th>4</th>\n",
       "      <td>5</td>\n",
       "      <td>Green Chile Anytime Sauce</td>\n",
       "      <td>5</td>\n",
       "      <td>13</td>\n",
       "      <td>marinades meat preparation</td>\n",
       "    </tr>\n",
       "    <tr>\n",
       "      <th>...</th>\n",
       "      <td>...</td>\n",
       "      <td>...</td>\n",
       "      <td>...</td>\n",
       "      <td>...</td>\n",
       "      <td>...</td>\n",
       "    </tr>\n",
       "    <tr>\n",
       "      <th>49689</th>\n",
       "      <td>49690</td>\n",
       "      <td>HIGH PERFORMANCE ENERGY DRINK</td>\n",
       "      <td>64</td>\n",
       "      <td>7</td>\n",
       "      <td>energy sports drinks</td>\n",
       "    </tr>\n",
       "    <tr>\n",
       "      <th>49690</th>\n",
       "      <td>49691</td>\n",
       "      <td>ORIGINAL PANCAKE &amp; WAFFLE MIX</td>\n",
       "      <td>130</td>\n",
       "      <td>14</td>\n",
       "      <td>hot cereal pancake mixes</td>\n",
       "    </tr>\n",
       "    <tr>\n",
       "      <th>49691</th>\n",
       "      <td>49692</td>\n",
       "      <td>ORGANIC INSTANT OATMEAL LIGHT MAPLE BROWN SUGAR</td>\n",
       "      <td>130</td>\n",
       "      <td>14</td>\n",
       "      <td>hot cereal pancake mixes</td>\n",
       "    </tr>\n",
       "    <tr>\n",
       "      <th>49692</th>\n",
       "      <td>49693</td>\n",
       "      <td>SPRING WATER BODY WASH</td>\n",
       "      <td>127</td>\n",
       "      <td>11</td>\n",
       "      <td>body lotions soap</td>\n",
       "    </tr>\n",
       "    <tr>\n",
       "      <th>49693</th>\n",
       "      <td>49694</td>\n",
       "      <td>BURRITO- STEAK &amp; CHEESE</td>\n",
       "      <td>38</td>\n",
       "      <td>1</td>\n",
       "      <td>frozen meals</td>\n",
       "    </tr>\n",
       "  </tbody>\n",
       "</table>\n",
       "<p>49694 rows × 5 columns</p>\n",
       "</div>"
      ],
      "text/plain": [
       "       product_id                                       product_name  \\\n",
       "0               1                         Chocolate Sandwich Cookies   \n",
       "1               2                                   All-Seasons Salt   \n",
       "2               3               Robust Golden Unsweetened Oolong Tea   \n",
       "3               4  Smart Ones Classic Favorites Mini Rigatoni Wit...   \n",
       "4               5                          Green Chile Anytime Sauce   \n",
       "...           ...                                                ...   \n",
       "49689       49690                      HIGH PERFORMANCE ENERGY DRINK   \n",
       "49690       49691                      ORIGINAL PANCAKE & WAFFLE MIX   \n",
       "49691       49692    ORGANIC INSTANT OATMEAL LIGHT MAPLE BROWN SUGAR   \n",
       "49692       49693                             SPRING WATER BODY WASH   \n",
       "49693       49694                            BURRITO- STEAK & CHEESE   \n",
       "\n",
       "       aisle_id  department_id                       aisle  \n",
       "0            61             19               cookies cakes  \n",
       "1           104             13           spices seasonings  \n",
       "2            94              7                         tea  \n",
       "3            38              1                frozen meals  \n",
       "4             5             13  marinades meat preparation  \n",
       "...         ...            ...                         ...  \n",
       "49689        64              7        energy sports drinks  \n",
       "49690       130             14    hot cereal pancake mixes  \n",
       "49691       130             14    hot cereal pancake mixes  \n",
       "49692       127             11           body lotions soap  \n",
       "49693        38              1                frozen meals  \n",
       "\n",
       "[49694 rows x 5 columns]"
      ]
     },
     "execution_count": 52,
     "metadata": {},
     "output_type": "execute_result"
    }
   ],
   "source": [
    "merged_product_aisle = products.merge(aisles, on='aisle_id', how='left') #i merged products with aisles df on the aisle_id\n",
    "merged_product_aisle"
   ]
  },
  {
   "cell_type": "code",
   "execution_count": 53,
   "id": "01dec800",
   "metadata": {},
   "outputs": [
    {
     "data": {
      "text/html": [
       "<div>\n",
       "<style scoped>\n",
       "    .dataframe tbody tr th:only-of-type {\n",
       "        vertical-align: middle;\n",
       "    }\n",
       "\n",
       "    .dataframe tbody tr th {\n",
       "        vertical-align: top;\n",
       "    }\n",
       "\n",
       "    .dataframe thead th {\n",
       "        text-align: right;\n",
       "    }\n",
       "</style>\n",
       "<table border=\"1\" class=\"dataframe\">\n",
       "  <thead>\n",
       "    <tr style=\"text-align: right;\">\n",
       "      <th></th>\n",
       "      <th>product_id</th>\n",
       "      <th>product_name</th>\n",
       "      <th>aisle_id</th>\n",
       "      <th>department_id</th>\n",
       "      <th>aisle</th>\n",
       "      <th>department</th>\n",
       "    </tr>\n",
       "  </thead>\n",
       "  <tbody>\n",
       "    <tr>\n",
       "      <th>0</th>\n",
       "      <td>1</td>\n",
       "      <td>Chocolate Sandwich Cookies</td>\n",
       "      <td>61</td>\n",
       "      <td>19</td>\n",
       "      <td>cookies cakes</td>\n",
       "      <td>snacks</td>\n",
       "    </tr>\n",
       "    <tr>\n",
       "      <th>1</th>\n",
       "      <td>2</td>\n",
       "      <td>All-Seasons Salt</td>\n",
       "      <td>104</td>\n",
       "      <td>13</td>\n",
       "      <td>spices seasonings</td>\n",
       "      <td>pantry</td>\n",
       "    </tr>\n",
       "    <tr>\n",
       "      <th>2</th>\n",
       "      <td>3</td>\n",
       "      <td>Robust Golden Unsweetened Oolong Tea</td>\n",
       "      <td>94</td>\n",
       "      <td>7</td>\n",
       "      <td>tea</td>\n",
       "      <td>beverages</td>\n",
       "    </tr>\n",
       "    <tr>\n",
       "      <th>3</th>\n",
       "      <td>4</td>\n",
       "      <td>Smart Ones Classic Favorites Mini Rigatoni Wit...</td>\n",
       "      <td>38</td>\n",
       "      <td>1</td>\n",
       "      <td>frozen meals</td>\n",
       "      <td>frozen</td>\n",
       "    </tr>\n",
       "    <tr>\n",
       "      <th>4</th>\n",
       "      <td>5</td>\n",
       "      <td>Green Chile Anytime Sauce</td>\n",
       "      <td>5</td>\n",
       "      <td>13</td>\n",
       "      <td>marinades meat preparation</td>\n",
       "      <td>pantry</td>\n",
       "    </tr>\n",
       "    <tr>\n",
       "      <th>...</th>\n",
       "      <td>...</td>\n",
       "      <td>...</td>\n",
       "      <td>...</td>\n",
       "      <td>...</td>\n",
       "      <td>...</td>\n",
       "      <td>...</td>\n",
       "    </tr>\n",
       "    <tr>\n",
       "      <th>49689</th>\n",
       "      <td>49690</td>\n",
       "      <td>HIGH PERFORMANCE ENERGY DRINK</td>\n",
       "      <td>64</td>\n",
       "      <td>7</td>\n",
       "      <td>energy sports drinks</td>\n",
       "      <td>beverages</td>\n",
       "    </tr>\n",
       "    <tr>\n",
       "      <th>49690</th>\n",
       "      <td>49691</td>\n",
       "      <td>ORIGINAL PANCAKE &amp; WAFFLE MIX</td>\n",
       "      <td>130</td>\n",
       "      <td>14</td>\n",
       "      <td>hot cereal pancake mixes</td>\n",
       "      <td>breakfast</td>\n",
       "    </tr>\n",
       "    <tr>\n",
       "      <th>49691</th>\n",
       "      <td>49692</td>\n",
       "      <td>ORGANIC INSTANT OATMEAL LIGHT MAPLE BROWN SUGAR</td>\n",
       "      <td>130</td>\n",
       "      <td>14</td>\n",
       "      <td>hot cereal pancake mixes</td>\n",
       "      <td>breakfast</td>\n",
       "    </tr>\n",
       "    <tr>\n",
       "      <th>49692</th>\n",
       "      <td>49693</td>\n",
       "      <td>SPRING WATER BODY WASH</td>\n",
       "      <td>127</td>\n",
       "      <td>11</td>\n",
       "      <td>body lotions soap</td>\n",
       "      <td>personal care</td>\n",
       "    </tr>\n",
       "    <tr>\n",
       "      <th>49693</th>\n",
       "      <td>49694</td>\n",
       "      <td>BURRITO- STEAK &amp; CHEESE</td>\n",
       "      <td>38</td>\n",
       "      <td>1</td>\n",
       "      <td>frozen meals</td>\n",
       "      <td>frozen</td>\n",
       "    </tr>\n",
       "  </tbody>\n",
       "</table>\n",
       "<p>49694 rows × 6 columns</p>\n",
       "</div>"
      ],
      "text/plain": [
       "       product_id                                       product_name  \\\n",
       "0               1                         Chocolate Sandwich Cookies   \n",
       "1               2                                   All-Seasons Salt   \n",
       "2               3               Robust Golden Unsweetened Oolong Tea   \n",
       "3               4  Smart Ones Classic Favorites Mini Rigatoni Wit...   \n",
       "4               5                          Green Chile Anytime Sauce   \n",
       "...           ...                                                ...   \n",
       "49689       49690                      HIGH PERFORMANCE ENERGY DRINK   \n",
       "49690       49691                      ORIGINAL PANCAKE & WAFFLE MIX   \n",
       "49691       49692    ORGANIC INSTANT OATMEAL LIGHT MAPLE BROWN SUGAR   \n",
       "49692       49693                             SPRING WATER BODY WASH   \n",
       "49693       49694                            BURRITO- STEAK & CHEESE   \n",
       "\n",
       "       aisle_id  department_id                       aisle     department  \n",
       "0            61             19               cookies cakes         snacks  \n",
       "1           104             13           spices seasonings         pantry  \n",
       "2            94              7                         tea      beverages  \n",
       "3            38              1                frozen meals         frozen  \n",
       "4             5             13  marinades meat preparation         pantry  \n",
       "...         ...            ...                         ...            ...  \n",
       "49689        64              7        energy sports drinks      beverages  \n",
       "49690       130             14    hot cereal pancake mixes      breakfast  \n",
       "49691       130             14    hot cereal pancake mixes      breakfast  \n",
       "49692       127             11           body lotions soap  personal care  \n",
       "49693        38              1                frozen meals         frozen  \n",
       "\n",
       "[49694 rows x 6 columns]"
      ]
     },
     "execution_count": 53,
     "metadata": {},
     "output_type": "execute_result"
    }
   ],
   "source": [
    "merged_df = merged_product_aisle.merge(departments, on='department_id', how='left') #i merged the df above with departments on the dept_id so that I can access all of the information for the next task\n",
    "merged_df"
   ]
  },
  {
   "cell_type": "code",
   "execution_count": 54,
   "id": "0e3eb40b",
   "metadata": {},
   "outputs": [
    {
     "data": {
      "text/html": [
       "<div>\n",
       "<style scoped>\n",
       "    .dataframe tbody tr th:only-of-type {\n",
       "        vertical-align: middle;\n",
       "    }\n",
       "\n",
       "    .dataframe tbody tr th {\n",
       "        vertical-align: top;\n",
       "    }\n",
       "\n",
       "    .dataframe thead th {\n",
       "        text-align: right;\n",
       "    }\n",
       "</style>\n",
       "<table border=\"1\" class=\"dataframe\">\n",
       "  <thead>\n",
       "    <tr style=\"text-align: right;\">\n",
       "      <th></th>\n",
       "      <th>product_id</th>\n",
       "      <th>product_name</th>\n",
       "      <th>aisle_id</th>\n",
       "      <th>department_id</th>\n",
       "      <th>aisle</th>\n",
       "      <th>department</th>\n",
       "    </tr>\n",
       "  </thead>\n",
       "  <tbody>\n",
       "    <tr>\n",
       "      <th>37</th>\n",
       "      <td>38</td>\n",
       "      <td>NaN</td>\n",
       "      <td>100</td>\n",
       "      <td>21</td>\n",
       "      <td>missing</td>\n",
       "      <td>missing</td>\n",
       "    </tr>\n",
       "    <tr>\n",
       "      <th>71</th>\n",
       "      <td>72</td>\n",
       "      <td>NaN</td>\n",
       "      <td>100</td>\n",
       "      <td>21</td>\n",
       "      <td>missing</td>\n",
       "      <td>missing</td>\n",
       "    </tr>\n",
       "    <tr>\n",
       "      <th>109</th>\n",
       "      <td>110</td>\n",
       "      <td>NaN</td>\n",
       "      <td>100</td>\n",
       "      <td>21</td>\n",
       "      <td>missing</td>\n",
       "      <td>missing</td>\n",
       "    </tr>\n",
       "    <tr>\n",
       "      <th>296</th>\n",
       "      <td>297</td>\n",
       "      <td>NaN</td>\n",
       "      <td>100</td>\n",
       "      <td>21</td>\n",
       "      <td>missing</td>\n",
       "      <td>missing</td>\n",
       "    </tr>\n",
       "    <tr>\n",
       "      <th>416</th>\n",
       "      <td>417</td>\n",
       "      <td>NaN</td>\n",
       "      <td>100</td>\n",
       "      <td>21</td>\n",
       "      <td>missing</td>\n",
       "      <td>missing</td>\n",
       "    </tr>\n",
       "    <tr>\n",
       "      <th>...</th>\n",
       "      <td>...</td>\n",
       "      <td>...</td>\n",
       "      <td>...</td>\n",
       "      <td>...</td>\n",
       "      <td>...</td>\n",
       "      <td>...</td>\n",
       "    </tr>\n",
       "    <tr>\n",
       "      <th>49552</th>\n",
       "      <td>49553</td>\n",
       "      <td>NaN</td>\n",
       "      <td>100</td>\n",
       "      <td>21</td>\n",
       "      <td>missing</td>\n",
       "      <td>missing</td>\n",
       "    </tr>\n",
       "    <tr>\n",
       "      <th>49574</th>\n",
       "      <td>49575</td>\n",
       "      <td>NaN</td>\n",
       "      <td>100</td>\n",
       "      <td>21</td>\n",
       "      <td>missing</td>\n",
       "      <td>missing</td>\n",
       "    </tr>\n",
       "    <tr>\n",
       "      <th>49640</th>\n",
       "      <td>49641</td>\n",
       "      <td>NaN</td>\n",
       "      <td>100</td>\n",
       "      <td>21</td>\n",
       "      <td>missing</td>\n",
       "      <td>missing</td>\n",
       "    </tr>\n",
       "    <tr>\n",
       "      <th>49663</th>\n",
       "      <td>49664</td>\n",
       "      <td>NaN</td>\n",
       "      <td>100</td>\n",
       "      <td>21</td>\n",
       "      <td>missing</td>\n",
       "      <td>missing</td>\n",
       "    </tr>\n",
       "    <tr>\n",
       "      <th>49668</th>\n",
       "      <td>49669</td>\n",
       "      <td>NaN</td>\n",
       "      <td>100</td>\n",
       "      <td>21</td>\n",
       "      <td>missing</td>\n",
       "      <td>missing</td>\n",
       "    </tr>\n",
       "  </tbody>\n",
       "</table>\n",
       "<p>1258 rows × 6 columns</p>\n",
       "</div>"
      ],
      "text/plain": [
       "       product_id product_name  aisle_id  department_id    aisle department\n",
       "37             38          NaN       100             21  missing    missing\n",
       "71             72          NaN       100             21  missing    missing\n",
       "109           110          NaN       100             21  missing    missing\n",
       "296           297          NaN       100             21  missing    missing\n",
       "416           417          NaN       100             21  missing    missing\n",
       "...           ...          ...       ...            ...      ...        ...\n",
       "49552       49553          NaN       100             21  missing    missing\n",
       "49574       49575          NaN       100             21  missing    missing\n",
       "49640       49641          NaN       100             21  missing    missing\n",
       "49663       49664          NaN       100             21  missing    missing\n",
       "49668       49669          NaN       100             21  missing    missing\n",
       "\n",
       "[1258 rows x 6 columns]"
      ]
     },
     "execution_count": 54,
     "metadata": {},
     "output_type": "execute_result"
    }
   ],
   "source": [
    "merged_df[(merged_df['aisle_id'] == 100) & (merged_df['department_id'] == 21)] #i wanted to return the aisle_id = 100 and department_id = 21 so that i can get the name of the department. It returned 'missing'"
   ]
  },
  {
   "cell_type": "code",
   "execution_count": 55,
   "id": "6b295120",
   "metadata": {},
   "outputs": [
    {
     "name": "stderr",
     "output_type": "stream",
     "text": [
      "/var/folders/2c/tfkhfg6d5jj1g3ttv18s3t5r0000gn/T/ipykernel_82094/3219752917.py:2: FutureWarning: A value is trying to be set on a copy of a DataFrame or Series through chained assignment using an inplace method.\n",
      "The behavior will change in pandas 3.0. This inplace method will never work because the intermediate object on which we are setting values always behaves as a copy.\n",
      "\n",
      "For example, when doing 'df[col].method(value, inplace=True)', try using 'df.method({col: value}, inplace=True)' or df[col] = df[col].method(value) instead, to perform the operation inplace on the original object.\n",
      "\n",
      "\n",
      "  products['product_name'].fillna('Unknown', inplace=True) #this method filled all missing product name values with 'Unknown'\n"
     ]
    },
    {
     "data": {
      "text/html": [
       "<div>\n",
       "<style scoped>\n",
       "    .dataframe tbody tr th:only-of-type {\n",
       "        vertical-align: middle;\n",
       "    }\n",
       "\n",
       "    .dataframe tbody tr th {\n",
       "        vertical-align: top;\n",
       "    }\n",
       "\n",
       "    .dataframe thead th {\n",
       "        text-align: right;\n",
       "    }\n",
       "</style>\n",
       "<table border=\"1\" class=\"dataframe\">\n",
       "  <thead>\n",
       "    <tr style=\"text-align: right;\">\n",
       "      <th></th>\n",
       "      <th>product_id</th>\n",
       "      <th>product_name</th>\n",
       "      <th>aisle_id</th>\n",
       "      <th>department_id</th>\n",
       "    </tr>\n",
       "  </thead>\n",
       "  <tbody>\n",
       "    <tr>\n",
       "      <th>0</th>\n",
       "      <td>1</td>\n",
       "      <td>Chocolate Sandwich Cookies</td>\n",
       "      <td>61</td>\n",
       "      <td>19</td>\n",
       "    </tr>\n",
       "    <tr>\n",
       "      <th>1</th>\n",
       "      <td>2</td>\n",
       "      <td>All-Seasons Salt</td>\n",
       "      <td>104</td>\n",
       "      <td>13</td>\n",
       "    </tr>\n",
       "    <tr>\n",
       "      <th>2</th>\n",
       "      <td>3</td>\n",
       "      <td>Robust Golden Unsweetened Oolong Tea</td>\n",
       "      <td>94</td>\n",
       "      <td>7</td>\n",
       "    </tr>\n",
       "    <tr>\n",
       "      <th>3</th>\n",
       "      <td>4</td>\n",
       "      <td>Smart Ones Classic Favorites Mini Rigatoni Wit...</td>\n",
       "      <td>38</td>\n",
       "      <td>1</td>\n",
       "    </tr>\n",
       "    <tr>\n",
       "      <th>4</th>\n",
       "      <td>5</td>\n",
       "      <td>Green Chile Anytime Sauce</td>\n",
       "      <td>5</td>\n",
       "      <td>13</td>\n",
       "    </tr>\n",
       "    <tr>\n",
       "      <th>5</th>\n",
       "      <td>6</td>\n",
       "      <td>Dry Nose Oil</td>\n",
       "      <td>11</td>\n",
       "      <td>11</td>\n",
       "    </tr>\n",
       "    <tr>\n",
       "      <th>6</th>\n",
       "      <td>7</td>\n",
       "      <td>Pure Coconut Water With Orange</td>\n",
       "      <td>98</td>\n",
       "      <td>7</td>\n",
       "    </tr>\n",
       "    <tr>\n",
       "      <th>7</th>\n",
       "      <td>8</td>\n",
       "      <td>Cut Russet Potatoes Steam N' Mash</td>\n",
       "      <td>116</td>\n",
       "      <td>1</td>\n",
       "    </tr>\n",
       "    <tr>\n",
       "      <th>8</th>\n",
       "      <td>9</td>\n",
       "      <td>Light Strawberry Blueberry Yogurt</td>\n",
       "      <td>120</td>\n",
       "      <td>16</td>\n",
       "    </tr>\n",
       "    <tr>\n",
       "      <th>9</th>\n",
       "      <td>10</td>\n",
       "      <td>Sparkling Orange Juice &amp; Prickly Pear Beverage</td>\n",
       "      <td>115</td>\n",
       "      <td>7</td>\n",
       "    </tr>\n",
       "  </tbody>\n",
       "</table>\n",
       "</div>"
      ],
      "text/plain": [
       "   product_id                                       product_name  aisle_id  \\\n",
       "0           1                         Chocolate Sandwich Cookies        61   \n",
       "1           2                                   All-Seasons Salt       104   \n",
       "2           3               Robust Golden Unsweetened Oolong Tea        94   \n",
       "3           4  Smart Ones Classic Favorites Mini Rigatoni Wit...        38   \n",
       "4           5                          Green Chile Anytime Sauce         5   \n",
       "5           6                                       Dry Nose Oil        11   \n",
       "6           7                     Pure Coconut Water With Orange        98   \n",
       "7           8                  Cut Russet Potatoes Steam N' Mash       116   \n",
       "8           9                  Light Strawberry Blueberry Yogurt       120   \n",
       "9          10     Sparkling Orange Juice & Prickly Pear Beverage       115   \n",
       "\n",
       "   department_id  \n",
       "0             19  \n",
       "1             13  \n",
       "2              7  \n",
       "3              1  \n",
       "4             13  \n",
       "5             11  \n",
       "6              7  \n",
       "7              1  \n",
       "8             16  \n",
       "9              7  "
      ]
     },
     "execution_count": 55,
     "metadata": {},
     "output_type": "execute_result"
    }
   ],
   "source": [
    "# Fill missing product names with 'Unknown'\n",
    "products['product_name'].fillna('Unknown', inplace=True) #this method filled all missing product name values with 'Unknown'\n",
    "products.head(10)"
   ]
  },
  {
   "cell_type": "code",
   "execution_count": 56,
   "id": "b399288f",
   "metadata": {},
   "outputs": [
    {
     "data": {
      "text/plain": [
       "0"
      ]
     },
     "execution_count": 56,
     "metadata": {},
     "output_type": "execute_result"
    }
   ],
   "source": [
    "products['product_name'].isna().sum() #checked for NaN values in the product_name column"
   ]
  },
  {
   "cell_type": "code",
   "execution_count": 57,
   "id": "12a2a872",
   "metadata": {},
   "outputs": [
    {
     "data": {
      "text/html": [
       "<div>\n",
       "<style scoped>\n",
       "    .dataframe tbody tr th:only-of-type {\n",
       "        vertical-align: middle;\n",
       "    }\n",
       "\n",
       "    .dataframe tbody tr th {\n",
       "        vertical-align: top;\n",
       "    }\n",
       "\n",
       "    .dataframe thead th {\n",
       "        text-align: right;\n",
       "    }\n",
       "</style>\n",
       "<table border=\"1\" class=\"dataframe\">\n",
       "  <thead>\n",
       "    <tr style=\"text-align: right;\">\n",
       "      <th></th>\n",
       "      <th>product_id</th>\n",
       "      <th>product_name</th>\n",
       "      <th>aisle_id</th>\n",
       "      <th>department_id</th>\n",
       "    </tr>\n",
       "  </thead>\n",
       "  <tbody>\n",
       "    <tr>\n",
       "      <th>0</th>\n",
       "      <td>1</td>\n",
       "      <td>Chocolate Sandwich Cookies</td>\n",
       "      <td>61</td>\n",
       "      <td>19</td>\n",
       "    </tr>\n",
       "    <tr>\n",
       "      <th>1</th>\n",
       "      <td>2</td>\n",
       "      <td>All-Seasons Salt</td>\n",
       "      <td>104</td>\n",
       "      <td>13</td>\n",
       "    </tr>\n",
       "    <tr>\n",
       "      <th>2</th>\n",
       "      <td>3</td>\n",
       "      <td>Robust Golden Unsweetened Oolong Tea</td>\n",
       "      <td>94</td>\n",
       "      <td>7</td>\n",
       "    </tr>\n",
       "    <tr>\n",
       "      <th>3</th>\n",
       "      <td>4</td>\n",
       "      <td>Smart Ones Classic Favorites Mini Rigatoni Wit...</td>\n",
       "      <td>38</td>\n",
       "      <td>1</td>\n",
       "    </tr>\n",
       "    <tr>\n",
       "      <th>4</th>\n",
       "      <td>5</td>\n",
       "      <td>Green Chile Anytime Sauce</td>\n",
       "      <td>5</td>\n",
       "      <td>13</td>\n",
       "    </tr>\n",
       "  </tbody>\n",
       "</table>\n",
       "</div>"
      ],
      "text/plain": [
       "   product_id                                       product_name  aisle_id  \\\n",
       "0           1                         Chocolate Sandwich Cookies        61   \n",
       "1           2                                   All-Seasons Salt       104   \n",
       "2           3               Robust Golden Unsweetened Oolong Tea        94   \n",
       "3           4  Smart Ones Classic Favorites Mini Rigatoni Wit...        38   \n",
       "4           5                          Green Chile Anytime Sauce         5   \n",
       "\n",
       "   department_id  \n",
       "0             19  \n",
       "1             13  \n",
       "2              7  \n",
       "3              1  \n",
       "4             13  "
      ]
     },
     "execution_count": 57,
     "metadata": {},
     "output_type": "execute_result"
    }
   ],
   "source": [
    "products.head()"
   ]
  },
  {
   "cell_type": "markdown",
   "id": "7eb45c86",
   "metadata": {},
   "source": [
    "### `orders` data frame"
   ]
  },
  {
   "cell_type": "code",
   "execution_count": 58,
   "id": "e9717e22",
   "metadata": {},
   "outputs": [
    {
     "data": {
      "text/html": [
       "<div>\n",
       "<style scoped>\n",
       "    .dataframe tbody tr th:only-of-type {\n",
       "        vertical-align: middle;\n",
       "    }\n",
       "\n",
       "    .dataframe tbody tr th {\n",
       "        vertical-align: top;\n",
       "    }\n",
       "\n",
       "    .dataframe thead th {\n",
       "        text-align: right;\n",
       "    }\n",
       "</style>\n",
       "<table border=\"1\" class=\"dataframe\">\n",
       "  <thead>\n",
       "    <tr style=\"text-align: right;\">\n",
       "      <th></th>\n",
       "      <th>order_id</th>\n",
       "      <th>user_id</th>\n",
       "      <th>order_number</th>\n",
       "      <th>order_dow</th>\n",
       "      <th>order_hour_of_day</th>\n",
       "      <th>days_since_prior_order</th>\n",
       "    </tr>\n",
       "  </thead>\n",
       "  <tbody>\n",
       "    <tr>\n",
       "      <th>0</th>\n",
       "      <td>1515936</td>\n",
       "      <td>183418</td>\n",
       "      <td>11</td>\n",
       "      <td>6</td>\n",
       "      <td>13</td>\n",
       "      <td>30</td>\n",
       "    </tr>\n",
       "    <tr>\n",
       "      <th>1</th>\n",
       "      <td>1690866</td>\n",
       "      <td>163593</td>\n",
       "      <td>5</td>\n",
       "      <td>5</td>\n",
       "      <td>12</td>\n",
       "      <td>9</td>\n",
       "    </tr>\n",
       "    <tr>\n",
       "      <th>2</th>\n",
       "      <td>1454967</td>\n",
       "      <td>39980</td>\n",
       "      <td>4</td>\n",
       "      <td>5</td>\n",
       "      <td>19</td>\n",
       "      <td>2</td>\n",
       "    </tr>\n",
       "    <tr>\n",
       "      <th>3</th>\n",
       "      <td>1768857</td>\n",
       "      <td>82516</td>\n",
       "      <td>56</td>\n",
       "      <td>0</td>\n",
       "      <td>20</td>\n",
       "      <td>10</td>\n",
       "    </tr>\n",
       "    <tr>\n",
       "      <th>4</th>\n",
       "      <td>3007858</td>\n",
       "      <td>196724</td>\n",
       "      <td>2</td>\n",
       "      <td>4</td>\n",
       "      <td>12</td>\n",
       "      <td>17</td>\n",
       "    </tr>\n",
       "  </tbody>\n",
       "</table>\n",
       "</div>"
      ],
      "text/plain": [
       "   order_id  user_id  order_number  order_dow  order_hour_of_day  \\\n",
       "0   1515936   183418            11          6                 13   \n",
       "1   1690866   163593             5          5                 12   \n",
       "2   1454967    39980             4          5                 19   \n",
       "3   1768857    82516            56          0                 20   \n",
       "4   3007858   196724             2          4                 12   \n",
       "\n",
       "   days_since_prior_order  \n",
       "0                      30  \n",
       "1                       9  \n",
       "2                       2  \n",
       "3                      10  \n",
       "4                      17  "
      ]
     },
     "execution_count": 58,
     "metadata": {},
     "output_type": "execute_result"
    }
   ],
   "source": [
    "orders.head()"
   ]
  },
  {
   "cell_type": "code",
   "execution_count": 59,
   "id": "41941d62",
   "metadata": {},
   "outputs": [
    {
     "data": {
      "text/plain": [
       "order_id                      0\n",
       "user_id                       0\n",
       "order_number                  0\n",
       "order_dow                     0\n",
       "order_hour_of_day             0\n",
       "days_since_prior_order    28819\n",
       "dtype: int64"
      ]
     },
     "execution_count": 59,
     "metadata": {},
     "output_type": "execute_result"
    }
   ],
   "source": [
    "orders.isna().sum() #checked for missing values and 5 were returned in the "
   ]
  },
  {
   "cell_type": "code",
   "execution_count": 60,
   "id": "166e5a86",
   "metadata": {},
   "outputs": [
    {
     "data": {
      "text/html": [
       "<div>\n",
       "<style scoped>\n",
       "    .dataframe tbody tr th:only-of-type {\n",
       "        vertical-align: middle;\n",
       "    }\n",
       "\n",
       "    .dataframe tbody tr th {\n",
       "        vertical-align: top;\n",
       "    }\n",
       "\n",
       "    .dataframe thead th {\n",
       "        text-align: right;\n",
       "    }\n",
       "</style>\n",
       "<table border=\"1\" class=\"dataframe\">\n",
       "  <thead>\n",
       "    <tr style=\"text-align: right;\">\n",
       "      <th></th>\n",
       "      <th>order_id</th>\n",
       "      <th>user_id</th>\n",
       "      <th>order_number</th>\n",
       "      <th>order_dow</th>\n",
       "      <th>order_hour_of_day</th>\n",
       "      <th>days_since_prior_order</th>\n",
       "    </tr>\n",
       "  </thead>\n",
       "  <tbody>\n",
       "  </tbody>\n",
       "</table>\n",
       "</div>"
      ],
      "text/plain": [
       "Empty DataFrame\n",
       "Columns: [order_id, user_id, order_number, order_dow, order_hour_of_day, days_since_prior_order]\n",
       "Index: []"
      ]
     },
     "execution_count": 60,
     "metadata": {},
     "output_type": "execute_result"
    }
   ],
   "source": [
    "# Are there any missing values where it's not a customer's first order?\n",
    "missing_not_first = orders[(orders['days_since_prior_order'].isna()) & (orders['order_number'] != 1)] #filtered the df to give me the sum of NaN in the days_since_prior_order column AND to also return order numbers not equal to 1 so that I can see any missing values that aren't a customers' first order\n",
    "missing_not_first #no values were returned so the filtered df doesn't contain any missing values where it's not a customer's first order\n"
   ]
  },
  {
   "cell_type": "markdown",
   "id": "69dc9ca4",
   "metadata": {},
   "source": [
    "### `order_products` data frame"
   ]
  },
  {
   "cell_type": "code",
   "execution_count": 61,
   "id": "b8240253",
   "metadata": {},
   "outputs": [
    {
     "data": {
      "text/html": [
       "<div>\n",
       "<style scoped>\n",
       "    .dataframe tbody tr th:only-of-type {\n",
       "        vertical-align: middle;\n",
       "    }\n",
       "\n",
       "    .dataframe tbody tr th {\n",
       "        vertical-align: top;\n",
       "    }\n",
       "\n",
       "    .dataframe thead th {\n",
       "        text-align: right;\n",
       "    }\n",
       "</style>\n",
       "<table border=\"1\" class=\"dataframe\">\n",
       "  <thead>\n",
       "    <tr style=\"text-align: right;\">\n",
       "      <th></th>\n",
       "      <th>order_id</th>\n",
       "      <th>product_id</th>\n",
       "      <th>add_to_cart_order</th>\n",
       "      <th>reordered</th>\n",
       "    </tr>\n",
       "  </thead>\n",
       "  <tbody>\n",
       "    <tr>\n",
       "      <th>0</th>\n",
       "      <td>2141543</td>\n",
       "      <td>11440</td>\n",
       "      <td>17</td>\n",
       "      <td>0</td>\n",
       "    </tr>\n",
       "    <tr>\n",
       "      <th>1</th>\n",
       "      <td>567889</td>\n",
       "      <td>1560</td>\n",
       "      <td>1</td>\n",
       "      <td>1</td>\n",
       "    </tr>\n",
       "    <tr>\n",
       "      <th>2</th>\n",
       "      <td>2261212</td>\n",
       "      <td>26683</td>\n",
       "      <td>1</td>\n",
       "      <td>1</td>\n",
       "    </tr>\n",
       "    <tr>\n",
       "      <th>3</th>\n",
       "      <td>491251</td>\n",
       "      <td>8670</td>\n",
       "      <td>35</td>\n",
       "      <td>1</td>\n",
       "    </tr>\n",
       "    <tr>\n",
       "      <th>4</th>\n",
       "      <td>2571142</td>\n",
       "      <td>1940</td>\n",
       "      <td>5</td>\n",
       "      <td>1</td>\n",
       "    </tr>\n",
       "  </tbody>\n",
       "</table>\n",
       "</div>"
      ],
      "text/plain": [
       "   order_id  product_id  add_to_cart_order  reordered\n",
       "0   2141543       11440                 17          0\n",
       "1    567889        1560                  1          1\n",
       "2   2261212       26683                  1          1\n",
       "3    491251        8670                 35          1\n",
       "4   2571142        1940                  5          1"
      ]
     },
     "execution_count": 61,
     "metadata": {},
     "output_type": "execute_result"
    }
   ],
   "source": [
    "order_products.head()"
   ]
  },
  {
   "cell_type": "code",
   "execution_count": 62,
   "id": "ec05bcfe",
   "metadata": {},
   "outputs": [
    {
     "data": {
      "text/plain": [
       "order_id               0\n",
       "product_id             0\n",
       "add_to_cart_order    836\n",
       "reordered              0\n",
       "dtype: int64"
      ]
     },
     "execution_count": 62,
     "metadata": {},
     "output_type": "execute_result"
    }
   ],
   "source": [
    "order_products.isna().sum() #i checked for missing values and found 836 NaNs in the add_to_cart_order column"
   ]
  },
  {
   "cell_type": "code",
   "execution_count": 63,
   "id": "9a78e5ee",
   "metadata": {},
   "outputs": [
    {
     "data": {
      "text/plain": [
       "64"
      ]
     },
     "execution_count": 63,
     "metadata": {},
     "output_type": "execute_result"
    }
   ],
   "source": [
    "# What are the min and max values in this column?\n",
    "order_products['add_to_cart_order'].max() #max value for add_to_cart_order column\n"
   ]
  },
  {
   "cell_type": "code",
   "execution_count": 64,
   "id": "79c85533",
   "metadata": {},
   "outputs": [
    {
     "data": {
      "text/plain": [
       "1"
      ]
     },
     "execution_count": 64,
     "metadata": {},
     "output_type": "execute_result"
    }
   ],
   "source": [
    "order_products['add_to_cart_order'].min() #min value for add_to_cart_order column"
   ]
  },
  {
   "cell_type": "code",
   "execution_count": 65,
   "id": "ab9d0c2b",
   "metadata": {
    "scrolled": false
   },
   "outputs": [
    {
     "data": {
      "text/html": [
       "<div>\n",
       "<style scoped>\n",
       "    .dataframe tbody tr th:only-of-type {\n",
       "        vertical-align: middle;\n",
       "    }\n",
       "\n",
       "    .dataframe tbody tr th {\n",
       "        vertical-align: top;\n",
       "    }\n",
       "\n",
       "    .dataframe thead th {\n",
       "        text-align: right;\n",
       "    }\n",
       "</style>\n",
       "<table border=\"1\" class=\"dataframe\">\n",
       "  <thead>\n",
       "    <tr style=\"text-align: right;\">\n",
       "      <th></th>\n",
       "      <th>order_id</th>\n",
       "      <th>product_id</th>\n",
       "      <th>add_to_cart_order</th>\n",
       "      <th>reordered</th>\n",
       "    </tr>\n",
       "  </thead>\n",
       "  <tbody>\n",
       "    <tr>\n",
       "      <th>737</th>\n",
       "      <td>2449164</td>\n",
       "      <td>5068</td>\n",
       "      <td>&lt;NA&gt;</td>\n",
       "      <td>0</td>\n",
       "    </tr>\n",
       "    <tr>\n",
       "      <th>9926</th>\n",
       "      <td>1968313</td>\n",
       "      <td>43867</td>\n",
       "      <td>&lt;NA&gt;</td>\n",
       "      <td>0</td>\n",
       "    </tr>\n",
       "    <tr>\n",
       "      <th>14394</th>\n",
       "      <td>2926893</td>\n",
       "      <td>11688</td>\n",
       "      <td>&lt;NA&gt;</td>\n",
       "      <td>0</td>\n",
       "    </tr>\n",
       "    <tr>\n",
       "      <th>16418</th>\n",
       "      <td>1717990</td>\n",
       "      <td>4142</td>\n",
       "      <td>&lt;NA&gt;</td>\n",
       "      <td>0</td>\n",
       "    </tr>\n",
       "    <tr>\n",
       "      <th>30114</th>\n",
       "      <td>1959075</td>\n",
       "      <td>42828</td>\n",
       "      <td>&lt;NA&gt;</td>\n",
       "      <td>1</td>\n",
       "    </tr>\n",
       "    <tr>\n",
       "      <th>...</th>\n",
       "      <td>...</td>\n",
       "      <td>...</td>\n",
       "      <td>...</td>\n",
       "      <td>...</td>\n",
       "    </tr>\n",
       "    <tr>\n",
       "      <th>4505662</th>\n",
       "      <td>1800005</td>\n",
       "      <td>7411</td>\n",
       "      <td>&lt;NA&gt;</td>\n",
       "      <td>0</td>\n",
       "    </tr>\n",
       "    <tr>\n",
       "      <th>4511400</th>\n",
       "      <td>1633337</td>\n",
       "      <td>260</td>\n",
       "      <td>&lt;NA&gt;</td>\n",
       "      <td>0</td>\n",
       "    </tr>\n",
       "    <tr>\n",
       "      <th>4517562</th>\n",
       "      <td>404157</td>\n",
       "      <td>9517</td>\n",
       "      <td>&lt;NA&gt;</td>\n",
       "      <td>0</td>\n",
       "    </tr>\n",
       "    <tr>\n",
       "      <th>4534112</th>\n",
       "      <td>1673227</td>\n",
       "      <td>17835</td>\n",
       "      <td>&lt;NA&gt;</td>\n",
       "      <td>0</td>\n",
       "    </tr>\n",
       "    <tr>\n",
       "      <th>4535739</th>\n",
       "      <td>1832957</td>\n",
       "      <td>17949</td>\n",
       "      <td>&lt;NA&gt;</td>\n",
       "      <td>1</td>\n",
       "    </tr>\n",
       "  </tbody>\n",
       "</table>\n",
       "<p>836 rows × 4 columns</p>\n",
       "</div>"
      ],
      "text/plain": [
       "         order_id  product_id  add_to_cart_order  reordered\n",
       "737       2449164        5068               <NA>          0\n",
       "9926      1968313       43867               <NA>          0\n",
       "14394     2926893       11688               <NA>          0\n",
       "16418     1717990        4142               <NA>          0\n",
       "30114     1959075       42828               <NA>          1\n",
       "...           ...         ...                ...        ...\n",
       "4505662   1800005        7411               <NA>          0\n",
       "4511400   1633337         260               <NA>          0\n",
       "4517562    404157        9517               <NA>          0\n",
       "4534112   1673227       17835               <NA>          0\n",
       "4535739   1832957       17949               <NA>          1\n",
       "\n",
       "[836 rows x 4 columns]"
      ]
     },
     "execution_count": 65,
     "metadata": {},
     "output_type": "execute_result"
    }
   ],
   "source": [
    "# Save all order IDs with at least one missing value in 'add_to_cart_order'\n",
    "missing_add_cart = order_products[order_products['add_to_cart_order'].isna()] #in this step I filtered the NaN values for the add_to_cart_order column\n",
    "missing_add_cart"
   ]
  },
  {
   "cell_type": "code",
   "execution_count": 66,
   "id": "76883efb",
   "metadata": {},
   "outputs": [
    {
     "data": {
      "text/plain": [
       "array([2449164, 1968313, 2926893, 1717990, 1959075,  844733,   61355,\n",
       "        936852,  264710, 1564093,  129627,  293169, 2849370, 1386261,\n",
       "       3308010,  903110, 2136777, 3347453, 1888628,  165801, 2094761,\n",
       "       1038146, 2997021,  813364, 2256933,  171934, 2409109, 1730767,\n",
       "       1169835,  733526,  404157, 3125735,  747668, 1800005, 1961723,\n",
       "        871281,  388234, 1648217, 1477139,  102236, 1021563, 1832957,\n",
       "       2721963,  678116, 1220886, 1673227, 2999801, 1633337, 2470674,\n",
       "       2625444, 1677118, 2479011, 3383594, 1183255, 1713430, 2652650,\n",
       "       1598369, 1916118,  854647, 1302315,  888470,  180546, 2621907,\n",
       "       1308785, 2729254,    9310, 2170451, 2979697, 1625713, 1529171])"
      ]
     },
     "execution_count": 66,
     "metadata": {},
     "output_type": "execute_result"
    }
   ],
   "source": [
    "missing_add_cart_id = missing_add_cart['order_id'].unique() #this method called upon the unique order_ids with missing add_to_cart_order\n",
    "missing_add_cart_id"
   ]
  },
  {
   "cell_type": "code",
   "execution_count": 105,
   "id": "1ca39af8",
   "metadata": {},
   "outputs": [
    {
     "data": {
      "text/html": [
       "<div>\n",
       "<style scoped>\n",
       "    .dataframe tbody tr th:only-of-type {\n",
       "        vertical-align: middle;\n",
       "    }\n",
       "\n",
       "    .dataframe tbody tr th {\n",
       "        vertical-align: top;\n",
       "    }\n",
       "\n",
       "    .dataframe thead th {\n",
       "        text-align: right;\n",
       "    }\n",
       "</style>\n",
       "<table border=\"1\" class=\"dataframe\">\n",
       "  <thead>\n",
       "    <tr style=\"text-align: right;\">\n",
       "      <th></th>\n",
       "      <th>order_id</th>\n",
       "      <th>user_id</th>\n",
       "      <th>order_number</th>\n",
       "      <th>order_dow</th>\n",
       "      <th>order_hour_of_day</th>\n",
       "      <th>days_since_prior_order</th>\n",
       "    </tr>\n",
       "  </thead>\n",
       "  <tbody>\n",
       "    <tr>\n",
       "      <th>330715</th>\n",
       "      <td>1832957</td>\n",
       "      <td>129928</td>\n",
       "      <td>60</td>\n",
       "      <td>5</td>\n",
       "      <td>17</td>\n",
       "      <td>7</td>\n",
       "    </tr>\n",
       "    <tr>\n",
       "      <th>249220</th>\n",
       "      <td>1308785</td>\n",
       "      <td>33731</td>\n",
       "      <td>57</td>\n",
       "      <td>3</td>\n",
       "      <td>8</td>\n",
       "      <td>1</td>\n",
       "    </tr>\n",
       "    <tr>\n",
       "      <th>69132</th>\n",
       "      <td>2449164</td>\n",
       "      <td>170548</td>\n",
       "      <td>55</td>\n",
       "      <td>2</td>\n",
       "      <td>12</td>\n",
       "      <td>5</td>\n",
       "    </tr>\n",
       "    <tr>\n",
       "      <th>358527</th>\n",
       "      <td>1673227</td>\n",
       "      <td>129928</td>\n",
       "      <td>49</td>\n",
       "      <td>5</td>\n",
       "      <td>15</td>\n",
       "      <td>3</td>\n",
       "    </tr>\n",
       "    <tr>\n",
       "      <th>293185</th>\n",
       "      <td>293169</td>\n",
       "      <td>19848</td>\n",
       "      <td>47</td>\n",
       "      <td>3</td>\n",
       "      <td>10</td>\n",
       "      <td>2</td>\n",
       "    </tr>\n",
       "    <tr>\n",
       "      <th>...</th>\n",
       "      <td>...</td>\n",
       "      <td>...</td>\n",
       "      <td>...</td>\n",
       "      <td>...</td>\n",
       "      <td>...</td>\n",
       "      <td>...</td>\n",
       "    </tr>\n",
       "    <tr>\n",
       "      <th>173140</th>\n",
       "      <td>9310</td>\n",
       "      <td>199862</td>\n",
       "      <td>2</td>\n",
       "      <td>5</td>\n",
       "      <td>11</td>\n",
       "      <td>25</td>\n",
       "    </tr>\n",
       "    <tr>\n",
       "      <th>273759</th>\n",
       "      <td>2136777</td>\n",
       "      <td>60694</td>\n",
       "      <td>2</td>\n",
       "      <td>2</td>\n",
       "      <td>10</td>\n",
       "      <td>8</td>\n",
       "    </tr>\n",
       "    <tr>\n",
       "      <th>260569</th>\n",
       "      <td>2409109</td>\n",
       "      <td>21873</td>\n",
       "      <td>1</td>\n",
       "      <td>6</td>\n",
       "      <td>10</td>\n",
       "      <td>&lt;NA&gt;</td>\n",
       "    </tr>\n",
       "    <tr>\n",
       "      <th>35747</th>\n",
       "      <td>165801</td>\n",
       "      <td>180033</td>\n",
       "      <td>1</td>\n",
       "      <td>1</td>\n",
       "      <td>14</td>\n",
       "      <td>&lt;NA&gt;</td>\n",
       "    </tr>\n",
       "    <tr>\n",
       "      <th>316896</th>\n",
       "      <td>102236</td>\n",
       "      <td>60694</td>\n",
       "      <td>1</td>\n",
       "      <td>1</td>\n",
       "      <td>10</td>\n",
       "      <td>&lt;NA&gt;</td>\n",
       "    </tr>\n",
       "  </tbody>\n",
       "</table>\n",
       "<p>70 rows × 6 columns</p>\n",
       "</div>"
      ],
      "text/plain": [
       "        order_id  user_id  order_number  order_dow  order_hour_of_day  \\\n",
       "330715   1832957   129928            60          5                 17   \n",
       "249220   1308785    33731            57          3                  8   \n",
       "69132    2449164   170548            55          2                 12   \n",
       "358527   1673227   129928            49          5                 15   \n",
       "293185    293169    19848            47          3                 10   \n",
       "...          ...      ...           ...        ...                ...   \n",
       "173140      9310   199862             2          5                 11   \n",
       "273759   2136777    60694             2          2                 10   \n",
       "260569   2409109    21873             1          6                 10   \n",
       "35747     165801   180033             1          1                 14   \n",
       "316896    102236    60694             1          1                 10   \n",
       "\n",
       "        days_since_prior_order  \n",
       "330715                       7  \n",
       "249220                       1  \n",
       "69132                        5  \n",
       "358527                       3  \n",
       "293185                       2  \n",
       "...                        ...  \n",
       "173140                      25  \n",
       "273759                       8  \n",
       "260569                    <NA>  \n",
       "35747                     <NA>  \n",
       "316896                    <NA>  \n",
       "\n",
       "[70 rows x 6 columns]"
      ]
     },
     "execution_count": 105,
     "metadata": {},
     "output_type": "execute_result"
    }
   ],
   "source": [
    "missing_entries = orders[orders['order_id'].isin(missing_add_cart_id)].sort_values('order_number', ascending=False) #i called upon the order_id column in the orders df to return all the order_ids that are contained in the missing_add_cart_id variable from above\n",
    "missing_entries #returned all orders that IDs are contained in the missing_add_cart_id variable from above"
   ]
  },
  {
   "cell_type": "code",
   "execution_count": 68,
   "id": "a156a87c",
   "metadata": {},
   "outputs": [
    {
     "data": {
      "text/plain": [
       "order_id    9310\n",
       "0             65\n",
       "dtype: int64"
      ]
     },
     "execution_count": 68,
     "metadata": {},
     "output_type": "execute_result"
    }
   ],
   "source": [
    "#ADDED BY REVIEWER\n",
    "\n",
    "missing_entries = order_products[order_products['order_id'].isin(missing_add_cart_id)]\n",
    "missing_entries.groupby('order_id').size().reset_index().min()"
   ]
  },
  {
   "cell_type": "code",
   "execution_count": 106,
   "id": "ab762dee",
   "metadata": {},
   "outputs": [
    {
     "data": {
      "text/html": [
       "<div>\n",
       "<style scoped>\n",
       "    .dataframe tbody tr th:only-of-type {\n",
       "        vertical-align: middle;\n",
       "    }\n",
       "\n",
       "    .dataframe tbody tr th {\n",
       "        vertical-align: top;\n",
       "    }\n",
       "\n",
       "    .dataframe thead th {\n",
       "        text-align: right;\n",
       "    }\n",
       "</style>\n",
       "<table border=\"1\" class=\"dataframe\">\n",
       "  <thead>\n",
       "    <tr style=\"text-align: right;\">\n",
       "      <th></th>\n",
       "      <th>order_id</th>\n",
       "      <th>order_id_counts</th>\n",
       "    </tr>\n",
       "  </thead>\n",
       "  <tbody>\n",
       "    <tr>\n",
       "      <th>0</th>\n",
       "      <td>4</td>\n",
       "      <td>13</td>\n",
       "    </tr>\n",
       "    <tr>\n",
       "      <th>1</th>\n",
       "      <td>9</td>\n",
       "      <td>15</td>\n",
       "    </tr>\n",
       "    <tr>\n",
       "      <th>2</th>\n",
       "      <td>11</td>\n",
       "      <td>5</td>\n",
       "    </tr>\n",
       "    <tr>\n",
       "      <th>3</th>\n",
       "      <td>19</td>\n",
       "      <td>3</td>\n",
       "    </tr>\n",
       "    <tr>\n",
       "      <th>4</th>\n",
       "      <td>20</td>\n",
       "      <td>8</td>\n",
       "    </tr>\n",
       "    <tr>\n",
       "      <th>...</th>\n",
       "      <td>...</td>\n",
       "      <td>...</td>\n",
       "    </tr>\n",
       "    <tr>\n",
       "      <th>450041</th>\n",
       "      <td>3421034</td>\n",
       "      <td>17</td>\n",
       "    </tr>\n",
       "    <tr>\n",
       "      <th>450042</th>\n",
       "      <td>3421053</td>\n",
       "      <td>9</td>\n",
       "    </tr>\n",
       "    <tr>\n",
       "      <th>450043</th>\n",
       "      <td>3421071</td>\n",
       "      <td>5</td>\n",
       "    </tr>\n",
       "    <tr>\n",
       "      <th>450044</th>\n",
       "      <td>3421077</td>\n",
       "      <td>4</td>\n",
       "    </tr>\n",
       "    <tr>\n",
       "      <th>450045</th>\n",
       "      <td>3421079</td>\n",
       "      <td>1</td>\n",
       "    </tr>\n",
       "  </tbody>\n",
       "</table>\n",
       "<p>450046 rows × 2 columns</p>\n",
       "</div>"
      ],
      "text/plain": [
       "        order_id  order_id_counts\n",
       "0              4               13\n",
       "1              9               15\n",
       "2             11                5\n",
       "3             19                3\n",
       "4             20                8\n",
       "...          ...              ...\n",
       "450041   3421034               17\n",
       "450042   3421053                9\n",
       "450043   3421071                5\n",
       "450044   3421077                4\n",
       "450045   3421079                1\n",
       "\n",
       "[450046 rows x 2 columns]"
      ]
     },
     "execution_count": 106,
     "metadata": {},
     "output_type": "execute_result"
    }
   ],
   "source": [
    "grouped_orders = order_products.groupby('order_id').size().reset_index(name='order_id_counts')\n",
    "grouped_orders #grouped order IDs in the order_products df to return # of times that order_id appeared in the df"
   ]
  },
  {
   "cell_type": "markdown",
   "id": "4435afe0",
   "metadata": {},
   "source": [
    "# Do all orders with missing values have more than 64 products?\n",
    "\n",
    "<div class=\"alert alert-info\"; style=\"border-left: 7px solid blue\">\n",
    "<b>The max value returned 64 in the code above for the add_to_cart_values column, so there are no orders showing more than 64.</b>\n"
   ]
  },
  {
   "cell_type": "code",
   "execution_count": 70,
   "id": "7a987d08",
   "metadata": {},
   "outputs": [
    {
     "data": {
      "text/html": [
       "<div>\n",
       "<style scoped>\n",
       "    .dataframe tbody tr th:only-of-type {\n",
       "        vertical-align: middle;\n",
       "    }\n",
       "\n",
       "    .dataframe tbody tr th {\n",
       "        vertical-align: top;\n",
       "    }\n",
       "\n",
       "    .dataframe thead th {\n",
       "        text-align: right;\n",
       "    }\n",
       "</style>\n",
       "<table border=\"1\" class=\"dataframe\">\n",
       "  <thead>\n",
       "    <tr style=\"text-align: right;\">\n",
       "      <th></th>\n",
       "      <th>order_id</th>\n",
       "      <th>product_id</th>\n",
       "      <th>add_to_cart_order</th>\n",
       "      <th>reordered</th>\n",
       "    </tr>\n",
       "  </thead>\n",
       "  <tbody>\n",
       "    <tr>\n",
       "      <th>737</th>\n",
       "      <td>2449164</td>\n",
       "      <td>5068</td>\n",
       "      <td>999</td>\n",
       "      <td>0</td>\n",
       "    </tr>\n",
       "    <tr>\n",
       "      <th>9926</th>\n",
       "      <td>1968313</td>\n",
       "      <td>43867</td>\n",
       "      <td>999</td>\n",
       "      <td>0</td>\n",
       "    </tr>\n",
       "    <tr>\n",
       "      <th>14394</th>\n",
       "      <td>2926893</td>\n",
       "      <td>11688</td>\n",
       "      <td>999</td>\n",
       "      <td>0</td>\n",
       "    </tr>\n",
       "    <tr>\n",
       "      <th>16418</th>\n",
       "      <td>1717990</td>\n",
       "      <td>4142</td>\n",
       "      <td>999</td>\n",
       "      <td>0</td>\n",
       "    </tr>\n",
       "    <tr>\n",
       "      <th>30114</th>\n",
       "      <td>1959075</td>\n",
       "      <td>42828</td>\n",
       "      <td>999</td>\n",
       "      <td>1</td>\n",
       "    </tr>\n",
       "    <tr>\n",
       "      <th>...</th>\n",
       "      <td>...</td>\n",
       "      <td>...</td>\n",
       "      <td>...</td>\n",
       "      <td>...</td>\n",
       "    </tr>\n",
       "    <tr>\n",
       "      <th>4505662</th>\n",
       "      <td>1800005</td>\n",
       "      <td>7411</td>\n",
       "      <td>999</td>\n",
       "      <td>0</td>\n",
       "    </tr>\n",
       "    <tr>\n",
       "      <th>4511400</th>\n",
       "      <td>1633337</td>\n",
       "      <td>260</td>\n",
       "      <td>999</td>\n",
       "      <td>0</td>\n",
       "    </tr>\n",
       "    <tr>\n",
       "      <th>4517562</th>\n",
       "      <td>404157</td>\n",
       "      <td>9517</td>\n",
       "      <td>999</td>\n",
       "      <td>0</td>\n",
       "    </tr>\n",
       "    <tr>\n",
       "      <th>4534112</th>\n",
       "      <td>1673227</td>\n",
       "      <td>17835</td>\n",
       "      <td>999</td>\n",
       "      <td>0</td>\n",
       "    </tr>\n",
       "    <tr>\n",
       "      <th>4535739</th>\n",
       "      <td>1832957</td>\n",
       "      <td>17949</td>\n",
       "      <td>999</td>\n",
       "      <td>1</td>\n",
       "    </tr>\n",
       "  </tbody>\n",
       "</table>\n",
       "<p>836 rows × 4 columns</p>\n",
       "</div>"
      ],
      "text/plain": [
       "         order_id  product_id  add_to_cart_order  reordered\n",
       "737       2449164        5068                999          0\n",
       "9926      1968313       43867                999          0\n",
       "14394     2926893       11688                999          0\n",
       "16418     1717990        4142                999          0\n",
       "30114     1959075       42828                999          1\n",
       "...           ...         ...                ...        ...\n",
       "4505662   1800005        7411                999          0\n",
       "4511400   1633337         260                999          0\n",
       "4517562    404157        9517                999          0\n",
       "4534112   1673227       17835                999          0\n",
       "4535739   1832957       17949                999          1\n",
       "\n",
       "[836 rows x 4 columns]"
      ]
     },
     "execution_count": 70,
     "metadata": {},
     "output_type": "execute_result"
    }
   ],
   "source": [
    "# Replace missing values with 999 and convert column to integer type\n",
    "missing_add_cart_filled = missing_add_cart.fillna(999).astype(int) #i took the df with he missing add_to_cart_order and replaced the NaN values with '999' and made the entire column ints\n",
    "missing_add_cart_filled"
   ]
  },
  {
   "cell_type": "markdown",
   "id": "short-capability",
   "metadata": {},
   "source": [
    "### Verify that the `'order_hour_of_day'` and `'order_dow'` values in the `orders` tables are sensible (i.e. `'order_hour_of_day'` ranges from 0 to 23 and `'order_dow'` ranges from 0 to 6)"
   ]
  },
  {
   "cell_type": "code",
   "execution_count": 71,
   "id": "growing-fruit",
   "metadata": {},
   "outputs": [
    {
     "data": {
      "text/plain": [
       "count    478967.000000\n",
       "mean         13.446676\n",
       "std           4.224986\n",
       "min           0.000000\n",
       "25%          10.000000\n",
       "50%          13.000000\n",
       "75%          16.000000\n",
       "max          23.000000\n",
       "Name: order_hour_of_day, dtype: float64"
      ]
     },
     "execution_count": 71,
     "metadata": {},
     "output_type": "execute_result"
    }
   ],
   "source": [
    "orders['order_hour_of_day'].describe() #i used describe to show me min/max and found that food was ordered all hours of the day"
   ]
  },
  {
   "cell_type": "code",
   "execution_count": 72,
   "id": "accessory-malaysia",
   "metadata": {},
   "outputs": [
    {
     "data": {
      "text/plain": [
       "count    478967.000000\n",
       "mean          2.775058\n",
       "std           2.045869\n",
       "min           0.000000\n",
       "25%           1.000000\n",
       "50%           3.000000\n",
       "75%           5.000000\n",
       "max           6.000000\n",
       "Name: order_dow, dtype: float64"
      ]
     },
     "execution_count": 72,
     "metadata": {},
     "output_type": "execute_result"
    }
   ],
   "source": [
    "orders['order_dow'].describe() #i used describe to show me min/max and found out that items were ordered sunday thru saturday"
   ]
  },
  {
   "cell_type": "markdown",
   "id": "32d866f8",
   "metadata": {},
   "source": [
    "<div class=\"alert alert-info\"; style=\"border-left: 7px solid blue\">\n",
    "<b>From the info gathered here seems food is ordered all days of the week and any hour of the day, so that data is sensible. The average time is around 1pm (average) and on a Wednesday (median bc i can't have a 2.7 day in this instance)</b>\n"
   ]
  },
  {
   "cell_type": "markdown",
   "id": "a6743a70",
   "metadata": {},
   "source": [
    "### What time of day do people shop for groceries?"
   ]
  },
  {
   "cell_type": "code",
   "execution_count": 107,
   "id": "bde91f68",
   "metadata": {},
   "outputs": [
    {
     "data": {
      "text/html": [
       "<div>\n",
       "<style scoped>\n",
       "    .dataframe tbody tr th:only-of-type {\n",
       "        vertical-align: middle;\n",
       "    }\n",
       "\n",
       "    .dataframe tbody tr th {\n",
       "        vertical-align: top;\n",
       "    }\n",
       "\n",
       "    .dataframe thead th {\n",
       "        text-align: right;\n",
       "    }\n",
       "</style>\n",
       "<table border=\"1\" class=\"dataframe\">\n",
       "  <thead>\n",
       "    <tr style=\"text-align: right;\">\n",
       "      <th></th>\n",
       "      <th>order_id</th>\n",
       "      <th>user_id</th>\n",
       "      <th>order_number</th>\n",
       "      <th>order_dow</th>\n",
       "      <th>order_hour_of_day</th>\n",
       "      <th>days_since_prior_order</th>\n",
       "    </tr>\n",
       "  </thead>\n",
       "  <tbody>\n",
       "    <tr>\n",
       "      <th>0</th>\n",
       "      <td>1515936</td>\n",
       "      <td>183418</td>\n",
       "      <td>11</td>\n",
       "      <td>6</td>\n",
       "      <td>13</td>\n",
       "      <td>30</td>\n",
       "    </tr>\n",
       "    <tr>\n",
       "      <th>1</th>\n",
       "      <td>1690866</td>\n",
       "      <td>163593</td>\n",
       "      <td>5</td>\n",
       "      <td>5</td>\n",
       "      <td>12</td>\n",
       "      <td>9</td>\n",
       "    </tr>\n",
       "    <tr>\n",
       "      <th>2</th>\n",
       "      <td>1454967</td>\n",
       "      <td>39980</td>\n",
       "      <td>4</td>\n",
       "      <td>5</td>\n",
       "      <td>19</td>\n",
       "      <td>2</td>\n",
       "    </tr>\n",
       "    <tr>\n",
       "      <th>3</th>\n",
       "      <td>1768857</td>\n",
       "      <td>82516</td>\n",
       "      <td>56</td>\n",
       "      <td>0</td>\n",
       "      <td>20</td>\n",
       "      <td>10</td>\n",
       "    </tr>\n",
       "    <tr>\n",
       "      <th>4</th>\n",
       "      <td>3007858</td>\n",
       "      <td>196724</td>\n",
       "      <td>2</td>\n",
       "      <td>4</td>\n",
       "      <td>12</td>\n",
       "      <td>17</td>\n",
       "    </tr>\n",
       "  </tbody>\n",
       "</table>\n",
       "</div>"
      ],
      "text/plain": [
       "   order_id  user_id  order_number  order_dow  order_hour_of_day  \\\n",
       "0   1515936   183418            11          6                 13   \n",
       "1   1690866   163593             5          5                 12   \n",
       "2   1454967    39980             4          5                 19   \n",
       "3   1768857    82516            56          0                 20   \n",
       "4   3007858   196724             2          4                 12   \n",
       "\n",
       "   days_since_prior_order  \n",
       "0                      30  \n",
       "1                       9  \n",
       "2                       2  \n",
       "3                      10  \n",
       "4                      17  "
      ]
     },
     "execution_count": 107,
     "metadata": {},
     "output_type": "execute_result"
    }
   ],
   "source": [
    "orders.head()"
   ]
  },
  {
   "cell_type": "code",
   "execution_count": 74,
   "id": "a36cca27",
   "metadata": {},
   "outputs": [
    {
     "data": {
      "text/plain": [
       "order_hour_of_day\n",
       "0      3180\n",
       "1      1763\n",
       "2      1004\n",
       "3       770\n",
       "4       765\n",
       "5      1371\n",
       "6      4215\n",
       "7     13043\n",
       "8     25024\n",
       "9     35896\n",
       "10    40578\n",
       "11    40032\n",
       "12    38034\n",
       "13    39007\n",
       "14    39631\n",
       "15    39789\n",
       "16    38112\n",
       "17    31930\n",
       "18    25510\n",
       "19    19547\n",
       "20    14624\n",
       "21    11019\n",
       "22     8512\n",
       "23     5611\n",
       "Name: count, dtype: int64"
      ]
     },
     "execution_count": 74,
     "metadata": {},
     "output_type": "execute_result"
    }
   ],
   "source": [
    "shopping_time = orders['order_hour_of_day'].value_counts().sort_index() #i looked at shopping time using value counts, it looks like the time most ppl shop is at 10am\n",
    "shopping_time #this is telling me that the people shop for groceries the most around 10am, while the average was 1pm."
   ]
  },
  {
   "cell_type": "code",
   "execution_count": 75,
   "id": "72375512",
   "metadata": {},
   "outputs": [
    {
     "data": {
      "image/png": "[encoded data removed]",
      "text/plain": [
       "<Figure size 640x480 with 1 Axes>"
      ]
     },
     "metadata": {},
     "output_type": "display_data"
    }
   ],
   "source": [
    "shopping_time.plot(\n",
    "xlabel='Time of Day',\n",
    "ylabel='Frequency',\n",
    "kind='bar',\n",
    "title='Time of Day People Shop for Groceries')\n",
    "plt.show()"
   ]
  },
  {
   "cell_type": "markdown",
   "id": "documented-command",
   "metadata": {},
   "source": [
    "### What day of the week do people shop for groceries?"
   ]
  },
  {
   "cell_type": "code",
   "execution_count": 76,
   "id": "chief-digit",
   "metadata": {},
   "outputs": [
    {
     "data": {
      "text/plain": [
       "order_dow\n",
       "0    84090\n",
       "1    82185\n",
       "2    65833\n",
       "3    60912\n",
       "4    59810\n",
       "5    63488\n",
       "6    62649\n",
       "Name: count, dtype: int64"
      ]
     },
     "execution_count": 76,
     "metadata": {},
     "output_type": "execute_result"
    }
   ],
   "source": [
    "shopping_day = orders['order_dow'].value_counts().sort_index() #i did the same thing with dow and came up with Sunday\n",
    "shopping_day"
   ]
  },
  {
   "cell_type": "code",
   "execution_count": 77,
   "id": "9fe0c6ae",
   "metadata": {},
   "outputs": [
    {
     "data": {
      "image/png": "[encoded data removed]",
      "text/plain": [
       "<Figure size 640x480 with 1 Axes>"
      ]
     },
     "metadata": {},
     "output_type": "display_data"
    }
   ],
   "source": [
    "shopping_day.plot(\n",
    "kind='bar',\n",
    "xlabel='Order Day of Week',\n",
    "ylabel='Frequency',\n",
    "title='Day of Week People Shop for Groceries')\n",
    "plt.show()"
   ]
  },
  {
   "cell_type": "markdown",
   "id": "cutting-concert",
   "metadata": {},
   "source": [
    "### How long do people wait until placing another order?"
   ]
  },
  {
   "cell_type": "code",
   "execution_count": 78,
   "id": "c231f523",
   "metadata": {},
   "outputs": [
    {
     "data": {
      "text/plain": [
       "11.101750979677794"
      ]
     },
     "execution_count": 78,
     "metadata": {},
     "output_type": "execute_result"
    }
   ],
   "source": [
    "another_order = orders['days_since_prior_order'].mean() #i took the average of the days_since_prior_order column to give me an idea of when people are placing orders again\n",
    "another_order"
   ]
  },
  {
   "cell_type": "code",
   "execution_count": 108,
   "id": "cc4a622a",
   "metadata": {},
   "outputs": [
    {
     "data": {
      "image/png": "[encoded data removed]",
      "text/plain": [
       "<Figure size 640x480 with 1 Axes>"
      ]
     },
     "metadata": {},
     "output_type": "display_data"
    }
   ],
   "source": [
    "orders['days_since_prior_order'].plot(kind='hist',\n",
    "           title='Amount of Days Before Another Order', bins=31)\n",
    "plt.ylabel('Frequency')\n",
    "plt.show() #according to this plot most reorders occur within 10 days"
   ]
  },
  {
   "cell_type": "markdown",
   "id": "packed-classic",
   "metadata": {},
   "source": [
    "### Is there a difference in `'order_hour_of_day'` distributions on Wednesdays and Saturdays?"
   ]
  },
  {
   "cell_type": "code",
   "execution_count": 81,
   "id": "d89b8403",
   "metadata": {},
   "outputs": [
    {
     "data": {
      "text/plain": [
       "6      8\n",
       "16    15\n",
       "28    10\n",
       "30    15\n",
       "35    19\n",
       "Name: order_hour_of_day, dtype: int64"
      ]
     },
     "execution_count": 81,
     "metadata": {},
     "output_type": "execute_result"
    }
   ],
   "source": [
    "wednesday_data = orders[orders['order_dow'] == 3]['order_hour_of_day'] \n",
    "saturday_data = orders[orders['order_dow'] == 6]['order_hour_of_day']\n",
    "wednesday_data.head()"
   ]
  },
  {
   "cell_type": "code",
   "execution_count": 82,
   "id": "94e54e8a",
   "metadata": {},
   "outputs": [
    {
     "data": {
      "image/png": "[encoded data removed]",
      "text/plain": [
       "<Figure size 640x480 with 1 Axes>"
      ]
     },
     "metadata": {},
     "output_type": "display_data"
    }
   ],
   "source": [
    "wednesday_data.plot(kind='hist', bins=24, alpha=0.6, title=\"Order Hour of Day Comparison\")\n",
    "\n",
    "plt.show() "
   ]
  },
  {
   "cell_type": "code",
   "execution_count": 83,
   "id": "797c90a8",
   "metadata": {},
   "outputs": [
    {
     "data": {
      "text/plain": [
       "<Axes: ylabel='Frequency'>"
      ]
     },
     "execution_count": 83,
     "metadata": {},
     "output_type": "execute_result"
    },
    {
     "data": {
      "image/png": "[encoded data removed]",
      "text/plain": [
       "<Figure size 640x480 with 1 Axes>"
      ]
     },
     "metadata": {},
     "output_type": "display_data"
    }
   ],
   "source": [
    "saturday_data.plot(kind='hist', bins=24)"
   ]
  },
  {
   "cell_type": "code",
   "execution_count": 84,
   "id": "35bcea30",
   "metadata": {},
   "outputs": [
    {
     "data": {
      "image/png": "[encoded data removed]",
      "text/plain": [
       "<Figure size 640x480 with 1 Axes>"
      ]
     },
     "metadata": {},
     "output_type": "display_data"
    }
   ],
   "source": [
    "wednesday_data.plot(kind='hist', bins=24, title=\"Order Hour of Day Comparison\")\n",
    "saturday_data.plot(kind='hist', bins=24, alpha=0.5)\n",
    "plt.legend(['Wed', 'Sat'])\n",
    "plt.xlabel('Hour of Day ')\n",
    "plt.show() #there doesn't look like much of a difference between wednesday and saturday except on Saturdays between 11am and 2pm."
   ]
  },
  {
   "cell_type": "markdown",
   "id": "c0fb94f5",
   "metadata": {},
   "source": [
    "<div class=\"alert alert-info\"; style=\"border-left: 7px solid blue\">\n",
    "<b>There's not much difference other than on Saturday's the number of shoppers tends to pick up between 11am-2pm.</b>\n"
   ]
  },
  {
   "cell_type": "code",
   "execution_count": 85,
   "id": "895aa397",
   "metadata": {},
   "outputs": [
    {
     "data": {
      "text/html": [
       "<div>\n",
       "<style scoped>\n",
       "    .dataframe tbody tr th:only-of-type {\n",
       "        vertical-align: middle;\n",
       "    }\n",
       "\n",
       "    .dataframe tbody tr th {\n",
       "        vertical-align: top;\n",
       "    }\n",
       "\n",
       "    .dataframe thead th {\n",
       "        text-align: right;\n",
       "    }\n",
       "</style>\n",
       "<table border=\"1\" class=\"dataframe\">\n",
       "  <thead>\n",
       "    <tr style=\"text-align: right;\">\n",
       "      <th></th>\n",
       "      <th>order_id</th>\n",
       "      <th>user_id</th>\n",
       "      <th>order_number</th>\n",
       "      <th>order_dow</th>\n",
       "      <th>order_hour_of_day</th>\n",
       "      <th>days_since_prior_order</th>\n",
       "    </tr>\n",
       "  </thead>\n",
       "  <tbody>\n",
       "    <tr>\n",
       "      <th>0</th>\n",
       "      <td>1515936</td>\n",
       "      <td>183418</td>\n",
       "      <td>11</td>\n",
       "      <td>6</td>\n",
       "      <td>13</td>\n",
       "      <td>30</td>\n",
       "    </tr>\n",
       "    <tr>\n",
       "      <th>1</th>\n",
       "      <td>1690866</td>\n",
       "      <td>163593</td>\n",
       "      <td>5</td>\n",
       "      <td>5</td>\n",
       "      <td>12</td>\n",
       "      <td>9</td>\n",
       "    </tr>\n",
       "    <tr>\n",
       "      <th>2</th>\n",
       "      <td>1454967</td>\n",
       "      <td>39980</td>\n",
       "      <td>4</td>\n",
       "      <td>5</td>\n",
       "      <td>19</td>\n",
       "      <td>2</td>\n",
       "    </tr>\n",
       "    <tr>\n",
       "      <th>3</th>\n",
       "      <td>1768857</td>\n",
       "      <td>82516</td>\n",
       "      <td>56</td>\n",
       "      <td>0</td>\n",
       "      <td>20</td>\n",
       "      <td>10</td>\n",
       "    </tr>\n",
       "    <tr>\n",
       "      <th>4</th>\n",
       "      <td>3007858</td>\n",
       "      <td>196724</td>\n",
       "      <td>2</td>\n",
       "      <td>4</td>\n",
       "      <td>12</td>\n",
       "      <td>17</td>\n",
       "    </tr>\n",
       "  </tbody>\n",
       "</table>\n",
       "</div>"
      ],
      "text/plain": [
       "   order_id  user_id  order_number  order_dow  order_hour_of_day  \\\n",
       "0   1515936   183418            11          6                 13   \n",
       "1   1690866   163593             5          5                 12   \n",
       "2   1454967    39980             4          5                 19   \n",
       "3   1768857    82516            56          0                 20   \n",
       "4   3007858   196724             2          4                 12   \n",
       "\n",
       "   days_since_prior_order  \n",
       "0                      30  \n",
       "1                       9  \n",
       "2                       2  \n",
       "3                      10  \n",
       "4                      17  "
      ]
     },
     "execution_count": 85,
     "metadata": {},
     "output_type": "execute_result"
    }
   ],
   "source": [
    "orders.head()"
   ]
  },
  {
   "cell_type": "markdown",
   "id": "e3891143",
   "metadata": {},
   "source": [
    "### What's the distribution for the number of orders per customer?"
   ]
  },
  {
   "cell_type": "code",
   "execution_count": 86,
   "id": "d8c26c23",
   "metadata": {},
   "outputs": [
    {
     "data": {
      "text/plain": [
       "<pandas.core.groupby.generic.SeriesGroupBy object at 0x141e39790>"
      ]
     },
     "execution_count": 86,
     "metadata": {},
     "output_type": "execute_result"
    }
   ],
   "source": [
    "orders_per_cust = orders.groupby('user_id').size().reset_index(name='order_count') #with this line of code i looked at seeing how many orders each customer has placed using their user_id\n",
    "orders_per_cust\n",
    "orders_per_cust_group = orders_per_cust.groupby('user_id')['order_count']\n",
    "orders_per_cust_group"
   ]
  },
  {
   "cell_type": "code",
   "execution_count": 87,
   "id": "00e69a66",
   "metadata": {},
   "outputs": [
    {
     "data": {
      "image/png": "[encoded data removed]",
      "text/plain": [
       "<Figure size 640x480 with 1 Axes>"
      ]
     },
     "metadata": {},
     "output_type": "display_data"
    }
   ],
   "source": [
    "orders_per_cust['order_count'].plot(kind='hist', bins=25, title='Distribution of Orders per Customer')\n",
    "plt.xlabel('Number of Orders')\n",
    "plt.show()"
   ]
  },
  {
   "cell_type": "markdown",
   "id": "d2eff7d5",
   "metadata": {},
   "source": []
  },
  {
   "cell_type": "markdown",
   "id": "639082e2",
   "metadata": {},
   "source": [
    "<div class=\"alert alert-info\"; style=\"border-left: 7px solid blue\">\n",
    "<b>Majority of people place 1 or maybe 2 orders</b>"
   ]
  },
  {
   "cell_type": "markdown",
   "id": "54a0319c",
   "metadata": {},
   "source": [
    "### What are the top 20 popular products (display their id and name)?"
   ]
  },
  {
   "cell_type": "code",
   "execution_count": 88,
   "id": "exterior-arizona",
   "metadata": {
    "scrolled": true
   },
   "outputs": [
    {
     "data": {
      "text/html": [
       "<div>\n",
       "<style scoped>\n",
       "    .dataframe tbody tr th:only-of-type {\n",
       "        vertical-align: middle;\n",
       "    }\n",
       "\n",
       "    .dataframe tbody tr th {\n",
       "        vertical-align: top;\n",
       "    }\n",
       "\n",
       "    .dataframe thead th {\n",
       "        text-align: right;\n",
       "    }\n",
       "</style>\n",
       "<table border=\"1\" class=\"dataframe\">\n",
       "  <thead>\n",
       "    <tr style=\"text-align: right;\">\n",
       "      <th></th>\n",
       "      <th>product_id</th>\n",
       "      <th>product_name</th>\n",
       "      <th>aisle_id</th>\n",
       "      <th>department_id</th>\n",
       "    </tr>\n",
       "  </thead>\n",
       "  <tbody>\n",
       "    <tr>\n",
       "      <th>0</th>\n",
       "      <td>1</td>\n",
       "      <td>Chocolate Sandwich Cookies</td>\n",
       "      <td>61</td>\n",
       "      <td>19</td>\n",
       "    </tr>\n",
       "    <tr>\n",
       "      <th>1</th>\n",
       "      <td>2</td>\n",
       "      <td>All-Seasons Salt</td>\n",
       "      <td>104</td>\n",
       "      <td>13</td>\n",
       "    </tr>\n",
       "    <tr>\n",
       "      <th>2</th>\n",
       "      <td>3</td>\n",
       "      <td>Robust Golden Unsweetened Oolong Tea</td>\n",
       "      <td>94</td>\n",
       "      <td>7</td>\n",
       "    </tr>\n",
       "    <tr>\n",
       "      <th>3</th>\n",
       "      <td>4</td>\n",
       "      <td>Smart Ones Classic Favorites Mini Rigatoni Wit...</td>\n",
       "      <td>38</td>\n",
       "      <td>1</td>\n",
       "    </tr>\n",
       "    <tr>\n",
       "      <th>4</th>\n",
       "      <td>5</td>\n",
       "      <td>Green Chile Anytime Sauce</td>\n",
       "      <td>5</td>\n",
       "      <td>13</td>\n",
       "    </tr>\n",
       "  </tbody>\n",
       "</table>\n",
       "</div>"
      ],
      "text/plain": [
       "   product_id                                       product_name  aisle_id  \\\n",
       "0           1                         Chocolate Sandwich Cookies        61   \n",
       "1           2                                   All-Seasons Salt       104   \n",
       "2           3               Robust Golden Unsweetened Oolong Tea        94   \n",
       "3           4  Smart Ones Classic Favorites Mini Rigatoni Wit...        38   \n",
       "4           5                          Green Chile Anytime Sauce         5   \n",
       "\n",
       "   department_id  \n",
       "0             19  \n",
       "1             13  \n",
       "2              7  \n",
       "3              1  \n",
       "4             13  "
      ]
     },
     "execution_count": 88,
     "metadata": {},
     "output_type": "execute_result"
    }
   ],
   "source": [
    "products.head()"
   ]
  },
  {
   "cell_type": "code",
   "execution_count": 89,
   "id": "universal-facial",
   "metadata": {},
   "outputs": [
    {
     "data": {
      "text/html": [
       "<div>\n",
       "<style scoped>\n",
       "    .dataframe tbody tr th:only-of-type {\n",
       "        vertical-align: middle;\n",
       "    }\n",
       "\n",
       "    .dataframe tbody tr th {\n",
       "        vertical-align: top;\n",
       "    }\n",
       "\n",
       "    .dataframe thead th {\n",
       "        text-align: right;\n",
       "    }\n",
       "</style>\n",
       "<table border=\"1\" class=\"dataframe\">\n",
       "  <thead>\n",
       "    <tr style=\"text-align: right;\">\n",
       "      <th></th>\n",
       "      <th>order_id</th>\n",
       "      <th>product_id</th>\n",
       "      <th>add_to_cart_order</th>\n",
       "      <th>reordered</th>\n",
       "    </tr>\n",
       "  </thead>\n",
       "  <tbody>\n",
       "    <tr>\n",
       "      <th>0</th>\n",
       "      <td>2141543</td>\n",
       "      <td>11440</td>\n",
       "      <td>17</td>\n",
       "      <td>0</td>\n",
       "    </tr>\n",
       "    <tr>\n",
       "      <th>1</th>\n",
       "      <td>567889</td>\n",
       "      <td>1560</td>\n",
       "      <td>1</td>\n",
       "      <td>1</td>\n",
       "    </tr>\n",
       "    <tr>\n",
       "      <th>2</th>\n",
       "      <td>2261212</td>\n",
       "      <td>26683</td>\n",
       "      <td>1</td>\n",
       "      <td>1</td>\n",
       "    </tr>\n",
       "    <tr>\n",
       "      <th>3</th>\n",
       "      <td>491251</td>\n",
       "      <td>8670</td>\n",
       "      <td>35</td>\n",
       "      <td>1</td>\n",
       "    </tr>\n",
       "    <tr>\n",
       "      <th>4</th>\n",
       "      <td>2571142</td>\n",
       "      <td>1940</td>\n",
       "      <td>5</td>\n",
       "      <td>1</td>\n",
       "    </tr>\n",
       "  </tbody>\n",
       "</table>\n",
       "</div>"
      ],
      "text/plain": [
       "   order_id  product_id  add_to_cart_order  reordered\n",
       "0   2141543       11440                 17          0\n",
       "1    567889        1560                  1          1\n",
       "2   2261212       26683                  1          1\n",
       "3    491251        8670                 35          1\n",
       "4   2571142        1940                  5          1"
      ]
     },
     "execution_count": 89,
     "metadata": {},
     "output_type": "execute_result"
    }
   ],
   "source": [
    "order_products.head()"
   ]
  },
  {
   "cell_type": "code",
   "execution_count": 90,
   "id": "bbcdd20b",
   "metadata": {},
   "outputs": [
    {
     "data": {
      "text/html": [
       "<div>\n",
       "<style scoped>\n",
       "    .dataframe tbody tr th:only-of-type {\n",
       "        vertical-align: middle;\n",
       "    }\n",
       "\n",
       "    .dataframe tbody tr th {\n",
       "        vertical-align: top;\n",
       "    }\n",
       "\n",
       "    .dataframe thead th {\n",
       "        text-align: right;\n",
       "    }\n",
       "</style>\n",
       "<table border=\"1\" class=\"dataframe\">\n",
       "  <thead>\n",
       "    <tr style=\"text-align: right;\">\n",
       "      <th></th>\n",
       "      <th>product_id</th>\n",
       "      <th>count</th>\n",
       "    </tr>\n",
       "  </thead>\n",
       "  <tbody>\n",
       "    <tr>\n",
       "      <th>0</th>\n",
       "      <td>24852</td>\n",
       "      <td>66050</td>\n",
       "    </tr>\n",
       "    <tr>\n",
       "      <th>1</th>\n",
       "      <td>13176</td>\n",
       "      <td>53297</td>\n",
       "    </tr>\n",
       "    <tr>\n",
       "      <th>2</th>\n",
       "      <td>21137</td>\n",
       "      <td>37039</td>\n",
       "    </tr>\n",
       "    <tr>\n",
       "      <th>3</th>\n",
       "      <td>21903</td>\n",
       "      <td>33971</td>\n",
       "    </tr>\n",
       "    <tr>\n",
       "      <th>4</th>\n",
       "      <td>47209</td>\n",
       "      <td>29773</td>\n",
       "    </tr>\n",
       "    <tr>\n",
       "      <th>5</th>\n",
       "      <td>47766</td>\n",
       "      <td>24689</td>\n",
       "    </tr>\n",
       "    <tr>\n",
       "      <th>6</th>\n",
       "      <td>47626</td>\n",
       "      <td>21495</td>\n",
       "    </tr>\n",
       "    <tr>\n",
       "      <th>7</th>\n",
       "      <td>16797</td>\n",
       "      <td>20018</td>\n",
       "    </tr>\n",
       "    <tr>\n",
       "      <th>8</th>\n",
       "      <td>26209</td>\n",
       "      <td>19690</td>\n",
       "    </tr>\n",
       "    <tr>\n",
       "      <th>9</th>\n",
       "      <td>27845</td>\n",
       "      <td>19600</td>\n",
       "    </tr>\n",
       "    <tr>\n",
       "      <th>10</th>\n",
       "      <td>27966</td>\n",
       "      <td>19197</td>\n",
       "    </tr>\n",
       "    <tr>\n",
       "      <th>11</th>\n",
       "      <td>22935</td>\n",
       "      <td>15898</td>\n",
       "    </tr>\n",
       "    <tr>\n",
       "      <th>12</th>\n",
       "      <td>24964</td>\n",
       "      <td>15292</td>\n",
       "    </tr>\n",
       "    <tr>\n",
       "      <th>13</th>\n",
       "      <td>45007</td>\n",
       "      <td>14584</td>\n",
       "    </tr>\n",
       "    <tr>\n",
       "      <th>14</th>\n",
       "      <td>39275</td>\n",
       "      <td>13879</td>\n",
       "    </tr>\n",
       "    <tr>\n",
       "      <th>15</th>\n",
       "      <td>49683</td>\n",
       "      <td>13675</td>\n",
       "    </tr>\n",
       "    <tr>\n",
       "      <th>16</th>\n",
       "      <td>28204</td>\n",
       "      <td>12544</td>\n",
       "    </tr>\n",
       "    <tr>\n",
       "      <th>17</th>\n",
       "      <td>5876</td>\n",
       "      <td>12232</td>\n",
       "    </tr>\n",
       "    <tr>\n",
       "      <th>18</th>\n",
       "      <td>8277</td>\n",
       "      <td>11993</td>\n",
       "    </tr>\n",
       "    <tr>\n",
       "      <th>19</th>\n",
       "      <td>40706</td>\n",
       "      <td>11781</td>\n",
       "    </tr>\n",
       "  </tbody>\n",
       "</table>\n",
       "</div>"
      ],
      "text/plain": [
       "    product_id  count\n",
       "0        24852  66050\n",
       "1        13176  53297\n",
       "2        21137  37039\n",
       "3        21903  33971\n",
       "4        47209  29773\n",
       "5        47766  24689\n",
       "6        47626  21495\n",
       "7        16797  20018\n",
       "8        26209  19690\n",
       "9        27845  19600\n",
       "10       27966  19197\n",
       "11       22935  15898\n",
       "12       24964  15292\n",
       "13       45007  14584\n",
       "14       39275  13879\n",
       "15       49683  13675\n",
       "16       28204  12544\n",
       "17        5876  12232\n",
       "18        8277  11993\n",
       "19       40706  11781"
      ]
     },
     "execution_count": 90,
     "metadata": {},
     "output_type": "execute_result"
    }
   ],
   "source": [
    "product_count = order_products['product_id'].value_counts().reset_index() #every product has an id (product_id) and in order_products it shows how many times that product was ordered. so i took the product_id and used value_counts to see the number of occurrences\n",
    "product_count.columns = ['product_id', 'count'] #then i assigned the variable columns\n",
    "product_count.head(20) #and returned the top 20 items ordered"
   ]
  },
  {
   "cell_type": "code",
   "execution_count": 91,
   "id": "2aeea697",
   "metadata": {},
   "outputs": [
    {
     "data": {
      "text/html": [
       "<div>\n",
       "<style scoped>\n",
       "    .dataframe tbody tr th:only-of-type {\n",
       "        vertical-align: middle;\n",
       "    }\n",
       "\n",
       "    .dataframe tbody tr th {\n",
       "        vertical-align: top;\n",
       "    }\n",
       "\n",
       "    .dataframe thead th {\n",
       "        text-align: right;\n",
       "    }\n",
       "</style>\n",
       "<table border=\"1\" class=\"dataframe\">\n",
       "  <thead>\n",
       "    <tr style=\"text-align: right;\">\n",
       "      <th></th>\n",
       "      <th>product_id</th>\n",
       "      <th>count</th>\n",
       "      <th>product_name</th>\n",
       "    </tr>\n",
       "  </thead>\n",
       "  <tbody>\n",
       "    <tr>\n",
       "      <th>0</th>\n",
       "      <td>24852</td>\n",
       "      <td>66050</td>\n",
       "      <td>Banana</td>\n",
       "    </tr>\n",
       "    <tr>\n",
       "      <th>1</th>\n",
       "      <td>13176</td>\n",
       "      <td>53297</td>\n",
       "      <td>Bag of Organic Bananas</td>\n",
       "    </tr>\n",
       "    <tr>\n",
       "      <th>2</th>\n",
       "      <td>21137</td>\n",
       "      <td>37039</td>\n",
       "      <td>Organic Strawberries</td>\n",
       "    </tr>\n",
       "    <tr>\n",
       "      <th>3</th>\n",
       "      <td>21903</td>\n",
       "      <td>33971</td>\n",
       "      <td>Organic Baby Spinach</td>\n",
       "    </tr>\n",
       "    <tr>\n",
       "      <th>4</th>\n",
       "      <td>47209</td>\n",
       "      <td>29773</td>\n",
       "      <td>Organic Hass Avocado</td>\n",
       "    </tr>\n",
       "    <tr>\n",
       "      <th>5</th>\n",
       "      <td>47766</td>\n",
       "      <td>24689</td>\n",
       "      <td>Organic Avocado</td>\n",
       "    </tr>\n",
       "    <tr>\n",
       "      <th>6</th>\n",
       "      <td>47626</td>\n",
       "      <td>21495</td>\n",
       "      <td>Large Lemon</td>\n",
       "    </tr>\n",
       "    <tr>\n",
       "      <th>7</th>\n",
       "      <td>16797</td>\n",
       "      <td>20018</td>\n",
       "      <td>Strawberries</td>\n",
       "    </tr>\n",
       "    <tr>\n",
       "      <th>8</th>\n",
       "      <td>26209</td>\n",
       "      <td>19690</td>\n",
       "      <td>Limes</td>\n",
       "    </tr>\n",
       "    <tr>\n",
       "      <th>9</th>\n",
       "      <td>27845</td>\n",
       "      <td>19600</td>\n",
       "      <td>Organic Whole Milk</td>\n",
       "    </tr>\n",
       "    <tr>\n",
       "      <th>10</th>\n",
       "      <td>27966</td>\n",
       "      <td>19197</td>\n",
       "      <td>Organic Raspberries</td>\n",
       "    </tr>\n",
       "    <tr>\n",
       "      <th>11</th>\n",
       "      <td>22935</td>\n",
       "      <td>15898</td>\n",
       "      <td>Organic Yellow Onion</td>\n",
       "    </tr>\n",
       "    <tr>\n",
       "      <th>12</th>\n",
       "      <td>24964</td>\n",
       "      <td>15292</td>\n",
       "      <td>Organic Garlic</td>\n",
       "    </tr>\n",
       "    <tr>\n",
       "      <th>13</th>\n",
       "      <td>45007</td>\n",
       "      <td>14584</td>\n",
       "      <td>Organic Zucchini</td>\n",
       "    </tr>\n",
       "    <tr>\n",
       "      <th>14</th>\n",
       "      <td>39275</td>\n",
       "      <td>13879</td>\n",
       "      <td>Organic Blueberries</td>\n",
       "    </tr>\n",
       "    <tr>\n",
       "      <th>15</th>\n",
       "      <td>49683</td>\n",
       "      <td>13675</td>\n",
       "      <td>Cucumber Kirby</td>\n",
       "    </tr>\n",
       "    <tr>\n",
       "      <th>16</th>\n",
       "      <td>28204</td>\n",
       "      <td>12544</td>\n",
       "      <td>Organic Fuji Apple</td>\n",
       "    </tr>\n",
       "    <tr>\n",
       "      <th>17</th>\n",
       "      <td>5876</td>\n",
       "      <td>12232</td>\n",
       "      <td>Organic Lemon</td>\n",
       "    </tr>\n",
       "    <tr>\n",
       "      <th>18</th>\n",
       "      <td>8277</td>\n",
       "      <td>11993</td>\n",
       "      <td>Apple Honeycrisp Organic</td>\n",
       "    </tr>\n",
       "    <tr>\n",
       "      <th>19</th>\n",
       "      <td>40706</td>\n",
       "      <td>11781</td>\n",
       "      <td>Organic Grape Tomatoes</td>\n",
       "    </tr>\n",
       "  </tbody>\n",
       "</table>\n",
       "</div>"
      ],
      "text/plain": [
       "    product_id  count              product_name\n",
       "0        24852  66050                    Banana\n",
       "1        13176  53297    Bag of Organic Bananas\n",
       "2        21137  37039      Organic Strawberries\n",
       "3        21903  33971      Organic Baby Spinach\n",
       "4        47209  29773      Organic Hass Avocado\n",
       "5        47766  24689           Organic Avocado\n",
       "6        47626  21495               Large Lemon\n",
       "7        16797  20018              Strawberries\n",
       "8        26209  19690                     Limes\n",
       "9        27845  19600        Organic Whole Milk\n",
       "10       27966  19197       Organic Raspberries\n",
       "11       22935  15898      Organic Yellow Onion\n",
       "12       24964  15292            Organic Garlic\n",
       "13       45007  14584          Organic Zucchini\n",
       "14       39275  13879       Organic Blueberries\n",
       "15       49683  13675            Cucumber Kirby\n",
       "16       28204  12544        Organic Fuji Apple\n",
       "17        5876  12232             Organic Lemon\n",
       "18        8277  11993  Apple Honeycrisp Organic\n",
       "19       40706  11781    Organic Grape Tomatoes"
      ]
     },
     "execution_count": 91,
     "metadata": {},
     "output_type": "execute_result"
    }
   ],
   "source": [
    "top_products = product_count.merge(products[['product_id', 'product_name']], on='product_id') #i took two dfs and merged them on the product_id key. the one i just created above and the products df\n",
    "top_20 = top_products.head(20) #i created a variable for top 20 so that i can just call on that variable\n",
    "top_20"
   ]
  },
  {
   "cell_type": "markdown",
   "id": "5e6b5537",
   "metadata": {},
   "source": [
    "### What are the top 20 items that are reordered most frequently (display their names and product IDs)?"
   ]
  },
  {
   "cell_type": "code",
   "execution_count": 92,
   "id": "9374e55a",
   "metadata": {},
   "outputs": [],
   "source": [
    "reordered = order_products[order_products['reordered'] == 1] #i filtered for the reordered products using boolean\n",
    "reordered_count = reordered['product_id'].value_counts().reset_index() #took the reordered_count variable and used value_coutns to total number of occurrences of each product\n",
    "reordered_count.columns = ['product_id', 'reordered_count'] #created columns for the new df i just created"
   ]
  },
  {
   "cell_type": "code",
   "execution_count": 93,
   "id": "possible-change",
   "metadata": {
    "scrolled": true
   },
   "outputs": [],
   "source": [
    "top_reordered = reordered_count.merge(products[['product_id', 'product_name']], on='product_id') #i created a variable to display top reordered items by merging the reordered_counts variable i just created and products. and i merged it on product_id"
   ]
  },
  {
   "cell_type": "code",
   "execution_count": 94,
   "id": "professional-surfing",
   "metadata": {
    "scrolled": true
   },
   "outputs": [],
   "source": [
    "top_20_reordered = top_reordered.head(20) #i created a variable to give me the top 20 from the top_reordered variable\n",
    "                                     "
   ]
  },
  {
   "cell_type": "code",
   "execution_count": 95,
   "id": "48dd3658",
   "metadata": {},
   "outputs": [
    {
     "data": {
      "text/html": [
       "<div>\n",
       "<style scoped>\n",
       "    .dataframe tbody tr th:only-of-type {\n",
       "        vertical-align: middle;\n",
       "    }\n",
       "\n",
       "    .dataframe tbody tr th {\n",
       "        vertical-align: top;\n",
       "    }\n",
       "\n",
       "    .dataframe thead th {\n",
       "        text-align: right;\n",
       "    }\n",
       "</style>\n",
       "<table border=\"1\" class=\"dataframe\">\n",
       "  <thead>\n",
       "    <tr style=\"text-align: right;\">\n",
       "      <th></th>\n",
       "      <th>product_id</th>\n",
       "      <th>reordered_count</th>\n",
       "      <th>product_name</th>\n",
       "    </tr>\n",
       "  </thead>\n",
       "  <tbody>\n",
       "    <tr>\n",
       "      <th>0</th>\n",
       "      <td>24852</td>\n",
       "      <td>55763</td>\n",
       "      <td>Banana</td>\n",
       "    </tr>\n",
       "    <tr>\n",
       "      <th>1</th>\n",
       "      <td>13176</td>\n",
       "      <td>44450</td>\n",
       "      <td>Bag of Organic Bananas</td>\n",
       "    </tr>\n",
       "    <tr>\n",
       "      <th>2</th>\n",
       "      <td>21137</td>\n",
       "      <td>28639</td>\n",
       "      <td>Organic Strawberries</td>\n",
       "    </tr>\n",
       "    <tr>\n",
       "      <th>3</th>\n",
       "      <td>21903</td>\n",
       "      <td>26233</td>\n",
       "      <td>Organic Baby Spinach</td>\n",
       "    </tr>\n",
       "    <tr>\n",
       "      <th>4</th>\n",
       "      <td>47209</td>\n",
       "      <td>23629</td>\n",
       "      <td>Organic Hass Avocado</td>\n",
       "    </tr>\n",
       "    <tr>\n",
       "      <th>5</th>\n",
       "      <td>47766</td>\n",
       "      <td>18743</td>\n",
       "      <td>Organic Avocado</td>\n",
       "    </tr>\n",
       "    <tr>\n",
       "      <th>6</th>\n",
       "      <td>27845</td>\n",
       "      <td>16251</td>\n",
       "      <td>Organic Whole Milk</td>\n",
       "    </tr>\n",
       "    <tr>\n",
       "      <th>7</th>\n",
       "      <td>47626</td>\n",
       "      <td>15044</td>\n",
       "      <td>Large Lemon</td>\n",
       "    </tr>\n",
       "    <tr>\n",
       "      <th>8</th>\n",
       "      <td>27966</td>\n",
       "      <td>14748</td>\n",
       "      <td>Organic Raspberries</td>\n",
       "    </tr>\n",
       "    <tr>\n",
       "      <th>9</th>\n",
       "      <td>16797</td>\n",
       "      <td>13945</td>\n",
       "      <td>Strawberries</td>\n",
       "    </tr>\n",
       "    <tr>\n",
       "      <th>10</th>\n",
       "      <td>26209</td>\n",
       "      <td>13327</td>\n",
       "      <td>Limes</td>\n",
       "    </tr>\n",
       "    <tr>\n",
       "      <th>11</th>\n",
       "      <td>22935</td>\n",
       "      <td>11145</td>\n",
       "      <td>Organic Yellow Onion</td>\n",
       "    </tr>\n",
       "    <tr>\n",
       "      <th>12</th>\n",
       "      <td>24964</td>\n",
       "      <td>10411</td>\n",
       "      <td>Organic Garlic</td>\n",
       "    </tr>\n",
       "    <tr>\n",
       "      <th>13</th>\n",
       "      <td>45007</td>\n",
       "      <td>10076</td>\n",
       "      <td>Organic Zucchini</td>\n",
       "    </tr>\n",
       "    <tr>\n",
       "      <th>14</th>\n",
       "      <td>49683</td>\n",
       "      <td>9538</td>\n",
       "      <td>Cucumber Kirby</td>\n",
       "    </tr>\n",
       "    <tr>\n",
       "      <th>15</th>\n",
       "      <td>28204</td>\n",
       "      <td>8989</td>\n",
       "      <td>Organic Fuji Apple</td>\n",
       "    </tr>\n",
       "    <tr>\n",
       "      <th>16</th>\n",
       "      <td>8277</td>\n",
       "      <td>8836</td>\n",
       "      <td>Apple Honeycrisp Organic</td>\n",
       "    </tr>\n",
       "    <tr>\n",
       "      <th>17</th>\n",
       "      <td>39275</td>\n",
       "      <td>8799</td>\n",
       "      <td>Organic Blueberries</td>\n",
       "    </tr>\n",
       "    <tr>\n",
       "      <th>18</th>\n",
       "      <td>5876</td>\n",
       "      <td>8412</td>\n",
       "      <td>Organic Lemon</td>\n",
       "    </tr>\n",
       "    <tr>\n",
       "      <th>19</th>\n",
       "      <td>49235</td>\n",
       "      <td>8389</td>\n",
       "      <td>Organic Half &amp; Half</td>\n",
       "    </tr>\n",
       "  </tbody>\n",
       "</table>\n",
       "</div>"
      ],
      "text/plain": [
       "    product_id  reordered_count              product_name\n",
       "0        24852            55763                    Banana\n",
       "1        13176            44450    Bag of Organic Bananas\n",
       "2        21137            28639      Organic Strawberries\n",
       "3        21903            26233      Organic Baby Spinach\n",
       "4        47209            23629      Organic Hass Avocado\n",
       "5        47766            18743           Organic Avocado\n",
       "6        27845            16251        Organic Whole Milk\n",
       "7        47626            15044               Large Lemon\n",
       "8        27966            14748       Organic Raspberries\n",
       "9        16797            13945              Strawberries\n",
       "10       26209            13327                     Limes\n",
       "11       22935            11145      Organic Yellow Onion\n",
       "12       24964            10411            Organic Garlic\n",
       "13       45007            10076          Organic Zucchini\n",
       "14       49683             9538            Cucumber Kirby\n",
       "15       28204             8989        Organic Fuji Apple\n",
       "16        8277             8836  Apple Honeycrisp Organic\n",
       "17       39275             8799       Organic Blueberries\n",
       "18        5876             8412             Organic Lemon\n",
       "19       49235             8389       Organic Half & Half"
      ]
     },
     "execution_count": 95,
     "metadata": {},
     "output_type": "execute_result"
    }
   ],
   "source": [
    "top_20_reordered"
   ]
  },
  {
   "cell_type": "markdown",
   "id": "92d35137",
   "metadata": {},
   "source": [
    "### What are the top 20 items that people put in their carts first? "
   ]
  },
  {
   "cell_type": "code",
   "execution_count": 96,
   "id": "0ae57274",
   "metadata": {
    "scrolled": true
   },
   "outputs": [],
   "source": [
    "added_first = order_products[order_products['add_to_cart_order'] == 1] #i created a variable to look at the order_products df and return me all orders that are added to the cart first"
   ]
  },
  {
   "cell_type": "code",
   "execution_count": 97,
   "id": "forty-netherlands",
   "metadata": {
    "scrolled": true
   },
   "outputs": [],
   "source": [
    "added_first_count = added_first['product_id'].value_counts().reset_index() #i created a variable to count the number of occurrences for each product id in the added_first variable i just created\n",
    "added_first_count.columns = ['product_id', 'added_first'] #i took my added_first_count variable and assigned it columns for the df"
   ]
  },
  {
   "cell_type": "code",
   "execution_count": 98,
   "id": "08e41ec2",
   "metadata": {},
   "outputs": [],
   "source": [
    "top_added_first = added_first_count.merge(products[['product_id', 'product_name']], on='product_id') #i made a new variable which took the count and merged it with the products df on the product_id column"
   ]
  },
  {
   "cell_type": "code",
   "execution_count": 99,
   "id": "60388333",
   "metadata": {},
   "outputs": [],
   "source": [
    "top_20_added_first = top_added_first.head(20) #in order to get the top 20 i created a variable which returns 20 using the .head() method"
   ]
  },
  {
   "cell_type": "code",
   "execution_count": 100,
   "id": "94db41a4",
   "metadata": {},
   "outputs": [
    {
     "data": {
      "text/html": [
       "<div>\n",
       "<style scoped>\n",
       "    .dataframe tbody tr th:only-of-type {\n",
       "        vertical-align: middle;\n",
       "    }\n",
       "\n",
       "    .dataframe tbody tr th {\n",
       "        vertical-align: top;\n",
       "    }\n",
       "\n",
       "    .dataframe thead th {\n",
       "        text-align: right;\n",
       "    }\n",
       "</style>\n",
       "<table border=\"1\" class=\"dataframe\">\n",
       "  <thead>\n",
       "    <tr style=\"text-align: right;\">\n",
       "      <th></th>\n",
       "      <th>product_id</th>\n",
       "      <th>added_first</th>\n",
       "      <th>product_name</th>\n",
       "    </tr>\n",
       "  </thead>\n",
       "  <tbody>\n",
       "    <tr>\n",
       "      <th>0</th>\n",
       "      <td>24852</td>\n",
       "      <td>15562</td>\n",
       "      <td>Banana</td>\n",
       "    </tr>\n",
       "    <tr>\n",
       "      <th>1</th>\n",
       "      <td>13176</td>\n",
       "      <td>11026</td>\n",
       "      <td>Bag of Organic Bananas</td>\n",
       "    </tr>\n",
       "    <tr>\n",
       "      <th>2</th>\n",
       "      <td>27845</td>\n",
       "      <td>4363</td>\n",
       "      <td>Organic Whole Milk</td>\n",
       "    </tr>\n",
       "    <tr>\n",
       "      <th>3</th>\n",
       "      <td>21137</td>\n",
       "      <td>3946</td>\n",
       "      <td>Organic Strawberries</td>\n",
       "    </tr>\n",
       "    <tr>\n",
       "      <th>4</th>\n",
       "      <td>47209</td>\n",
       "      <td>3390</td>\n",
       "      <td>Organic Hass Avocado</td>\n",
       "    </tr>\n",
       "    <tr>\n",
       "      <th>5</th>\n",
       "      <td>21903</td>\n",
       "      <td>3336</td>\n",
       "      <td>Organic Baby Spinach</td>\n",
       "    </tr>\n",
       "    <tr>\n",
       "      <th>6</th>\n",
       "      <td>47766</td>\n",
       "      <td>3044</td>\n",
       "      <td>Organic Avocado</td>\n",
       "    </tr>\n",
       "    <tr>\n",
       "      <th>7</th>\n",
       "      <td>19660</td>\n",
       "      <td>2336</td>\n",
       "      <td>Spring Water</td>\n",
       "    </tr>\n",
       "    <tr>\n",
       "      <th>8</th>\n",
       "      <td>16797</td>\n",
       "      <td>2308</td>\n",
       "      <td>Strawberries</td>\n",
       "    </tr>\n",
       "    <tr>\n",
       "      <th>9</th>\n",
       "      <td>27966</td>\n",
       "      <td>2024</td>\n",
       "      <td>Organic Raspberries</td>\n",
       "    </tr>\n",
       "    <tr>\n",
       "      <th>10</th>\n",
       "      <td>44632</td>\n",
       "      <td>1914</td>\n",
       "      <td>Sparkling Water Grapefruit</td>\n",
       "    </tr>\n",
       "    <tr>\n",
       "      <th>11</th>\n",
       "      <td>49235</td>\n",
       "      <td>1797</td>\n",
       "      <td>Organic Half &amp; Half</td>\n",
       "    </tr>\n",
       "    <tr>\n",
       "      <th>12</th>\n",
       "      <td>47626</td>\n",
       "      <td>1737</td>\n",
       "      <td>Large Lemon</td>\n",
       "    </tr>\n",
       "    <tr>\n",
       "      <th>13</th>\n",
       "      <td>196</td>\n",
       "      <td>1733</td>\n",
       "      <td>Soda</td>\n",
       "    </tr>\n",
       "    <tr>\n",
       "      <th>14</th>\n",
       "      <td>38689</td>\n",
       "      <td>1397</td>\n",
       "      <td>Organic Reduced Fat Milk</td>\n",
       "    </tr>\n",
       "    <tr>\n",
       "      <th>15</th>\n",
       "      <td>26209</td>\n",
       "      <td>1370</td>\n",
       "      <td>Limes</td>\n",
       "    </tr>\n",
       "    <tr>\n",
       "      <th>16</th>\n",
       "      <td>12341</td>\n",
       "      <td>1340</td>\n",
       "      <td>Hass Avocados</td>\n",
       "    </tr>\n",
       "    <tr>\n",
       "      <th>17</th>\n",
       "      <td>5785</td>\n",
       "      <td>1310</td>\n",
       "      <td>Organic Reduced Fat 2% Milk</td>\n",
       "    </tr>\n",
       "    <tr>\n",
       "      <th>18</th>\n",
       "      <td>27086</td>\n",
       "      <td>1309</td>\n",
       "      <td>Half &amp; Half</td>\n",
       "    </tr>\n",
       "    <tr>\n",
       "      <th>19</th>\n",
       "      <td>43352</td>\n",
       "      <td>1246</td>\n",
       "      <td>Raspberries</td>\n",
       "    </tr>\n",
       "  </tbody>\n",
       "</table>\n",
       "</div>"
      ],
      "text/plain": [
       "    product_id  added_first                 product_name\n",
       "0        24852        15562                       Banana\n",
       "1        13176        11026       Bag of Organic Bananas\n",
       "2        27845         4363           Organic Whole Milk\n",
       "3        21137         3946         Organic Strawberries\n",
       "4        47209         3390         Organic Hass Avocado\n",
       "5        21903         3336         Organic Baby Spinach\n",
       "6        47766         3044              Organic Avocado\n",
       "7        19660         2336                 Spring Water\n",
       "8        16797         2308                 Strawberries\n",
       "9        27966         2024          Organic Raspberries\n",
       "10       44632         1914   Sparkling Water Grapefruit\n",
       "11       49235         1797          Organic Half & Half\n",
       "12       47626         1737                  Large Lemon\n",
       "13         196         1733                         Soda\n",
       "14       38689         1397     Organic Reduced Fat Milk\n",
       "15       26209         1370                        Limes\n",
       "16       12341         1340                Hass Avocados\n",
       "17        5785         1310  Organic Reduced Fat 2% Milk\n",
       "18       27086         1309                  Half & Half\n",
       "19       43352         1246                  Raspberries"
      ]
     },
     "execution_count": 100,
     "metadata": {},
     "output_type": "execute_result"
    }
   ],
   "source": [
    "top_20_added_first"
   ]
  },
  {
   "cell_type": "markdown",
   "id": "d0cf77a4",
   "metadata": {},
   "source": [
    "<div class=\"alert alert-info\"; style=\"border-left: 7px solid blue\">\n",
    "<b>In conclusion, from my analysis I have verified that on average Instacart shoppers shop on Wednesday around 1pm. but most people tend to show up in the mornings between 10-11am. Once a customer orders a product they tend to order again after about 1.5 weeks. Most Instacart shoppers are brand new to Instacart because the distribution tells us that shoppers majority of shoppers have only placed 1-2 orders. So we should try and figure out why the number isn't hire for shoppers who have been with Instacart past 1-2 orders. The top reordered and most popular itemss are 1. Bananas 2. Organic Bananas and 3. Organic Strawberries. If I was trying to market and bring in more traffic, I would run some sort of special on the top 10 items reordered on the weekends. Then if I had it, I would email blast the current customers of Instacart to include them in the promotion. You need to get them more involved in returning and purchasing for sure. And since Saturdays seem to be when you get a ton of traffic and Sundays are </b>"
   ]
  }
 ],
 "metadata": {
  "ExecuteTimeLog": [
   {
    "duration": 323,
    "start_time": "2024-08-05T22:35:31.307Z"
   },
   {
    "duration": 21,
    "start_time": "2024-08-05T22:36:06.193Z"
   },
   {
    "duration": 20,
    "start_time": "2024-08-05T22:36:22.906Z"
   },
   {
    "duration": 21,
    "start_time": "2024-08-05T22:39:00.967Z"
   },
   {
    "duration": 24,
    "start_time": "2024-08-05T22:39:51.924Z"
   },
   {
    "duration": 4645,
    "start_time": "2024-08-05T22:44:06.342Z"
   },
   {
    "duration": 4179,
    "start_time": "2024-08-05T22:44:10.991Z"
   },
   {
    "duration": 4,
    "start_time": "2024-08-05T22:44:15.226Z"
   },
   {
    "duration": 5,
    "start_time": "2024-08-05T22:44:15.236Z"
   },
   {
    "duration": 4,
    "start_time": "2024-08-05T22:44:15.244Z"
   },
   {
    "duration": 3,
    "start_time": "2024-08-05T22:44:15.252Z"
   },
   {
    "duration": 3,
    "start_time": "2024-08-05T22:44:15.258Z"
   },
   {
    "duration": 3,
    "start_time": "2024-08-05T22:44:15.264Z"
   },
   {
    "duration": 3,
    "start_time": "2024-08-05T22:44:15.269Z"
   },
   {
    "duration": 3,
    "start_time": "2024-08-05T22:44:15.275Z"
   },
   {
    "duration": 46,
    "start_time": "2024-08-05T22:44:15.281Z"
   },
   {
    "duration": 3,
    "start_time": "2024-08-05T22:44:15.331Z"
   },
   {
    "duration": 4,
    "start_time": "2024-08-05T22:44:15.343Z"
   },
   {
    "duration": 4,
    "start_time": "2024-08-05T22:44:15.352Z"
   },
   {
    "duration": 4,
    "start_time": "2024-08-05T22:44:15.361Z"
   },
   {
    "duration": 3,
    "start_time": "2024-08-05T22:44:15.368Z"
   },
   {
    "duration": 3,
    "start_time": "2024-08-05T22:44:15.375Z"
   },
   {
    "duration": 4,
    "start_time": "2024-08-05T22:44:15.381Z"
   },
   {
    "duration": 3,
    "start_time": "2024-08-05T22:44:15.428Z"
   },
   {
    "duration": 4,
    "start_time": "2024-08-05T22:44:15.434Z"
   },
   {
    "duration": 4,
    "start_time": "2024-08-05T22:44:15.441Z"
   },
   {
    "duration": 3,
    "start_time": "2024-08-05T22:44:15.449Z"
   },
   {
    "duration": 38,
    "start_time": "2024-08-05T22:44:15.545Z"
   },
   {
    "duration": 15,
    "start_time": "2024-08-05T22:45:25.988Z"
   },
   {
    "duration": 12,
    "start_time": "2024-08-05T22:45:40.084Z"
   },
   {
    "duration": 12,
    "start_time": "2024-08-05T22:46:00.896Z"
   },
   {
    "duration": 11,
    "start_time": "2024-08-05T22:46:08.401Z"
   },
   {
    "duration": 7,
    "start_time": "2024-08-05T22:54:06.968Z"
   },
   {
    "duration": 344,
    "start_time": "2024-08-05T22:54:48.518Z"
   },
   {
    "duration": 3661,
    "start_time": "2024-08-05T22:55:15.262Z"
   },
   {
    "duration": 16,
    "start_time": "2024-08-05T22:55:18.928Z"
   },
   {
    "duration": 1562,
    "start_time": "2024-08-05T22:56:08.802Z"
   },
   {
    "duration": 16,
    "start_time": "2024-08-05T22:56:16.290Z"
   },
   {
    "duration": 15,
    "start_time": "2024-08-05T22:56:19.205Z"
   },
   {
    "duration": 14,
    "start_time": "2024-08-05T22:56:22.402Z"
   },
   {
    "duration": 10,
    "start_time": "2024-08-05T22:56:22.930Z"
   },
   {
    "duration": 7,
    "start_time": "2024-08-05T22:56:39.120Z"
   },
   {
    "duration": 36,
    "start_time": "2024-08-05T22:58:52.137Z"
   },
   {
    "duration": 16,
    "start_time": "2024-08-05T23:00:27.699Z"
   },
   {
    "duration": 301,
    "start_time": "2024-08-05T23:00:40.522Z"
   },
   {
    "duration": 27,
    "start_time": "2024-08-05T23:01:02.205Z"
   },
   {
    "duration": 23,
    "start_time": "2024-08-05T23:11:40.258Z"
   },
   {
    "duration": 4,
    "start_time": "2024-08-05T23:12:06.299Z"
   },
   {
    "duration": 52,
    "start_time": "2024-08-05T23:12:11.345Z"
   },
   {
    "duration": 839,
    "start_time": "2024-08-05T23:18:45.156Z"
   },
   {
    "duration": 23,
    "start_time": "2024-08-05T23:19:21.197Z"
   },
   {
    "duration": 23,
    "start_time": "2024-08-05T23:20:40.348Z"
   },
   {
    "duration": 23,
    "start_time": "2024-08-05T23:20:47.788Z"
   },
   {
    "duration": 1224,
    "start_time": "2024-08-05T23:22:44.553Z"
   },
   {
    "duration": 4,
    "start_time": "2024-08-05T23:56:30.634Z"
   },
   {
    "duration": 108,
    "start_time": "2024-08-05T23:58:13.780Z"
   },
   {
    "duration": 339,
    "start_time": "2024-08-06T00:00:10.348Z"
   },
   {
    "duration": 122,
    "start_time": "2024-08-06T00:00:30.066Z"
   },
   {
    "duration": 20,
    "start_time": "2024-08-06T00:00:46.419Z"
   },
   {
    "duration": 165,
    "start_time": "2024-08-06T00:03:03.372Z"
   },
   {
    "duration": 52,
    "start_time": "2024-08-06T00:07:40.046Z"
   },
   {
    "duration": 12,
    "start_time": "2024-08-06T00:12:36.696Z"
   },
   {
    "duration": 28,
    "start_time": "2024-08-06T00:12:57.175Z"
   },
   {
    "duration": 56,
    "start_time": "2024-08-06T00:13:05.009Z"
   },
   {
    "duration": 60,
    "start_time": "2024-08-06T00:14:35.754Z"
   },
   {
    "duration": 10,
    "start_time": "2024-08-06T00:15:17.634Z"
   },
   {
    "duration": 8,
    "start_time": "2024-08-06T00:15:42.596Z"
   },
   {
    "duration": 20,
    "start_time": "2024-08-06T00:17:43.352Z"
   },
   {
    "duration": 19,
    "start_time": "2024-08-06T00:20:32.967Z"
   },
   {
    "duration": 164,
    "start_time": "2024-08-06T00:22:05.315Z"
   },
   {
    "duration": 154,
    "start_time": "2024-08-06T00:22:18.837Z"
   },
   {
    "duration": 158,
    "start_time": "2024-08-06T00:22:49.910Z"
   },
   {
    "duration": 182,
    "start_time": "2024-08-06T00:23:09.476Z"
   },
   {
    "duration": 22,
    "start_time": "2024-08-06T00:23:32.289Z"
   },
   {
    "duration": 156,
    "start_time": "2024-08-06T00:23:53.131Z"
   },
   {
    "duration": 11,
    "start_time": "2024-08-06T00:28:03.711Z"
   },
   {
    "duration": 12,
    "start_time": "2024-08-06T00:28:38.221Z"
   },
   {
    "duration": 183,
    "start_time": "2024-08-06T00:32:22.744Z"
   },
   {
    "duration": 16,
    "start_time": "2024-08-06T00:33:02.403Z"
   },
   {
    "duration": 20,
    "start_time": "2024-08-06T00:33:18.715Z"
   },
   {
    "duration": 173,
    "start_time": "2024-08-06T00:33:25.164Z"
   },
   {
    "duration": 16,
    "start_time": "2024-08-06T00:33:28.070Z"
   },
   {
    "duration": 23,
    "start_time": "2024-08-06T00:33:55.904Z"
   },
   {
    "duration": 178,
    "start_time": "2024-08-06T00:33:58.687Z"
   },
   {
    "duration": 15,
    "start_time": "2024-08-06T00:34:00.389Z"
   },
   {
    "duration": 3,
    "start_time": "2024-08-06T00:40:05.620Z"
   },
   {
    "duration": 14,
    "start_time": "2024-08-06T02:26:11.006Z"
   },
   {
    "duration": 12,
    "start_time": "2024-08-06T02:26:17.451Z"
   },
   {
    "duration": 6,
    "start_time": "2024-08-06T02:31:24.711Z"
   },
   {
    "duration": 19,
    "start_time": "2024-08-06T02:31:42.323Z"
   },
   {
    "duration": 7,
    "start_time": "2024-08-06T02:32:04.770Z"
   },
   {
    "duration": 18,
    "start_time": "2024-08-06T02:32:05.161Z"
   },
   {
    "duration": 7,
    "start_time": "2024-08-06T02:32:16.926Z"
   },
   {
    "duration": 18,
    "start_time": "2024-08-06T02:32:17.231Z"
   },
   {
    "duration": 9,
    "start_time": "2024-08-06T02:32:43.026Z"
   },
   {
    "duration": 19,
    "start_time": "2024-08-06T02:32:43.355Z"
   },
   {
    "duration": 15,
    "start_time": "2024-08-06T02:32:47.209Z"
   },
   {
    "duration": 8,
    "start_time": "2024-08-06T02:34:20.668Z"
   },
   {
    "duration": 24,
    "start_time": "2024-08-06T02:34:39.642Z"
   },
   {
    "duration": 23,
    "start_time": "2024-08-06T02:34:44.648Z"
   },
   {
    "duration": 25,
    "start_time": "2024-08-06T02:35:00.633Z"
   },
   {
    "duration": 19,
    "start_time": "2024-08-06T02:36:03.009Z"
   },
   {
    "duration": 10,
    "start_time": "2024-08-06T02:36:44.035Z"
   },
   {
    "duration": 23,
    "start_time": "2024-08-06T02:37:08.459Z"
   },
   {
    "duration": 9,
    "start_time": "2024-08-06T02:37:27.667Z"
   },
   {
    "duration": 9,
    "start_time": "2024-08-06T02:37:42.596Z"
   },
   {
    "duration": 8,
    "start_time": "2024-08-06T02:38:09.265Z"
   },
   {
    "duration": 7,
    "start_time": "2024-08-06T02:38:13.429Z"
   },
   {
    "duration": 7,
    "start_time": "2024-08-06T02:38:25.088Z"
   },
   {
    "duration": 8,
    "start_time": "2024-08-06T02:39:03.719Z"
   },
   {
    "duration": 8,
    "start_time": "2024-08-06T02:39:39.188Z"
   },
   {
    "duration": 9,
    "start_time": "2024-08-06T02:40:01.567Z"
   },
   {
    "duration": 8,
    "start_time": "2024-08-06T02:40:21.203Z"
   },
   {
    "duration": 30,
    "start_time": "2024-08-06T02:41:58.764Z"
   },
   {
    "duration": 28,
    "start_time": "2024-08-06T02:43:25.046Z"
   },
   {
    "duration": 23,
    "start_time": "2024-08-06T02:44:59.761Z"
   },
   {
    "duration": 33,
    "start_time": "2024-08-06T02:45:24.774Z"
   },
   {
    "duration": 27,
    "start_time": "2024-08-06T02:45:33.201Z"
   },
   {
    "duration": 57,
    "start_time": "2024-08-06T02:46:08.318Z"
   },
   {
    "duration": 77,
    "start_time": "2024-08-06T02:47:31.375Z"
   },
   {
    "duration": 61,
    "start_time": "2024-08-06T02:48:13.878Z"
   },
   {
    "duration": 61,
    "start_time": "2024-08-06T02:48:52.546Z"
   },
   {
    "duration": 1172,
    "start_time": "2024-08-06T02:50:12.591Z"
   },
   {
    "duration": 50,
    "start_time": "2024-08-06T02:50:43.408Z"
   },
   {
    "duration": 1258,
    "start_time": "2024-08-06T02:50:52.808Z"
   },
   {
    "duration": 23,
    "start_time": "2024-08-06T02:51:28.434Z"
   },
   {
    "duration": 156,
    "start_time": "2024-08-06T02:51:59.479Z"
   },
   {
    "duration": 544,
    "start_time": "2024-08-06T02:52:51.839Z"
   },
   {
    "duration": 509,
    "start_time": "2024-08-06T02:53:12.250Z"
   },
   {
    "duration": 148,
    "start_time": "2024-08-06T02:53:22.044Z"
   },
   {
    "duration": 11,
    "start_time": "2024-08-06T02:53:56.288Z"
   },
   {
    "duration": 12,
    "start_time": "2024-08-06T02:54:16.048Z"
   },
   {
    "duration": 22,
    "start_time": "2024-08-06T03:00:23.327Z"
   },
   {
    "duration": 8,
    "start_time": "2024-08-06T03:01:01.572Z"
   },
   {
    "duration": 19,
    "start_time": "2024-08-06T03:01:36.167Z"
   },
   {
    "duration": 12,
    "start_time": "2024-08-06T03:01:57.081Z"
   },
   {
    "duration": 12,
    "start_time": "2024-08-06T03:02:21.043Z"
   },
   {
    "duration": 13,
    "start_time": "2024-08-06T03:03:18.368Z"
   },
   {
    "duration": 8,
    "start_time": "2024-08-06T03:03:30.531Z"
   },
   {
    "duration": 10,
    "start_time": "2024-08-06T03:03:34.538Z"
   },
   {
    "duration": 9,
    "start_time": "2024-08-06T03:04:10.387Z"
   },
   {
    "duration": 6,
    "start_time": "2024-08-06T03:04:40.210Z"
   },
   {
    "duration": 7,
    "start_time": "2024-08-06T03:05:06.338Z"
   },
   {
    "duration": 21,
    "start_time": "2024-08-06T03:06:08.574Z"
   },
   {
    "duration": 18,
    "start_time": "2024-08-06T03:06:44.388Z"
   },
   {
    "duration": 40,
    "start_time": "2024-08-06T03:07:36.324Z"
   },
   {
    "duration": 93,
    "start_time": "2024-08-06T03:07:47.398Z"
   },
   {
    "duration": 75,
    "start_time": "2024-08-06T03:08:08.466Z"
   },
   {
    "duration": 74,
    "start_time": "2024-08-06T03:08:24.418Z"
   },
   {
    "duration": 39,
    "start_time": "2024-08-06T03:08:29.068Z"
   },
   {
    "duration": 139,
    "start_time": "2024-08-06T03:08:58.745Z"
   },
   {
    "duration": 33,
    "start_time": "2024-08-06T03:09:27.717Z"
   },
   {
    "duration": 24,
    "start_time": "2024-08-06T03:09:51.073Z"
   },
   {
    "duration": 16,
    "start_time": "2024-08-06T03:10:08.577Z"
   },
   {
    "duration": 12,
    "start_time": "2024-08-06T03:10:14.427Z"
   },
   {
    "duration": 7,
    "start_time": "2024-08-06T03:10:53.432Z"
   },
   {
    "duration": 8,
    "start_time": "2024-08-06T03:11:32.017Z"
   },
   {
    "duration": 11,
    "start_time": "2024-08-06T03:11:57.715Z"
   },
   {
    "duration": 11,
    "start_time": "2024-08-06T03:12:15.290Z"
   },
   {
    "duration": 3,
    "start_time": "2024-08-06T03:12:17.846Z"
   },
   {
    "duration": 29,
    "start_time": "2024-08-06T03:13:02.158Z"
   },
   {
    "duration": 48,
    "start_time": "2024-08-06T03:13:27.510Z"
   },
   {
    "duration": 29,
    "start_time": "2024-08-06T03:14:23.305Z"
   },
   {
    "duration": 21,
    "start_time": "2024-08-06T03:15:02.997Z"
   },
   {
    "duration": 3,
    "start_time": "2024-08-06T03:16:42.323Z"
   },
   {
    "duration": 15,
    "start_time": "2024-08-06T03:20:03.421Z"
   },
   {
    "duration": 12,
    "start_time": "2024-08-06T03:20:07.113Z"
   },
   {
    "duration": 14,
    "start_time": "2024-08-06T03:20:16.309Z"
   },
   {
    "duration": 13,
    "start_time": "2024-08-06T03:20:56.606Z"
   },
   {
    "duration": 13,
    "start_time": "2024-08-06T03:21:03.808Z"
   },
   {
    "duration": 12,
    "start_time": "2024-08-06T03:21:11.861Z"
   },
   {
    "duration": 13,
    "start_time": "2024-08-06T03:21:13.694Z"
   },
   {
    "duration": 12,
    "start_time": "2024-08-06T03:21:15.315Z"
   },
   {
    "duration": 12,
    "start_time": "2024-08-06T03:21:16.992Z"
   },
   {
    "duration": 12,
    "start_time": "2024-08-06T03:21:18.843Z"
   },
   {
    "duration": 13,
    "start_time": "2024-08-06T03:21:20.218Z"
   },
   {
    "duration": 39,
    "start_time": "2024-08-06T03:25:27.839Z"
   },
   {
    "duration": 37,
    "start_time": "2024-08-06T03:25:40.864Z"
   },
   {
    "duration": 7,
    "start_time": "2024-08-06T03:26:25.995Z"
   },
   {
    "duration": 27,
    "start_time": "2024-08-06T03:26:37.260Z"
   },
   {
    "duration": 12,
    "start_time": "2024-08-06T03:26:42.560Z"
   },
   {
    "duration": 28,
    "start_time": "2024-08-06T03:26:43.552Z"
   },
   {
    "duration": 8,
    "start_time": "2024-08-06T03:26:44.233Z"
   },
   {
    "duration": 30,
    "start_time": "2024-08-06T03:26:50.133Z"
   },
   {
    "duration": 13,
    "start_time": "2024-08-06T03:27:05.373Z"
   },
   {
    "duration": 15,
    "start_time": "2024-08-06T03:27:24.084Z"
   },
   {
    "duration": 47,
    "start_time": "2024-08-06T03:28:48.903Z"
   },
   {
    "duration": 47,
    "start_time": "2024-08-06T03:29:00.244Z"
   },
   {
    "duration": 42,
    "start_time": "2024-08-06T03:29:07.093Z"
   },
   {
    "duration": 30,
    "start_time": "2024-08-06T03:29:15.045Z"
   },
   {
    "duration": 47,
    "start_time": "2024-08-06T03:29:22.275Z"
   },
   {
    "duration": 48,
    "start_time": "2024-08-06T03:29:34.102Z"
   },
   {
    "duration": 24,
    "start_time": "2024-08-06T03:31:07.243Z"
   },
   {
    "duration": 30,
    "start_time": "2024-08-06T03:31:14.904Z"
   },
   {
    "duration": 28,
    "start_time": "2024-08-06T03:32:03.966Z"
   },
   {
    "duration": 34,
    "start_time": "2024-08-06T03:32:23.223Z"
   },
   {
    "duration": 30,
    "start_time": "2024-08-06T03:32:36.577Z"
   },
   {
    "duration": 24,
    "start_time": "2024-08-06T03:33:12.074Z"
   },
   {
    "duration": 14,
    "start_time": "2024-08-06T03:33:52.061Z"
   },
   {
    "duration": 26,
    "start_time": "2024-08-06T03:36:19.011Z"
   },
   {
    "duration": 44,
    "start_time": "2024-08-06T03:36:33.397Z"
   },
   {
    "duration": 47,
    "start_time": "2024-08-06T03:36:37.849Z"
   },
   {
    "duration": 40,
    "start_time": "2024-08-06T03:36:46.523Z"
   },
   {
    "duration": 40,
    "start_time": "2024-08-06T03:37:10.294Z"
   },
   {
    "duration": 45,
    "start_time": "2024-08-06T03:37:14.122Z"
   },
   {
    "duration": 27,
    "start_time": "2024-08-06T03:37:29.864Z"
   },
   {
    "duration": 18,
    "start_time": "2024-08-06T03:37:33.472Z"
   },
   {
    "duration": 20,
    "start_time": "2024-08-06T03:38:14.267Z"
   },
   {
    "duration": 15,
    "start_time": "2024-08-06T03:38:24.764Z"
   },
   {
    "duration": 276,
    "start_time": "2024-08-06T03:38:48.243Z"
   },
   {
    "duration": 172,
    "start_time": "2024-08-06T03:38:53.552Z"
   },
   {
    "duration": 28,
    "start_time": "2024-08-06T03:38:57.619Z"
   },
   {
    "duration": 23,
    "start_time": "2024-08-06T03:39:02.333Z"
   },
   {
    "duration": 15,
    "start_time": "2024-08-06T03:39:26.784Z"
   },
   {
    "duration": 368,
    "start_time": "2024-08-06T19:59:26.438Z"
   },
   {
    "duration": 25,
    "start_time": "2024-08-06T19:59:39.540Z"
   },
   {
    "duration": 27,
    "start_time": "2024-08-06T19:59:50.239Z"
   },
   {
    "duration": 34,
    "start_time": "2024-08-06T20:00:00.100Z"
   },
   {
    "duration": 5120,
    "start_time": "2024-08-06T20:00:05.824Z"
   },
   {
    "duration": 2079,
    "start_time": "2024-08-06T20:00:10.948Z"
   },
   {
    "duration": 22,
    "start_time": "2024-08-06T20:00:13.033Z"
   },
   {
    "duration": 72,
    "start_time": "2024-08-06T20:00:13.060Z"
   },
   {
    "duration": 9,
    "start_time": "2024-08-06T20:00:13.135Z"
   },
   {
    "duration": 40,
    "start_time": "2024-08-06T20:00:13.147Z"
   },
   {
    "duration": 211,
    "start_time": "2024-08-06T20:00:13.190Z"
   },
   {
    "duration": 215,
    "start_time": "2024-08-06T20:00:13.404Z"
   },
   {
    "duration": 19,
    "start_time": "2024-08-06T20:00:13.622Z"
   },
   {
    "duration": 22,
    "start_time": "2024-08-06T20:00:13.647Z"
   },
   {
    "duration": 18,
    "start_time": "2024-08-06T20:00:13.674Z"
   },
   {
    "duration": 13,
    "start_time": "2024-08-06T20:00:13.695Z"
   },
   {
    "duration": 56,
    "start_time": "2024-08-06T20:00:13.712Z"
   },
   {
    "duration": 42,
    "start_time": "2024-08-06T20:00:13.771Z"
   },
   {
    "duration": 17,
    "start_time": "2024-08-06T20:00:13.815Z"
   },
   {
    "duration": 33,
    "start_time": "2024-08-06T20:00:13.836Z"
   },
   {
    "duration": 14,
    "start_time": "2024-08-06T20:00:13.872Z"
   },
   {
    "duration": 23,
    "start_time": "2024-08-06T20:00:13.888Z"
   },
   {
    "duration": 18,
    "start_time": "2024-08-06T20:00:13.915Z"
   },
   {
    "duration": 8,
    "start_time": "2024-08-06T20:00:13.936Z"
   },
   {
    "duration": 50,
    "start_time": "2024-08-06T20:00:13.968Z"
   },
   {
    "duration": 47,
    "start_time": "2024-08-06T20:00:14.022Z"
   },
   {
    "duration": 95,
    "start_time": "2024-08-06T20:00:14.073Z"
   },
   {
    "duration": 1436,
    "start_time": "2024-08-06T20:00:14.173Z"
   },
   {
    "duration": 197,
    "start_time": "2024-08-06T20:00:15.612Z"
   },
   {
    "duration": 17,
    "start_time": "2024-08-06T20:00:15.813Z"
   },
   {
    "duration": 61,
    "start_time": "2024-08-06T20:00:15.833Z"
   },
   {
    "duration": 9,
    "start_time": "2024-08-06T20:00:15.911Z"
   },
   {
    "duration": 8,
    "start_time": "2024-08-06T20:00:15.923Z"
   },
   {
    "duration": 8,
    "start_time": "2024-08-06T20:00:15.935Z"
   },
   {
    "duration": 40,
    "start_time": "2024-08-06T20:00:15.947Z"
   },
   {
    "duration": 8,
    "start_time": "2024-08-06T20:00:15.991Z"
   },
   {
    "duration": 18,
    "start_time": "2024-08-06T20:00:16.003Z"
   },
   {
    "duration": 88,
    "start_time": "2024-08-06T20:00:16.025Z"
   },
   {
    "duration": 17,
    "start_time": "2024-08-06T20:00:16.119Z"
   },
   {
    "duration": 828,
    "start_time": "2024-08-06T20:00:28.220Z"
   },
   {
    "duration": 1786,
    "start_time": "2024-08-06T20:00:29.052Z"
   },
   {
    "duration": 32,
    "start_time": "2024-08-06T20:00:30.841Z"
   },
   {
    "duration": 74,
    "start_time": "2024-08-06T20:00:30.876Z"
   },
   {
    "duration": 8,
    "start_time": "2024-08-06T20:00:30.968Z"
   },
   {
    "duration": 26,
    "start_time": "2024-08-06T20:00:30.980Z"
   },
   {
    "duration": 221,
    "start_time": "2024-08-06T20:00:31.009Z"
   },
   {
    "duration": 235,
    "start_time": "2024-08-06T20:00:31.233Z"
   },
   {
    "duration": 22,
    "start_time": "2024-08-06T20:00:31.470Z"
   },
   {
    "duration": 6,
    "start_time": "2024-08-06T20:00:31.495Z"
   },
   {
    "duration": 17,
    "start_time": "2024-08-06T20:00:31.505Z"
   },
   {
    "duration": 49,
    "start_time": "2024-08-06T20:00:31.525Z"
   },
   {
    "duration": 32,
    "start_time": "2024-08-06T20:00:31.577Z"
   },
   {
    "duration": 25,
    "start_time": "2024-08-06T20:00:31.618Z"
   },
   {
    "duration": 33,
    "start_time": "2024-08-06T20:00:31.646Z"
   },
   {
    "duration": 12,
    "start_time": "2024-08-06T20:00:31.682Z"
   },
   {
    "duration": 9,
    "start_time": "2024-08-06T20:00:31.700Z"
   },
   {
    "duration": 15,
    "start_time": "2024-08-06T20:00:31.712Z"
   },
   {
    "duration": 37,
    "start_time": "2024-08-06T20:00:31.731Z"
   },
   {
    "duration": 8,
    "start_time": "2024-08-06T20:00:31.771Z"
   },
   {
    "duration": 58,
    "start_time": "2024-08-06T20:00:31.783Z"
   },
   {
    "duration": 72,
    "start_time": "2024-08-06T20:00:31.844Z"
   },
   {
    "duration": 107,
    "start_time": "2024-08-06T20:00:31.919Z"
   },
   {
    "duration": 1397,
    "start_time": "2024-08-06T20:00:32.033Z"
   },
   {
    "duration": 195,
    "start_time": "2024-08-06T20:00:33.432Z"
   },
   {
    "duration": 16,
    "start_time": "2024-08-06T20:00:33.630Z"
   },
   {
    "duration": 60,
    "start_time": "2024-08-06T20:00:33.650Z"
   },
   {
    "duration": 10,
    "start_time": "2024-08-06T20:00:33.714Z"
   },
   {
    "duration": 8,
    "start_time": "2024-08-06T20:00:33.728Z"
   },
   {
    "duration": 9,
    "start_time": "2024-08-06T20:00:33.739Z"
   },
   {
    "duration": 32,
    "start_time": "2024-08-06T20:00:33.768Z"
   },
   {
    "duration": 7,
    "start_time": "2024-08-06T20:00:33.804Z"
   },
   {
    "duration": 20,
    "start_time": "2024-08-06T20:00:33.814Z"
   },
   {
    "duration": 87,
    "start_time": "2024-08-06T20:00:33.836Z"
   },
   {
    "duration": 16,
    "start_time": "2024-08-06T20:00:33.926Z"
   },
   {
    "duration": 4,
    "start_time": "2024-08-06T20:00:33.946Z"
   },
   {
    "duration": 15,
    "start_time": "2024-08-06T20:00:33.953Z"
   },
   {
    "duration": 5,
    "start_time": "2024-08-06T20:00:33.972Z"
   },
   {
    "duration": 3,
    "start_time": "2024-08-06T20:00:33.983Z"
   },
   {
    "duration": 4,
    "start_time": "2024-08-06T20:00:33.992Z"
   },
   {
    "duration": 3,
    "start_time": "2024-08-06T20:00:34.006Z"
   },
   {
    "duration": 5,
    "start_time": "2024-08-06T20:00:34.012Z"
   },
   {
    "duration": 3,
    "start_time": "2024-08-06T20:00:34.021Z"
   },
   {
    "duration": 9,
    "start_time": "2024-08-06T20:00:34.069Z"
   },
   {
    "duration": 8,
    "start_time": "2024-08-06T20:00:34.085Z"
   },
   {
    "duration": 11,
    "start_time": "2024-08-06T20:00:34.099Z"
   },
   {
    "duration": 4,
    "start_time": "2024-08-06T20:00:34.649Z"
   },
   {
    "duration": 1854,
    "start_time": "2024-08-06T20:00:34.792Z"
   },
   {
    "duration": 23,
    "start_time": "2024-08-06T20:00:36.652Z"
   },
   {
    "duration": 73,
    "start_time": "2024-08-06T20:00:36.683Z"
   },
   {
    "duration": 18,
    "start_time": "2024-08-06T20:00:36.769Z"
   },
   {
    "duration": 28,
    "start_time": "2024-08-06T20:00:42.389Z"
   },
   {
    "duration": 182,
    "start_time": "2024-08-06T20:00:42.555Z"
   },
   {
    "duration": 185,
    "start_time": "2024-08-06T20:00:42.740Z"
   },
   {
    "duration": 18,
    "start_time": "2024-08-06T20:00:42.929Z"
   },
   {
    "duration": 13,
    "start_time": "2024-08-06T20:00:42.955Z"
   },
   {
    "duration": 19,
    "start_time": "2024-08-06T20:00:43.064Z"
   },
   {
    "duration": 15,
    "start_time": "2024-08-06T20:00:43.181Z"
   },
   {
    "duration": 27,
    "start_time": "2024-08-06T20:00:43.302Z"
   },
   {
    "duration": 30,
    "start_time": "2024-08-06T20:00:43.424Z"
   },
   {
    "duration": 16,
    "start_time": "2024-08-06T20:00:43.552Z"
   },
   {
    "duration": 26,
    "start_time": "2024-08-06T20:00:43.668Z"
   },
   {
    "duration": 8,
    "start_time": "2024-08-06T20:00:43.801Z"
   },
   {
    "duration": 19,
    "start_time": "2024-08-06T20:00:43.902Z"
   },
   {
    "duration": 10,
    "start_time": "2024-08-06T20:00:44.039Z"
   },
   {
    "duration": 9,
    "start_time": "2024-08-06T20:00:44.159Z"
   },
   {
    "duration": 54,
    "start_time": "2024-08-06T20:00:44.272Z"
   },
   {
    "duration": 38,
    "start_time": "2024-08-06T20:00:44.391Z"
   },
   {
    "duration": 96,
    "start_time": "2024-08-06T20:00:44.518Z"
   },
   {
    "duration": 1453,
    "start_time": "2024-08-06T20:00:44.642Z"
   },
   {
    "duration": 168,
    "start_time": "2024-08-06T20:00:46.105Z"
   },
   {
    "duration": 17,
    "start_time": "2024-08-06T20:00:46.276Z"
   },
   {
    "duration": 20,
    "start_time": "2024-08-06T20:00:46.299Z"
   },
   {
    "duration": 8,
    "start_time": "2024-08-06T20:00:46.322Z"
   },
   {
    "duration": 11,
    "start_time": "2024-08-06T20:00:46.367Z"
   },
   {
    "duration": 10,
    "start_time": "2024-08-06T20:00:46.382Z"
   },
   {
    "duration": 42,
    "start_time": "2024-08-06T20:00:46.398Z"
   },
   {
    "duration": 29,
    "start_time": "2024-08-06T20:00:46.447Z"
   },
   {
    "duration": 17,
    "start_time": "2024-08-06T20:00:46.563Z"
   },
   {
    "duration": 46,
    "start_time": "2024-08-06T20:00:47.020Z"
   },
   {
    "duration": 19,
    "start_time": "2024-08-06T20:00:47.171Z"
   },
   {
    "duration": 15,
    "start_time": "2024-08-06T20:00:52.383Z"
   },
   {
    "duration": 372,
    "start_time": "2024-08-06T20:01:15.596Z"
   },
   {
    "duration": 34,
    "start_time": "2024-08-06T20:01:21.149Z"
   },
   {
    "duration": 31,
    "start_time": "2024-08-06T20:01:25.819Z"
   },
   {
    "duration": 10,
    "start_time": "2024-08-06T20:01:41.779Z"
   },
   {
    "duration": 11,
    "start_time": "2024-08-06T20:01:44.761Z"
   },
   {
    "duration": 24,
    "start_time": "2024-08-06T20:01:58.465Z"
   },
   {
    "duration": 12,
    "start_time": "2024-08-06T20:02:12.399Z"
   },
   {
    "duration": 8,
    "start_time": "2024-08-06T20:02:39.441Z"
   },
   {
    "duration": 37,
    "start_time": "2024-08-06T20:03:27.385Z"
   },
   {
    "duration": 26,
    "start_time": "2024-08-06T20:03:58.594Z"
   },
   {
    "duration": 21,
    "start_time": "2024-08-06T20:05:33.907Z"
   },
   {
    "duration": 25,
    "start_time": "2024-08-06T20:06:13.053Z"
   },
   {
    "duration": 31,
    "start_time": "2024-08-06T20:06:58.848Z"
   },
   {
    "duration": 10,
    "start_time": "2024-08-06T20:07:49.576Z"
   },
   {
    "duration": 10,
    "start_time": "2024-08-06T20:07:53.124Z"
   },
   {
    "duration": 21,
    "start_time": "2024-08-06T20:09:28.937Z"
   },
   {
    "duration": 23,
    "start_time": "2024-08-06T20:09:41.616Z"
   },
   {
    "duration": 25,
    "start_time": "2024-08-06T20:11:24.111Z"
   },
   {
    "duration": 25,
    "start_time": "2024-08-06T20:11:47.284Z"
   },
   {
    "duration": 12,
    "start_time": "2024-08-06T20:12:19.605Z"
   },
   {
    "duration": 12,
    "start_time": "2024-08-06T20:12:22.131Z"
   },
   {
    "duration": 18,
    "start_time": "2024-08-06T20:13:49.328Z"
   },
   {
    "duration": 13,
    "start_time": "2024-08-06T20:13:53.330Z"
   },
   {
    "duration": 7,
    "start_time": "2024-08-06T20:16:06.095Z"
   },
   {
    "duration": 15,
    "start_time": "2024-08-06T20:17:15.110Z"
   },
   {
    "duration": 19,
    "start_time": "2024-08-06T20:18:00.480Z"
   },
   {
    "duration": 8,
    "start_time": "2024-08-06T20:20:08.450Z"
   },
   {
    "duration": 20,
    "start_time": "2024-08-06T20:20:45.486Z"
   },
   {
    "duration": 8,
    "start_time": "2024-08-06T20:20:51.557Z"
   },
   {
    "duration": 9,
    "start_time": "2024-08-06T20:21:56.521Z"
   },
   {
    "duration": 1386,
    "start_time": "2024-08-06T20:22:37.823Z"
   },
   {
    "duration": 456,
    "start_time": "2024-08-06T20:23:05.476Z"
   },
   {
    "duration": 363,
    "start_time": "2024-08-06T20:23:13.878Z"
   },
   {
    "duration": 350,
    "start_time": "2024-08-06T20:23:22.160Z"
   },
   {
    "duration": 347,
    "start_time": "2024-08-06T20:23:32.252Z"
   },
   {
    "duration": 360,
    "start_time": "2024-08-06T20:23:36.428Z"
   },
   {
    "duration": 325,
    "start_time": "2024-08-06T20:23:44.432Z"
   },
   {
    "duration": 33,
    "start_time": "2024-08-06T20:23:58.801Z"
   },
   {
    "duration": 35,
    "start_time": "2024-08-06T20:25:11.526Z"
   },
   {
    "duration": 14,
    "start_time": "2024-08-06T20:25:56.895Z"
   },
   {
    "duration": 10,
    "start_time": "2024-08-06T20:26:04.507Z"
   },
   {
    "duration": 841,
    "start_time": "2024-08-06T20:26:27.320Z"
   },
   {
    "duration": 4,
    "start_time": "2024-08-06T20:26:57.101Z"
   },
   {
    "duration": 8,
    "start_time": "2024-08-06T20:27:01.229Z"
   },
   {
    "duration": 12,
    "start_time": "2024-08-06T20:27:46.318Z"
   },
   {
    "duration": 10,
    "start_time": "2024-08-06T20:28:00.578Z"
   },
   {
    "duration": 6,
    "start_time": "2024-08-06T20:32:38.050Z"
   },
   {
    "duration": 462,
    "start_time": "2024-08-06T20:32:53.297Z"
   },
   {
    "duration": 10,
    "start_time": "2024-08-06T20:39:58.918Z"
   },
   {
    "duration": 7,
    "start_time": "2024-08-06T20:40:45.111Z"
   },
   {
    "duration": 12,
    "start_time": "2024-08-06T20:40:52.820Z"
   },
   {
    "duration": 14,
    "start_time": "2024-08-06T20:41:26.521Z"
   },
   {
    "duration": 23,
    "start_time": "2024-08-06T20:41:33.460Z"
   },
   {
    "duration": 11,
    "start_time": "2024-08-06T20:43:37.196Z"
   },
   {
    "duration": 35,
    "start_time": "2024-08-06T20:44:49.195Z"
   },
   {
    "duration": 9,
    "start_time": "2024-08-06T20:46:09.467Z"
   },
   {
    "duration": 8,
    "start_time": "2024-08-06T20:46:15.502Z"
   },
   {
    "duration": 12,
    "start_time": "2024-08-06T20:46:21.831Z"
   },
   {
    "duration": 14,
    "start_time": "2024-08-06T20:46:25.704Z"
   },
   {
    "duration": 12,
    "start_time": "2024-08-06T20:47:31.239Z"
   },
   {
    "duration": 5,
    "start_time": "2024-08-06T20:50:25.794Z"
   },
   {
    "duration": 7,
    "start_time": "2024-08-06T20:50:32.843Z"
   },
   {
    "duration": 6,
    "start_time": "2024-08-06T20:50:54.105Z"
   },
   {
    "duration": 11,
    "start_time": "2024-08-06T20:52:46.208Z"
   },
   {
    "duration": 11,
    "start_time": "2024-08-06T20:54:35.631Z"
   },
   {
    "duration": 11,
    "start_time": "2024-08-06T20:54:46.335Z"
   },
   {
    "duration": 9,
    "start_time": "2024-08-06T20:55:25.755Z"
   },
   {
    "duration": 9,
    "start_time": "2024-08-06T20:55:33.021Z"
   },
   {
    "duration": 78,
    "start_time": "2024-08-06T20:56:53.342Z"
   },
   {
    "duration": 99,
    "start_time": "2024-08-06T20:57:04.829Z"
   },
   {
    "duration": 40,
    "start_time": "2024-08-06T20:57:55.170Z"
   },
   {
    "duration": 43,
    "start_time": "2024-08-06T20:59:06.912Z"
   },
   {
    "duration": 7,
    "start_time": "2024-08-06T20:59:25.189Z"
   },
   {
    "duration": 3,
    "start_time": "2024-08-06T20:59:34.715Z"
   },
   {
    "duration": 370,
    "start_time": "2024-08-06T21:03:16.758Z"
   },
   {
    "duration": 82,
    "start_time": "2024-08-06T21:03:26.696Z"
   },
   {
    "duration": 7,
    "start_time": "2024-08-06T21:03:32.854Z"
   },
   {
    "duration": 5,
    "start_time": "2024-08-06T21:03:47.606Z"
   },
   {
    "duration": 78,
    "start_time": "2024-08-06T21:03:52.405Z"
   },
   {
    "duration": 79,
    "start_time": "2024-08-06T21:04:23.627Z"
   },
   {
    "duration": 7,
    "start_time": "2024-08-06T21:06:00.089Z"
   },
   {
    "duration": 12,
    "start_time": "2024-08-06T21:06:09.062Z"
   },
   {
    "duration": 12,
    "start_time": "2024-08-06T21:06:18.834Z"
   },
   {
    "duration": 12,
    "start_time": "2024-08-06T21:06:24.182Z"
   },
   {
    "duration": 20,
    "start_time": "2024-08-06T21:07:52.837Z"
   },
   {
    "duration": 14,
    "start_time": "2024-08-06T21:07:58.538Z"
   },
   {
    "duration": 969,
    "start_time": "2024-08-06T21:08:06.250Z"
   },
   {
    "duration": 15,
    "start_time": "2024-08-06T21:08:13.467Z"
   },
   {
    "duration": 21,
    "start_time": "2024-08-06T21:09:43.592Z"
   },
   {
    "duration": 3,
    "start_time": "2024-08-06T21:11:56.460Z"
   },
   {
    "duration": 17,
    "start_time": "2024-08-06T21:12:33.485Z"
   },
   {
    "duration": 17,
    "start_time": "2024-08-06T21:13:33.662Z"
   },
   {
    "duration": 42,
    "start_time": "2024-08-06T21:14:52.375Z"
   },
   {
    "duration": 24,
    "start_time": "2024-08-06T21:14:56.200Z"
   },
   {
    "duration": 9,
    "start_time": "2024-08-06T21:15:03.819Z"
   },
   {
    "duration": 7,
    "start_time": "2024-08-06T21:15:50.945Z"
   },
   {
    "duration": 7,
    "start_time": "2024-08-06T21:17:03.530Z"
   },
   {
    "duration": 10,
    "start_time": "2024-08-06T21:17:09.984Z"
   },
   {
    "duration": 4,
    "start_time": "2024-08-06T21:17:11.921Z"
   },
   {
    "duration": 8,
    "start_time": "2024-08-06T21:17:19.185Z"
   },
   {
    "duration": 6,
    "start_time": "2024-08-06T21:17:55.484Z"
   },
   {
    "duration": 7,
    "start_time": "2024-08-06T21:17:56.043Z"
   },
   {
    "duration": 13,
    "start_time": "2024-08-06T21:18:14.494Z"
   },
   {
    "duration": 15,
    "start_time": "2024-08-06T21:18:17.049Z"
   },
   {
    "duration": 14,
    "start_time": "2024-08-06T21:18:18.991Z"
   },
   {
    "duration": 14,
    "start_time": "2024-08-06T21:18:20.952Z"
   },
   {
    "duration": 13,
    "start_time": "2024-08-06T21:18:22.732Z"
   },
   {
    "duration": 15,
    "start_time": "2024-08-06T21:18:24.342Z"
   },
   {
    "duration": 7,
    "start_time": "2024-08-06T21:18:26.642Z"
   },
   {
    "duration": 19,
    "start_time": "2024-08-06T21:18:29.576Z"
   },
   {
    "duration": 13,
    "start_time": "2024-08-06T21:19:04.711Z"
   },
   {
    "duration": 40,
    "start_time": "2024-08-06T21:19:07.056Z"
   },
   {
    "duration": 13,
    "start_time": "2024-08-06T21:19:08.713Z"
   },
   {
    "duration": 21,
    "start_time": "2024-08-06T21:20:41.892Z"
   },
   {
    "duration": 10,
    "start_time": "2024-08-06T21:20:45.500Z"
   },
   {
    "duration": 10,
    "start_time": "2024-08-06T21:20:48.495Z"
   },
   {
    "duration": 6,
    "start_time": "2024-08-06T21:20:56.319Z"
   },
   {
    "duration": 6,
    "start_time": "2024-08-06T21:21:04.297Z"
   },
   {
    "duration": 17,
    "start_time": "2024-08-06T21:23:40.697Z"
   },
   {
    "duration": 19,
    "start_time": "2024-08-06T21:23:50.488Z"
   },
   {
    "duration": 26,
    "start_time": "2024-08-06T21:25:07.782Z"
   },
   {
    "duration": 17,
    "start_time": "2024-08-06T21:25:19.861Z"
   },
   {
    "duration": 10,
    "start_time": "2024-08-06T21:27:34.263Z"
   },
   {
    "duration": 10,
    "start_time": "2024-08-06T21:36:58.964Z"
   },
   {
    "duration": 9,
    "start_time": "2024-08-06T21:37:05.331Z"
   },
   {
    "duration": 23,
    "start_time": "2024-08-06T21:38:29.098Z"
   },
   {
    "duration": 36,
    "start_time": "2024-08-06T21:38:49.379Z"
   },
   {
    "duration": 23,
    "start_time": "2024-08-06T21:38:58.106Z"
   },
   {
    "duration": 5,
    "start_time": "2024-08-06T21:39:56.998Z"
   },
   {
    "duration": 31,
    "start_time": "2024-08-06T21:40:06.475Z"
   },
   {
    "duration": 114,
    "start_time": "2024-08-06T21:40:44.062Z"
   },
   {
    "duration": 112,
    "start_time": "2024-08-06T21:40:54.728Z"
   },
   {
    "duration": 15,
    "start_time": "2024-08-06T21:41:03.601Z"
   },
   {
    "duration": 8,
    "start_time": "2024-08-06T21:41:17.864Z"
   },
   {
    "duration": 8,
    "start_time": "2024-08-06T21:42:18.154Z"
   },
   {
    "duration": 10,
    "start_time": "2024-08-06T21:42:36.193Z"
   },
   {
    "duration": 765,
    "start_time": "2024-08-06T21:42:58.135Z"
   },
   {
    "duration": 44,
    "start_time": "2024-08-06T21:43:20.061Z"
   },
   {
    "duration": 747,
    "start_time": "2024-08-06T21:43:23.869Z"
   },
   {
    "duration": 48,
    "start_time": "2024-08-06T21:47:03.349Z"
   },
   {
    "duration": 34,
    "start_time": "2024-08-06T21:47:24.792Z"
   },
   {
    "duration": 15,
    "start_time": "2024-08-06T21:48:19.278Z"
   },
   {
    "duration": 9,
    "start_time": "2024-08-06T21:50:30.536Z"
   },
   {
    "duration": 13,
    "start_time": "2024-08-06T21:50:36.591Z"
   },
   {
    "duration": 15,
    "start_time": "2024-08-06T21:50:44.005Z"
   },
   {
    "duration": 14,
    "start_time": "2024-08-06T21:51:47.798Z"
   },
   {
    "duration": 15,
    "start_time": "2024-08-06T21:52:31.963Z"
   },
   {
    "duration": 12,
    "start_time": "2024-08-06T21:52:44.502Z"
   },
   {
    "duration": 6,
    "start_time": "2024-08-06T21:53:02.935Z"
   },
   {
    "duration": 10,
    "start_time": "2024-08-06T21:53:56.083Z"
   },
   {
    "duration": 12,
    "start_time": "2024-08-06T21:54:02.265Z"
   },
   {
    "duration": 12,
    "start_time": "2024-08-06T21:54:22.943Z"
   },
   {
    "duration": 7,
    "start_time": "2024-08-06T21:55:40.426Z"
   },
   {
    "duration": 16,
    "start_time": "2024-08-06T21:55:57.534Z"
   },
   {
    "duration": 7,
    "start_time": "2024-08-06T21:56:03.814Z"
   },
   {
    "duration": 29,
    "start_time": "2024-08-06T21:57:12.981Z"
   },
   {
    "duration": 14,
    "start_time": "2024-08-06T21:58:29.322Z"
   },
   {
    "duration": 323,
    "start_time": "2024-08-07T01:47:57.018Z"
   },
   {
    "duration": 23,
    "start_time": "2024-08-07T01:47:59.606Z"
   },
   {
    "duration": 24,
    "start_time": "2024-08-07T01:48:00.605Z"
   },
   {
    "duration": 4287,
    "start_time": "2024-08-07T01:48:06.025Z"
   },
   {
    "duration": 1682,
    "start_time": "2024-08-07T01:48:10.315Z"
   },
   {
    "duration": 18,
    "start_time": "2024-08-07T01:48:12.000Z"
   },
   {
    "duration": 61,
    "start_time": "2024-08-07T01:48:12.036Z"
   },
   {
    "duration": 8,
    "start_time": "2024-08-07T01:48:12.100Z"
   },
   {
    "duration": 23,
    "start_time": "2024-08-07T01:48:12.133Z"
   },
   {
    "duration": 198,
    "start_time": "2024-08-07T01:48:12.159Z"
   },
   {
    "duration": 206,
    "start_time": "2024-08-07T01:48:12.360Z"
   },
   {
    "duration": 16,
    "start_time": "2024-08-07T01:48:12.569Z"
   },
   {
    "duration": 4,
    "start_time": "2024-08-07T01:48:12.590Z"
   },
   {
    "duration": 45,
    "start_time": "2024-08-07T01:48:12.597Z"
   },
   {
    "duration": 10,
    "start_time": "2024-08-07T01:48:12.645Z"
   },
   {
    "duration": 21,
    "start_time": "2024-08-07T01:48:12.658Z"
   },
   {
    "duration": 658,
    "start_time": "2024-08-07T01:48:14.770Z"
   },
   {
    "duration": 1559,
    "start_time": "2024-08-07T01:48:15.434Z"
   },
   {
    "duration": 18,
    "start_time": "2024-08-07T01:48:16.996Z"
   },
   {
    "duration": 59,
    "start_time": "2024-08-07T01:48:17.032Z"
   },
   {
    "duration": 10,
    "start_time": "2024-08-07T01:48:17.094Z"
   },
   {
    "duration": 29,
    "start_time": "2024-08-07T01:48:17.138Z"
   },
   {
    "duration": 182,
    "start_time": "2024-08-07T01:48:17.171Z"
   },
   {
    "duration": 197,
    "start_time": "2024-08-07T01:48:17.356Z"
   },
   {
    "duration": 15,
    "start_time": "2024-08-07T01:48:17.556Z"
   },
   {
    "duration": 3,
    "start_time": "2024-08-07T01:48:17.576Z"
   },
   {
    "duration": 17,
    "start_time": "2024-08-07T01:48:17.583Z"
   },
   {
    "duration": 11,
    "start_time": "2024-08-07T01:48:17.634Z"
   },
   {
    "duration": 20,
    "start_time": "2024-08-07T01:48:17.648Z"
   },
   {
    "duration": 24,
    "start_time": "2024-08-07T01:48:17.671Z"
   },
   {
    "duration": 15,
    "start_time": "2024-08-07T01:48:17.732Z"
   },
   {
    "duration": 8,
    "start_time": "2024-08-07T01:48:17.750Z"
   },
   {
    "duration": 7,
    "start_time": "2024-08-07T01:48:17.761Z"
   },
   {
    "duration": 15,
    "start_time": "2024-08-07T01:48:17.771Z"
   },
   {
    "duration": 9,
    "start_time": "2024-08-07T01:48:17.834Z"
   },
   {
    "duration": 7,
    "start_time": "2024-08-07T01:48:17.848Z"
   },
   {
    "duration": 39,
    "start_time": "2024-08-07T01:48:17.858Z"
   },
   {
    "duration": 28,
    "start_time": "2024-08-07T01:48:17.933Z"
   },
   {
    "duration": 93,
    "start_time": "2024-08-07T01:48:17.964Z"
   },
   {
    "duration": 1198,
    "start_time": "2024-08-07T01:48:18.060Z"
   },
   {
    "duration": 157,
    "start_time": "2024-08-07T01:48:19.262Z"
   },
   {
    "duration": 21,
    "start_time": "2024-08-07T01:48:19.422Z"
   },
   {
    "duration": 18,
    "start_time": "2024-08-07T01:48:19.445Z"
   },
   {
    "duration": 8,
    "start_time": "2024-08-07T01:48:19.472Z"
   },
   {
    "duration": 8,
    "start_time": "2024-08-07T01:48:19.483Z"
   },
   {
    "duration": 7,
    "start_time": "2024-08-07T01:48:19.533Z"
   },
   {
    "duration": 23,
    "start_time": "2024-08-07T01:48:19.544Z"
   },
   {
    "duration": 8,
    "start_time": "2024-08-07T01:48:19.570Z"
   },
   {
    "duration": 53,
    "start_time": "2024-08-07T01:48:19.580Z"
   },
   {
    "duration": 32,
    "start_time": "2024-08-07T01:48:19.636Z"
   },
   {
    "duration": 12,
    "start_time": "2024-08-07T01:48:19.671Z"
   },
   {
    "duration": 7,
    "start_time": "2024-08-07T01:48:19.686Z"
   },
   {
    "duration": 43,
    "start_time": "2024-08-07T01:48:19.696Z"
   },
   {
    "duration": 7,
    "start_time": "2024-08-07T01:48:19.742Z"
   },
   {
    "duration": 12,
    "start_time": "2024-08-07T01:48:19.752Z"
   },
   {
    "duration": 1314,
    "start_time": "2024-08-07T01:48:19.766Z"
   },
   {
    "duration": 26,
    "start_time": "2024-08-07T01:48:21.082Z"
   },
   {
    "duration": 29,
    "start_time": "2024-08-07T01:48:21.111Z"
   },
   {
    "duration": 8,
    "start_time": "2024-08-07T01:48:21.143Z"
   },
   {
    "duration": 26,
    "start_time": "2024-08-07T01:48:21.154Z"
   },
   {
    "duration": 50,
    "start_time": "2024-08-07T01:48:21.183Z"
   },
   {
    "duration": 9,
    "start_time": "2024-08-07T01:48:21.236Z"
   },
   {
    "duration": 4,
    "start_time": "2024-08-07T01:48:21.250Z"
   },
   {
    "duration": 21,
    "start_time": "2024-08-07T01:48:21.260Z"
   },
   {
    "duration": 12,
    "start_time": "2024-08-07T01:48:21.284Z"
   },
   {
    "duration": 9,
    "start_time": "2024-08-07T01:48:21.335Z"
   },
   {
    "duration": 27,
    "start_time": "2024-08-07T01:48:21.346Z"
   },
   {
    "duration": 777,
    "start_time": "2024-08-07T01:48:21.377Z"
   },
   {
    "duration": 6,
    "start_time": "2024-08-07T01:48:22.158Z"
   },
   {
    "duration": 0,
    "start_time": "2024-08-07T01:48:22.167Z"
   },
   {
    "duration": 0,
    "start_time": "2024-08-07T01:48:22.170Z"
   },
   {
    "duration": 0,
    "start_time": "2024-08-07T01:48:22.172Z"
   },
   {
    "duration": 0,
    "start_time": "2024-08-07T01:48:22.174Z"
   },
   {
    "duration": 0,
    "start_time": "2024-08-07T01:48:22.177Z"
   },
   {
    "duration": 0,
    "start_time": "2024-08-07T01:48:22.180Z"
   },
   {
    "duration": 0,
    "start_time": "2024-08-07T01:48:22.182Z"
   },
   {
    "duration": 0,
    "start_time": "2024-08-07T01:48:22.184Z"
   },
   {
    "duration": 0,
    "start_time": "2024-08-07T01:48:22.186Z"
   },
   {
    "duration": 0,
    "start_time": "2024-08-07T01:48:22.238Z"
   },
   {
    "duration": 0,
    "start_time": "2024-08-07T01:48:22.243Z"
   },
   {
    "duration": 14,
    "start_time": "2024-08-07T01:48:24.795Z"
   },
   {
    "duration": 269,
    "start_time": "2024-08-07T01:48:25.146Z"
   },
   {
    "duration": 250,
    "start_time": "2024-08-07T01:48:38.017Z"
   },
   {
    "duration": 267,
    "start_time": "2024-08-07T01:48:42.356Z"
   },
   {
    "duration": 2398,
    "start_time": "2024-08-07T01:49:15.302Z"
   },
   {
    "duration": 267,
    "start_time": "2024-08-07T01:49:23.138Z"
   },
   {
    "duration": 253,
    "start_time": "2024-08-07T01:49:52.958Z"
   },
   {
    "duration": 359,
    "start_time": "2024-08-07T01:49:57.634Z"
   },
   {
    "duration": 256,
    "start_time": "2024-08-07T01:50:04.790Z"
   },
   {
    "duration": 247,
    "start_time": "2024-08-07T01:51:13.599Z"
   },
   {
    "duration": 249,
    "start_time": "2024-08-07T01:51:18.885Z"
   },
   {
    "duration": 18,
    "start_time": "2024-08-07T01:52:11.792Z"
   },
   {
    "duration": 18,
    "start_time": "2024-08-07T01:52:45.788Z"
   },
   {
    "duration": 254,
    "start_time": "2024-08-07T01:52:51.419Z"
   },
   {
    "duration": 18,
    "start_time": "2024-08-07T01:53:09.192Z"
   },
   {
    "duration": 310,
    "start_time": "2024-08-07T01:55:56.148Z"
   },
   {
    "duration": 301,
    "start_time": "2024-08-07T01:56:05.894Z"
   },
   {
    "duration": 305,
    "start_time": "2024-08-07T01:56:17.705Z"
   },
   {
    "duration": 305,
    "start_time": "2024-08-07T01:56:36.288Z"
   },
   {
    "duration": 322,
    "start_time": "2024-08-07T01:56:43.743Z"
   },
   {
    "duration": 303,
    "start_time": "2024-08-07T01:56:47.764Z"
   },
   {
    "duration": 313,
    "start_time": "2024-08-07T01:56:51.904Z"
   },
   {
    "duration": 310,
    "start_time": "2024-08-07T01:56:57.540Z"
   },
   {
    "duration": 465,
    "start_time": "2024-08-07T01:57:07.878Z"
   },
   {
    "duration": 302,
    "start_time": "2024-08-07T01:57:19.276Z"
   },
   {
    "duration": 323,
    "start_time": "2024-08-07T01:57:24.998Z"
   },
   {
    "duration": 297,
    "start_time": "2024-08-07T01:57:27.883Z"
   },
   {
    "duration": 303,
    "start_time": "2024-08-07T01:57:56.552Z"
   },
   {
    "duration": 200,
    "start_time": "2024-08-07T01:58:20.520Z"
   },
   {
    "duration": 243,
    "start_time": "2024-08-07T01:58:26.310Z"
   },
   {
    "duration": 303,
    "start_time": "2024-08-07T01:59:25.151Z"
   },
   {
    "duration": 205,
    "start_time": "2024-08-07T01:59:49.438Z"
   },
   {
    "duration": 10,
    "start_time": "2024-08-07T02:00:23.935Z"
   },
   {
    "duration": 73,
    "start_time": "2024-08-07T02:02:08.752Z"
   },
   {
    "duration": 255,
    "start_time": "2024-08-07T02:03:27.523Z"
   },
   {
    "duration": 10,
    "start_time": "2024-08-07T02:04:19.817Z"
   },
   {
    "duration": 11,
    "start_time": "2024-08-07T02:04:32.226Z"
   },
   {
    "duration": 67,
    "start_time": "2024-08-07T02:14:19.663Z"
   },
   {
    "duration": 72,
    "start_time": "2024-08-07T02:14:31.556Z"
   },
   {
    "duration": 308,
    "start_time": "2024-08-08T12:44:10.742Z"
   },
   {
    "duration": 4339,
    "start_time": "2024-08-08T12:44:19.198Z"
   },
   {
    "duration": 1675,
    "start_time": "2024-08-08T12:44:23.540Z"
   },
   {
    "duration": 23,
    "start_time": "2024-08-08T12:44:25.217Z"
   },
   {
    "duration": 82,
    "start_time": "2024-08-08T12:44:25.246Z"
   },
   {
    "duration": 9,
    "start_time": "2024-08-08T12:44:25.331Z"
   },
   {
    "duration": 25,
    "start_time": "2024-08-08T12:44:25.343Z"
   },
   {
    "duration": 201,
    "start_time": "2024-08-08T12:44:25.372Z"
   },
   {
    "duration": 197,
    "start_time": "2024-08-08T12:44:25.576Z"
   },
   {
    "duration": 17,
    "start_time": "2024-08-08T12:44:25.775Z"
   },
   {
    "duration": 3,
    "start_time": "2024-08-08T12:44:25.797Z"
   },
   {
    "duration": 16,
    "start_time": "2024-08-08T12:44:25.826Z"
   },
   {
    "duration": 11,
    "start_time": "2024-08-08T12:44:25.844Z"
   },
   {
    "duration": 21,
    "start_time": "2024-08-08T12:44:25.858Z"
   },
   {
    "duration": 63,
    "start_time": "2024-08-08T12:44:25.882Z"
   },
   {
    "duration": 13,
    "start_time": "2024-08-08T12:44:25.948Z"
   },
   {
    "duration": 9,
    "start_time": "2024-08-08T12:44:25.966Z"
   },
   {
    "duration": 7,
    "start_time": "2024-08-08T12:44:25.978Z"
   },
   {
    "duration": 15,
    "start_time": "2024-08-08T12:44:26.025Z"
   },
   {
    "duration": 9,
    "start_time": "2024-08-08T12:44:26.043Z"
   },
   {
    "duration": 7,
    "start_time": "2024-08-08T12:44:26.055Z"
   },
   {
    "duration": 83,
    "start_time": "2024-08-08T12:44:26.065Z"
   },
   {
    "duration": 28,
    "start_time": "2024-08-08T12:44:26.151Z"
   },
   {
    "duration": 98,
    "start_time": "2024-08-08T12:44:26.181Z"
   },
   {
    "duration": 1219,
    "start_time": "2024-08-08T12:44:26.282Z"
   },
   {
    "duration": 166,
    "start_time": "2024-08-08T12:44:27.504Z"
   },
   {
    "duration": 15,
    "start_time": "2024-08-08T12:44:27.672Z"
   },
   {
    "duration": 44,
    "start_time": "2024-08-08T12:44:27.690Z"
   },
   {
    "duration": 9,
    "start_time": "2024-08-08T12:44:27.744Z"
   },
   {
    "duration": 9,
    "start_time": "2024-08-08T12:44:27.755Z"
   },
   {
    "duration": 6,
    "start_time": "2024-08-08T12:44:27.767Z"
   },
   {
    "duration": 65,
    "start_time": "2024-08-08T12:44:27.776Z"
   },
   {
    "duration": 7,
    "start_time": "2024-08-08T12:44:27.844Z"
   },
   {
    "duration": 13,
    "start_time": "2024-08-08T12:44:27.854Z"
   },
   {
    "duration": 64,
    "start_time": "2024-08-08T12:44:27.870Z"
   },
   {
    "duration": 12,
    "start_time": "2024-08-08T12:44:27.938Z"
   },
   {
    "duration": 7,
    "start_time": "2024-08-08T12:44:27.953Z"
   },
   {
    "duration": 9,
    "start_time": "2024-08-08T12:44:27.963Z"
   },
   {
    "duration": 52,
    "start_time": "2024-08-08T12:44:27.975Z"
   },
   {
    "duration": 9,
    "start_time": "2024-08-08T12:44:28.031Z"
   },
   {
    "duration": 1304,
    "start_time": "2024-08-08T12:44:28.043Z"
   },
   {
    "duration": 36,
    "start_time": "2024-08-08T12:44:29.350Z"
   },
   {
    "duration": 13,
    "start_time": "2024-08-08T12:44:29.391Z"
   },
   {
    "duration": 8,
    "start_time": "2024-08-08T12:44:29.427Z"
   },
   {
    "duration": 21,
    "start_time": "2024-08-08T12:44:29.437Z"
   },
   {
    "duration": 7,
    "start_time": "2024-08-08T12:44:29.462Z"
   },
   {
    "duration": 8,
    "start_time": "2024-08-08T12:44:29.471Z"
   },
   {
    "duration": 3,
    "start_time": "2024-08-08T12:44:29.527Z"
   },
   {
    "duration": 17,
    "start_time": "2024-08-08T12:44:29.534Z"
   },
   {
    "duration": 10,
    "start_time": "2024-08-08T12:44:29.554Z"
   },
   {
    "duration": 7,
    "start_time": "2024-08-08T12:44:29.568Z"
   },
   {
    "duration": 49,
    "start_time": "2024-08-08T12:44:29.583Z"
   },
   {
    "duration": 737,
    "start_time": "2024-08-08T12:44:29.636Z"
   },
   {
    "duration": 7,
    "start_time": "2024-08-08T12:44:30.377Z"
   },
   {
    "duration": 0,
    "start_time": "2024-08-08T12:44:30.388Z"
   },
   {
    "duration": 0,
    "start_time": "2024-08-08T12:44:30.390Z"
   },
   {
    "duration": 0,
    "start_time": "2024-08-08T12:44:30.392Z"
   },
   {
    "duration": 0,
    "start_time": "2024-08-08T12:44:30.395Z"
   },
   {
    "duration": 0,
    "start_time": "2024-08-08T12:44:30.427Z"
   },
   {
    "duration": 0,
    "start_time": "2024-08-08T12:44:30.429Z"
   },
   {
    "duration": 0,
    "start_time": "2024-08-08T12:44:30.430Z"
   },
   {
    "duration": 0,
    "start_time": "2024-08-08T12:44:30.432Z"
   },
   {
    "duration": 0,
    "start_time": "2024-08-08T12:44:30.435Z"
   },
   {
    "duration": 0,
    "start_time": "2024-08-08T12:44:30.437Z"
   },
   {
    "duration": 0,
    "start_time": "2024-08-08T12:44:30.439Z"
   },
   {
    "duration": 0,
    "start_time": "2024-08-08T12:44:30.441Z"
   },
   {
    "duration": 0,
    "start_time": "2024-08-08T12:44:30.444Z"
   },
   {
    "duration": 0,
    "start_time": "2024-08-08T12:44:30.447Z"
   },
   {
    "duration": 0,
    "start_time": "2024-08-08T12:44:30.449Z"
   },
   {
    "duration": 0,
    "start_time": "2024-08-08T12:44:30.451Z"
   },
   {
    "duration": 0,
    "start_time": "2024-08-08T12:44:30.454Z"
   },
   {
    "duration": 0,
    "start_time": "2024-08-08T12:44:30.455Z"
   },
   {
    "duration": 12,
    "start_time": "2024-08-08T12:44:33.561Z"
   },
   {
    "duration": 344,
    "start_time": "2024-08-08T12:45:22.195Z"
   },
   {
    "duration": 68,
    "start_time": "2024-08-08T12:45:24.748Z"
   },
   {
    "duration": 332,
    "start_time": "2024-08-08T12:45:25.546Z"
   },
   {
    "duration": 11,
    "start_time": "2024-08-08T12:46:19.843Z"
   },
   {
    "duration": 10,
    "start_time": "2024-08-08T12:47:58.585Z"
   },
   {
    "duration": 157,
    "start_time": "2024-08-08T12:49:51.988Z"
   },
   {
    "duration": 169,
    "start_time": "2024-08-08T12:50:02.836Z"
   },
   {
    "duration": 171,
    "start_time": "2024-08-08T12:50:21.065Z"
   },
   {
    "duration": 871,
    "start_time": "2024-08-08T12:53:09.319Z"
   },
   {
    "duration": 277,
    "start_time": "2024-08-08T12:53:16.364Z"
   },
   {
    "duration": 206,
    "start_time": "2024-08-08T12:53:23.426Z"
   },
   {
    "duration": 200,
    "start_time": "2024-08-08T12:53:33.805Z"
   },
   {
    "duration": 209,
    "start_time": "2024-08-08T12:55:01.291Z"
   },
   {
    "duration": 205,
    "start_time": "2024-08-08T12:55:34.317Z"
   },
   {
    "duration": 159,
    "start_time": "2024-08-08T12:55:53.293Z"
   },
   {
    "duration": 29,
    "start_time": "2024-08-08T12:59:59.926Z"
   },
   {
    "duration": 29,
    "start_time": "2024-08-08T13:01:43.874Z"
   },
   {
    "duration": 10,
    "start_time": "2024-08-08T13:02:55.152Z"
   },
   {
    "duration": 161,
    "start_time": "2024-08-08T13:02:55.787Z"
   },
   {
    "duration": 29,
    "start_time": "2024-08-08T13:02:56.640Z"
   },
   {
    "duration": 24,
    "start_time": "2024-08-08T13:06:47.290Z"
   },
   {
    "duration": 201,
    "start_time": "2024-08-08T13:07:18.727Z"
   },
   {
    "duration": 21,
    "start_time": "2024-08-08T13:20:25.633Z"
   },
   {
    "duration": 20,
    "start_time": "2024-08-08T13:20:34.813Z"
   },
   {
    "duration": 3,
    "start_time": "2024-08-08T13:20:35.225Z"
   },
   {
    "duration": 12,
    "start_time": "2024-08-08T13:20:48.497Z"
   },
   {
    "duration": 3,
    "start_time": "2024-08-08T13:23:23.115Z"
   },
   {
    "duration": 11,
    "start_time": "2024-08-08T13:23:24.300Z"
   },
   {
    "duration": 40,
    "start_time": "2024-08-08T13:27:04.834Z"
   },
   {
    "duration": 17,
    "start_time": "2024-08-08T13:28:28.332Z"
   },
   {
    "duration": 23,
    "start_time": "2024-08-08T13:30:16.003Z"
   },
   {
    "duration": 43,
    "start_time": "2024-08-08T13:30:28.523Z"
   },
   {
    "duration": 14,
    "start_time": "2024-08-08T13:30:28.983Z"
   },
   {
    "duration": 25,
    "start_time": "2024-08-08T13:30:29.498Z"
   },
   {
    "duration": 13,
    "start_time": "2024-08-08T13:31:29.649Z"
   },
   {
    "duration": 21,
    "start_time": "2024-08-08T13:31:30.001Z"
   },
   {
    "duration": 3,
    "start_time": "2024-08-08T13:31:50.912Z"
   },
   {
    "duration": 11,
    "start_time": "2024-08-08T13:32:00.699Z"
   },
   {
    "duration": 16,
    "start_time": "2024-08-08T13:54:48.789Z"
   },
   {
    "duration": 20,
    "start_time": "2024-08-08T13:56:33.283Z"
   },
   {
    "duration": 3,
    "start_time": "2024-08-08T13:57:06.675Z"
   },
   {
    "duration": 12,
    "start_time": "2024-08-08T13:57:07.449Z"
   },
   {
    "duration": 18,
    "start_time": "2024-08-08T14:30:51.281Z"
   },
   {
    "duration": 4678,
    "start_time": "2024-08-08T16:38:16.499Z"
   },
   {
    "duration": 1803,
    "start_time": "2024-08-08T16:38:21.182Z"
   },
   {
    "duration": 20,
    "start_time": "2024-08-08T16:38:22.988Z"
   },
   {
    "duration": 61,
    "start_time": "2024-08-08T16:38:23.029Z"
   },
   {
    "duration": 34,
    "start_time": "2024-08-08T16:38:23.092Z"
   },
   {
    "duration": 25,
    "start_time": "2024-08-08T16:38:23.130Z"
   },
   {
    "duration": 202,
    "start_time": "2024-08-08T16:38:23.158Z"
   },
   {
    "duration": 223,
    "start_time": "2024-08-08T16:38:23.364Z"
   },
   {
    "duration": 16,
    "start_time": "2024-08-08T16:38:23.589Z"
   },
   {
    "duration": 4,
    "start_time": "2024-08-08T16:38:23.631Z"
   },
   {
    "duration": 17,
    "start_time": "2024-08-08T16:38:23.639Z"
   },
   {
    "duration": 11,
    "start_time": "2024-08-08T16:38:23.659Z"
   },
   {
    "duration": 64,
    "start_time": "2024-08-08T16:38:23.673Z"
   },
   {
    "duration": 26,
    "start_time": "2024-08-08T16:38:23.741Z"
   },
   {
    "duration": 21,
    "start_time": "2024-08-08T16:38:23.770Z"
   },
   {
    "duration": 38,
    "start_time": "2024-08-08T16:38:23.795Z"
   },
   {
    "duration": 13,
    "start_time": "2024-08-08T16:38:23.836Z"
   },
   {
    "duration": 13,
    "start_time": "2024-08-08T16:38:23.852Z"
   },
   {
    "duration": 11,
    "start_time": "2024-08-08T16:38:23.869Z"
   },
   {
    "duration": 51,
    "start_time": "2024-08-08T16:38:23.883Z"
   },
   {
    "duration": 40,
    "start_time": "2024-08-08T16:38:23.937Z"
   },
   {
    "duration": 65,
    "start_time": "2024-08-08T16:38:23.980Z"
   },
   {
    "duration": 98,
    "start_time": "2024-08-08T16:38:24.048Z"
   },
   {
    "duration": 1248,
    "start_time": "2024-08-08T16:38:24.149Z"
   },
   {
    "duration": 171,
    "start_time": "2024-08-08T16:38:25.401Z"
   },
   {
    "duration": 16,
    "start_time": "2024-08-08T16:38:25.576Z"
   },
   {
    "duration": 43,
    "start_time": "2024-08-08T16:38:25.595Z"
   },
   {
    "duration": 10,
    "start_time": "2024-08-08T16:38:25.652Z"
   },
   {
    "duration": 10,
    "start_time": "2024-08-08T16:38:25.665Z"
   },
   {
    "duration": 47,
    "start_time": "2024-08-08T16:38:25.678Z"
   },
   {
    "duration": 28,
    "start_time": "2024-08-08T16:38:25.728Z"
   },
   {
    "duration": 10,
    "start_time": "2024-08-08T16:38:25.759Z"
   },
   {
    "duration": 16,
    "start_time": "2024-08-08T16:38:25.772Z"
   },
   {
    "duration": 74,
    "start_time": "2024-08-08T16:38:25.791Z"
   },
   {
    "duration": 16,
    "start_time": "2024-08-08T16:38:25.869Z"
   },
   {
    "duration": 8,
    "start_time": "2024-08-08T16:38:25.888Z"
   },
   {
    "duration": 12,
    "start_time": "2024-08-08T16:38:25.928Z"
   },
   {
    "duration": 9,
    "start_time": "2024-08-08T16:38:25.943Z"
   },
   {
    "duration": 9,
    "start_time": "2024-08-08T16:38:25.955Z"
   },
   {
    "duration": 1298,
    "start_time": "2024-08-08T16:38:25.967Z"
   },
   {
    "duration": 28,
    "start_time": "2024-08-08T16:38:27.268Z"
   },
   {
    "duration": 37,
    "start_time": "2024-08-08T16:38:27.302Z"
   },
   {
    "duration": 8,
    "start_time": "2024-08-08T16:38:27.342Z"
   },
   {
    "duration": 22,
    "start_time": "2024-08-08T16:38:27.354Z"
   },
   {
    "duration": 46,
    "start_time": "2024-08-08T16:38:27.380Z"
   },
   {
    "duration": 8,
    "start_time": "2024-08-08T16:38:27.429Z"
   },
   {
    "duration": 4,
    "start_time": "2024-08-08T16:38:27.440Z"
   },
   {
    "duration": 27,
    "start_time": "2024-08-08T16:38:27.448Z"
   },
   {
    "duration": 48,
    "start_time": "2024-08-08T16:38:27.479Z"
   },
   {
    "duration": 17,
    "start_time": "2024-08-08T16:38:27.532Z"
   },
   {
    "duration": 12,
    "start_time": "2024-08-08T16:38:27.558Z"
   },
   {
    "duration": 745,
    "start_time": "2024-08-08T16:38:27.575Z"
   },
   {
    "duration": 12,
    "start_time": "2024-08-08T16:38:28.323Z"
   },
   {
    "duration": 0,
    "start_time": "2024-08-08T16:38:28.338Z"
   },
   {
    "duration": 0,
    "start_time": "2024-08-08T16:38:28.341Z"
   },
   {
    "duration": 0,
    "start_time": "2024-08-08T16:38:28.342Z"
   },
   {
    "duration": 1,
    "start_time": "2024-08-08T16:38:28.344Z"
   },
   {
    "duration": 0,
    "start_time": "2024-08-08T16:38:28.347Z"
   },
   {
    "duration": 0,
    "start_time": "2024-08-08T16:38:28.348Z"
   },
   {
    "duration": 0,
    "start_time": "2024-08-08T16:38:28.350Z"
   },
   {
    "duration": 0,
    "start_time": "2024-08-08T16:38:28.352Z"
   },
   {
    "duration": 0,
    "start_time": "2024-08-08T16:38:28.354Z"
   },
   {
    "duration": 0,
    "start_time": "2024-08-08T16:38:28.356Z"
   },
   {
    "duration": 0,
    "start_time": "2024-08-08T16:38:28.357Z"
   },
   {
    "duration": 0,
    "start_time": "2024-08-08T16:38:28.359Z"
   },
   {
    "duration": 0,
    "start_time": "2024-08-08T16:38:28.361Z"
   },
   {
    "duration": 0,
    "start_time": "2024-08-08T16:38:28.364Z"
   },
   {
    "duration": 0,
    "start_time": "2024-08-08T16:38:28.365Z"
   },
   {
    "duration": 0,
    "start_time": "2024-08-08T16:38:28.367Z"
   },
   {
    "duration": 0,
    "start_time": "2024-08-08T16:38:28.369Z"
   },
   {
    "duration": 0,
    "start_time": "2024-08-08T16:38:28.371Z"
   },
   {
    "duration": 0,
    "start_time": "2024-08-08T16:38:28.373Z"
   },
   {
    "duration": 0,
    "start_time": "2024-08-08T16:38:28.374Z"
   },
   {
    "duration": 0,
    "start_time": "2024-08-08T16:38:28.375Z"
   },
   {
    "duration": 0,
    "start_time": "2024-08-08T16:38:28.376Z"
   },
   {
    "duration": 0,
    "start_time": "2024-08-08T16:38:28.426Z"
   },
   {
    "duration": 0,
    "start_time": "2024-08-08T16:38:28.431Z"
   },
   {
    "duration": 0,
    "start_time": "2024-08-08T16:38:28.437Z"
   },
   {
    "duration": 0,
    "start_time": "2024-08-08T16:38:28.438Z"
   },
   {
    "duration": 0,
    "start_time": "2024-08-08T16:38:28.440Z"
   },
   {
    "duration": 0,
    "start_time": "2024-08-08T16:38:28.441Z"
   },
   {
    "duration": 0,
    "start_time": "2024-08-08T16:38:28.442Z"
   },
   {
    "duration": 0,
    "start_time": "2024-08-08T16:38:28.445Z"
   },
   {
    "duration": 25,
    "start_time": "2024-08-08T16:45:58.775Z"
   },
   {
    "duration": 29,
    "start_time": "2024-08-08T16:45:59.140Z"
   },
   {
    "duration": 11,
    "start_time": "2024-08-08T16:45:59.418Z"
   },
   {
    "duration": 15,
    "start_time": "2024-08-08T16:45:59.785Z"
   },
   {
    "duration": 7,
    "start_time": "2024-08-08T16:45:59.863Z"
   },
   {
    "duration": 13,
    "start_time": "2024-08-08T16:46:00.552Z"
   },
   {
    "duration": 7,
    "start_time": "2024-08-08T16:46:01.245Z"
   },
   {
    "duration": 19,
    "start_time": "2024-08-08T16:46:02.353Z"
   },
   {
    "duration": 250,
    "start_time": "2024-08-08T16:46:02.627Z"
   },
   {
    "duration": 232,
    "start_time": "2024-08-08T16:46:02.985Z"
   },
   {
    "duration": 323,
    "start_time": "2024-08-08T16:46:03.228Z"
   },
   {
    "duration": 11,
    "start_time": "2024-08-08T16:46:03.555Z"
   },
   {
    "duration": 82,
    "start_time": "2024-08-08T16:46:04.182Z"
   },
   {
    "duration": 320,
    "start_time": "2024-08-08T16:46:04.433Z"
   },
   {
    "duration": 14,
    "start_time": "2024-08-08T16:46:05.078Z"
   },
   {
    "duration": 9,
    "start_time": "2024-08-08T16:46:05.463Z"
   },
   {
    "duration": 171,
    "start_time": "2024-08-08T16:46:05.510Z"
   },
   {
    "duration": 31,
    "start_time": "2024-08-08T16:46:06.134Z"
   },
   {
    "duration": 229,
    "start_time": "2024-08-08T16:46:09.334Z"
   },
   {
    "duration": 24,
    "start_time": "2024-08-08T16:46:09.654Z"
   },
   {
    "duration": 4,
    "start_time": "2024-08-08T16:46:09.907Z"
   },
   {
    "duration": 12,
    "start_time": "2024-08-08T16:46:10.136Z"
   },
   {
    "duration": 48,
    "start_time": "2024-08-08T16:46:13.233Z"
   },
   {
    "duration": 15,
    "start_time": "2024-08-08T16:46:13.655Z"
   },
   {
    "duration": 24,
    "start_time": "2024-08-08T16:46:13.823Z"
   },
   {
    "duration": 4,
    "start_time": "2024-08-08T16:46:15.144Z"
   },
   {
    "duration": 11,
    "start_time": "2024-08-08T16:46:15.768Z"
   },
   {
    "duration": 336,
    "start_time": "2024-08-09T01:19:06.106Z"
   },
   {
    "duration": 4514,
    "start_time": "2024-08-09T01:20:02.914Z"
   },
   {
    "duration": 1817,
    "start_time": "2024-08-09T01:20:07.434Z"
   },
   {
    "duration": 19,
    "start_time": "2024-08-09T01:20:09.254Z"
   },
   {
    "duration": 97,
    "start_time": "2024-08-09T01:20:09.279Z"
   },
   {
    "duration": 35,
    "start_time": "2024-08-09T01:20:09.379Z"
   },
   {
    "duration": 23,
    "start_time": "2024-08-09T01:20:09.417Z"
   },
   {
    "duration": 196,
    "start_time": "2024-08-09T01:20:09.443Z"
   },
   {
    "duration": 213,
    "start_time": "2024-08-09T01:20:09.642Z"
   },
   {
    "duration": 18,
    "start_time": "2024-08-09T01:20:09.857Z"
   },
   {
    "duration": 30,
    "start_time": "2024-08-09T01:20:09.878Z"
   },
   {
    "duration": 17,
    "start_time": "2024-08-09T01:20:09.915Z"
   },
   {
    "duration": 10,
    "start_time": "2024-08-09T01:20:09.935Z"
   },
   {
    "duration": 58,
    "start_time": "2024-08-09T01:20:09.954Z"
   },
   {
    "duration": 28,
    "start_time": "2024-08-09T01:20:10.027Z"
   },
   {
    "duration": 16,
    "start_time": "2024-08-09T01:20:10.058Z"
   },
   {
    "duration": 10,
    "start_time": "2024-08-09T01:20:10.077Z"
   },
   {
    "duration": 19,
    "start_time": "2024-08-09T01:20:10.104Z"
   },
   {
    "duration": 17,
    "start_time": "2024-08-09T01:20:10.126Z"
   },
   {
    "duration": 9,
    "start_time": "2024-08-09T01:20:10.145Z"
   },
   {
    "duration": 8,
    "start_time": "2024-08-09T01:20:10.157Z"
   },
   {
    "duration": 54,
    "start_time": "2024-08-09T01:20:10.202Z"
   },
   {
    "duration": 61,
    "start_time": "2024-08-09T01:20:10.259Z"
   },
   {
    "duration": 94,
    "start_time": "2024-08-09T01:20:10.325Z"
   },
   {
    "duration": 1410,
    "start_time": "2024-08-09T01:20:10.422Z"
   },
   {
    "duration": 176,
    "start_time": "2024-08-09T01:20:11.836Z"
   },
   {
    "duration": 21,
    "start_time": "2024-08-09T01:20:12.015Z"
   },
   {
    "duration": 21,
    "start_time": "2024-08-09T01:20:12.039Z"
   },
   {
    "duration": 10,
    "start_time": "2024-08-09T01:20:12.063Z"
   },
   {
    "duration": 17,
    "start_time": "2024-08-09T01:20:12.110Z"
   },
   {
    "duration": 19,
    "start_time": "2024-08-09T01:20:12.134Z"
   },
   {
    "duration": 27,
    "start_time": "2024-08-09T01:20:12.156Z"
   },
   {
    "duration": 7,
    "start_time": "2024-08-09T01:20:12.186Z"
   },
   {
    "duration": 25,
    "start_time": "2024-08-09T01:20:12.206Z"
   },
   {
    "duration": 33,
    "start_time": "2024-08-09T01:20:12.234Z"
   },
   {
    "duration": 13,
    "start_time": "2024-08-09T01:20:12.270Z"
   },
   {
    "duration": 9,
    "start_time": "2024-08-09T01:20:12.308Z"
   },
   {
    "duration": 15,
    "start_time": "2024-08-09T01:20:12.321Z"
   },
   {
    "duration": 10,
    "start_time": "2024-08-09T01:20:12.339Z"
   },
   {
    "duration": 9,
    "start_time": "2024-08-09T01:20:12.352Z"
   },
   {
    "duration": 1483,
    "start_time": "2024-08-09T01:20:12.401Z"
   },
   {
    "duration": 51,
    "start_time": "2024-08-09T01:20:13.887Z"
   },
   {
    "duration": 13,
    "start_time": "2024-08-09T01:20:13.941Z"
   },
   {
    "duration": 8,
    "start_time": "2024-08-09T01:20:13.958Z"
   },
   {
    "duration": 54,
    "start_time": "2024-08-09T01:20:13.970Z"
   },
   {
    "duration": 10,
    "start_time": "2024-08-09T01:20:14.027Z"
   },
   {
    "duration": 8,
    "start_time": "2024-08-09T01:20:14.040Z"
   },
   {
    "duration": 4,
    "start_time": "2024-08-09T01:20:14.052Z"
   },
   {
    "duration": 54,
    "start_time": "2024-08-09T01:20:14.059Z"
   },
   {
    "duration": 16,
    "start_time": "2024-08-09T01:20:14.116Z"
   },
   {
    "duration": 7,
    "start_time": "2024-08-09T01:20:14.136Z"
   },
   {
    "duration": 10,
    "start_time": "2024-08-09T01:20:14.147Z"
   },
   {
    "duration": 808,
    "start_time": "2024-08-09T01:20:14.160Z"
   },
   {
    "duration": 6,
    "start_time": "2024-08-09T01:20:14.971Z"
   },
   {
    "duration": 0,
    "start_time": "2024-08-09T01:20:14.980Z"
   },
   {
    "duration": 1,
    "start_time": "2024-08-09T01:20:14.981Z"
   },
   {
    "duration": 0,
    "start_time": "2024-08-09T01:20:15.002Z"
   },
   {
    "duration": 0,
    "start_time": "2024-08-09T01:20:15.004Z"
   },
   {
    "duration": 0,
    "start_time": "2024-08-09T01:20:15.006Z"
   },
   {
    "duration": 1,
    "start_time": "2024-08-09T01:20:15.008Z"
   },
   {
    "duration": 0,
    "start_time": "2024-08-09T01:20:15.011Z"
   },
   {
    "duration": 0,
    "start_time": "2024-08-09T01:20:15.013Z"
   },
   {
    "duration": 0,
    "start_time": "2024-08-09T01:20:15.015Z"
   },
   {
    "duration": 0,
    "start_time": "2024-08-09T01:20:15.017Z"
   },
   {
    "duration": 0,
    "start_time": "2024-08-09T01:20:15.019Z"
   },
   {
    "duration": 0,
    "start_time": "2024-08-09T01:20:15.021Z"
   },
   {
    "duration": 0,
    "start_time": "2024-08-09T01:20:15.023Z"
   },
   {
    "duration": 0,
    "start_time": "2024-08-09T01:20:15.025Z"
   },
   {
    "duration": 0,
    "start_time": "2024-08-09T01:20:15.027Z"
   },
   {
    "duration": 0,
    "start_time": "2024-08-09T01:20:15.029Z"
   },
   {
    "duration": 0,
    "start_time": "2024-08-09T01:20:15.031Z"
   },
   {
    "duration": 0,
    "start_time": "2024-08-09T01:20:15.033Z"
   },
   {
    "duration": 0,
    "start_time": "2024-08-09T01:20:15.035Z"
   },
   {
    "duration": 0,
    "start_time": "2024-08-09T01:20:15.038Z"
   },
   {
    "duration": 0,
    "start_time": "2024-08-09T01:20:15.040Z"
   },
   {
    "duration": 0,
    "start_time": "2024-08-09T01:20:15.042Z"
   },
   {
    "duration": 0,
    "start_time": "2024-08-09T01:20:15.044Z"
   },
   {
    "duration": 0,
    "start_time": "2024-08-09T01:20:15.046Z"
   },
   {
    "duration": 0,
    "start_time": "2024-08-09T01:20:15.048Z"
   },
   {
    "duration": 0,
    "start_time": "2024-08-09T01:20:15.101Z"
   },
   {
    "duration": 0,
    "start_time": "2024-08-09T01:20:15.103Z"
   },
   {
    "duration": 0,
    "start_time": "2024-08-09T01:20:15.109Z"
   },
   {
    "duration": 0,
    "start_time": "2024-08-09T01:20:15.112Z"
   },
   {
    "duration": 18,
    "start_time": "2024-08-09T01:20:19.739Z"
   },
   {
    "duration": 160,
    "start_time": "2024-08-09T01:20:37.268Z"
   },
   {
    "duration": 293,
    "start_time": "2024-08-09T01:21:12.145Z"
   },
   {
    "duration": 9,
    "start_time": "2024-08-09T01:21:24.409Z"
   },
   {
    "duration": 24,
    "start_time": "2024-08-09T01:21:36.134Z"
   },
   {
    "duration": 5,
    "start_time": "2024-08-09T01:21:37.210Z"
   },
   {
    "duration": 1133,
    "start_time": "2024-08-09T01:21:42.926Z"
   },
   {
    "duration": 106,
    "start_time": "2024-08-09T01:21:54.762Z"
   },
   {
    "duration": 22,
    "start_time": "2024-08-09T01:21:59.693Z"
   },
   {
    "duration": 28,
    "start_time": "2024-08-09T01:22:08.388Z"
   },
   {
    "duration": 6,
    "start_time": "2024-08-09T01:22:09.038Z"
   },
   {
    "duration": 17,
    "start_time": "2024-08-09T01:22:13.457Z"
   },
   {
    "duration": 5,
    "start_time": "2024-08-09T01:22:13.990Z"
   },
   {
    "duration": 22,
    "start_time": "2024-08-09T01:25:26.216Z"
   },
   {
    "duration": 7,
    "start_time": "2024-08-09T01:36:05.426Z"
   },
   {
    "duration": 104,
    "start_time": "2024-08-09T01:36:43.241Z"
   },
   {
    "duration": 19,
    "start_time": "2024-08-09T01:36:47.958Z"
   },
   {
    "duration": 25,
    "start_time": "2024-08-09T01:38:06.807Z"
   },
   {
    "duration": 7,
    "start_time": "2024-08-09T01:38:36.918Z"
   },
   {
    "duration": 197,
    "start_time": "2024-08-09T01:41:20.675Z"
   },
   {
    "duration": 23,
    "start_time": "2024-08-09T01:50:09.639Z"
   },
   {
    "duration": 12,
    "start_time": "2024-08-09T01:52:56.682Z"
   },
   {
    "duration": 12,
    "start_time": "2024-08-09T01:53:17.659Z"
   },
   {
    "duration": 18,
    "start_time": "2024-08-09T01:54:09.986Z"
   },
   {
    "duration": 12,
    "start_time": "2024-08-09T01:54:10.922Z"
   },
   {
    "duration": 24,
    "start_time": "2024-08-09T01:54:46.015Z"
   },
   {
    "duration": 16,
    "start_time": "2024-08-09T01:54:49.163Z"
   },
   {
    "duration": 11,
    "start_time": "2024-08-09T01:54:50.036Z"
   },
   {
    "duration": 11,
    "start_time": "2024-08-09T01:54:54.148Z"
   },
   {
    "duration": 23,
    "start_time": "2024-08-09T01:57:08.699Z"
   },
   {
    "duration": 5,
    "start_time": "2024-08-09T01:57:50.180Z"
   },
   {
    "duration": 1618,
    "start_time": "2024-08-09T01:57:50.398Z"
   },
   {
    "duration": 27,
    "start_time": "2024-08-09T01:57:52.021Z"
   },
   {
    "duration": 84,
    "start_time": "2024-08-09T01:57:52.051Z"
   },
   {
    "duration": 8,
    "start_time": "2024-08-09T01:57:52.139Z"
   },
   {
    "duration": 21,
    "start_time": "2024-08-09T01:57:52.150Z"
   },
   {
    "duration": 33,
    "start_time": "2024-08-09T01:57:52.175Z"
   },
   {
    "duration": 158,
    "start_time": "2024-08-09T01:57:53.711Z"
   },
   {
    "duration": 220,
    "start_time": "2024-08-09T01:57:54.400Z"
   },
   {
    "duration": 17,
    "start_time": "2024-08-09T01:57:54.939Z"
   },
   {
    "duration": 20,
    "start_time": "2024-08-09T01:57:57.710Z"
   },
   {
    "duration": 14,
    "start_time": "2024-08-09T01:58:00.503Z"
   },
   {
    "duration": 15,
    "start_time": "2024-08-09T01:58:38.307Z"
   },
   {
    "duration": 94,
    "start_time": "2024-08-09T02:05:12.669Z"
   },
   {
    "duration": 64,
    "start_time": "2024-08-09T02:07:03.472Z"
   },
   {
    "duration": 7,
    "start_time": "2024-08-09T02:20:48.100Z"
   },
   {
    "duration": 1560,
    "start_time": "2024-08-09T02:22:23.472Z"
   },
   {
    "duration": 28,
    "start_time": "2024-08-09T02:22:27.987Z"
   },
   {
    "duration": 56,
    "start_time": "2024-08-09T02:22:32.927Z"
   },
   {
    "duration": 7,
    "start_time": "2024-08-09T02:22:36.987Z"
   },
   {
    "duration": 24,
    "start_time": "2024-08-09T02:22:41.417Z"
   },
   {
    "duration": 18,
    "start_time": "2024-08-09T02:22:45.561Z"
   },
   {
    "duration": 5,
    "start_time": "2024-08-09T02:22:54.461Z"
   },
   {
    "duration": 150,
    "start_time": "2024-08-09T02:22:59.229Z"
   },
   {
    "duration": 24,
    "start_time": "2024-08-09T02:23:02.560Z"
   },
   {
    "duration": 153,
    "start_time": "2024-08-09T02:23:04.898Z"
   },
   {
    "duration": 170,
    "start_time": "2024-08-09T02:23:22.329Z"
   },
   {
    "duration": 15,
    "start_time": "2024-08-09T02:23:22.965Z"
   },
   {
    "duration": 153,
    "start_time": "2024-08-09T02:23:54.134Z"
   },
   {
    "duration": 13,
    "start_time": "2024-08-09T02:23:59.241Z"
   },
   {
    "duration": 19,
    "start_time": "2024-08-09T02:24:20.462Z"
   },
   {
    "duration": 9,
    "start_time": "2024-08-09T02:24:40.379Z"
   },
   {
    "duration": 8,
    "start_time": "2024-08-09T02:25:07.264Z"
   },
   {
    "duration": 24,
    "start_time": "2024-08-09T02:25:14.175Z"
   },
   {
    "duration": 11,
    "start_time": "2024-08-09T02:25:18.301Z"
   },
   {
    "duration": 6,
    "start_time": "2024-08-09T02:25:21.841Z"
   },
   {
    "duration": 4638,
    "start_time": "2024-08-09T15:11:11.802Z"
   },
   {
    "duration": 1819,
    "start_time": "2024-08-09T15:11:16.444Z"
   },
   {
    "duration": 22,
    "start_time": "2024-08-09T15:11:18.266Z"
   },
   {
    "duration": 69,
    "start_time": "2024-08-09T15:11:18.304Z"
   },
   {
    "duration": 28,
    "start_time": "2024-08-09T15:11:18.376Z"
   },
   {
    "duration": 421,
    "start_time": "2024-08-09T15:11:18.407Z"
   },
   {
    "duration": 0,
    "start_time": "2024-08-09T15:11:18.837Z"
   },
   {
    "duration": 0,
    "start_time": "2024-08-09T15:11:18.839Z"
   },
   {
    "duration": 0,
    "start_time": "2024-08-09T15:11:18.841Z"
   },
   {
    "duration": 0,
    "start_time": "2024-08-09T15:11:18.844Z"
   },
   {
    "duration": 0,
    "start_time": "2024-08-09T15:11:18.847Z"
   },
   {
    "duration": 0,
    "start_time": "2024-08-09T15:11:18.849Z"
   },
   {
    "duration": 0,
    "start_time": "2024-08-09T15:11:18.851Z"
   },
   {
    "duration": 0,
    "start_time": "2024-08-09T15:11:18.853Z"
   },
   {
    "duration": 0,
    "start_time": "2024-08-09T15:11:18.855Z"
   },
   {
    "duration": 1,
    "start_time": "2024-08-09T15:11:18.857Z"
   },
   {
    "duration": 0,
    "start_time": "2024-08-09T15:11:18.859Z"
   },
   {
    "duration": 0,
    "start_time": "2024-08-09T15:11:18.902Z"
   },
   {
    "duration": 0,
    "start_time": "2024-08-09T15:11:18.903Z"
   },
   {
    "duration": 0,
    "start_time": "2024-08-09T15:11:18.905Z"
   },
   {
    "duration": 0,
    "start_time": "2024-08-09T15:11:18.907Z"
   },
   {
    "duration": 0,
    "start_time": "2024-08-09T15:11:18.909Z"
   },
   {
    "duration": 0,
    "start_time": "2024-08-09T15:11:18.911Z"
   },
   {
    "duration": 0,
    "start_time": "2024-08-09T15:11:18.913Z"
   },
   {
    "duration": 0,
    "start_time": "2024-08-09T15:11:18.915Z"
   },
   {
    "duration": 0,
    "start_time": "2024-08-09T15:11:18.917Z"
   },
   {
    "duration": 0,
    "start_time": "2024-08-09T15:11:18.919Z"
   },
   {
    "duration": 0,
    "start_time": "2024-08-09T15:11:18.921Z"
   },
   {
    "duration": 0,
    "start_time": "2024-08-09T15:11:18.923Z"
   },
   {
    "duration": 0,
    "start_time": "2024-08-09T15:11:18.925Z"
   },
   {
    "duration": 0,
    "start_time": "2024-08-09T15:11:18.926Z"
   },
   {
    "duration": 0,
    "start_time": "2024-08-09T15:11:18.928Z"
   },
   {
    "duration": 0,
    "start_time": "2024-08-09T15:11:18.930Z"
   },
   {
    "duration": 0,
    "start_time": "2024-08-09T15:11:18.932Z"
   },
   {
    "duration": 0,
    "start_time": "2024-08-09T15:11:18.934Z"
   },
   {
    "duration": 0,
    "start_time": "2024-08-09T15:11:18.936Z"
   },
   {
    "duration": 0,
    "start_time": "2024-08-09T15:11:18.938Z"
   },
   {
    "duration": 0,
    "start_time": "2024-08-09T15:11:18.940Z"
   },
   {
    "duration": 1,
    "start_time": "2024-08-09T15:11:18.941Z"
   },
   {
    "duration": 0,
    "start_time": "2024-08-09T15:11:18.943Z"
   },
   {
    "duration": 0,
    "start_time": "2024-08-09T15:11:18.945Z"
   },
   {
    "duration": 0,
    "start_time": "2024-08-09T15:11:18.947Z"
   },
   {
    "duration": 0,
    "start_time": "2024-08-09T15:11:18.949Z"
   },
   {
    "duration": 0,
    "start_time": "2024-08-09T15:11:19.001Z"
   },
   {
    "duration": 0,
    "start_time": "2024-08-09T15:11:19.003Z"
   },
   {
    "duration": 0,
    "start_time": "2024-08-09T15:11:19.006Z"
   },
   {
    "duration": 0,
    "start_time": "2024-08-09T15:11:19.008Z"
   },
   {
    "duration": 0,
    "start_time": "2024-08-09T15:11:19.010Z"
   },
   {
    "duration": 0,
    "start_time": "2024-08-09T15:11:19.012Z"
   },
   {
    "duration": 0,
    "start_time": "2024-08-09T15:11:19.015Z"
   },
   {
    "duration": 0,
    "start_time": "2024-08-09T15:11:19.017Z"
   },
   {
    "duration": 0,
    "start_time": "2024-08-09T15:11:19.019Z"
   },
   {
    "duration": 0,
    "start_time": "2024-08-09T15:11:19.021Z"
   },
   {
    "duration": 0,
    "start_time": "2024-08-09T15:11:19.023Z"
   },
   {
    "duration": 0,
    "start_time": "2024-08-09T15:11:19.025Z"
   },
   {
    "duration": 0,
    "start_time": "2024-08-09T15:11:19.028Z"
   },
   {
    "duration": 0,
    "start_time": "2024-08-09T15:11:19.030Z"
   },
   {
    "duration": 0,
    "start_time": "2024-08-09T15:11:19.032Z"
   },
   {
    "duration": 0,
    "start_time": "2024-08-09T15:11:19.035Z"
   },
   {
    "duration": 0,
    "start_time": "2024-08-09T15:11:19.037Z"
   },
   {
    "duration": 0,
    "start_time": "2024-08-09T15:11:19.039Z"
   },
   {
    "duration": 0,
    "start_time": "2024-08-09T15:11:19.041Z"
   },
   {
    "duration": 0,
    "start_time": "2024-08-09T15:11:19.043Z"
   },
   {
    "duration": 0,
    "start_time": "2024-08-09T15:11:19.045Z"
   },
   {
    "duration": 0,
    "start_time": "2024-08-09T15:11:19.047Z"
   },
   {
    "duration": 0,
    "start_time": "2024-08-09T15:11:19.049Z"
   },
   {
    "duration": 0,
    "start_time": "2024-08-09T15:11:19.052Z"
   },
   {
    "duration": 0,
    "start_time": "2024-08-09T15:11:19.104Z"
   },
   {
    "duration": 0,
    "start_time": "2024-08-09T15:11:19.106Z"
   },
   {
    "duration": 0,
    "start_time": "2024-08-09T15:11:19.108Z"
   },
   {
    "duration": 0,
    "start_time": "2024-08-09T15:11:19.110Z"
   },
   {
    "duration": 0,
    "start_time": "2024-08-09T15:11:19.112Z"
   },
   {
    "duration": 0,
    "start_time": "2024-08-09T15:11:19.114Z"
   },
   {
    "duration": 1,
    "start_time": "2024-08-09T15:11:19.116Z"
   },
   {
    "duration": 0,
    "start_time": "2024-08-09T15:11:19.119Z"
   },
   {
    "duration": 0,
    "start_time": "2024-08-09T15:11:19.121Z"
   },
   {
    "duration": 0,
    "start_time": "2024-08-09T15:11:19.123Z"
   },
   {
    "duration": 0,
    "start_time": "2024-08-09T15:11:19.124Z"
   },
   {
    "duration": 1,
    "start_time": "2024-08-09T15:11:19.126Z"
   },
   {
    "duration": 0,
    "start_time": "2024-08-09T15:11:19.128Z"
   },
   {
    "duration": 0,
    "start_time": "2024-08-09T15:11:19.130Z"
   },
   {
    "duration": 25,
    "start_time": "2024-08-09T15:11:53.809Z"
   },
   {
    "duration": 19,
    "start_time": "2024-08-09T15:11:59.795Z"
   },
   {
    "duration": 16,
    "start_time": "2024-08-09T15:12:03.764Z"
   },
   {
    "duration": 36,
    "start_time": "2024-08-09T15:12:20.622Z"
   },
   {
    "duration": 33,
    "start_time": "2024-08-09T15:13:03.023Z"
   },
   {
    "duration": 36,
    "start_time": "2024-08-09T15:22:10.395Z"
   },
   {
    "duration": 33,
    "start_time": "2024-08-09T15:28:21.718Z"
   },
   {
    "duration": 31,
    "start_time": "2024-08-09T15:28:46.053Z"
   },
   {
    "duration": 1534,
    "start_time": "2024-08-09T15:37:00.285Z"
   },
   {
    "duration": 1515,
    "start_time": "2024-08-09T15:39:11.680Z"
   },
   {
    "duration": 1560,
    "start_time": "2024-08-09T15:39:20.945Z"
   },
   {
    "duration": 12,
    "start_time": "2024-08-09T15:41:09.310Z"
   },
   {
    "duration": 8,
    "start_time": "2024-08-09T15:41:11.044Z"
   },
   {
    "duration": 1417,
    "start_time": "2024-08-09T15:42:35.451Z"
   },
   {
    "duration": 1306,
    "start_time": "2024-08-09T15:43:33.680Z"
   },
   {
    "duration": 21,
    "start_time": "2024-08-09T15:43:58.099Z"
   },
   {
    "duration": 13,
    "start_time": "2024-08-09T15:44:02.727Z"
   },
   {
    "duration": 13,
    "start_time": "2024-08-09T15:44:09.529Z"
   },
   {
    "duration": 18,
    "start_time": "2024-08-09T15:45:32.118Z"
   },
   {
    "duration": 11,
    "start_time": "2024-08-09T15:51:03.026Z"
   },
   {
    "duration": 13,
    "start_time": "2024-08-09T15:51:43.661Z"
   },
   {
    "duration": 13,
    "start_time": "2024-08-09T15:52:05.843Z"
   },
   {
    "duration": 18,
    "start_time": "2024-08-09T15:52:24.772Z"
   },
   {
    "duration": 15,
    "start_time": "2024-08-09T15:53:37.031Z"
   },
   {
    "duration": 7,
    "start_time": "2024-08-09T15:53:42.276Z"
   },
   {
    "duration": 10,
    "start_time": "2024-08-09T15:58:17.562Z"
   },
   {
    "duration": 12,
    "start_time": "2024-08-09T15:58:40.152Z"
   },
   {
    "duration": 22,
    "start_time": "2024-08-09T16:02:01.410Z"
   },
   {
    "duration": 930,
    "start_time": "2024-08-09T16:02:17.662Z"
   },
   {
    "duration": 24,
    "start_time": "2024-08-09T16:02:22.918Z"
   },
   {
    "duration": 20,
    "start_time": "2024-08-09T16:06:41.477Z"
   },
   {
    "duration": 9,
    "start_time": "2024-08-09T16:08:11.513Z"
   },
   {
    "duration": 15,
    "start_time": "2024-08-09T16:13:54.093Z"
   },
   {
    "duration": 8,
    "start_time": "2024-08-09T16:16:45.517Z"
   },
   {
    "duration": 312,
    "start_time": "2024-08-09T20:51:09.500Z"
   },
   {
    "duration": 4307,
    "start_time": "2024-08-09T20:51:17.111Z"
   },
   {
    "duration": 1665,
    "start_time": "2024-08-09T20:51:21.421Z"
   },
   {
    "duration": 34,
    "start_time": "2024-08-09T20:51:23.089Z"
   },
   {
    "duration": 60,
    "start_time": "2024-08-09T20:51:23.127Z"
   },
   {
    "duration": 33,
    "start_time": "2024-08-09T20:51:23.190Z"
   },
   {
    "duration": 430,
    "start_time": "2024-08-09T20:51:23.228Z"
   },
   {
    "duration": 0,
    "start_time": "2024-08-09T20:51:23.667Z"
   },
   {
    "duration": 1,
    "start_time": "2024-08-09T20:51:23.669Z"
   },
   {
    "duration": 0,
    "start_time": "2024-08-09T20:51:23.672Z"
   },
   {
    "duration": 0,
    "start_time": "2024-08-09T20:51:23.674Z"
   },
   {
    "duration": 0,
    "start_time": "2024-08-09T20:51:23.677Z"
   },
   {
    "duration": 0,
    "start_time": "2024-08-09T20:51:23.680Z"
   },
   {
    "duration": 0,
    "start_time": "2024-08-09T20:51:23.682Z"
   },
   {
    "duration": 0,
    "start_time": "2024-08-09T20:51:23.713Z"
   },
   {
    "duration": 0,
    "start_time": "2024-08-09T20:51:23.719Z"
   },
   {
    "duration": 0,
    "start_time": "2024-08-09T20:51:23.723Z"
   },
   {
    "duration": 0,
    "start_time": "2024-08-09T20:51:23.724Z"
   },
   {
    "duration": 0,
    "start_time": "2024-08-09T20:51:23.727Z"
   },
   {
    "duration": 0,
    "start_time": "2024-08-09T20:51:23.730Z"
   },
   {
    "duration": 0,
    "start_time": "2024-08-09T20:51:23.731Z"
   },
   {
    "duration": 0,
    "start_time": "2024-08-09T20:51:23.735Z"
   },
   {
    "duration": 0,
    "start_time": "2024-08-09T20:51:23.737Z"
   },
   {
    "duration": 0,
    "start_time": "2024-08-09T20:51:23.740Z"
   },
   {
    "duration": 0,
    "start_time": "2024-08-09T20:51:23.742Z"
   },
   {
    "duration": 0,
    "start_time": "2024-08-09T20:51:23.744Z"
   },
   {
    "duration": 0,
    "start_time": "2024-08-09T20:51:23.745Z"
   },
   {
    "duration": 0,
    "start_time": "2024-08-09T20:51:23.748Z"
   },
   {
    "duration": 0,
    "start_time": "2024-08-09T20:51:23.751Z"
   },
   {
    "duration": 0,
    "start_time": "2024-08-09T20:51:23.753Z"
   },
   {
    "duration": 0,
    "start_time": "2024-08-09T20:51:23.818Z"
   },
   {
    "duration": 0,
    "start_time": "2024-08-09T20:51:23.820Z"
   },
   {
    "duration": 0,
    "start_time": "2024-08-09T20:51:23.822Z"
   },
   {
    "duration": 0,
    "start_time": "2024-08-09T20:51:23.824Z"
   },
   {
    "duration": 0,
    "start_time": "2024-08-09T20:51:23.829Z"
   },
   {
    "duration": 0,
    "start_time": "2024-08-09T20:51:23.833Z"
   },
   {
    "duration": 0,
    "start_time": "2024-08-09T20:51:23.835Z"
   },
   {
    "duration": 0,
    "start_time": "2024-08-09T20:51:23.838Z"
   },
   {
    "duration": 0,
    "start_time": "2024-08-09T20:51:23.840Z"
   },
   {
    "duration": 0,
    "start_time": "2024-08-09T20:51:23.843Z"
   },
   {
    "duration": 0,
    "start_time": "2024-08-09T20:51:23.845Z"
   },
   {
    "duration": 0,
    "start_time": "2024-08-09T20:51:23.847Z"
   },
   {
    "duration": 0,
    "start_time": "2024-08-09T20:51:23.849Z"
   },
   {
    "duration": 0,
    "start_time": "2024-08-09T20:51:23.851Z"
   },
   {
    "duration": 0,
    "start_time": "2024-08-09T20:51:23.853Z"
   },
   {
    "duration": 0,
    "start_time": "2024-08-09T20:51:23.912Z"
   },
   {
    "duration": 0,
    "start_time": "2024-08-09T20:51:23.913Z"
   },
   {
    "duration": 0,
    "start_time": "2024-08-09T20:51:23.916Z"
   },
   {
    "duration": 0,
    "start_time": "2024-08-09T20:51:23.918Z"
   },
   {
    "duration": 0,
    "start_time": "2024-08-09T20:51:23.919Z"
   },
   {
    "duration": 0,
    "start_time": "2024-08-09T20:51:23.921Z"
   },
   {
    "duration": 0,
    "start_time": "2024-08-09T20:51:23.922Z"
   },
   {
    "duration": 0,
    "start_time": "2024-08-09T20:51:23.925Z"
   },
   {
    "duration": 0,
    "start_time": "2024-08-09T20:51:23.926Z"
   },
   {
    "duration": 0,
    "start_time": "2024-08-09T20:51:23.929Z"
   },
   {
    "duration": 0,
    "start_time": "2024-08-09T20:51:23.931Z"
   },
   {
    "duration": 0,
    "start_time": "2024-08-09T20:51:23.933Z"
   },
   {
    "duration": 0,
    "start_time": "2024-08-09T20:51:23.936Z"
   },
   {
    "duration": 0,
    "start_time": "2024-08-09T20:51:23.938Z"
   },
   {
    "duration": 0,
    "start_time": "2024-08-09T20:51:23.940Z"
   },
   {
    "duration": 0,
    "start_time": "2024-08-09T20:51:23.942Z"
   },
   {
    "duration": 0,
    "start_time": "2024-08-09T20:51:23.944Z"
   },
   {
    "duration": 0,
    "start_time": "2024-08-09T20:51:23.947Z"
   },
   {
    "duration": 0,
    "start_time": "2024-08-09T20:51:23.950Z"
   },
   {
    "duration": 0,
    "start_time": "2024-08-09T20:51:24.012Z"
   },
   {
    "duration": 0,
    "start_time": "2024-08-09T20:51:24.014Z"
   },
   {
    "duration": 0,
    "start_time": "2024-08-09T20:51:24.017Z"
   },
   {
    "duration": 0,
    "start_time": "2024-08-09T20:51:24.018Z"
   },
   {
    "duration": 0,
    "start_time": "2024-08-09T20:51:24.021Z"
   },
   {
    "duration": 0,
    "start_time": "2024-08-09T20:51:24.023Z"
   },
   {
    "duration": 1,
    "start_time": "2024-08-09T20:51:24.025Z"
   },
   {
    "duration": 0,
    "start_time": "2024-08-09T20:51:24.029Z"
   },
   {
    "duration": 0,
    "start_time": "2024-08-09T20:51:24.031Z"
   },
   {
    "duration": 0,
    "start_time": "2024-08-09T20:51:24.034Z"
   },
   {
    "duration": 0,
    "start_time": "2024-08-09T20:51:24.036Z"
   },
   {
    "duration": 0,
    "start_time": "2024-08-09T20:51:24.038Z"
   },
   {
    "duration": 0,
    "start_time": "2024-08-09T20:51:24.041Z"
   },
   {
    "duration": 0,
    "start_time": "2024-08-09T20:51:24.043Z"
   },
   {
    "duration": 0,
    "start_time": "2024-08-09T20:51:24.046Z"
   },
   {
    "duration": 0,
    "start_time": "2024-08-09T20:51:24.048Z"
   },
   {
    "duration": 0,
    "start_time": "2024-08-09T20:51:24.050Z"
   },
   {
    "duration": 0,
    "start_time": "2024-08-09T20:51:24.053Z"
   },
   {
    "duration": 0,
    "start_time": "2024-08-09T20:51:24.119Z"
   },
   {
    "duration": 0,
    "start_time": "2024-08-09T20:51:24.121Z"
   },
   {
    "duration": 12,
    "start_time": "2024-08-09T21:13:05.564Z"
   },
   {
    "duration": 10,
    "start_time": "2024-08-09T21:13:18.913Z"
   },
   {
    "duration": 22,
    "start_time": "2024-08-09T21:13:48.168Z"
   },
   {
    "duration": 11,
    "start_time": "2024-08-09T21:13:51.106Z"
   },
   {
    "duration": 10,
    "start_time": "2024-08-09T21:14:02.496Z"
   },
   {
    "duration": 15,
    "start_time": "2024-08-09T21:34:44.951Z"
   },
   {
    "duration": 24,
    "start_time": "2024-08-09T21:34:45.259Z"
   },
   {
    "duration": 24,
    "start_time": "2024-08-09T21:34:45.542Z"
   },
   {
    "duration": 7,
    "start_time": "2024-08-09T21:35:21.060Z"
   },
   {
    "duration": 7,
    "start_time": "2024-08-09T21:35:29.958Z"
   },
   {
    "duration": 8,
    "start_time": "2024-08-09T21:42:46.850Z"
   },
   {
    "duration": 4,
    "start_time": "2024-08-09T21:43:55.802Z"
   },
   {
    "duration": 5,
    "start_time": "2024-08-09T21:44:06.938Z"
   },
   {
    "duration": 23,
    "start_time": "2024-08-09T21:44:15.309Z"
   },
   {
    "duration": 24,
    "start_time": "2024-08-09T21:44:27.391Z"
   },
   {
    "duration": 1309,
    "start_time": "2024-08-09T21:44:40.389Z"
   },
   {
    "duration": 5057,
    "start_time": "2024-08-09T23:41:21.227Z"
   },
   {
    "duration": 2337,
    "start_time": "2024-08-09T23:41:26.289Z"
   },
   {
    "duration": 23,
    "start_time": "2024-08-09T23:41:28.632Z"
   },
   {
    "duration": 84,
    "start_time": "2024-08-09T23:41:28.663Z"
   },
   {
    "duration": 7,
    "start_time": "2024-08-09T23:41:28.751Z"
   },
   {
    "duration": 490,
    "start_time": "2024-08-09T23:41:28.762Z"
   },
   {
    "duration": 0,
    "start_time": "2024-08-09T23:41:29.268Z"
   },
   {
    "duration": 1,
    "start_time": "2024-08-09T23:41:29.271Z"
   },
   {
    "duration": 0,
    "start_time": "2024-08-09T23:41:29.275Z"
   },
   {
    "duration": 0,
    "start_time": "2024-08-09T23:41:29.278Z"
   },
   {
    "duration": 0,
    "start_time": "2024-08-09T23:41:29.281Z"
   },
   {
    "duration": 0,
    "start_time": "2024-08-09T23:41:29.284Z"
   },
   {
    "duration": 0,
    "start_time": "2024-08-09T23:41:29.303Z"
   },
   {
    "duration": 0,
    "start_time": "2024-08-09T23:41:29.305Z"
   },
   {
    "duration": 0,
    "start_time": "2024-08-09T23:41:29.307Z"
   },
   {
    "duration": 0,
    "start_time": "2024-08-09T23:41:29.310Z"
   },
   {
    "duration": 0,
    "start_time": "2024-08-09T23:41:29.313Z"
   },
   {
    "duration": 0,
    "start_time": "2024-08-09T23:41:29.315Z"
   },
   {
    "duration": 0,
    "start_time": "2024-08-09T23:41:29.318Z"
   },
   {
    "duration": 0,
    "start_time": "2024-08-09T23:41:29.320Z"
   },
   {
    "duration": 0,
    "start_time": "2024-08-09T23:41:29.323Z"
   },
   {
    "duration": 0,
    "start_time": "2024-08-09T23:41:29.325Z"
   },
   {
    "duration": 0,
    "start_time": "2024-08-09T23:41:29.327Z"
   },
   {
    "duration": 0,
    "start_time": "2024-08-09T23:41:29.330Z"
   },
   {
    "duration": 0,
    "start_time": "2024-08-09T23:41:29.333Z"
   },
   {
    "duration": 0,
    "start_time": "2024-08-09T23:41:29.336Z"
   },
   {
    "duration": 0,
    "start_time": "2024-08-09T23:41:29.338Z"
   },
   {
    "duration": 0,
    "start_time": "2024-08-09T23:41:29.341Z"
   },
   {
    "duration": 0,
    "start_time": "2024-08-09T23:41:29.343Z"
   },
   {
    "duration": 0,
    "start_time": "2024-08-09T23:41:29.345Z"
   },
   {
    "duration": 0,
    "start_time": "2024-08-09T23:41:29.348Z"
   },
   {
    "duration": 0,
    "start_time": "2024-08-09T23:41:29.350Z"
   },
   {
    "duration": 0,
    "start_time": "2024-08-09T23:41:29.353Z"
   },
   {
    "duration": 0,
    "start_time": "2024-08-09T23:41:29.356Z"
   },
   {
    "duration": 0,
    "start_time": "2024-08-09T23:41:29.358Z"
   },
   {
    "duration": 0,
    "start_time": "2024-08-09T23:41:29.360Z"
   },
   {
    "duration": 0,
    "start_time": "2024-08-09T23:41:29.362Z"
   },
   {
    "duration": 0,
    "start_time": "2024-08-09T23:41:29.406Z"
   },
   {
    "duration": 0,
    "start_time": "2024-08-09T23:41:29.409Z"
   },
   {
    "duration": 0,
    "start_time": "2024-08-09T23:41:29.411Z"
   },
   {
    "duration": 0,
    "start_time": "2024-08-09T23:41:29.423Z"
   },
   {
    "duration": 0,
    "start_time": "2024-08-09T23:41:29.425Z"
   },
   {
    "duration": 0,
    "start_time": "2024-08-09T23:41:29.437Z"
   },
   {
    "duration": 0,
    "start_time": "2024-08-09T23:41:29.440Z"
   },
   {
    "duration": 0,
    "start_time": "2024-08-09T23:41:29.449Z"
   },
   {
    "duration": 0,
    "start_time": "2024-08-09T23:41:29.452Z"
   },
   {
    "duration": 0,
    "start_time": "2024-08-09T23:41:29.463Z"
   },
   {
    "duration": 0,
    "start_time": "2024-08-09T23:41:29.466Z"
   },
   {
    "duration": 0,
    "start_time": "2024-08-09T23:41:29.470Z"
   },
   {
    "duration": 0,
    "start_time": "2024-08-09T23:41:29.472Z"
   },
   {
    "duration": 0,
    "start_time": "2024-08-09T23:41:29.474Z"
   },
   {
    "duration": 0,
    "start_time": "2024-08-09T23:41:29.476Z"
   },
   {
    "duration": 0,
    "start_time": "2024-08-09T23:41:29.506Z"
   },
   {
    "duration": 3,
    "start_time": "2024-08-09T23:41:29.508Z"
   },
   {
    "duration": 0,
    "start_time": "2024-08-09T23:41:29.513Z"
   },
   {
    "duration": 0,
    "start_time": "2024-08-09T23:41:29.514Z"
   },
   {
    "duration": 0,
    "start_time": "2024-08-09T23:41:29.517Z"
   },
   {
    "duration": 0,
    "start_time": "2024-08-09T23:41:29.519Z"
   },
   {
    "duration": 0,
    "start_time": "2024-08-09T23:41:29.522Z"
   },
   {
    "duration": 0,
    "start_time": "2024-08-09T23:41:29.523Z"
   },
   {
    "duration": 0,
    "start_time": "2024-08-09T23:41:29.529Z"
   },
   {
    "duration": 0,
    "start_time": "2024-08-09T23:41:29.531Z"
   },
   {
    "duration": 0,
    "start_time": "2024-08-09T23:41:29.533Z"
   },
   {
    "duration": 0,
    "start_time": "2024-08-09T23:41:29.535Z"
   },
   {
    "duration": 0,
    "start_time": "2024-08-09T23:41:29.537Z"
   },
   {
    "duration": 0,
    "start_time": "2024-08-09T23:41:29.546Z"
   },
   {
    "duration": 0,
    "start_time": "2024-08-09T23:41:29.548Z"
   },
   {
    "duration": 0,
    "start_time": "2024-08-09T23:41:29.550Z"
   },
   {
    "duration": 0,
    "start_time": "2024-08-09T23:41:29.552Z"
   },
   {
    "duration": 0,
    "start_time": "2024-08-09T23:41:29.554Z"
   },
   {
    "duration": 0,
    "start_time": "2024-08-09T23:41:29.556Z"
   },
   {
    "duration": 0,
    "start_time": "2024-08-09T23:41:29.559Z"
   },
   {
    "duration": 0,
    "start_time": "2024-08-09T23:41:29.562Z"
   },
   {
    "duration": 0,
    "start_time": "2024-08-09T23:41:29.564Z"
   },
   {
    "duration": 0,
    "start_time": "2024-08-09T23:41:29.567Z"
   },
   {
    "duration": 0,
    "start_time": "2024-08-09T23:41:29.571Z"
   },
   {
    "duration": 0,
    "start_time": "2024-08-09T23:41:29.574Z"
   },
   {
    "duration": 0,
    "start_time": "2024-08-09T23:41:29.578Z"
   },
   {
    "duration": 0,
    "start_time": "2024-08-09T23:41:29.580Z"
   },
   {
    "duration": 0,
    "start_time": "2024-08-09T23:41:29.583Z"
   },
   {
    "duration": 0,
    "start_time": "2024-08-09T23:41:29.601Z"
   },
   {
    "duration": 0,
    "start_time": "2024-08-09T23:41:29.603Z"
   },
   {
    "duration": 0,
    "start_time": "2024-08-09T23:41:29.606Z"
   },
   {
    "duration": 0,
    "start_time": "2024-08-09T23:41:29.608Z"
   },
   {
    "duration": 0,
    "start_time": "2024-08-09T23:41:29.611Z"
   },
   {
    "duration": 0,
    "start_time": "2024-08-09T23:41:29.614Z"
   },
   {
    "duration": 0,
    "start_time": "2024-08-09T23:41:29.616Z"
   },
   {
    "duration": 9,
    "start_time": "2024-08-09T23:47:07.466Z"
   },
   {
    "duration": 9,
    "start_time": "2024-08-09T23:47:09.238Z"
   },
   {
    "duration": 10,
    "start_time": "2024-08-09T23:47:12.939Z"
   },
   {
    "duration": 10,
    "start_time": "2024-08-09T23:47:14.285Z"
   },
   {
    "duration": 11,
    "start_time": "2024-08-09T23:47:14.740Z"
   },
   {
    "duration": 1637,
    "start_time": "2024-08-09T23:47:17.775Z"
   },
   {
    "duration": 1373,
    "start_time": "2024-08-09T23:47:19.419Z"
   },
   {
    "duration": 18,
    "start_time": "2024-08-09T23:47:21.663Z"
   },
   {
    "duration": 15,
    "start_time": "2024-08-09T23:48:19.742Z"
   },
   {
    "duration": 19,
    "start_time": "2024-08-09T23:48:22.122Z"
   },
   {
    "duration": 25,
    "start_time": "2024-08-09T23:48:23.456Z"
   },
   {
    "duration": 9,
    "start_time": "2024-08-09T23:48:24.992Z"
   },
   {
    "duration": 4325,
    "start_time": "2024-08-10T00:43:32.733Z"
   },
   {
    "duration": 1677,
    "start_time": "2024-08-10T00:43:37.062Z"
   },
   {
    "duration": 18,
    "start_time": "2024-08-10T00:43:38.742Z"
   },
   {
    "duration": 79,
    "start_time": "2024-08-10T00:43:38.763Z"
   },
   {
    "duration": 7,
    "start_time": "2024-08-10T00:43:38.846Z"
   },
   {
    "duration": 421,
    "start_time": "2024-08-10T00:43:38.856Z"
   },
   {
    "duration": 0,
    "start_time": "2024-08-10T00:43:39.287Z"
   },
   {
    "duration": 0,
    "start_time": "2024-08-10T00:43:39.289Z"
   },
   {
    "duration": 0,
    "start_time": "2024-08-10T00:43:39.291Z"
   },
   {
    "duration": 0,
    "start_time": "2024-08-10T00:43:39.293Z"
   },
   {
    "duration": 0,
    "start_time": "2024-08-10T00:43:39.296Z"
   },
   {
    "duration": 0,
    "start_time": "2024-08-10T00:43:39.298Z"
   },
   {
    "duration": 0,
    "start_time": "2024-08-10T00:43:39.300Z"
   },
   {
    "duration": 0,
    "start_time": "2024-08-10T00:43:39.302Z"
   },
   {
    "duration": 0,
    "start_time": "2024-08-10T00:43:39.303Z"
   },
   {
    "duration": 0,
    "start_time": "2024-08-10T00:43:39.304Z"
   },
   {
    "duration": 0,
    "start_time": "2024-08-10T00:43:39.341Z"
   },
   {
    "duration": 0,
    "start_time": "2024-08-10T00:43:39.344Z"
   },
   {
    "duration": 0,
    "start_time": "2024-08-10T00:43:39.346Z"
   },
   {
    "duration": 0,
    "start_time": "2024-08-10T00:43:39.348Z"
   },
   {
    "duration": 0,
    "start_time": "2024-08-10T00:43:39.350Z"
   },
   {
    "duration": 0,
    "start_time": "2024-08-10T00:43:39.352Z"
   },
   {
    "duration": 0,
    "start_time": "2024-08-10T00:43:39.353Z"
   },
   {
    "duration": 0,
    "start_time": "2024-08-10T00:43:39.356Z"
   },
   {
    "duration": 0,
    "start_time": "2024-08-10T00:43:39.360Z"
   },
   {
    "duration": 0,
    "start_time": "2024-08-10T00:43:39.362Z"
   },
   {
    "duration": 0,
    "start_time": "2024-08-10T00:43:39.364Z"
   },
   {
    "duration": 1,
    "start_time": "2024-08-10T00:43:39.366Z"
   },
   {
    "duration": 0,
    "start_time": "2024-08-10T00:43:39.368Z"
   },
   {
    "duration": 0,
    "start_time": "2024-08-10T00:43:39.369Z"
   },
   {
    "duration": 0,
    "start_time": "2024-08-10T00:43:39.371Z"
   },
   {
    "duration": 0,
    "start_time": "2024-08-10T00:43:39.372Z"
   },
   {
    "duration": 0,
    "start_time": "2024-08-10T00:43:39.374Z"
   },
   {
    "duration": 0,
    "start_time": "2024-08-10T00:43:39.375Z"
   },
   {
    "duration": 0,
    "start_time": "2024-08-10T00:43:39.377Z"
   },
   {
    "duration": 0,
    "start_time": "2024-08-10T00:43:39.380Z"
   },
   {
    "duration": 0,
    "start_time": "2024-08-10T00:43:39.425Z"
   },
   {
    "duration": 0,
    "start_time": "2024-08-10T00:43:39.433Z"
   },
   {
    "duration": 0,
    "start_time": "2024-08-10T00:43:39.435Z"
   },
   {
    "duration": 0,
    "start_time": "2024-08-10T00:43:39.437Z"
   },
   {
    "duration": 0,
    "start_time": "2024-08-10T00:43:39.439Z"
   },
   {
    "duration": 0,
    "start_time": "2024-08-10T00:43:39.442Z"
   },
   {
    "duration": 0,
    "start_time": "2024-08-10T00:43:39.444Z"
   },
   {
    "duration": 0,
    "start_time": "2024-08-10T00:43:39.447Z"
   },
   {
    "duration": 0,
    "start_time": "2024-08-10T00:43:39.449Z"
   },
   {
    "duration": 0,
    "start_time": "2024-08-10T00:43:39.458Z"
   },
   {
    "duration": 0,
    "start_time": "2024-08-10T00:43:39.460Z"
   },
   {
    "duration": 0,
    "start_time": "2024-08-10T00:43:39.463Z"
   },
   {
    "duration": 0,
    "start_time": "2024-08-10T00:43:39.466Z"
   },
   {
    "duration": 0,
    "start_time": "2024-08-10T00:43:39.469Z"
   },
   {
    "duration": 0,
    "start_time": "2024-08-10T00:43:39.527Z"
   },
   {
    "duration": 0,
    "start_time": "2024-08-10T00:43:39.529Z"
   },
   {
    "duration": 0,
    "start_time": "2024-08-10T00:43:39.531Z"
   },
   {
    "duration": 0,
    "start_time": "2024-08-10T00:43:39.533Z"
   },
   {
    "duration": 0,
    "start_time": "2024-08-10T00:43:39.535Z"
   },
   {
    "duration": 0,
    "start_time": "2024-08-10T00:43:39.537Z"
   },
   {
    "duration": 0,
    "start_time": "2024-08-10T00:43:39.539Z"
   },
   {
    "duration": 0,
    "start_time": "2024-08-10T00:43:39.541Z"
   },
   {
    "duration": 0,
    "start_time": "2024-08-10T00:43:39.543Z"
   },
   {
    "duration": 0,
    "start_time": "2024-08-10T00:43:39.546Z"
   },
   {
    "duration": 0,
    "start_time": "2024-08-10T00:43:39.548Z"
   },
   {
    "duration": 0,
    "start_time": "2024-08-10T00:43:39.550Z"
   },
   {
    "duration": 0,
    "start_time": "2024-08-10T00:43:39.552Z"
   },
   {
    "duration": 0,
    "start_time": "2024-08-10T00:43:39.555Z"
   },
   {
    "duration": 0,
    "start_time": "2024-08-10T00:43:39.558Z"
   },
   {
    "duration": 0,
    "start_time": "2024-08-10T00:43:39.560Z"
   },
   {
    "duration": 0,
    "start_time": "2024-08-10T00:43:39.562Z"
   },
   {
    "duration": 0,
    "start_time": "2024-08-10T00:43:39.625Z"
   },
   {
    "duration": 0,
    "start_time": "2024-08-10T00:43:39.635Z"
   },
   {
    "duration": 0,
    "start_time": "2024-08-10T00:43:39.638Z"
   },
   {
    "duration": 0,
    "start_time": "2024-08-10T00:43:39.640Z"
   },
   {
    "duration": 0,
    "start_time": "2024-08-10T00:43:39.641Z"
   },
   {
    "duration": 0,
    "start_time": "2024-08-10T00:43:39.644Z"
   },
   {
    "duration": 0,
    "start_time": "2024-08-10T00:43:39.646Z"
   },
   {
    "duration": 0,
    "start_time": "2024-08-10T00:43:39.649Z"
   },
   {
    "duration": 0,
    "start_time": "2024-08-10T00:43:39.652Z"
   },
   {
    "duration": 0,
    "start_time": "2024-08-10T00:43:39.654Z"
   },
   {
    "duration": 0,
    "start_time": "2024-08-10T00:43:39.657Z"
   },
   {
    "duration": 0,
    "start_time": "2024-08-10T00:43:39.660Z"
   },
   {
    "duration": 0,
    "start_time": "2024-08-10T00:43:39.662Z"
   },
   {
    "duration": 0,
    "start_time": "2024-08-10T00:43:39.664Z"
   },
   {
    "duration": 0,
    "start_time": "2024-08-10T00:43:39.729Z"
   },
   {
    "duration": 0,
    "start_time": "2024-08-10T00:43:39.732Z"
   },
   {
    "duration": 0,
    "start_time": "2024-08-10T00:43:39.734Z"
   },
   {
    "duration": 0,
    "start_time": "2024-08-10T00:43:39.735Z"
   },
   {
    "duration": 0,
    "start_time": "2024-08-10T00:43:39.738Z"
   },
   {
    "duration": 0,
    "start_time": "2024-08-10T00:43:39.741Z"
   },
   {
    "duration": 12,
    "start_time": "2024-08-10T00:47:43.867Z"
   },
   {
    "duration": 10,
    "start_time": "2024-08-10T00:47:47.148Z"
   },
   {
    "duration": 10,
    "start_time": "2024-08-10T00:47:56.412Z"
   },
   {
    "duration": 29,
    "start_time": "2024-08-10T00:49:20.936Z"
   },
   {
    "duration": 23,
    "start_time": "2024-08-10T00:50:20.792Z"
   },
   {
    "duration": 30,
    "start_time": "2024-08-10T00:53:42.564Z"
   },
   {
    "duration": 23,
    "start_time": "2024-08-10T00:56:39.510Z"
   },
   {
    "duration": 15,
    "start_time": "2024-08-10T00:57:32.785Z"
   },
   {
    "duration": 21,
    "start_time": "2024-08-10T00:57:44.348Z"
   },
   {
    "duration": 45,
    "start_time": "2024-08-10T00:58:07.492Z"
   },
   {
    "duration": 7,
    "start_time": "2024-08-10T00:58:24.562Z"
   },
   {
    "duration": 6,
    "start_time": "2024-08-10T00:58:26.009Z"
   },
   {
    "duration": 8,
    "start_time": "2024-08-10T00:58:28.488Z"
   },
   {
    "duration": 7,
    "start_time": "2024-08-10T00:58:38.009Z"
   },
   {
    "duration": 18,
    "start_time": "2024-08-10T00:58:51.896Z"
   },
   {
    "duration": 21,
    "start_time": "2024-08-10T00:59:51.211Z"
   },
   {
    "duration": 11,
    "start_time": "2024-08-10T01:01:59.881Z"
   },
   {
    "duration": 33,
    "start_time": "2024-08-10T01:03:16.162Z"
   },
   {
    "duration": 761,
    "start_time": "2024-08-10T01:04:26.236Z"
   },
   {
    "duration": 10,
    "start_time": "2024-08-10T01:08:32.115Z"
   },
   {
    "duration": 10,
    "start_time": "2024-08-10T01:09:07.200Z"
   },
   {
    "duration": 8,
    "start_time": "2024-08-10T01:09:30.902Z"
   },
   {
    "duration": 22,
    "start_time": "2024-08-10T01:09:42.663Z"
   },
   {
    "duration": 4,
    "start_time": "2024-08-10T01:09:50.441Z"
   },
   {
    "duration": 1482,
    "start_time": "2024-08-10T01:09:50.615Z"
   },
   {
    "duration": 26,
    "start_time": "2024-08-10T01:09:52.100Z"
   },
   {
    "duration": 57,
    "start_time": "2024-08-10T01:09:52.617Z"
   },
   {
    "duration": 8,
    "start_time": "2024-08-10T01:09:53.641Z"
   },
   {
    "duration": 25,
    "start_time": "2024-08-10T01:09:54.760Z"
   },
   {
    "duration": 22,
    "start_time": "2024-08-10T01:10:02.489Z"
   },
   {
    "duration": 6,
    "start_time": "2024-08-10T01:10:05.815Z"
   },
   {
    "duration": 172,
    "start_time": "2024-08-10T01:10:09.264Z"
   },
   {
    "duration": 22,
    "start_time": "2024-08-10T01:10:09.913Z"
   },
   {
    "duration": 183,
    "start_time": "2024-08-10T01:10:14.505Z"
   },
   {
    "duration": 16,
    "start_time": "2024-08-10T01:10:16.816Z"
   },
   {
    "duration": 16,
    "start_time": "2024-08-10T01:10:21.791Z"
   },
   {
    "duration": 11,
    "start_time": "2024-08-10T01:10:22.865Z"
   },
   {
    "duration": 22,
    "start_time": "2024-08-10T01:10:24.739Z"
   },
   {
    "duration": 13,
    "start_time": "2024-08-10T01:10:24.924Z"
   },
   {
    "duration": 7,
    "start_time": "2024-08-10T01:10:25.118Z"
   },
   {
    "duration": 7,
    "start_time": "2024-08-10T01:10:25.306Z"
   },
   {
    "duration": 13,
    "start_time": "2024-08-10T01:10:25.490Z"
   },
   {
    "duration": 8,
    "start_time": "2024-08-10T01:10:25.682Z"
   },
   {
    "duration": 7,
    "start_time": "2024-08-10T01:10:28.089Z"
   },
   {
    "duration": 45,
    "start_time": "2024-08-10T01:10:28.273Z"
   },
   {
    "duration": 29,
    "start_time": "2024-08-10T01:10:28.508Z"
   },
   {
    "duration": 74,
    "start_time": "2024-08-10T01:10:28.899Z"
   },
   {
    "duration": 1199,
    "start_time": "2024-08-10T01:10:31.455Z"
   },
   {
    "duration": 140,
    "start_time": "2024-08-10T01:10:46.043Z"
   },
   {
    "duration": 12,
    "start_time": "2024-08-10T01:10:46.747Z"
   },
   {
    "duration": 18,
    "start_time": "2024-08-10T01:10:48.484Z"
   },
   {
    "duration": 9,
    "start_time": "2024-08-10T01:11:27.562Z"
   },
   {
    "duration": 9,
    "start_time": "2024-08-10T01:11:29.565Z"
   },
   {
    "duration": 7,
    "start_time": "2024-08-10T01:11:30.157Z"
   },
   {
    "duration": 21,
    "start_time": "2024-08-10T01:11:33.136Z"
   },
   {
    "duration": 8,
    "start_time": "2024-08-10T01:11:33.773Z"
   },
   {
    "duration": 13,
    "start_time": "2024-08-10T01:11:34.573Z"
   },
   {
    "duration": 33,
    "start_time": "2024-08-10T01:11:44.414Z"
   },
   {
    "duration": 25,
    "start_time": "2024-08-10T01:12:06.567Z"
   },
   {
    "duration": 11,
    "start_time": "2024-08-10T01:12:28.282Z"
   },
   {
    "duration": 10,
    "start_time": "2024-08-10T01:13:10.896Z"
   },
   {
    "duration": 21,
    "start_time": "2024-08-10T01:14:31.073Z"
   },
   {
    "duration": 27,
    "start_time": "2024-08-10T01:15:10.813Z"
   },
   {
    "duration": 27,
    "start_time": "2024-08-10T01:15:17.642Z"
   },
   {
    "duration": 25,
    "start_time": "2024-08-10T01:15:42.688Z"
   },
   {
    "duration": 4,
    "start_time": "2024-08-10T01:17:32.680Z"
   },
   {
    "duration": 8,
    "start_time": "2024-08-10T01:20:15.409Z"
   },
   {
    "duration": 12,
    "start_time": "2024-08-10T01:20:23.875Z"
   },
   {
    "duration": 23,
    "start_time": "2024-08-10T01:21:47.002Z"
   },
   {
    "duration": 22,
    "start_time": "2024-08-10T01:21:57.018Z"
   },
   {
    "duration": 7,
    "start_time": "2024-08-10T01:21:58.295Z"
   },
   {
    "duration": 22,
    "start_time": "2024-08-10T01:21:58.639Z"
   },
   {
    "duration": 8,
    "start_time": "2024-08-10T01:22:20.029Z"
   },
   {
    "duration": 21,
    "start_time": "2024-08-10T01:22:20.372Z"
   },
   {
    "duration": 22,
    "start_time": "2024-08-10T01:22:44.892Z"
   },
   {
    "duration": 8,
    "start_time": "2024-08-10T01:22:54.059Z"
   },
   {
    "duration": 9,
    "start_time": "2024-08-10T01:23:21.262Z"
   },
   {
    "duration": 5,
    "start_time": "2024-08-10T01:23:43.643Z"
   },
   {
    "duration": 11,
    "start_time": "2024-08-10T01:24:07.063Z"
   },
   {
    "duration": 24,
    "start_time": "2024-08-10T01:24:36.787Z"
   },
   {
    "duration": 10,
    "start_time": "2024-08-10T01:25:14.057Z"
   },
   {
    "duration": 10,
    "start_time": "2024-08-10T01:25:26.402Z"
   },
   {
    "duration": 9,
    "start_time": "2024-08-10T01:25:32.116Z"
   },
   {
    "duration": 13,
    "start_time": "2024-08-10T01:27:24.505Z"
   },
   {
    "duration": 8,
    "start_time": "2024-08-10T01:27:25.819Z"
   },
   {
    "duration": 10,
    "start_time": "2024-08-10T01:27:26.810Z"
   },
   {
    "duration": 701,
    "start_time": "2024-08-10T09:32:35.210Z"
   },
   {
    "duration": 1546,
    "start_time": "2024-08-10T09:32:35.915Z"
   },
   {
    "duration": 19,
    "start_time": "2024-08-10T09:32:37.464Z"
   },
   {
    "duration": 83,
    "start_time": "2024-08-10T09:32:37.488Z"
   },
   {
    "duration": 8,
    "start_time": "2024-08-10T09:32:37.574Z"
   },
   {
    "duration": 22,
    "start_time": "2024-08-10T09:32:37.584Z"
   },
   {
    "duration": 6,
    "start_time": "2024-08-10T09:32:37.634Z"
   },
   {
    "duration": 195,
    "start_time": "2024-08-10T09:32:37.643Z"
   },
   {
    "duration": 192,
    "start_time": "2024-08-10T09:32:37.841Z"
   },
   {
    "duration": 16,
    "start_time": "2024-08-10T09:32:38.041Z"
   },
   {
    "duration": 18,
    "start_time": "2024-08-10T09:32:38.059Z"
   },
   {
    "duration": 11,
    "start_time": "2024-08-10T09:32:38.080Z"
   },
   {
    "duration": 23,
    "start_time": "2024-08-10T09:32:38.134Z"
   },
   {
    "duration": 13,
    "start_time": "2024-08-10T09:32:38.160Z"
   },
   {
    "duration": 8,
    "start_time": "2024-08-10T09:32:38.176Z"
   },
   {
    "duration": 46,
    "start_time": "2024-08-10T09:32:38.188Z"
   },
   {
    "duration": 13,
    "start_time": "2024-08-10T09:32:38.237Z"
   },
   {
    "duration": 8,
    "start_time": "2024-08-10T09:32:38.254Z"
   },
   {
    "duration": 7,
    "start_time": "2024-08-10T09:32:38.265Z"
   },
   {
    "duration": 88,
    "start_time": "2024-08-10T09:32:38.274Z"
   },
   {
    "duration": 30,
    "start_time": "2024-08-10T09:32:38.365Z"
   },
   {
    "duration": 108,
    "start_time": "2024-08-10T09:32:38.398Z"
   },
   {
    "duration": 1307,
    "start_time": "2024-08-10T09:32:38.509Z"
   },
   {
    "duration": 172,
    "start_time": "2024-08-10T09:32:39.820Z"
   },
   {
    "duration": 15,
    "start_time": "2024-08-10T09:32:39.995Z"
   },
   {
    "duration": 37,
    "start_time": "2024-08-10T09:32:40.012Z"
   },
   {
    "duration": 8,
    "start_time": "2024-08-10T09:32:40.053Z"
   },
   {
    "duration": 7,
    "start_time": "2024-08-10T09:32:40.072Z"
   },
   {
    "duration": 7,
    "start_time": "2024-08-10T09:32:40.083Z"
   },
   {
    "duration": 23,
    "start_time": "2024-08-10T09:32:40.133Z"
   },
   {
    "duration": 10,
    "start_time": "2024-08-10T09:32:40.158Z"
   },
   {
    "duration": 13,
    "start_time": "2024-08-10T09:32:40.170Z"
   },
   {
    "duration": 64,
    "start_time": "2024-08-10T09:32:40.187Z"
   },
   {
    "duration": 7,
    "start_time": "2024-08-10T09:32:40.254Z"
   },
   {
    "duration": 9,
    "start_time": "2024-08-10T09:32:40.264Z"
   },
   {
    "duration": 7,
    "start_time": "2024-08-10T09:32:40.276Z"
   },
   {
    "duration": 50,
    "start_time": "2024-08-10T09:32:40.286Z"
   },
   {
    "duration": 1314,
    "start_time": "2024-08-10T09:32:40.339Z"
   },
   {
    "duration": 1177,
    "start_time": "2024-08-10T09:32:41.656Z"
   },
   {
    "duration": 11,
    "start_time": "2024-08-10T09:32:42.835Z"
   },
   {
    "duration": 15,
    "start_time": "2024-08-10T09:32:42.849Z"
   },
   {
    "duration": 11,
    "start_time": "2024-08-10T09:32:42.868Z"
   },
   {
    "duration": 55,
    "start_time": "2024-08-10T09:32:42.882Z"
   },
   {
    "duration": 7,
    "start_time": "2024-08-10T09:32:42.940Z"
   },
   {
    "duration": 8,
    "start_time": "2024-08-10T09:32:42.950Z"
   },
   {
    "duration": 7,
    "start_time": "2024-08-10T09:32:42.961Z"
   },
   {
    "duration": 8,
    "start_time": "2024-08-10T09:32:42.970Z"
   },
   {
    "duration": 59,
    "start_time": "2024-08-10T09:32:42.981Z"
   },
   {
    "duration": 9,
    "start_time": "2024-08-10T09:32:43.043Z"
   },
   {
    "duration": 9,
    "start_time": "2024-08-10T09:32:43.056Z"
   },
   {
    "duration": 68,
    "start_time": "2024-08-10T09:32:43.068Z"
   },
   {
    "duration": 26,
    "start_time": "2024-08-10T09:32:43.139Z"
   },
   {
    "duration": 23,
    "start_time": "2024-08-10T09:32:43.168Z"
   },
   {
    "duration": 41,
    "start_time": "2024-08-10T09:32:43.194Z"
   },
   {
    "duration": 9,
    "start_time": "2024-08-10T09:32:43.238Z"
   },
   {
    "duration": 10,
    "start_time": "2024-08-10T09:32:43.251Z"
   },
   {
    "duration": 11,
    "start_time": "2024-08-10T09:32:43.264Z"
   },
   {
    "duration": 55,
    "start_time": "2024-08-10T09:32:43.278Z"
   },
   {
    "duration": 11,
    "start_time": "2024-08-10T09:32:43.335Z"
   },
   {
    "duration": 3826,
    "start_time": "2024-08-10T09:32:43.349Z"
   },
   {
    "duration": 6,
    "start_time": "2024-08-10T09:32:47.178Z"
   },
   {
    "duration": 0,
    "start_time": "2024-08-10T09:32:47.188Z"
   },
   {
    "duration": 0,
    "start_time": "2024-08-10T09:32:47.190Z"
   },
   {
    "duration": 0,
    "start_time": "2024-08-10T09:32:47.192Z"
   },
   {
    "duration": 0,
    "start_time": "2024-08-10T09:32:47.196Z"
   },
   {
    "duration": 0,
    "start_time": "2024-08-10T09:32:47.198Z"
   },
   {
    "duration": 0,
    "start_time": "2024-08-10T09:32:47.201Z"
   },
   {
    "duration": 0,
    "start_time": "2024-08-10T09:32:47.233Z"
   },
   {
    "duration": 0,
    "start_time": "2024-08-10T09:32:47.236Z"
   },
   {
    "duration": 0,
    "start_time": "2024-08-10T09:32:47.238Z"
   },
   {
    "duration": 0,
    "start_time": "2024-08-10T09:32:47.240Z"
   },
   {
    "duration": 0,
    "start_time": "2024-08-10T09:32:47.243Z"
   },
   {
    "duration": 0,
    "start_time": "2024-08-10T09:32:47.244Z"
   },
   {
    "duration": 0,
    "start_time": "2024-08-10T09:32:47.248Z"
   },
   {
    "duration": 0,
    "start_time": "2024-08-10T09:32:47.250Z"
   },
   {
    "duration": 0,
    "start_time": "2024-08-10T09:32:47.253Z"
   },
   {
    "duration": 0,
    "start_time": "2024-08-10T09:32:47.254Z"
   },
   {
    "duration": 0,
    "start_time": "2024-08-10T09:32:47.257Z"
   },
   {
    "duration": 0,
    "start_time": "2024-08-10T09:32:47.259Z"
   },
   {
    "duration": 0,
    "start_time": "2024-08-10T09:32:47.264Z"
   },
   {
    "duration": 0,
    "start_time": "2024-08-10T09:32:47.267Z"
   },
   {
    "duration": 0,
    "start_time": "2024-08-10T09:32:47.269Z"
   },
   {
    "duration": 1,
    "start_time": "2024-08-10T09:32:47.270Z"
   },
   {
    "duration": 0,
    "start_time": "2024-08-10T09:32:47.273Z"
   },
   {
    "duration": 0,
    "start_time": "2024-08-10T09:32:47.334Z"
   },
   {
    "duration": 0,
    "start_time": "2024-08-10T09:32:47.336Z"
   },
   {
    "duration": 0,
    "start_time": "2024-08-10T09:32:47.338Z"
   },
   {
    "duration": 0,
    "start_time": "2024-08-10T09:32:47.341Z"
   },
   {
    "duration": 0,
    "start_time": "2024-08-10T09:32:47.345Z"
   },
   {
    "duration": 0,
    "start_time": "2024-08-10T09:32:47.347Z"
   },
   {
    "duration": 700,
    "start_time": "2024-08-10T09:35:03.160Z"
   },
   {
    "duration": 1539,
    "start_time": "2024-08-10T09:35:03.863Z"
   },
   {
    "duration": 29,
    "start_time": "2024-08-10T09:35:05.404Z"
   },
   {
    "duration": 59,
    "start_time": "2024-08-10T09:35:05.438Z"
   },
   {
    "duration": 32,
    "start_time": "2024-08-10T09:35:05.500Z"
   },
   {
    "duration": 23,
    "start_time": "2024-08-10T09:35:05.535Z"
   },
   {
    "duration": 5,
    "start_time": "2024-08-10T09:35:05.563Z"
   },
   {
    "duration": 193,
    "start_time": "2024-08-10T09:35:05.571Z"
   },
   {
    "duration": 195,
    "start_time": "2024-08-10T09:35:05.769Z"
   },
   {
    "duration": 16,
    "start_time": "2024-08-10T09:35:05.969Z"
   },
   {
    "duration": 16,
    "start_time": "2024-08-10T09:35:05.988Z"
   },
   {
    "duration": 12,
    "start_time": "2024-08-10T09:35:06.033Z"
   },
   {
    "duration": 24,
    "start_time": "2024-08-10T09:35:06.048Z"
   },
   {
    "duration": 13,
    "start_time": "2024-08-10T09:35:06.075Z"
   },
   {
    "duration": 47,
    "start_time": "2024-08-10T09:35:06.091Z"
   },
   {
    "duration": 7,
    "start_time": "2024-08-10T09:35:06.143Z"
   },
   {
    "duration": 14,
    "start_time": "2024-08-10T09:35:06.153Z"
   },
   {
    "duration": 8,
    "start_time": "2024-08-10T09:35:06.170Z"
   },
   {
    "duration": 53,
    "start_time": "2024-08-10T09:35:06.181Z"
   },
   {
    "duration": 40,
    "start_time": "2024-08-10T09:35:06.237Z"
   },
   {
    "duration": 54,
    "start_time": "2024-08-10T09:35:06.280Z"
   },
   {
    "duration": 80,
    "start_time": "2024-08-10T09:35:06.336Z"
   },
   {
    "duration": 1309,
    "start_time": "2024-08-10T09:35:06.433Z"
   },
   {
    "duration": 169,
    "start_time": "2024-08-10T09:35:07.744Z"
   },
   {
    "duration": 22,
    "start_time": "2024-08-10T09:35:07.917Z"
   },
   {
    "duration": 19,
    "start_time": "2024-08-10T09:35:07.942Z"
   },
   {
    "duration": 8,
    "start_time": "2024-08-10T09:35:07.964Z"
   },
   {
    "duration": 9,
    "start_time": "2024-08-10T09:35:07.982Z"
   },
   {
    "duration": 7,
    "start_time": "2024-08-10T09:35:08.032Z"
   },
   {
    "duration": 21,
    "start_time": "2024-08-10T09:35:08.042Z"
   },
   {
    "duration": 7,
    "start_time": "2024-08-10T09:35:08.066Z"
   },
   {
    "duration": 14,
    "start_time": "2024-08-10T09:35:08.075Z"
   },
   {
    "duration": 40,
    "start_time": "2024-08-10T09:35:08.132Z"
   },
   {
    "duration": 9,
    "start_time": "2024-08-10T09:35:08.176Z"
   },
   {
    "duration": 14,
    "start_time": "2024-08-10T09:35:08.188Z"
   },
   {
    "duration": 9,
    "start_time": "2024-08-10T09:35:08.233Z"
   },
   {
    "duration": 9,
    "start_time": "2024-08-10T09:35:08.245Z"
   },
   {
    "duration": 1320,
    "start_time": "2024-08-10T09:35:08.257Z"
   },
   {
    "duration": 1175,
    "start_time": "2024-08-10T09:35:09.580Z"
   },
   {
    "duration": 11,
    "start_time": "2024-08-10T09:35:10.757Z"
   },
   {
    "duration": 13,
    "start_time": "2024-08-10T09:35:10.771Z"
   },
   {
    "duration": 11,
    "start_time": "2024-08-10T09:35:10.786Z"
   },
   {
    "duration": 20,
    "start_time": "2024-08-10T09:35:10.832Z"
   },
   {
    "duration": 7,
    "start_time": "2024-08-10T09:35:10.855Z"
   },
   {
    "duration": 9,
    "start_time": "2024-08-10T09:35:10.865Z"
   },
   {
    "duration": 8,
    "start_time": "2024-08-10T09:35:10.876Z"
   },
   {
    "duration": 7,
    "start_time": "2024-08-10T09:35:10.935Z"
   },
   {
    "duration": 10,
    "start_time": "2024-08-10T09:35:10.945Z"
   },
   {
    "duration": 9,
    "start_time": "2024-08-10T09:35:10.958Z"
   },
   {
    "duration": 9,
    "start_time": "2024-08-10T09:35:10.970Z"
   },
   {
    "duration": 72,
    "start_time": "2024-08-10T09:35:10.982Z"
   },
   {
    "duration": 27,
    "start_time": "2024-08-10T09:35:11.057Z"
   },
   {
    "duration": 52,
    "start_time": "2024-08-10T09:35:11.087Z"
   },
   {
    "duration": 11,
    "start_time": "2024-08-10T09:35:11.142Z"
   },
   {
    "duration": 9,
    "start_time": "2024-08-10T09:35:11.156Z"
   },
   {
    "duration": 11,
    "start_time": "2024-08-10T09:35:11.168Z"
   },
   {
    "duration": 52,
    "start_time": "2024-08-10T09:35:11.182Z"
   },
   {
    "duration": 7,
    "start_time": "2024-08-10T09:35:11.237Z"
   },
   {
    "duration": 10,
    "start_time": "2024-08-10T09:35:11.247Z"
   },
   {
    "duration": 3814,
    "start_time": "2024-08-10T09:35:11.260Z"
   },
   {
    "duration": 6,
    "start_time": "2024-08-10T09:35:15.077Z"
   },
   {
    "duration": 0,
    "start_time": "2024-08-10T09:35:15.086Z"
   },
   {
    "duration": 0,
    "start_time": "2024-08-10T09:35:15.089Z"
   },
   {
    "duration": 0,
    "start_time": "2024-08-10T09:35:15.092Z"
   },
   {
    "duration": 0,
    "start_time": "2024-08-10T09:35:15.094Z"
   },
   {
    "duration": 0,
    "start_time": "2024-08-10T09:35:15.097Z"
   },
   {
    "duration": 0,
    "start_time": "2024-08-10T09:35:15.098Z"
   },
   {
    "duration": 0,
    "start_time": "2024-08-10T09:35:15.134Z"
   },
   {
    "duration": 0,
    "start_time": "2024-08-10T09:35:15.135Z"
   },
   {
    "duration": 0,
    "start_time": "2024-08-10T09:35:15.138Z"
   },
   {
    "duration": 0,
    "start_time": "2024-08-10T09:35:15.141Z"
   },
   {
    "duration": 0,
    "start_time": "2024-08-10T09:35:15.143Z"
   },
   {
    "duration": 0,
    "start_time": "2024-08-10T09:35:15.144Z"
   },
   {
    "duration": 0,
    "start_time": "2024-08-10T09:35:15.147Z"
   },
   {
    "duration": 0,
    "start_time": "2024-08-10T09:35:15.149Z"
   },
   {
    "duration": 0,
    "start_time": "2024-08-10T09:35:15.151Z"
   },
   {
    "duration": 0,
    "start_time": "2024-08-10T09:35:15.153Z"
   },
   {
    "duration": 0,
    "start_time": "2024-08-10T09:35:15.155Z"
   },
   {
    "duration": 0,
    "start_time": "2024-08-10T09:35:15.157Z"
   },
   {
    "duration": 0,
    "start_time": "2024-08-10T09:35:15.159Z"
   },
   {
    "duration": 0,
    "start_time": "2024-08-10T09:35:15.161Z"
   },
   {
    "duration": 0,
    "start_time": "2024-08-10T09:35:15.164Z"
   },
   {
    "duration": 0,
    "start_time": "2024-08-10T09:35:15.166Z"
   },
   {
    "duration": 0,
    "start_time": "2024-08-10T09:35:15.168Z"
   },
   {
    "duration": 0,
    "start_time": "2024-08-10T09:35:15.171Z"
   },
   {
    "duration": 0,
    "start_time": "2024-08-10T09:35:15.173Z"
   },
   {
    "duration": 0,
    "start_time": "2024-08-10T09:35:15.235Z"
   },
   {
    "duration": 0,
    "start_time": "2024-08-10T09:35:15.237Z"
   },
   {
    "duration": 0,
    "start_time": "2024-08-10T09:35:15.239Z"
   },
   {
    "duration": 0,
    "start_time": "2024-08-10T09:35:15.242Z"
   },
   {
    "duration": 11,
    "start_time": "2024-08-10T09:36:55.384Z"
   },
   {
    "duration": 10,
    "start_time": "2024-08-10T09:37:17.436Z"
   },
   {
    "duration": 10,
    "start_time": "2024-08-10T09:37:32.909Z"
   },
   {
    "duration": 8,
    "start_time": "2024-08-10T09:37:38.016Z"
   },
   {
    "duration": 10,
    "start_time": "2024-08-10T09:37:38.777Z"
   },
   {
    "duration": 6,
    "start_time": "2024-08-10T09:39:28.177Z"
   },
   {
    "duration": 9,
    "start_time": "2024-08-10T09:39:28.734Z"
   },
   {
    "duration": 10,
    "start_time": "2024-08-10T09:39:32.377Z"
   },
   {
    "duration": 16,
    "start_time": "2024-08-10T09:49:01.638Z"
   },
   {
    "duration": 9,
    "start_time": "2024-08-10T09:50:21.048Z"
   },
   {
    "duration": 4408,
    "start_time": "2024-08-10T17:21:51.961Z"
   },
   {
    "duration": 1651,
    "start_time": "2024-08-10T17:21:56.373Z"
   },
   {
    "duration": 22,
    "start_time": "2024-08-10T17:21:58.027Z"
   },
   {
    "duration": 82,
    "start_time": "2024-08-10T17:21:58.052Z"
   },
   {
    "duration": 7,
    "start_time": "2024-08-10T17:21:58.140Z"
   },
   {
    "duration": 50,
    "start_time": "2024-08-10T17:21:58.150Z"
   },
   {
    "duration": 7,
    "start_time": "2024-08-10T17:21:58.203Z"
   },
   {
    "duration": 198,
    "start_time": "2024-08-10T17:21:58.213Z"
   },
   {
    "duration": 216,
    "start_time": "2024-08-10T17:21:58.415Z"
   },
   {
    "duration": 16,
    "start_time": "2024-08-10T17:21:58.634Z"
   },
   {
    "duration": 38,
    "start_time": "2024-08-10T17:21:58.653Z"
   },
   {
    "duration": 11,
    "start_time": "2024-08-10T17:21:58.694Z"
   },
   {
    "duration": 25,
    "start_time": "2024-08-10T17:21:58.711Z"
   },
   {
    "duration": 49,
    "start_time": "2024-08-10T17:21:58.745Z"
   },
   {
    "duration": 9,
    "start_time": "2024-08-10T17:21:58.797Z"
   },
   {
    "duration": 8,
    "start_time": "2024-08-10T17:21:58.809Z"
   },
   {
    "duration": 14,
    "start_time": "2024-08-10T17:21:58.820Z"
   },
   {
    "duration": 53,
    "start_time": "2024-08-10T17:21:58.837Z"
   },
   {
    "duration": 7,
    "start_time": "2024-08-10T17:21:58.894Z"
   },
   {
    "duration": 41,
    "start_time": "2024-08-10T17:21:58.904Z"
   },
   {
    "duration": 66,
    "start_time": "2024-08-10T17:21:58.948Z"
   },
   {
    "duration": 103,
    "start_time": "2024-08-10T17:21:59.017Z"
   },
   {
    "duration": 1374,
    "start_time": "2024-08-10T17:21:59.123Z"
   },
   {
    "duration": 198,
    "start_time": "2024-08-10T17:22:00.500Z"
   },
   {
    "duration": 14,
    "start_time": "2024-08-10T17:22:00.702Z"
   },
   {
    "duration": 20,
    "start_time": "2024-08-10T17:22:00.719Z"
   },
   {
    "duration": 47,
    "start_time": "2024-08-10T17:22:00.743Z"
   },
   {
    "duration": 9,
    "start_time": "2024-08-10T17:22:00.793Z"
   },
   {
    "duration": 6,
    "start_time": "2024-08-10T17:22:00.805Z"
   },
   {
    "duration": 22,
    "start_time": "2024-08-10T17:22:00.814Z"
   },
   {
    "duration": 51,
    "start_time": "2024-08-10T17:22:00.841Z"
   },
   {
    "duration": 14,
    "start_time": "2024-08-10T17:22:00.895Z"
   },
   {
    "duration": 36,
    "start_time": "2024-08-10T17:22:00.912Z"
   },
   {
    "duration": 40,
    "start_time": "2024-08-10T17:22:00.951Z"
   },
   {
    "duration": 8,
    "start_time": "2024-08-10T17:22:00.994Z"
   },
   {
    "duration": 7,
    "start_time": "2024-08-10T17:22:01.006Z"
   },
   {
    "duration": 10,
    "start_time": "2024-08-10T17:22:01.016Z"
   },
   {
    "duration": 1406,
    "start_time": "2024-08-10T17:22:01.029Z"
   },
   {
    "duration": 1298,
    "start_time": "2024-08-10T17:22:02.438Z"
   },
   {
    "duration": 13,
    "start_time": "2024-08-10T17:22:03.739Z"
   },
   {
    "duration": 15,
    "start_time": "2024-08-10T17:22:03.789Z"
   },
   {
    "duration": 14,
    "start_time": "2024-08-10T17:22:03.807Z"
   },
   {
    "duration": 25,
    "start_time": "2024-08-10T17:22:03.825Z"
   },
   {
    "duration": 8,
    "start_time": "2024-08-10T17:22:03.890Z"
   },
   {
    "duration": 8,
    "start_time": "2024-08-10T17:22:03.901Z"
   },
   {
    "duration": 8,
    "start_time": "2024-08-10T17:22:03.912Z"
   },
   {
    "duration": 8,
    "start_time": "2024-08-10T17:22:03.924Z"
   },
   {
    "duration": 65,
    "start_time": "2024-08-10T17:22:03.935Z"
   },
   {
    "duration": 10,
    "start_time": "2024-08-10T17:22:04.003Z"
   },
   {
    "duration": 10,
    "start_time": "2024-08-10T17:22:04.017Z"
   },
   {
    "duration": 75,
    "start_time": "2024-08-10T17:22:04.030Z"
   },
   {
    "duration": 30,
    "start_time": "2024-08-10T17:22:04.109Z"
   },
   {
    "duration": 50,
    "start_time": "2024-08-10T17:22:04.142Z"
   },
   {
    "duration": 11,
    "start_time": "2024-08-10T17:22:04.195Z"
   },
   {
    "duration": 7,
    "start_time": "2024-08-10T17:22:04.210Z"
   },
   {
    "duration": 11,
    "start_time": "2024-08-10T17:22:04.220Z"
   },
   {
    "duration": 57,
    "start_time": "2024-08-10T17:22:04.235Z"
   },
   {
    "duration": 14,
    "start_time": "2024-08-10T17:22:04.296Z"
   },
   {
    "duration": 9,
    "start_time": "2024-08-10T17:22:04.314Z"
   },
   {
    "duration": 7,
    "start_time": "2024-08-10T17:22:04.327Z"
   },
   {
    "duration": 60,
    "start_time": "2024-08-10T17:22:04.339Z"
   },
   {
    "duration": 3843,
    "start_time": "2024-08-10T17:22:04.402Z"
   },
   {
    "duration": 8,
    "start_time": "2024-08-10T17:22:08.248Z"
   },
   {
    "duration": 0,
    "start_time": "2024-08-10T17:22:08.259Z"
   },
   {
    "duration": 0,
    "start_time": "2024-08-10T17:22:08.260Z"
   },
   {
    "duration": 0,
    "start_time": "2024-08-10T17:22:08.263Z"
   },
   {
    "duration": 0,
    "start_time": "2024-08-10T17:22:08.265Z"
   },
   {
    "duration": 0,
    "start_time": "2024-08-10T17:22:08.267Z"
   },
   {
    "duration": 0,
    "start_time": "2024-08-10T17:22:08.268Z"
   },
   {
    "duration": 0,
    "start_time": "2024-08-10T17:22:08.269Z"
   },
   {
    "duration": 0,
    "start_time": "2024-08-10T17:22:08.291Z"
   },
   {
    "duration": 0,
    "start_time": "2024-08-10T17:22:08.292Z"
   },
   {
    "duration": 0,
    "start_time": "2024-08-10T17:22:08.295Z"
   },
   {
    "duration": 0,
    "start_time": "2024-08-10T17:22:08.297Z"
   },
   {
    "duration": 0,
    "start_time": "2024-08-10T17:22:08.299Z"
   },
   {
    "duration": 0,
    "start_time": "2024-08-10T17:22:08.303Z"
   },
   {
    "duration": 0,
    "start_time": "2024-08-10T17:22:08.305Z"
   },
   {
    "duration": 0,
    "start_time": "2024-08-10T17:22:08.308Z"
   },
   {
    "duration": 0,
    "start_time": "2024-08-10T17:22:08.311Z"
   },
   {
    "duration": 0,
    "start_time": "2024-08-10T17:22:08.315Z"
   },
   {
    "duration": 0,
    "start_time": "2024-08-10T17:22:08.318Z"
   },
   {
    "duration": 0,
    "start_time": "2024-08-10T17:22:08.321Z"
   },
   {
    "duration": 0,
    "start_time": "2024-08-10T17:22:08.323Z"
   },
   {
    "duration": 0,
    "start_time": "2024-08-10T17:22:08.325Z"
   },
   {
    "duration": 0,
    "start_time": "2024-08-10T17:22:08.326Z"
   },
   {
    "duration": 0,
    "start_time": "2024-08-10T17:22:08.390Z"
   },
   {
    "duration": 0,
    "start_time": "2024-08-10T17:22:08.393Z"
   },
   {
    "duration": 0,
    "start_time": "2024-08-10T17:22:08.395Z"
   },
   {
    "duration": 0,
    "start_time": "2024-08-10T17:22:08.397Z"
   },
   {
    "duration": 0,
    "start_time": "2024-08-10T17:22:08.400Z"
   },
   {
    "duration": 0,
    "start_time": "2024-08-10T17:22:08.402Z"
   },
   {
    "duration": 0,
    "start_time": "2024-08-10T17:22:08.404Z"
   },
   {
    "duration": 11,
    "start_time": "2024-08-10T17:31:52.331Z"
   },
   {
    "duration": 13,
    "start_time": "2024-08-10T17:32:03.034Z"
   },
   {
    "duration": 13,
    "start_time": "2024-08-10T17:32:18.794Z"
   },
   {
    "duration": 14,
    "start_time": "2024-08-10T17:35:00.982Z"
   },
   {
    "duration": 11,
    "start_time": "2024-08-10T17:35:05.368Z"
   },
   {
    "duration": 14,
    "start_time": "2024-08-10T17:35:34.899Z"
   },
   {
    "duration": 16,
    "start_time": "2024-08-10T17:35:43.081Z"
   },
   {
    "duration": 16,
    "start_time": "2024-08-10T17:35:53.114Z"
   },
   {
    "duration": 5,
    "start_time": "2024-08-10T17:36:21.024Z"
   },
   {
    "duration": 13,
    "start_time": "2024-08-10T17:36:40.134Z"
   },
   {
    "duration": 7,
    "start_time": "2024-08-10T17:37:19.758Z"
   },
   {
    "duration": 12,
    "start_time": "2024-08-10T17:37:23.842Z"
   },
   {
    "duration": 11,
    "start_time": "2024-08-10T17:38:50.569Z"
   },
   {
    "duration": 12,
    "start_time": "2024-08-10T17:38:55.341Z"
   },
   {
    "duration": 11,
    "start_time": "2024-08-10T17:39:01.725Z"
   },
   {
    "duration": 10,
    "start_time": "2024-08-10T17:39:44.285Z"
   },
   {
    "duration": 17,
    "start_time": "2024-08-10T17:40:33.749Z"
   },
   {
    "duration": 27,
    "start_time": "2024-08-10T17:40:38.400Z"
   },
   {
    "duration": 33,
    "start_time": "2024-08-10T17:41:02.483Z"
   },
   {
    "duration": 177,
    "start_time": "2024-08-10T17:43:22.863Z"
   },
   {
    "duration": 24,
    "start_time": "2024-08-10T17:43:26.732Z"
   },
   {
    "duration": 25,
    "start_time": "2024-08-10T17:43:51.631Z"
   },
   {
    "duration": 26,
    "start_time": "2024-08-10T17:44:12.760Z"
   },
   {
    "duration": 24,
    "start_time": "2024-08-10T17:44:31.525Z"
   },
   {
    "duration": 4,
    "start_time": "2024-08-10T17:52:03.754Z"
   },
   {
    "duration": 1295,
    "start_time": "2024-08-10T17:55:45.576Z"
   },
   {
    "duration": 16,
    "start_time": "2024-08-10T17:56:06.998Z"
   },
   {
    "duration": 18,
    "start_time": "2024-08-10T17:56:13.623Z"
   },
   {
    "duration": 18,
    "start_time": "2024-08-10T17:56:52.284Z"
   },
   {
    "duration": 5,
    "start_time": "2024-08-10T17:58:03.148Z"
   },
   {
    "duration": 7,
    "start_time": "2024-08-10T17:58:11.007Z"
   },
   {
    "duration": 7,
    "start_time": "2024-08-10T17:58:30.668Z"
   },
   {
    "duration": 6,
    "start_time": "2024-08-10T17:59:13.227Z"
   },
   {
    "duration": 6,
    "start_time": "2024-08-10T17:59:49.384Z"
   },
   {
    "duration": 116,
    "start_time": "2024-08-10T18:06:12.935Z"
   },
   {
    "duration": 111,
    "start_time": "2024-08-10T18:08:54.950Z"
   },
   {
    "duration": 4352,
    "start_time": "2024-08-11T19:16:28.000Z"
   },
   {
    "duration": 1705,
    "start_time": "2024-08-11T19:16:32.355Z"
   },
   {
    "duration": 20,
    "start_time": "2024-08-11T19:16:34.063Z"
   },
   {
    "duration": 92,
    "start_time": "2024-08-11T19:16:34.087Z"
   },
   {
    "duration": 7,
    "start_time": "2024-08-11T19:16:34.182Z"
   },
   {
    "duration": 23,
    "start_time": "2024-08-11T19:16:34.212Z"
   },
   {
    "duration": 7,
    "start_time": "2024-08-11T19:16:34.238Z"
   },
   {
    "duration": 216,
    "start_time": "2024-08-11T19:16:34.248Z"
   },
   {
    "duration": 199,
    "start_time": "2024-08-11T19:16:34.466Z"
   },
   {
    "duration": 15,
    "start_time": "2024-08-11T19:16:34.671Z"
   },
   {
    "duration": 32,
    "start_time": "2024-08-11T19:16:34.689Z"
   },
   {
    "duration": 10,
    "start_time": "2024-08-11T19:16:34.724Z"
   },
   {
    "duration": 25,
    "start_time": "2024-08-11T19:16:34.737Z"
   },
   {
    "duration": 54,
    "start_time": "2024-08-11T19:16:34.765Z"
   },
   {
    "duration": 8,
    "start_time": "2024-08-11T19:16:34.823Z"
   },
   {
    "duration": 8,
    "start_time": "2024-08-11T19:16:34.834Z"
   },
   {
    "duration": 14,
    "start_time": "2024-08-11T19:16:34.845Z"
   },
   {
    "duration": 52,
    "start_time": "2024-08-11T19:16:34.862Z"
   },
   {
    "duration": 8,
    "start_time": "2024-08-11T19:16:34.918Z"
   },
   {
    "duration": 41,
    "start_time": "2024-08-11T19:16:34.929Z"
   },
   {
    "duration": 59,
    "start_time": "2024-08-11T19:16:34.973Z"
   },
   {
    "duration": 102,
    "start_time": "2024-08-11T19:16:35.035Z"
   },
   {
    "duration": 1348,
    "start_time": "2024-08-11T19:16:35.140Z"
   },
   {
    "duration": 169,
    "start_time": "2024-08-11T19:16:36.491Z"
   },
   {
    "duration": 15,
    "start_time": "2024-08-11T19:16:36.664Z"
   },
   {
    "duration": 42,
    "start_time": "2024-08-11T19:16:36.681Z"
   },
   {
    "duration": 9,
    "start_time": "2024-08-11T19:16:36.726Z"
   },
   {
    "duration": 8,
    "start_time": "2024-08-11T19:16:36.746Z"
   },
   {
    "duration": 9,
    "start_time": "2024-08-11T19:16:36.757Z"
   },
   {
    "duration": 57,
    "start_time": "2024-08-11T19:16:36.774Z"
   },
   {
    "duration": 8,
    "start_time": "2024-08-11T19:16:36.834Z"
   },
   {
    "duration": 13,
    "start_time": "2024-08-11T19:16:36.845Z"
   },
   {
    "duration": 70,
    "start_time": "2024-08-11T19:16:36.862Z"
   },
   {
    "duration": 7,
    "start_time": "2024-08-11T19:16:36.935Z"
   },
   {
    "duration": 9,
    "start_time": "2024-08-11T19:16:36.945Z"
   },
   {
    "duration": 7,
    "start_time": "2024-08-11T19:16:36.957Z"
   },
   {
    "duration": 52,
    "start_time": "2024-08-11T19:16:36.968Z"
   },
   {
    "duration": 1383,
    "start_time": "2024-08-11T19:16:37.023Z"
   },
   {
    "duration": 1194,
    "start_time": "2024-08-11T19:16:38.412Z"
   },
   {
    "duration": 10,
    "start_time": "2024-08-11T19:16:39.613Z"
   },
   {
    "duration": 13,
    "start_time": "2024-08-11T19:16:39.626Z"
   },
   {
    "duration": 12,
    "start_time": "2024-08-11T19:16:39.641Z"
   },
   {
    "duration": 59,
    "start_time": "2024-08-11T19:16:39.656Z"
   },
   {
    "duration": 8,
    "start_time": "2024-08-11T19:16:39.718Z"
   },
   {
    "duration": 7,
    "start_time": "2024-08-11T19:16:39.729Z"
   },
   {
    "duration": 8,
    "start_time": "2024-08-11T19:16:39.739Z"
   },
   {
    "duration": 7,
    "start_time": "2024-08-11T19:16:39.750Z"
   },
   {
    "duration": 58,
    "start_time": "2024-08-11T19:16:39.761Z"
   },
   {
    "duration": 9,
    "start_time": "2024-08-11T19:16:39.823Z"
   },
   {
    "duration": 10,
    "start_time": "2024-08-11T19:16:39.835Z"
   },
   {
    "duration": 72,
    "start_time": "2024-08-11T19:16:39.849Z"
   },
   {
    "duration": 29,
    "start_time": "2024-08-11T19:16:39.925Z"
   },
   {
    "duration": 23,
    "start_time": "2024-08-11T19:16:39.957Z"
   },
   {
    "duration": 10,
    "start_time": "2024-08-11T19:16:40.013Z"
   },
   {
    "duration": 7,
    "start_time": "2024-08-11T19:16:40.027Z"
   },
   {
    "duration": 10,
    "start_time": "2024-08-11T19:16:40.038Z"
   },
   {
    "duration": 15,
    "start_time": "2024-08-11T19:16:40.051Z"
   },
   {
    "duration": 51,
    "start_time": "2024-08-11T19:16:40.069Z"
   },
   {
    "duration": 11,
    "start_time": "2024-08-11T19:16:40.123Z"
   },
   {
    "duration": 11,
    "start_time": "2024-08-11T19:16:40.137Z"
   },
   {
    "duration": 10,
    "start_time": "2024-08-11T19:16:40.152Z"
   },
   {
    "duration": 67,
    "start_time": "2024-08-11T19:16:40.165Z"
   },
   {
    "duration": 24,
    "start_time": "2024-08-11T19:16:40.235Z"
   },
   {
    "duration": 57,
    "start_time": "2024-08-11T19:16:40.262Z"
   },
   {
    "duration": 26,
    "start_time": "2024-08-11T19:16:40.322Z"
   },
   {
    "duration": 7,
    "start_time": "2024-08-11T19:16:40.351Z"
   },
   {
    "duration": 151,
    "start_time": "2024-08-11T19:16:40.362Z"
   },
   {
    "duration": 4,
    "start_time": "2024-08-11T19:16:40.516Z"
   },
   {
    "duration": 4,
    "start_time": "2024-08-11T19:16:40.525Z"
   },
   {
    "duration": 417,
    "start_time": "2024-08-11T19:16:40.533Z"
   },
   {
    "duration": 0,
    "start_time": "2024-08-11T19:16:40.955Z"
   },
   {
    "duration": 0,
    "start_time": "2024-08-11T19:16:40.958Z"
   },
   {
    "duration": 0,
    "start_time": "2024-08-11T19:16:40.960Z"
   },
   {
    "duration": 0,
    "start_time": "2024-08-11T19:16:40.962Z"
   },
   {
    "duration": 0,
    "start_time": "2024-08-11T19:16:40.963Z"
   },
   {
    "duration": 0,
    "start_time": "2024-08-11T19:16:40.966Z"
   },
   {
    "duration": 0,
    "start_time": "2024-08-11T19:16:40.968Z"
   },
   {
    "duration": 0,
    "start_time": "2024-08-11T19:16:40.971Z"
   },
   {
    "duration": 0,
    "start_time": "2024-08-11T19:16:40.973Z"
   },
   {
    "duration": 0,
    "start_time": "2024-08-11T19:16:40.976Z"
   },
   {
    "duration": 0,
    "start_time": "2024-08-11T19:16:40.978Z"
   },
   {
    "duration": 0,
    "start_time": "2024-08-11T19:16:40.980Z"
   },
   {
    "duration": 0,
    "start_time": "2024-08-11T19:16:40.981Z"
   },
   {
    "duration": 0,
    "start_time": "2024-08-11T19:16:41.013Z"
   },
   {
    "duration": 0,
    "start_time": "2024-08-11T19:16:41.016Z"
   },
   {
    "duration": 0,
    "start_time": "2024-08-11T19:16:41.018Z"
   },
   {
    "duration": 0,
    "start_time": "2024-08-11T19:16:41.022Z"
   },
   {
    "duration": 0,
    "start_time": "2024-08-11T19:16:41.024Z"
   },
   {
    "duration": 0,
    "start_time": "2024-08-11T19:16:41.026Z"
   },
   {
    "duration": 0,
    "start_time": "2024-08-11T19:16:41.028Z"
   },
   {
    "duration": 0,
    "start_time": "2024-08-11T19:16:41.030Z"
   },
   {
    "duration": 0,
    "start_time": "2024-08-11T19:16:41.032Z"
   },
   {
    "duration": 0,
    "start_time": "2024-08-11T19:16:41.035Z"
   },
   {
    "duration": 0,
    "start_time": "2024-08-11T19:16:41.038Z"
   },
   {
    "duration": 0,
    "start_time": "2024-08-11T19:16:41.041Z"
   },
   {
    "duration": 0,
    "start_time": "2024-08-11T19:16:41.043Z"
   },
   {
    "duration": 27,
    "start_time": "2024-08-11T19:17:12.863Z"
   },
   {
    "duration": 25,
    "start_time": "2024-08-11T19:23:01.388Z"
   },
   {
    "duration": 6,
    "start_time": "2024-08-11T19:23:27.637Z"
   },
   {
    "duration": 9,
    "start_time": "2024-08-11T19:23:33.999Z"
   },
   {
    "duration": 6,
    "start_time": "2024-08-11T19:23:42.310Z"
   },
   {
    "duration": 8,
    "start_time": "2024-08-11T19:24:08.922Z"
   },
   {
    "duration": 7,
    "start_time": "2024-08-11T19:25:29.482Z"
   },
   {
    "duration": 5,
    "start_time": "2024-08-11T19:25:33.825Z"
   },
   {
    "duration": 8,
    "start_time": "2024-08-11T19:25:39.719Z"
   },
   {
    "duration": 23,
    "start_time": "2024-08-11T19:25:55.810Z"
   },
   {
    "duration": 7,
    "start_time": "2024-08-11T19:26:06.780Z"
   },
   {
    "duration": 7,
    "start_time": "2024-08-11T19:26:21.326Z"
   },
   {
    "duration": 6,
    "start_time": "2024-08-11T19:26:37.477Z"
   },
   {
    "duration": 6,
    "start_time": "2024-08-11T19:27:28.803Z"
   },
   {
    "duration": 7,
    "start_time": "2024-08-11T19:28:12.802Z"
   },
   {
    "duration": 9,
    "start_time": "2024-08-11T19:28:17.243Z"
   },
   {
    "duration": 3,
    "start_time": "2024-08-11T19:31:10.773Z"
   },
   {
    "duration": 487,
    "start_time": "2024-08-11T19:34:57.008Z"
   },
   {
    "duration": 535,
    "start_time": "2024-08-11T19:35:02.411Z"
   },
   {
    "duration": 14,
    "start_time": "2024-08-11T19:37:43.461Z"
   },
   {
    "duration": 16,
    "start_time": "2024-08-11T19:42:33.610Z"
   },
   {
    "duration": 10,
    "start_time": "2024-08-11T19:42:50.577Z"
   },
   {
    "duration": 11,
    "start_time": "2024-08-11T19:42:57.340Z"
   },
   {
    "duration": 5,
    "start_time": "2024-08-11T19:46:32.891Z"
   },
   {
    "duration": 6,
    "start_time": "2024-08-11T19:46:40.213Z"
   },
   {
    "duration": 10,
    "start_time": "2024-08-11T19:46:46.100Z"
   },
   {
    "duration": 6,
    "start_time": "2024-08-11T19:46:52.496Z"
   },
   {
    "duration": 6,
    "start_time": "2024-08-11T19:46:55.882Z"
   },
   {
    "duration": 10,
    "start_time": "2024-08-11T19:47:00.512Z"
   },
   {
    "duration": 12,
    "start_time": "2024-08-11T19:47:42.816Z"
   },
   {
    "duration": 13,
    "start_time": "2024-08-11T19:47:48.395Z"
   },
   {
    "duration": 13,
    "start_time": "2024-08-11T19:48:14.938Z"
   },
   {
    "duration": 13,
    "start_time": "2024-08-11T19:48:16.309Z"
   },
   {
    "duration": 13,
    "start_time": "2024-08-11T19:48:17.783Z"
   },
   {
    "duration": 13,
    "start_time": "2024-08-11T19:48:30.097Z"
   },
   {
    "duration": 12,
    "start_time": "2024-08-11T19:48:31.548Z"
   },
   {
    "duration": 16,
    "start_time": "2024-08-11T19:48:33.158Z"
   },
   {
    "duration": 12,
    "start_time": "2024-08-11T19:48:34.913Z"
   },
   {
    "duration": 13,
    "start_time": "2024-08-11T19:48:36.418Z"
   },
   {
    "duration": 17,
    "start_time": "2024-08-11T19:48:43.222Z"
   },
   {
    "duration": 12,
    "start_time": "2024-08-11T19:48:45.343Z"
   },
   {
    "duration": 13,
    "start_time": "2024-08-11T19:48:48.157Z"
   },
   {
    "duration": 14,
    "start_time": "2024-08-11T19:48:49.856Z"
   },
   {
    "duration": 12,
    "start_time": "2024-08-11T19:55:38.918Z"
   },
   {
    "duration": 8,
    "start_time": "2024-08-11T19:55:45.000Z"
   },
   {
    "duration": 6,
    "start_time": "2024-08-11T19:56:04.518Z"
   },
   {
    "duration": 14,
    "start_time": "2024-08-11T20:00:44.390Z"
   },
   {
    "duration": 11,
    "start_time": "2024-08-11T20:00:54.005Z"
   },
   {
    "duration": 7,
    "start_time": "2024-08-11T20:11:22.683Z"
   },
   {
    "duration": 4,
    "start_time": "2024-08-11T20:12:39.330Z"
   },
   {
    "duration": 1495,
    "start_time": "2024-08-11T20:12:39.580Z"
   },
   {
    "duration": 16,
    "start_time": "2024-08-11T20:12:41.078Z"
   },
   {
    "duration": 8,
    "start_time": "2024-08-11T20:13:02.783Z"
   },
   {
    "duration": 56,
    "start_time": "2024-08-11T20:13:18.955Z"
   },
   {
    "duration": 7,
    "start_time": "2024-08-11T20:13:19.143Z"
   },
   {
    "duration": 20,
    "start_time": "2024-08-11T20:13:19.301Z"
   },
   {
    "duration": 6,
    "start_time": "2024-08-11T20:13:19.443Z"
   },
   {
    "duration": 162,
    "start_time": "2024-08-11T20:13:19.672Z"
   },
   {
    "duration": 182,
    "start_time": "2024-08-11T20:13:19.837Z"
   },
   {
    "duration": 17,
    "start_time": "2024-08-11T20:13:20.022Z"
   },
   {
    "duration": 15,
    "start_time": "2024-08-11T20:13:20.327Z"
   },
   {
    "duration": 11,
    "start_time": "2024-08-11T20:13:20.443Z"
   },
   {
    "duration": 23,
    "start_time": "2024-08-11T20:13:20.693Z"
   },
   {
    "duration": 13,
    "start_time": "2024-08-11T20:13:20.934Z"
   },
   {
    "duration": 8,
    "start_time": "2024-08-11T20:13:21.177Z"
   },
   {
    "duration": 6,
    "start_time": "2024-08-11T20:13:21.686Z"
   },
   {
    "duration": 14,
    "start_time": "2024-08-11T20:13:21.756Z"
   },
   {
    "duration": 9,
    "start_time": "2024-08-11T20:13:21.840Z"
   },
   {
    "duration": 7,
    "start_time": "2024-08-11T20:13:21.923Z"
   },
   {
    "duration": 40,
    "start_time": "2024-08-11T20:13:22.007Z"
   },
   {
    "duration": 28,
    "start_time": "2024-08-11T20:13:22.090Z"
   },
   {
    "duration": 77,
    "start_time": "2024-08-11T20:13:22.174Z"
   },
   {
    "duration": 1235,
    "start_time": "2024-08-11T20:13:22.339Z"
   },
   {
    "duration": 167,
    "start_time": "2024-08-11T20:13:23.578Z"
   },
   {
    "duration": 14,
    "start_time": "2024-08-11T20:13:23.748Z"
   },
   {
    "duration": 18,
    "start_time": "2024-08-11T20:13:23.767Z"
   },
   {
    "duration": 11,
    "start_time": "2024-08-11T20:13:23.815Z"
   },
   {
    "duration": 8,
    "start_time": "2024-08-11T20:13:23.829Z"
   },
   {
    "duration": 6,
    "start_time": "2024-08-11T20:13:23.840Z"
   },
   {
    "duration": 20,
    "start_time": "2024-08-11T20:13:23.933Z"
   },
   {
    "duration": 10,
    "start_time": "2024-08-11T20:13:24.010Z"
   },
   {
    "duration": 12,
    "start_time": "2024-08-11T20:13:24.093Z"
   },
   {
    "duration": 36,
    "start_time": "2024-08-11T20:13:24.178Z"
   },
   {
    "duration": 7,
    "start_time": "2024-08-11T20:13:24.595Z"
   },
   {
    "duration": 8,
    "start_time": "2024-08-11T20:13:24.680Z"
   },
   {
    "duration": 6,
    "start_time": "2024-08-11T20:13:24.932Z"
   },
   {
    "duration": 8,
    "start_time": "2024-08-11T20:13:25.014Z"
   },
   {
    "duration": 1210,
    "start_time": "2024-08-11T20:13:25.350Z"
   },
   {
    "duration": 1113,
    "start_time": "2024-08-11T20:13:26.563Z"
   },
   {
    "duration": 10,
    "start_time": "2024-08-11T20:13:27.679Z"
   },
   {
    "duration": 28,
    "start_time": "2024-08-11T20:13:27.694Z"
   },
   {
    "duration": 12,
    "start_time": "2024-08-11T20:13:27.726Z"
   },
   {
    "duration": 22,
    "start_time": "2024-08-11T20:13:27.742Z"
   },
   {
    "duration": 51,
    "start_time": "2024-08-11T20:13:27.767Z"
   },
   {
    "duration": 7,
    "start_time": "2024-08-11T20:13:27.821Z"
   },
   {
    "duration": 7,
    "start_time": "2024-08-11T20:13:27.831Z"
   },
   {
    "duration": 6,
    "start_time": "2024-08-11T20:13:27.844Z"
   },
   {
    "duration": 10,
    "start_time": "2024-08-11T20:13:27.853Z"
   },
   {
    "duration": 9,
    "start_time": "2024-08-11T20:13:27.913Z"
   },
   {
    "duration": 10,
    "start_time": "2024-08-11T20:13:27.925Z"
   },
   {
    "duration": 26,
    "start_time": "2024-08-11T20:13:27.938Z"
   },
   {
    "duration": 67,
    "start_time": "2024-08-11T20:13:27.967Z"
   },
   {
    "duration": 23,
    "start_time": "2024-08-11T20:13:28.036Z"
   },
   {
    "duration": 11,
    "start_time": "2024-08-11T20:13:28.062Z"
   },
   {
    "duration": 40,
    "start_time": "2024-08-11T20:13:28.076Z"
   },
   {
    "duration": 9,
    "start_time": "2024-08-11T20:13:28.118Z"
   },
   {
    "duration": 9,
    "start_time": "2024-08-11T20:13:28.131Z"
   },
   {
    "duration": 13,
    "start_time": "2024-08-11T20:13:28.145Z"
   },
   {
    "duration": 51,
    "start_time": "2024-08-11T20:13:28.161Z"
   },
   {
    "duration": 11,
    "start_time": "2024-08-11T20:13:28.215Z"
   },
   {
    "duration": 10,
    "start_time": "2024-08-11T20:13:28.607Z"
   },
   {
    "duration": 25,
    "start_time": "2024-08-11T20:13:28.685Z"
   },
   {
    "duration": 20,
    "start_time": "2024-08-11T20:13:28.855Z"
   },
   {
    "duration": 21,
    "start_time": "2024-08-11T20:13:28.939Z"
   },
   {
    "duration": 21,
    "start_time": "2024-08-11T20:13:29.022Z"
   },
   {
    "duration": 6,
    "start_time": "2024-08-11T20:13:29.102Z"
   },
   {
    "duration": 527,
    "start_time": "2024-08-11T20:13:29.269Z"
   },
   {
    "duration": 24,
    "start_time": "2024-08-11T20:13:29.799Z"
   },
   {
    "duration": 10,
    "start_time": "2024-08-11T20:13:33.949Z"
   },
   {
    "duration": 10,
    "start_time": "2024-08-11T20:14:37.733Z"
   },
   {
    "duration": 16,
    "start_time": "2024-08-11T20:14:49.843Z"
   },
   {
    "duration": 8,
    "start_time": "2024-08-11T20:15:54.905Z"
   },
   {
    "duration": 20,
    "start_time": "2024-08-11T20:16:00.586Z"
   },
   {
    "duration": 7,
    "start_time": "2024-08-11T20:16:25.031Z"
   },
   {
    "duration": 8,
    "start_time": "2024-08-11T20:16:29.811Z"
   },
   {
    "duration": 18,
    "start_time": "2024-08-11T20:16:34.469Z"
   },
   {
    "duration": 7,
    "start_time": "2024-08-11T20:16:35.492Z"
   },
   {
    "duration": 6,
    "start_time": "2024-08-11T20:16:35.880Z"
   },
   {
    "duration": 23,
    "start_time": "2024-08-11T20:16:37.259Z"
   },
   {
    "duration": 7,
    "start_time": "2024-08-11T20:16:37.343Z"
   },
   {
    "duration": 14,
    "start_time": "2024-08-11T20:16:37.423Z"
   },
   {
    "duration": 31,
    "start_time": "2024-08-11T20:16:37.516Z"
   },
   {
    "duration": 7,
    "start_time": "2024-08-11T20:16:37.922Z"
   },
   {
    "duration": 8,
    "start_time": "2024-08-11T20:16:38.006Z"
   },
   {
    "duration": 8,
    "start_time": "2024-08-11T20:16:38.257Z"
   },
   {
    "duration": 9,
    "start_time": "2024-08-11T20:16:38.342Z"
   },
   {
    "duration": 1301,
    "start_time": "2024-08-11T20:16:38.673Z"
   },
   {
    "duration": 1199,
    "start_time": "2024-08-11T20:16:39.978Z"
   },
   {
    "duration": 10,
    "start_time": "2024-08-11T20:16:41.181Z"
   },
   {
    "duration": 13,
    "start_time": "2024-08-11T20:16:41.215Z"
   },
   {
    "duration": 12,
    "start_time": "2024-08-11T20:16:41.230Z"
   },
   {
    "duration": 12,
    "start_time": "2024-08-11T20:16:41.244Z"
   },
   {
    "duration": 6,
    "start_time": "2024-08-11T20:16:41.260Z"
   },
   {
    "duration": 8,
    "start_time": "2024-08-11T20:16:41.314Z"
   },
   {
    "duration": 7,
    "start_time": "2024-08-11T20:16:41.324Z"
   },
   {
    "duration": 8,
    "start_time": "2024-08-11T20:16:41.338Z"
   },
   {
    "duration": 11,
    "start_time": "2024-08-11T20:16:41.348Z"
   },
   {
    "duration": 57,
    "start_time": "2024-08-11T20:16:41.363Z"
   },
   {
    "duration": 10,
    "start_time": "2024-08-11T20:16:41.423Z"
   },
   {
    "duration": 26,
    "start_time": "2024-08-11T20:16:41.440Z"
   },
   {
    "duration": 67,
    "start_time": "2024-08-11T20:16:41.469Z"
   },
   {
    "duration": 22,
    "start_time": "2024-08-11T20:16:41.540Z"
   },
   {
    "duration": 10,
    "start_time": "2024-08-11T20:16:41.566Z"
   },
   {
    "duration": 8,
    "start_time": "2024-08-11T20:16:42.261Z"
   },
   {
    "duration": 8,
    "start_time": "2024-08-11T20:16:42.454Z"
   },
   {
    "duration": 10,
    "start_time": "2024-08-11T20:16:42.571Z"
   },
   {
    "duration": 11,
    "start_time": "2024-08-11T20:16:43.932Z"
   },
   {
    "duration": 8,
    "start_time": "2024-08-11T20:17:31.103Z"
   },
   {
    "duration": 4,
    "start_time": "2024-08-11T20:17:48.331Z"
   },
   {
    "duration": 1468,
    "start_time": "2024-08-11T20:17:48.701Z"
   },
   {
    "duration": 18,
    "start_time": "2024-08-11T20:17:50.172Z"
   },
   {
    "duration": 58,
    "start_time": "2024-08-11T20:17:51.760Z"
   },
   {
    "duration": 7,
    "start_time": "2024-08-11T20:17:52.582Z"
   },
   {
    "duration": 20,
    "start_time": "2024-08-11T20:17:57.331Z"
   },
   {
    "duration": 6,
    "start_time": "2024-08-11T20:17:58.677Z"
   },
   {
    "duration": 139,
    "start_time": "2024-08-11T20:17:59.710Z"
   },
   {
    "duration": 158,
    "start_time": "2024-08-11T20:18:00.152Z"
   },
   {
    "duration": 16,
    "start_time": "2024-08-11T20:18:09.881Z"
   },
   {
    "duration": 18,
    "start_time": "2024-08-11T20:18:12.384Z"
   },
   {
    "duration": 10,
    "start_time": "2024-08-11T20:18:12.829Z"
   },
   {
    "duration": 24,
    "start_time": "2024-08-11T20:18:14.096Z"
   },
   {
    "duration": 14,
    "start_time": "2024-08-11T20:18:14.385Z"
   },
   {
    "duration": 9,
    "start_time": "2024-08-11T20:18:14.870Z"
   },
   {
    "duration": 7,
    "start_time": "2024-08-11T20:18:15.345Z"
   },
   {
    "duration": 13,
    "start_time": "2024-08-11T20:18:15.713Z"
   },
   {
    "duration": 9,
    "start_time": "2024-08-11T20:18:16.073Z"
   },
   {
    "duration": 8,
    "start_time": "2024-08-11T20:18:16.300Z"
   },
   {
    "duration": 35,
    "start_time": "2024-08-11T20:18:16.768Z"
   },
   {
    "duration": 27,
    "start_time": "2024-08-11T20:18:17.141Z"
   },
   {
    "duration": 72,
    "start_time": "2024-08-11T20:18:17.423Z"
   },
   {
    "duration": 1201,
    "start_time": "2024-08-11T20:18:18.257Z"
   },
   {
    "duration": 136,
    "start_time": "2024-08-11T20:18:20.545Z"
   },
   {
    "duration": 12,
    "start_time": "2024-08-11T20:18:22.520Z"
   },
   {
    "duration": 18,
    "start_time": "2024-08-11T20:18:24.214Z"
   },
   {
    "duration": 21,
    "start_time": "2024-08-11T20:18:24.790Z"
   },
   {
    "duration": 133,
    "start_time": "2024-08-11T20:18:26.303Z"
   },
   {
    "duration": 38,
    "start_time": "2024-08-11T20:18:27.071Z"
   },
   {
    "duration": 22,
    "start_time": "2024-08-11T20:18:29.997Z"
   },
   {
    "duration": 8,
    "start_time": "2024-08-11T20:18:30.560Z"
   },
   {
    "duration": 15,
    "start_time": "2024-08-11T20:18:31.494Z"
   },
   {
    "duration": 36,
    "start_time": "2024-08-11T20:18:32.105Z"
   },
   {
    "duration": 7,
    "start_time": "2024-08-11T20:18:33.684Z"
   },
   {
    "duration": 8,
    "start_time": "2024-08-11T20:18:34.079Z"
   },
   {
    "duration": 7,
    "start_time": "2024-08-11T20:18:34.828Z"
   },
   {
    "duration": 8,
    "start_time": "2024-08-11T20:18:35.012Z"
   },
   {
    "duration": 1206,
    "start_time": "2024-08-11T20:18:35.858Z"
   },
   {
    "duration": 1061,
    "start_time": "2024-08-11T20:18:37.067Z"
   },
   {
    "duration": 11,
    "start_time": "2024-08-11T20:18:38.131Z"
   },
   {
    "duration": 13,
    "start_time": "2024-08-11T20:18:40.786Z"
   },
   {
    "duration": 11,
    "start_time": "2024-08-11T20:18:41.209Z"
   },
   {
    "duration": 18,
    "start_time": "2024-08-11T20:18:41.413Z"
   },
   {
    "duration": 8,
    "start_time": "2024-08-11T20:18:41.603Z"
   },
   {
    "duration": 7,
    "start_time": "2024-08-11T20:18:42.230Z"
   },
   {
    "duration": 7,
    "start_time": "2024-08-11T20:18:42.437Z"
   },
   {
    "duration": 7,
    "start_time": "2024-08-11T20:18:42.696Z"
   },
   {
    "duration": 10,
    "start_time": "2024-08-11T20:18:43.277Z"
   },
   {
    "duration": 9,
    "start_time": "2024-08-11T20:18:43.556Z"
   },
   {
    "duration": 8,
    "start_time": "2024-08-11T20:18:43.765Z"
   },
   {
    "duration": 27,
    "start_time": "2024-08-11T20:18:43.994Z"
   },
   {
    "duration": 30,
    "start_time": "2024-08-11T20:18:44.194Z"
   },
   {
    "duration": 21,
    "start_time": "2024-08-11T20:18:44.392Z"
   },
   {
    "duration": 10,
    "start_time": "2024-08-11T20:18:44.593Z"
   },
   {
    "duration": 7,
    "start_time": "2024-08-11T20:18:45.539Z"
   },
   {
    "duration": 8,
    "start_time": "2024-08-11T20:18:45.860Z"
   },
   {
    "duration": 10,
    "start_time": "2024-08-11T20:18:46.311Z"
   },
   {
    "duration": 10,
    "start_time": "2024-08-11T20:18:47.552Z"
   },
   {
    "duration": 13,
    "start_time": "2024-08-11T20:18:47.982Z"
   },
   {
    "duration": 11,
    "start_time": "2024-08-11T20:18:48.693Z"
   },
   {
    "duration": 10,
    "start_time": "2024-08-11T20:18:50.099Z"
   },
   {
    "duration": 25,
    "start_time": "2024-08-11T20:18:50.480Z"
   },
   {
    "duration": 26,
    "start_time": "2024-08-11T20:18:50.922Z"
   },
   {
    "duration": 20,
    "start_time": "2024-08-11T20:18:51.140Z"
   },
   {
    "duration": 22,
    "start_time": "2024-08-11T20:18:51.360Z"
   },
   {
    "duration": 7,
    "start_time": "2024-08-11T20:18:51.538Z"
   },
   {
    "duration": 532,
    "start_time": "2024-08-11T20:18:51.913Z"
   },
   {
    "duration": 15,
    "start_time": "2024-08-11T20:18:52.459Z"
   },
   {
    "duration": 25,
    "start_time": "2024-08-11T20:18:54.800Z"
   },
   {
    "duration": 23,
    "start_time": "2024-08-11T20:18:55.560Z"
   },
   {
    "duration": 23,
    "start_time": "2024-08-11T20:19:35.029Z"
   },
   {
    "duration": 26,
    "start_time": "2024-08-11T20:19:41.438Z"
   },
   {
    "duration": 24,
    "start_time": "2024-08-11T20:20:06.870Z"
   },
   {
    "duration": 12,
    "start_time": "2024-08-11T20:21:53.961Z"
   },
   {
    "duration": 12,
    "start_time": "2024-08-11T20:21:59.605Z"
   },
   {
    "duration": 12,
    "start_time": "2024-08-11T20:22:10.359Z"
   },
   {
    "duration": 13,
    "start_time": "2024-08-11T20:22:22.011Z"
   },
   {
    "duration": 12,
    "start_time": "2024-08-11T20:22:49.905Z"
   },
   {
    "duration": 1737,
    "start_time": "2024-08-11T20:28:56.359Z"
   },
   {
    "duration": 194,
    "start_time": "2024-08-11T20:29:10.057Z"
   },
   {
    "duration": 319,
    "start_time": "2024-08-11T20:30:43.374Z"
   },
   {
    "duration": 685,
    "start_time": "2024-08-11T20:30:56.753Z"
   },
   {
    "duration": 1704,
    "start_time": "2024-08-11T20:30:57.443Z"
   },
   {
    "duration": 18,
    "start_time": "2024-08-11T20:30:59.150Z"
   },
   {
    "duration": 98,
    "start_time": "2024-08-11T20:30:59.173Z"
   },
   {
    "duration": 39,
    "start_time": "2024-08-11T20:30:59.274Z"
   },
   {
    "duration": 22,
    "start_time": "2024-08-11T20:30:59.317Z"
   },
   {
    "duration": 6,
    "start_time": "2024-08-11T20:30:59.342Z"
   },
   {
    "duration": 307,
    "start_time": "2024-08-11T20:30:59.351Z"
   },
   {
    "duration": 199,
    "start_time": "2024-08-11T20:30:59.662Z"
   },
   {
    "duration": 16,
    "start_time": "2024-08-11T20:30:59.868Z"
   },
   {
    "duration": 35,
    "start_time": "2024-08-11T20:30:59.887Z"
   },
   {
    "duration": 10,
    "start_time": "2024-08-11T20:30:59.925Z"
   },
   {
    "duration": 24,
    "start_time": "2024-08-11T20:30:59.938Z"
   },
   {
    "duration": 50,
    "start_time": "2024-08-11T20:30:59.966Z"
   },
   {
    "duration": 9,
    "start_time": "2024-08-11T20:31:00.018Z"
   },
   {
    "duration": 7,
    "start_time": "2024-08-11T20:31:00.030Z"
   },
   {
    "duration": 14,
    "start_time": "2024-08-11T20:31:00.040Z"
   },
   {
    "duration": 57,
    "start_time": "2024-08-11T20:31:00.056Z"
   },
   {
    "duration": 7,
    "start_time": "2024-08-11T20:31:00.116Z"
   },
   {
    "duration": 41,
    "start_time": "2024-08-11T20:31:00.127Z"
   },
   {
    "duration": 61,
    "start_time": "2024-08-11T20:31:00.171Z"
   },
   {
    "duration": 98,
    "start_time": "2024-08-11T20:31:00.235Z"
   },
   {
    "duration": 1359,
    "start_time": "2024-08-11T20:31:00.336Z"
   },
   {
    "duration": 186,
    "start_time": "2024-08-11T20:31:01.699Z"
   },
   {
    "duration": 31,
    "start_time": "2024-08-11T20:31:01.888Z"
   },
   {
    "duration": 25,
    "start_time": "2024-08-11T20:31:01.921Z"
   },
   {
    "duration": 23,
    "start_time": "2024-08-11T20:31:01.949Z"
   },
   {
    "duration": 173,
    "start_time": "2024-08-11T20:31:02.012Z"
   },
   {
    "duration": 61,
    "start_time": "2024-08-11T20:31:02.188Z"
   },
   {
    "duration": 21,
    "start_time": "2024-08-11T20:31:02.252Z"
   },
   {
    "duration": 36,
    "start_time": "2024-08-11T20:31:02.276Z"
   },
   {
    "duration": 13,
    "start_time": "2024-08-11T20:31:02.315Z"
   },
   {
    "duration": 33,
    "start_time": "2024-08-11T20:31:02.331Z"
   },
   {
    "duration": 8,
    "start_time": "2024-08-11T20:31:02.367Z"
   },
   {
    "duration": 9,
    "start_time": "2024-08-11T20:31:02.413Z"
   },
   {
    "duration": 7,
    "start_time": "2024-08-11T20:31:02.425Z"
   },
   {
    "duration": 8,
    "start_time": "2024-08-11T20:31:02.435Z"
   },
   {
    "duration": 1368,
    "start_time": "2024-08-11T20:31:02.446Z"
   },
   {
    "duration": 1186,
    "start_time": "2024-08-11T20:31:03.817Z"
   },
   {
    "duration": 17,
    "start_time": "2024-08-11T20:31:05.006Z"
   },
   {
    "duration": 13,
    "start_time": "2024-08-11T20:31:05.026Z"
   },
   {
    "duration": 11,
    "start_time": "2024-08-11T20:31:05.042Z"
   },
   {
    "duration": 60,
    "start_time": "2024-08-11T20:31:05.055Z"
   },
   {
    "duration": 9,
    "start_time": "2024-08-11T20:31:05.118Z"
   },
   {
    "duration": 8,
    "start_time": "2024-08-11T20:31:05.131Z"
   },
   {
    "duration": 9,
    "start_time": "2024-08-11T20:31:05.143Z"
   },
   {
    "duration": 58,
    "start_time": "2024-08-11T20:31:05.154Z"
   },
   {
    "duration": 11,
    "start_time": "2024-08-11T20:31:05.215Z"
   },
   {
    "duration": 9,
    "start_time": "2024-08-11T20:31:05.229Z"
   },
   {
    "duration": 9,
    "start_time": "2024-08-11T20:31:05.241Z"
   },
   {
    "duration": 67,
    "start_time": "2024-08-11T20:31:05.253Z"
   },
   {
    "duration": 29,
    "start_time": "2024-08-11T20:31:05.322Z"
   },
   {
    "duration": 24,
    "start_time": "2024-08-11T20:31:05.353Z"
   },
   {
    "duration": 39,
    "start_time": "2024-08-11T20:31:05.380Z"
   },
   {
    "duration": 8,
    "start_time": "2024-08-11T20:31:05.422Z"
   },
   {
    "duration": 9,
    "start_time": "2024-08-11T20:31:05.433Z"
   },
   {
    "duration": 10,
    "start_time": "2024-08-11T20:31:05.445Z"
   },
   {
    "duration": 55,
    "start_time": "2024-08-11T20:31:05.458Z"
   },
   {
    "duration": 11,
    "start_time": "2024-08-11T20:31:05.516Z"
   },
   {
    "duration": 14,
    "start_time": "2024-08-11T20:31:05.530Z"
   },
   {
    "duration": 12,
    "start_time": "2024-08-11T20:31:05.548Z"
   },
   {
    "duration": 71,
    "start_time": "2024-08-11T20:31:05.564Z"
   },
   {
    "duration": 25,
    "start_time": "2024-08-11T20:31:05.639Z"
   },
   {
    "duration": 57,
    "start_time": "2024-08-11T20:31:05.667Z"
   },
   {
    "duration": 27,
    "start_time": "2024-08-11T20:31:05.728Z"
   },
   {
    "duration": 9,
    "start_time": "2024-08-11T20:31:05.757Z"
   },
   {
    "duration": 530,
    "start_time": "2024-08-11T20:31:05.769Z"
   },
   {
    "duration": 22,
    "start_time": "2024-08-11T20:31:06.302Z"
   },
   {
    "duration": 27,
    "start_time": "2024-08-11T20:31:06.327Z"
   },
   {
    "duration": 55,
    "start_time": "2024-08-11T20:31:06.357Z"
   },
   {
    "duration": 12,
    "start_time": "2024-08-11T20:31:06.415Z"
   },
   {
    "duration": 18,
    "start_time": "2024-08-11T20:31:06.432Z"
   },
   {
    "duration": 360,
    "start_time": "2024-08-11T20:31:08.223Z"
   },
   {
    "duration": 0,
    "start_time": "2024-08-11T20:31:08.587Z"
   },
   {
    "duration": 0,
    "start_time": "2024-08-11T20:31:08.589Z"
   },
   {
    "duration": 0,
    "start_time": "2024-08-11T20:31:08.591Z"
   },
   {
    "duration": 0,
    "start_time": "2024-08-11T20:31:08.593Z"
   },
   {
    "duration": 0,
    "start_time": "2024-08-11T20:31:08.612Z"
   },
   {
    "duration": 0,
    "start_time": "2024-08-11T20:31:08.614Z"
   },
   {
    "duration": 0,
    "start_time": "2024-08-11T20:31:08.616Z"
   },
   {
    "duration": 0,
    "start_time": "2024-08-11T20:31:08.618Z"
   },
   {
    "duration": 0,
    "start_time": "2024-08-11T20:31:08.619Z"
   },
   {
    "duration": 0,
    "start_time": "2024-08-11T20:31:08.621Z"
   },
   {
    "duration": 0,
    "start_time": "2024-08-11T20:31:08.624Z"
   },
   {
    "duration": 0,
    "start_time": "2024-08-11T20:31:08.626Z"
   },
   {
    "duration": 0,
    "start_time": "2024-08-11T20:31:08.628Z"
   },
   {
    "duration": 0,
    "start_time": "2024-08-11T20:31:08.631Z"
   },
   {
    "duration": 0,
    "start_time": "2024-08-11T20:31:08.633Z"
   },
   {
    "duration": 0,
    "start_time": "2024-08-11T20:31:08.636Z"
   },
   {
    "duration": 0,
    "start_time": "2024-08-11T20:31:08.639Z"
   },
   {
    "duration": 0,
    "start_time": "2024-08-11T20:31:08.641Z"
   },
   {
    "duration": 0,
    "start_time": "2024-08-11T20:31:08.643Z"
   },
   {
    "duration": 0,
    "start_time": "2024-08-11T20:31:08.646Z"
   },
   {
    "duration": 0,
    "start_time": "2024-08-11T20:31:08.648Z"
   },
   {
    "duration": 0,
    "start_time": "2024-08-11T20:31:08.651Z"
   },
   {
    "duration": 22,
    "start_time": "2024-08-11T20:31:10.109Z"
   },
   {
    "duration": 22,
    "start_time": "2024-08-11T20:31:13.165Z"
   },
   {
    "duration": 11,
    "start_time": "2024-08-11T20:31:16.433Z"
   },
   {
    "duration": 1728,
    "start_time": "2024-08-11T20:31:23.567Z"
   },
   {
    "duration": 703,
    "start_time": "2024-08-11T20:34:34.141Z"
   },
   {
    "duration": 1552,
    "start_time": "2024-08-11T20:34:34.848Z"
   },
   {
    "duration": 27,
    "start_time": "2024-08-11T20:34:36.402Z"
   },
   {
    "duration": 86,
    "start_time": "2024-08-11T20:34:36.432Z"
   },
   {
    "duration": 9,
    "start_time": "2024-08-11T20:34:36.523Z"
   },
   {
    "duration": 21,
    "start_time": "2024-08-11T20:34:36.535Z"
   },
   {
    "duration": 6,
    "start_time": "2024-08-11T20:34:36.559Z"
   },
   {
    "duration": 216,
    "start_time": "2024-08-11T20:34:36.568Z"
   },
   {
    "duration": 200,
    "start_time": "2024-08-11T20:34:36.787Z"
   },
   {
    "duration": 25,
    "start_time": "2024-08-11T20:34:36.991Z"
   },
   {
    "duration": 16,
    "start_time": "2024-08-11T20:34:37.019Z"
   },
   {
    "duration": 11,
    "start_time": "2024-08-11T20:34:37.038Z"
   },
   {
    "duration": 61,
    "start_time": "2024-08-11T20:34:37.052Z"
   },
   {
    "duration": 13,
    "start_time": "2024-08-11T20:34:37.120Z"
   },
   {
    "duration": 9,
    "start_time": "2024-08-11T20:34:37.136Z"
   },
   {
    "duration": 10,
    "start_time": "2024-08-11T20:34:37.148Z"
   },
   {
    "duration": 52,
    "start_time": "2024-08-11T20:34:37.161Z"
   },
   {
    "duration": 8,
    "start_time": "2024-08-11T20:34:37.217Z"
   },
   {
    "duration": 9,
    "start_time": "2024-08-11T20:34:37.229Z"
   },
   {
    "duration": 78,
    "start_time": "2024-08-11T20:34:37.241Z"
   },
   {
    "duration": 29,
    "start_time": "2024-08-11T20:34:37.322Z"
   },
   {
    "duration": 112,
    "start_time": "2024-08-11T20:34:37.353Z"
   },
   {
    "duration": 1373,
    "start_time": "2024-08-11T20:34:37.468Z"
   },
   {
    "duration": 168,
    "start_time": "2024-08-11T20:34:38.844Z"
   },
   {
    "duration": 14,
    "start_time": "2024-08-11T20:34:39.015Z"
   },
   {
    "duration": 20,
    "start_time": "2024-08-11T20:34:39.032Z"
   },
   {
    "duration": 20,
    "start_time": "2024-08-11T20:34:39.055Z"
   },
   {
    "duration": 166,
    "start_time": "2024-08-11T20:34:39.112Z"
   },
   {
    "duration": 58,
    "start_time": "2024-08-11T20:34:39.281Z"
   },
   {
    "duration": 21,
    "start_time": "2024-08-11T20:34:39.342Z"
   },
   {
    "duration": 8,
    "start_time": "2024-08-11T20:34:39.366Z"
   },
   {
    "duration": 47,
    "start_time": "2024-08-11T20:34:39.377Z"
   },
   {
    "duration": 33,
    "start_time": "2024-08-11T20:34:39.427Z"
   },
   {
    "duration": 7,
    "start_time": "2024-08-11T20:34:39.464Z"
   },
   {
    "duration": 42,
    "start_time": "2024-08-11T20:34:39.475Z"
   },
   {
    "duration": 7,
    "start_time": "2024-08-11T20:34:39.521Z"
   },
   {
    "duration": 8,
    "start_time": "2024-08-11T20:34:39.531Z"
   },
   {
    "duration": 1385,
    "start_time": "2024-08-11T20:34:39.543Z"
   },
   {
    "duration": 1209,
    "start_time": "2024-08-11T20:34:40.931Z"
   },
   {
    "duration": 10,
    "start_time": "2024-08-11T20:34:42.143Z"
   },
   {
    "duration": 12,
    "start_time": "2024-08-11T20:34:42.167Z"
   },
   {
    "duration": 11,
    "start_time": "2024-08-11T20:34:42.213Z"
   },
   {
    "duration": 20,
    "start_time": "2024-08-11T20:34:42.227Z"
   },
   {
    "duration": 8,
    "start_time": "2024-08-11T20:34:42.251Z"
   },
   {
    "duration": 7,
    "start_time": "2024-08-11T20:34:42.262Z"
   },
   {
    "duration": 46,
    "start_time": "2024-08-11T20:34:42.272Z"
   },
   {
    "duration": 8,
    "start_time": "2024-08-11T20:34:42.322Z"
   },
   {
    "duration": 10,
    "start_time": "2024-08-11T20:34:42.333Z"
   },
   {
    "duration": 9,
    "start_time": "2024-08-11T20:34:42.345Z"
   },
   {
    "duration": 57,
    "start_time": "2024-08-11T20:34:42.358Z"
   },
   {
    "duration": 26,
    "start_time": "2024-08-11T20:34:42.418Z"
   },
   {
    "duration": 28,
    "start_time": "2024-08-11T20:34:42.447Z"
   },
   {
    "duration": 58,
    "start_time": "2024-08-11T20:34:42.478Z"
   },
   {
    "duration": 11,
    "start_time": "2024-08-11T20:34:42.539Z"
   },
   {
    "duration": 8,
    "start_time": "2024-08-11T20:34:42.553Z"
   },
   {
    "duration": 48,
    "start_time": "2024-08-11T20:34:42.564Z"
   },
   {
    "duration": 12,
    "start_time": "2024-08-11T20:34:42.615Z"
   },
   {
    "duration": 12,
    "start_time": "2024-08-11T20:34:42.631Z"
   },
   {
    "duration": 13,
    "start_time": "2024-08-11T20:34:42.648Z"
   },
   {
    "duration": 12,
    "start_time": "2024-08-11T20:34:42.711Z"
   },
   {
    "duration": 12,
    "start_time": "2024-08-11T20:34:42.726Z"
   },
   {
    "duration": 27,
    "start_time": "2024-08-11T20:34:42.741Z"
   },
   {
    "duration": 60,
    "start_time": "2024-08-11T20:34:42.771Z"
   },
   {
    "duration": 24,
    "start_time": "2024-08-11T20:34:42.835Z"
   },
   {
    "duration": 55,
    "start_time": "2024-08-11T20:34:42.862Z"
   },
   {
    "duration": 10,
    "start_time": "2024-08-11T20:34:42.920Z"
   },
   {
    "duration": 535,
    "start_time": "2024-08-11T20:34:42.932Z"
   },
   {
    "duration": 17,
    "start_time": "2024-08-11T20:34:43.470Z"
   },
   {
    "duration": 48,
    "start_time": "2024-08-11T20:34:43.489Z"
   },
   {
    "duration": 23,
    "start_time": "2024-08-11T20:34:43.540Z"
   },
   {
    "duration": 11,
    "start_time": "2024-08-11T20:34:43.566Z"
   },
   {
    "duration": 15,
    "start_time": "2024-08-11T20:34:43.613Z"
   },
   {
    "duration": 1784,
    "start_time": "2024-08-11T20:34:43.631Z"
   },
   {
    "duration": 13,
    "start_time": "2024-08-11T20:34:45.418Z"
   },
   {
    "duration": 378,
    "start_time": "2024-08-11T20:34:45.434Z"
   },
   {
    "duration": 0,
    "start_time": "2024-08-11T20:34:45.815Z"
   },
   {
    "duration": 0,
    "start_time": "2024-08-11T20:34:45.817Z"
   },
   {
    "duration": 0,
    "start_time": "2024-08-11T20:34:45.818Z"
   },
   {
    "duration": 1,
    "start_time": "2024-08-11T20:34:45.820Z"
   },
   {
    "duration": 0,
    "start_time": "2024-08-11T20:34:45.823Z"
   },
   {
    "duration": 0,
    "start_time": "2024-08-11T20:34:45.824Z"
   },
   {
    "duration": 0,
    "start_time": "2024-08-11T20:34:45.827Z"
   },
   {
    "duration": 0,
    "start_time": "2024-08-11T20:34:45.828Z"
   },
   {
    "duration": 0,
    "start_time": "2024-08-11T20:34:45.831Z"
   },
   {
    "duration": 0,
    "start_time": "2024-08-11T20:34:45.833Z"
   },
   {
    "duration": 0,
    "start_time": "2024-08-11T20:34:45.836Z"
   },
   {
    "duration": 0,
    "start_time": "2024-08-11T20:34:45.838Z"
   },
   {
    "duration": 0,
    "start_time": "2024-08-11T20:34:45.841Z"
   },
   {
    "duration": 0,
    "start_time": "2024-08-11T20:34:45.843Z"
   },
   {
    "duration": 0,
    "start_time": "2024-08-11T20:34:45.846Z"
   },
   {
    "duration": 0,
    "start_time": "2024-08-11T20:34:45.848Z"
   },
   {
    "duration": 0,
    "start_time": "2024-08-11T20:34:45.850Z"
   },
   {
    "duration": 0,
    "start_time": "2024-08-11T20:34:45.852Z"
   },
   {
    "duration": 0,
    "start_time": "2024-08-11T20:34:45.855Z"
   },
   {
    "duration": 0,
    "start_time": "2024-08-11T20:34:45.914Z"
   },
   {
    "duration": 689,
    "start_time": "2024-08-11T20:35:15.643Z"
   },
   {
    "duration": 1558,
    "start_time": "2024-08-11T20:35:16.335Z"
   },
   {
    "duration": 27,
    "start_time": "2024-08-11T20:35:17.895Z"
   },
   {
    "duration": 60,
    "start_time": "2024-08-11T20:35:17.926Z"
   },
   {
    "duration": 27,
    "start_time": "2024-08-11T20:35:17.989Z"
   },
   {
    "duration": 22,
    "start_time": "2024-08-11T20:35:18.020Z"
   },
   {
    "duration": 6,
    "start_time": "2024-08-11T20:35:18.046Z"
   },
   {
    "duration": 208,
    "start_time": "2024-08-11T20:35:18.055Z"
   },
   {
    "duration": 205,
    "start_time": "2024-08-11T20:35:18.266Z"
   },
   {
    "duration": 17,
    "start_time": "2024-08-11T20:35:18.477Z"
   },
   {
    "duration": 20,
    "start_time": "2024-08-11T20:35:18.511Z"
   },
   {
    "duration": 11,
    "start_time": "2024-08-11T20:35:18.534Z"
   },
   {
    "duration": 25,
    "start_time": "2024-08-11T20:35:18.548Z"
   },
   {
    "duration": 47,
    "start_time": "2024-08-11T20:35:18.576Z"
   },
   {
    "duration": 8,
    "start_time": "2024-08-11T20:35:18.626Z"
   },
   {
    "duration": 7,
    "start_time": "2024-08-11T20:35:18.637Z"
   },
   {
    "duration": 14,
    "start_time": "2024-08-11T20:35:18.648Z"
   },
   {
    "duration": 8,
    "start_time": "2024-08-11T20:35:18.712Z"
   },
   {
    "duration": 7,
    "start_time": "2024-08-11T20:35:18.724Z"
   },
   {
    "duration": 41,
    "start_time": "2024-08-11T20:35:18.735Z"
   },
   {
    "duration": 62,
    "start_time": "2024-08-11T20:35:18.778Z"
   },
   {
    "duration": 104,
    "start_time": "2024-08-11T20:35:18.842Z"
   },
   {
    "duration": 1342,
    "start_time": "2024-08-11T20:35:18.949Z"
   },
   {
    "duration": 168,
    "start_time": "2024-08-11T20:35:20.295Z"
   },
   {
    "duration": 15,
    "start_time": "2024-08-11T20:35:20.467Z"
   },
   {
    "duration": 41,
    "start_time": "2024-08-11T20:35:20.485Z"
   },
   {
    "duration": 20,
    "start_time": "2024-08-11T20:35:20.529Z"
   },
   {
    "duration": 194,
    "start_time": "2024-08-11T20:35:20.560Z"
   },
   {
    "duration": 56,
    "start_time": "2024-08-11T20:35:20.758Z"
   },
   {
    "duration": 20,
    "start_time": "2024-08-11T20:35:20.817Z"
   },
   {
    "duration": 7,
    "start_time": "2024-08-11T20:35:20.840Z"
   },
   {
    "duration": 13,
    "start_time": "2024-08-11T20:35:20.852Z"
   },
   {
    "duration": 74,
    "start_time": "2024-08-11T20:35:20.868Z"
   },
   {
    "duration": 8,
    "start_time": "2024-08-11T20:35:20.945Z"
   },
   {
    "duration": 14,
    "start_time": "2024-08-11T20:35:20.956Z"
   },
   {
    "duration": 39,
    "start_time": "2024-08-11T20:35:20.973Z"
   },
   {
    "duration": 10,
    "start_time": "2024-08-11T20:35:21.015Z"
   },
   {
    "duration": 1370,
    "start_time": "2024-08-11T20:35:21.028Z"
   },
   {
    "duration": 1212,
    "start_time": "2024-08-11T20:35:22.400Z"
   },
   {
    "duration": 11,
    "start_time": "2024-08-11T20:35:23.615Z"
   },
   {
    "duration": 17,
    "start_time": "2024-08-11T20:35:23.630Z"
   },
   {
    "duration": 11,
    "start_time": "2024-08-11T20:35:23.651Z"
   },
   {
    "duration": 64,
    "start_time": "2024-08-11T20:35:23.665Z"
   },
   {
    "duration": 8,
    "start_time": "2024-08-11T20:35:23.732Z"
   },
   {
    "duration": 7,
    "start_time": "2024-08-11T20:35:23.744Z"
   },
   {
    "duration": 7,
    "start_time": "2024-08-11T20:35:23.754Z"
   },
   {
    "duration": 50,
    "start_time": "2024-08-11T20:35:23.764Z"
   },
   {
    "duration": 11,
    "start_time": "2024-08-11T20:35:23.818Z"
   },
   {
    "duration": 9,
    "start_time": "2024-08-11T20:35:23.832Z"
   },
   {
    "duration": 10,
    "start_time": "2024-08-11T20:35:23.844Z"
   },
   {
    "duration": 77,
    "start_time": "2024-08-11T20:35:23.858Z"
   },
   {
    "duration": 28,
    "start_time": "2024-08-11T20:35:23.937Z"
   },
   {
    "duration": 46,
    "start_time": "2024-08-11T20:35:23.968Z"
   },
   {
    "duration": 11,
    "start_time": "2024-08-11T20:35:24.017Z"
   },
   {
    "duration": 7,
    "start_time": "2024-08-11T20:35:24.032Z"
   },
   {
    "duration": 9,
    "start_time": "2024-08-11T20:35:24.042Z"
   },
   {
    "duration": 10,
    "start_time": "2024-08-11T20:35:24.055Z"
   },
   {
    "duration": 12,
    "start_time": "2024-08-11T20:35:24.112Z"
   },
   {
    "duration": 13,
    "start_time": "2024-08-11T20:35:24.127Z"
   },
   {
    "duration": 12,
    "start_time": "2024-08-11T20:35:24.143Z"
   },
   {
    "duration": 13,
    "start_time": "2024-08-11T20:35:24.157Z"
   },
   {
    "duration": 28,
    "start_time": "2024-08-11T20:35:24.213Z"
   },
   {
    "duration": 25,
    "start_time": "2024-08-11T20:35:24.244Z"
   },
   {
    "duration": 51,
    "start_time": "2024-08-11T20:35:24.272Z"
   },
   {
    "duration": 27,
    "start_time": "2024-08-11T20:35:24.326Z"
   },
   {
    "duration": 7,
    "start_time": "2024-08-11T20:35:24.356Z"
   },
   {
    "duration": 543,
    "start_time": "2024-08-11T20:35:24.365Z"
   },
   {
    "duration": 15,
    "start_time": "2024-08-11T20:35:24.914Z"
   },
   {
    "duration": 25,
    "start_time": "2024-08-11T20:35:24.931Z"
   },
   {
    "duration": 58,
    "start_time": "2024-08-11T20:35:24.958Z"
   },
   {
    "duration": 13,
    "start_time": "2024-08-11T20:35:25.019Z"
   },
   {
    "duration": 13,
    "start_time": "2024-08-11T20:35:25.036Z"
   },
   {
    "duration": 1783,
    "start_time": "2024-08-11T20:35:25.051Z"
   },
   {
    "duration": 13,
    "start_time": "2024-08-11T20:35:26.837Z"
   },
   {
    "duration": 384,
    "start_time": "2024-08-11T20:35:26.852Z"
   },
   {
    "duration": 0,
    "start_time": "2024-08-11T20:35:27.240Z"
   },
   {
    "duration": 0,
    "start_time": "2024-08-11T20:35:27.241Z"
   },
   {
    "duration": 0,
    "start_time": "2024-08-11T20:35:27.244Z"
   },
   {
    "duration": 0,
    "start_time": "2024-08-11T20:35:27.247Z"
   },
   {
    "duration": 0,
    "start_time": "2024-08-11T20:35:27.249Z"
   },
   {
    "duration": 0,
    "start_time": "2024-08-11T20:35:27.251Z"
   },
   {
    "duration": 0,
    "start_time": "2024-08-11T20:35:27.254Z"
   },
   {
    "duration": 0,
    "start_time": "2024-08-11T20:35:27.257Z"
   },
   {
    "duration": 0,
    "start_time": "2024-08-11T20:35:27.258Z"
   },
   {
    "duration": 0,
    "start_time": "2024-08-11T20:35:27.261Z"
   },
   {
    "duration": 0,
    "start_time": "2024-08-11T20:35:27.263Z"
   },
   {
    "duration": 0,
    "start_time": "2024-08-11T20:35:27.265Z"
   },
   {
    "duration": 0,
    "start_time": "2024-08-11T20:35:27.268Z"
   },
   {
    "duration": 0,
    "start_time": "2024-08-11T20:35:27.313Z"
   },
   {
    "duration": 0,
    "start_time": "2024-08-11T20:35:27.315Z"
   },
   {
    "duration": 0,
    "start_time": "2024-08-11T20:35:27.318Z"
   },
   {
    "duration": 0,
    "start_time": "2024-08-11T20:35:27.320Z"
   },
   {
    "duration": 0,
    "start_time": "2024-08-11T20:35:27.322Z"
   },
   {
    "duration": 0,
    "start_time": "2024-08-11T20:35:27.324Z"
   },
   {
    "duration": 0,
    "start_time": "2024-08-11T20:35:27.326Z"
   },
   {
    "duration": 12,
    "start_time": "2024-08-11T20:36:34.350Z"
   },
   {
    "duration": 12,
    "start_time": "2024-08-11T20:36:52.429Z"
   },
   {
    "duration": 10,
    "start_time": "2024-08-11T20:37:45.060Z"
   },
   {
    "duration": 192,
    "start_time": "2024-08-11T20:39:39.145Z"
   },
   {
    "duration": 206,
    "start_time": "2024-08-11T20:40:35.294Z"
   },
   {
    "duration": 215,
    "start_time": "2024-08-11T20:41:04.819Z"
   },
   {
    "duration": 202,
    "start_time": "2024-08-11T20:42:47.977Z"
   },
   {
    "duration": 325,
    "start_time": "2024-08-11T20:43:04.280Z"
   },
   {
    "duration": 87,
    "start_time": "2024-08-11T20:44:28.970Z"
   },
   {
    "duration": 19,
    "start_time": "2024-08-11T20:44:45.543Z"
   },
   {
    "duration": 218,
    "start_time": "2024-08-11T20:44:48.873Z"
   },
   {
    "duration": 326,
    "start_time": "2024-08-11T20:45:13.622Z"
   },
   {
    "duration": 337,
    "start_time": "2024-08-11T20:45:20.940Z"
   },
   {
    "duration": 324,
    "start_time": "2024-08-11T20:45:25.515Z"
   },
   {
    "duration": 334,
    "start_time": "2024-08-11T20:48:42.227Z"
   },
   {
    "duration": 333,
    "start_time": "2024-08-11T20:48:50.773Z"
   },
   {
    "duration": 316,
    "start_time": "2024-08-11T20:48:56.844Z"
   },
   {
    "duration": 321,
    "start_time": "2024-08-11T20:52:08.159Z"
   },
   {
    "duration": 329,
    "start_time": "2024-08-11T20:52:29.988Z"
   },
   {
    "duration": 323,
    "start_time": "2024-08-11T20:53:18.689Z"
   },
   {
    "duration": 327,
    "start_time": "2024-08-11T20:53:40.675Z"
   },
   {
    "duration": 436,
    "start_time": "2024-08-11T20:53:53.646Z"
   },
   {
    "duration": 337,
    "start_time": "2024-08-11T20:53:59.138Z"
   },
   {
    "duration": 318,
    "start_time": "2024-08-11T20:54:10.381Z"
   },
   {
    "duration": 322,
    "start_time": "2024-08-11T20:55:39.863Z"
   },
   {
    "duration": 13,
    "start_time": "2024-08-11T20:56:18.020Z"
   },
   {
    "duration": 27,
    "start_time": "2024-08-11T20:56:42.967Z"
   },
   {
    "duration": 71,
    "start_time": "2024-08-11T20:56:47.835Z"
   },
   {
    "duration": 258,
    "start_time": "2024-08-11T20:56:51.706Z"
   },
   {
    "duration": 257,
    "start_time": "2024-08-11T20:58:09.244Z"
   },
   {
    "duration": 263,
    "start_time": "2024-08-11T20:58:18.337Z"
   },
   {
    "duration": 80,
    "start_time": "2024-08-11T20:58:57.297Z"
   },
   {
    "duration": 68,
    "start_time": "2024-08-11T20:59:16.374Z"
   },
   {
    "duration": 74,
    "start_time": "2024-08-11T21:03:39.311Z"
   },
   {
    "duration": 71,
    "start_time": "2024-08-11T21:04:15.739Z"
   },
   {
    "duration": 283,
    "start_time": "2024-08-11T21:17:16.312Z"
   },
   {
    "duration": 233,
    "start_time": "2024-08-11T21:17:28.479Z"
   },
   {
    "duration": 338,
    "start_time": "2024-08-11T21:19:31.127Z"
   },
   {
    "duration": 344,
    "start_time": "2024-08-11T21:19:36.316Z"
   },
   {
    "duration": 161,
    "start_time": "2024-08-11T21:30:48.168Z"
   },
   {
    "duration": 31,
    "start_time": "2024-08-11T21:30:48.748Z"
   },
   {
    "duration": 205,
    "start_time": "2024-08-11T21:30:59.166Z"
   },
   {
    "duration": 22,
    "start_time": "2024-08-11T21:30:59.776Z"
   },
   {
    "duration": 4,
    "start_time": "2024-08-11T21:31:00.609Z"
   },
   {
    "duration": 12,
    "start_time": "2024-08-11T21:31:01.120Z"
   },
   {
    "duration": 12,
    "start_time": "2024-08-11T22:09:49.300Z"
   },
   {
    "duration": 13,
    "start_time": "2024-08-11T22:10:24.644Z"
   },
   {
    "duration": 342,
    "start_time": "2024-08-11T22:10:31.134Z"
   },
   {
    "duration": 10,
    "start_time": "2024-08-11T22:15:24.469Z"
   },
   {
    "duration": 13,
    "start_time": "2024-08-11T22:18:18.626Z"
   },
   {
    "duration": 69,
    "start_time": "2024-08-11T22:18:55.449Z"
   },
   {
    "duration": 69,
    "start_time": "2024-08-11T22:19:06.417Z"
   },
   {
    "duration": 172,
    "start_time": "2024-08-11T22:19:14.849Z"
   },
   {
    "duration": 7,
    "start_time": "2024-08-11T22:19:22.329Z"
   },
   {
    "duration": 5,
    "start_time": "2024-08-11T22:19:27.467Z"
   },
   {
    "duration": 76,
    "start_time": "2024-08-11T22:19:32.516Z"
   },
   {
    "duration": 73,
    "start_time": "2024-08-11T22:24:26.389Z"
   },
   {
    "duration": 67,
    "start_time": "2024-08-11T22:24:36.570Z"
   },
   {
    "duration": 4483,
    "start_time": "2024-08-12T01:46:08.231Z"
   },
   {
    "duration": 1656,
    "start_time": "2024-08-12T01:46:12.717Z"
   },
   {
    "duration": 22,
    "start_time": "2024-08-12T01:46:14.376Z"
   },
   {
    "duration": 82,
    "start_time": "2024-08-12T01:46:14.402Z"
   },
   {
    "duration": 8,
    "start_time": "2024-08-12T01:46:14.491Z"
   },
   {
    "duration": 41,
    "start_time": "2024-08-12T01:46:14.502Z"
   },
   {
    "duration": 6,
    "start_time": "2024-08-12T01:46:14.546Z"
   },
   {
    "duration": 191,
    "start_time": "2024-08-12T01:46:14.555Z"
   },
   {
    "duration": 193,
    "start_time": "2024-08-12T01:46:14.749Z"
   },
   {
    "duration": 17,
    "start_time": "2024-08-12T01:46:14.945Z"
   },
   {
    "duration": 17,
    "start_time": "2024-08-12T01:46:14.965Z"
   },
   {
    "duration": 47,
    "start_time": "2024-08-12T01:46:14.985Z"
   },
   {
    "duration": 25,
    "start_time": "2024-08-12T01:46:15.035Z"
   },
   {
    "duration": 14,
    "start_time": "2024-08-12T01:46:15.066Z"
   },
   {
    "duration": 47,
    "start_time": "2024-08-12T01:46:15.083Z"
   },
   {
    "duration": 7,
    "start_time": "2024-08-12T01:46:15.133Z"
   },
   {
    "duration": 14,
    "start_time": "2024-08-12T01:46:15.144Z"
   },
   {
    "duration": 9,
    "start_time": "2024-08-12T01:46:15.162Z"
   },
   {
    "duration": 8,
    "start_time": "2024-08-12T01:46:15.174Z"
   },
   {
    "duration": 86,
    "start_time": "2024-08-12T01:46:15.184Z"
   },
   {
    "duration": 28,
    "start_time": "2024-08-12T01:46:15.273Z"
   },
   {
    "duration": 85,
    "start_time": "2024-08-12T01:46:15.331Z"
   },
   {
    "duration": 1337,
    "start_time": "2024-08-12T01:46:15.432Z"
   },
   {
    "duration": 170,
    "start_time": "2024-08-12T01:46:16.772Z"
   },
   {
    "duration": 15,
    "start_time": "2024-08-12T01:46:16.945Z"
   },
   {
    "duration": 19,
    "start_time": "2024-08-12T01:46:16.963Z"
   },
   {
    "duration": 53,
    "start_time": "2024-08-12T01:46:16.985Z"
   },
   {
    "duration": 170,
    "start_time": "2024-08-12T01:46:17.041Z"
   },
   {
    "duration": 54,
    "start_time": "2024-08-12T01:46:17.215Z"
   },
   {
    "duration": 21,
    "start_time": "2024-08-12T01:46:17.272Z"
   },
   {
    "duration": 36,
    "start_time": "2024-08-12T01:46:17.295Z"
   },
   {
    "duration": 14,
    "start_time": "2024-08-12T01:46:17.334Z"
   },
   {
    "duration": 32,
    "start_time": "2024-08-12T01:46:17.351Z"
   },
   {
    "duration": 7,
    "start_time": "2024-08-12T01:46:17.386Z"
   },
   {
    "duration": 9,
    "start_time": "2024-08-12T01:46:17.432Z"
   },
   {
    "duration": 7,
    "start_time": "2024-08-12T01:46:17.445Z"
   },
   {
    "duration": 8,
    "start_time": "2024-08-12T01:46:17.456Z"
   },
   {
    "duration": 1348,
    "start_time": "2024-08-12T01:46:17.468Z"
   },
   {
    "duration": 1167,
    "start_time": "2024-08-12T01:46:18.820Z"
   },
   {
    "duration": 11,
    "start_time": "2024-08-12T01:46:19.991Z"
   },
   {
    "duration": 13,
    "start_time": "2024-08-12T01:46:20.030Z"
   },
   {
    "duration": 21,
    "start_time": "2024-08-12T01:46:20.047Z"
   },
   {
    "duration": 25,
    "start_time": "2024-08-12T01:46:20.071Z"
   },
   {
    "duration": 33,
    "start_time": "2024-08-12T01:46:20.099Z"
   },
   {
    "duration": 7,
    "start_time": "2024-08-12T01:46:20.134Z"
   },
   {
    "duration": 7,
    "start_time": "2024-08-12T01:46:20.145Z"
   },
   {
    "duration": 8,
    "start_time": "2024-08-12T01:46:20.155Z"
   },
   {
    "duration": 10,
    "start_time": "2024-08-12T01:46:20.166Z"
   },
   {
    "duration": 9,
    "start_time": "2024-08-12T01:46:20.230Z"
   },
   {
    "duration": 10,
    "start_time": "2024-08-12T01:46:20.242Z"
   },
   {
    "duration": 26,
    "start_time": "2024-08-12T01:46:20.256Z"
   },
   {
    "duration": 67,
    "start_time": "2024-08-12T01:46:20.285Z"
   },
   {
    "duration": 23,
    "start_time": "2024-08-12T01:46:20.355Z"
   },
   {
    "duration": 12,
    "start_time": "2024-08-12T01:46:20.380Z"
   },
   {
    "duration": 37,
    "start_time": "2024-08-12T01:46:20.394Z"
   },
   {
    "duration": 11,
    "start_time": "2024-08-12T01:46:20.434Z"
   },
   {
    "duration": 11,
    "start_time": "2024-08-12T01:46:20.448Z"
   },
   {
    "duration": 12,
    "start_time": "2024-08-12T01:46:20.461Z"
   },
   {
    "duration": 55,
    "start_time": "2024-08-12T01:46:20.477Z"
   },
   {
    "duration": 12,
    "start_time": "2024-08-12T01:46:20.535Z"
   },
   {
    "duration": 13,
    "start_time": "2024-08-12T01:46:20.550Z"
   },
   {
    "duration": 28,
    "start_time": "2024-08-12T01:46:20.566Z"
   },
   {
    "duration": 24,
    "start_time": "2024-08-12T01:46:20.630Z"
   },
   {
    "duration": 23,
    "start_time": "2024-08-12T01:46:20.657Z"
   },
   {
    "duration": 63,
    "start_time": "2024-08-12T01:46:20.683Z"
   },
   {
    "duration": 7,
    "start_time": "2024-08-12T01:46:20.749Z"
   },
   {
    "duration": 512,
    "start_time": "2024-08-12T01:46:20.759Z"
   },
   {
    "duration": 15,
    "start_time": "2024-08-12T01:46:21.274Z"
   },
   {
    "duration": 52,
    "start_time": "2024-08-12T01:46:21.292Z"
   },
   {
    "duration": 25,
    "start_time": "2024-08-12T01:46:21.347Z"
   },
   {
    "duration": 12,
    "start_time": "2024-08-12T01:46:21.375Z"
   },
   {
    "duration": 42,
    "start_time": "2024-08-12T01:46:21.390Z"
   },
   {
    "duration": 433,
    "start_time": "2024-08-12T01:46:21.434Z"
   },
   {
    "duration": 13,
    "start_time": "2024-08-12T01:46:21.870Z"
   },
   {
    "duration": 256,
    "start_time": "2024-08-12T01:46:21.885Z"
   },
   {
    "duration": 11,
    "start_time": "2024-08-12T01:46:22.145Z"
   },
   {
    "duration": 20,
    "start_time": "2024-08-12T01:46:22.159Z"
   },
   {
    "duration": 260,
    "start_time": "2024-08-12T01:46:22.182Z"
   },
   {
    "duration": 226,
    "start_time": "2024-08-12T01:46:22.445Z"
   },
   {
    "duration": 346,
    "start_time": "2024-08-12T01:46:22.674Z"
   },
   {
    "duration": 13,
    "start_time": "2024-08-12T01:46:23.030Z"
   },
   {
    "duration": 92,
    "start_time": "2024-08-12T01:46:23.046Z"
   },
   {
    "duration": 243,
    "start_time": "2024-08-12T01:46:23.141Z"
   },
   {
    "duration": 11,
    "start_time": "2024-08-12T01:46:23.387Z"
   },
   {
    "duration": 31,
    "start_time": "2024-08-12T01:46:23.401Z"
   },
   {
    "duration": 171,
    "start_time": "2024-08-12T01:46:23.435Z"
   },
   {
    "duration": 39,
    "start_time": "2024-08-12T01:46:23.609Z"
   },
   {
    "duration": 230,
    "start_time": "2024-08-12T01:46:23.651Z"
   },
   {
    "duration": 22,
    "start_time": "2024-08-12T01:46:23.883Z"
   },
   {
    "duration": 25,
    "start_time": "2024-08-12T01:46:23.908Z"
   },
   {
    "duration": 12,
    "start_time": "2024-08-12T01:46:23.937Z"
   },
   {
    "duration": 51,
    "start_time": "2024-08-12T01:46:23.952Z"
   },
   {
    "duration": 16,
    "start_time": "2024-08-12T01:46:24.030Z"
   },
   {
    "duration": 21,
    "start_time": "2024-08-12T01:46:24.048Z"
   },
   {
    "duration": 4,
    "start_time": "2024-08-12T01:46:24.071Z"
   },
   {
    "duration": 12,
    "start_time": "2024-08-12T01:46:24.079Z"
   },
   {
    "duration": 4561,
    "start_time": "2024-08-12T16:44:10.016Z"
   },
   {
    "duration": 1729,
    "start_time": "2024-08-12T16:44:14.581Z"
   },
   {
    "duration": 29,
    "start_time": "2024-08-12T16:44:16.314Z"
   },
   {
    "duration": 82,
    "start_time": "2024-08-12T16:44:16.346Z"
   },
   {
    "duration": 7,
    "start_time": "2024-08-12T16:44:16.433Z"
   },
   {
    "duration": 23,
    "start_time": "2024-08-12T16:44:16.444Z"
   },
   {
    "duration": 7,
    "start_time": "2024-08-12T16:44:16.470Z"
   },
   {
    "duration": 250,
    "start_time": "2024-08-12T16:44:16.480Z"
   },
   {
    "duration": 203,
    "start_time": "2024-08-12T16:44:16.733Z"
   },
   {
    "duration": 19,
    "start_time": "2024-08-12T16:44:16.939Z"
   },
   {
    "duration": 22,
    "start_time": "2024-08-12T16:44:16.964Z"
   },
   {
    "duration": 39,
    "start_time": "2024-08-12T16:44:16.991Z"
   },
   {
    "duration": 24,
    "start_time": "2024-08-12T16:44:17.033Z"
   },
   {
    "duration": 14,
    "start_time": "2024-08-12T16:44:17.064Z"
   },
   {
    "duration": 47,
    "start_time": "2024-08-12T16:44:17.082Z"
   },
   {
    "duration": 10,
    "start_time": "2024-08-12T16:44:17.133Z"
   },
   {
    "duration": 16,
    "start_time": "2024-08-12T16:44:17.147Z"
   },
   {
    "duration": 11,
    "start_time": "2024-08-12T16:44:17.166Z"
   },
   {
    "duration": 49,
    "start_time": "2024-08-12T16:44:17.180Z"
   },
   {
    "duration": 43,
    "start_time": "2024-08-12T16:44:17.231Z"
   },
   {
    "duration": 66,
    "start_time": "2024-08-12T16:44:17.277Z"
   },
   {
    "duration": 112,
    "start_time": "2024-08-12T16:44:17.345Z"
   },
   {
    "duration": 1381,
    "start_time": "2024-08-12T16:44:17.465Z"
   },
   {
    "duration": 188,
    "start_time": "2024-08-12T16:44:18.849Z"
   },
   {
    "duration": 17,
    "start_time": "2024-08-12T16:44:19.040Z"
   },
   {
    "duration": 21,
    "start_time": "2024-08-12T16:44:19.064Z"
   },
   {
    "duration": 53,
    "start_time": "2024-08-12T16:44:19.088Z"
   },
   {
    "duration": 192,
    "start_time": "2024-08-12T16:44:19.145Z"
   },
   {
    "duration": 51,
    "start_time": "2024-08-12T16:44:19.340Z"
   },
   {
    "duration": 42,
    "start_time": "2024-08-12T16:44:19.394Z"
   },
   {
    "duration": 9,
    "start_time": "2024-08-12T16:44:19.442Z"
   },
   {
    "duration": 14,
    "start_time": "2024-08-12T16:44:19.454Z"
   },
   {
    "duration": 69,
    "start_time": "2024-08-12T16:44:19.471Z"
   },
   {
    "duration": 10,
    "start_time": "2024-08-12T16:44:19.543Z"
   },
   {
    "duration": 12,
    "start_time": "2024-08-12T16:44:19.556Z"
   },
   {
    "duration": 9,
    "start_time": "2024-08-12T16:44:19.571Z"
   },
   {
    "duration": 43,
    "start_time": "2024-08-12T16:44:19.583Z"
   },
   {
    "duration": 1414,
    "start_time": "2024-08-12T16:44:19.630Z"
   },
   {
    "duration": 1255,
    "start_time": "2024-08-12T16:44:21.047Z"
   },
   {
    "duration": 20,
    "start_time": "2024-08-12T16:44:22.305Z"
   },
   {
    "duration": 13,
    "start_time": "2024-08-12T16:44:22.339Z"
   },
   {
    "duration": 13,
    "start_time": "2024-08-12T16:44:22.356Z"
   },
   {
    "duration": 61,
    "start_time": "2024-08-12T16:44:22.372Z"
   },
   {
    "duration": 10,
    "start_time": "2024-08-12T16:44:22.436Z"
   },
   {
    "duration": 8,
    "start_time": "2024-08-12T16:44:22.450Z"
   },
   {
    "duration": 8,
    "start_time": "2024-08-12T16:44:22.461Z"
   },
   {
    "duration": 52,
    "start_time": "2024-08-12T16:44:22.474Z"
   },
   {
    "duration": 10,
    "start_time": "2024-08-12T16:44:22.530Z"
   },
   {
    "duration": 10,
    "start_time": "2024-08-12T16:44:22.544Z"
   },
   {
    "duration": 10,
    "start_time": "2024-08-12T16:44:22.557Z"
   },
   {
    "duration": 78,
    "start_time": "2024-08-12T16:44:22.570Z"
   },
   {
    "duration": 31,
    "start_time": "2024-08-12T16:44:22.651Z"
   },
   {
    "duration": 53,
    "start_time": "2024-08-12T16:44:22.685Z"
   },
   {
    "duration": 10,
    "start_time": "2024-08-12T16:44:22.743Z"
   },
   {
    "duration": 9,
    "start_time": "2024-08-12T16:44:22.758Z"
   },
   {
    "duration": 15,
    "start_time": "2024-08-12T16:44:22.774Z"
   },
   {
    "duration": 13,
    "start_time": "2024-08-12T16:44:22.823Z"
   },
   {
    "duration": 13,
    "start_time": "2024-08-12T16:44:22.840Z"
   },
   {
    "duration": 15,
    "start_time": "2024-08-12T16:44:22.857Z"
   },
   {
    "duration": 49,
    "start_time": "2024-08-12T16:44:22.877Z"
   },
   {
    "duration": 11,
    "start_time": "2024-08-12T16:44:22.929Z"
   },
   {
    "duration": 27,
    "start_time": "2024-08-12T16:44:22.943Z"
   },
   {
    "duration": 64,
    "start_time": "2024-08-12T16:44:22.973Z"
   },
   {
    "duration": 25,
    "start_time": "2024-08-12T16:44:23.041Z"
   },
   {
    "duration": 54,
    "start_time": "2024-08-12T16:44:23.070Z"
   },
   {
    "duration": 7,
    "start_time": "2024-08-12T16:44:23.127Z"
   },
   {
    "duration": 556,
    "start_time": "2024-08-12T16:44:23.138Z"
   },
   {
    "duration": 26,
    "start_time": "2024-08-12T16:44:23.700Z"
   },
   {
    "duration": 29,
    "start_time": "2024-08-12T16:44:23.729Z"
   },
   {
    "duration": 25,
    "start_time": "2024-08-12T16:44:23.762Z"
   },
   {
    "duration": 41,
    "start_time": "2024-08-12T16:44:23.790Z"
   },
   {
    "duration": 15,
    "start_time": "2024-08-12T16:44:23.836Z"
   },
   {
    "duration": 390,
    "start_time": "2024-08-12T16:44:23.859Z"
   },
   {
    "duration": 14,
    "start_time": "2024-08-12T16:44:24.255Z"
   },
   {
    "duration": 300,
    "start_time": "2024-08-12T16:44:24.272Z"
   },
   {
    "duration": 11,
    "start_time": "2024-08-12T16:44:24.576Z"
   },
   {
    "duration": 43,
    "start_time": "2024-08-12T16:44:24.591Z"
   },
   {
    "duration": 248,
    "start_time": "2024-08-12T16:44:24.637Z"
   },
   {
    "duration": 240,
    "start_time": "2024-08-12T16:44:24.888Z"
   },
   {
    "duration": 359,
    "start_time": "2024-08-12T16:44:25.132Z"
   },
   {
    "duration": 29,
    "start_time": "2024-08-12T16:44:25.495Z"
   },
   {
    "duration": 79,
    "start_time": "2024-08-12T16:44:25.529Z"
   },
   {
    "duration": 260,
    "start_time": "2024-08-12T16:44:25.610Z"
   },
   {
    "duration": 12,
    "start_time": "2024-08-12T16:44:25.874Z"
   },
   {
    "duration": 11,
    "start_time": "2024-08-12T16:44:25.890Z"
   },
   {
    "duration": 199,
    "start_time": "2024-08-12T16:44:25.925Z"
   },
   {
    "duration": 32,
    "start_time": "2024-08-12T16:44:26.132Z"
   },
   {
    "duration": 244,
    "start_time": "2024-08-12T16:44:26.167Z"
   },
   {
    "duration": 29,
    "start_time": "2024-08-12T16:44:26.414Z"
   },
   {
    "duration": 5,
    "start_time": "2024-08-12T16:44:26.445Z"
   },
   {
    "duration": 15,
    "start_time": "2024-08-12T16:44:26.454Z"
   },
   {
    "duration": 90,
    "start_time": "2024-08-12T16:44:26.472Z"
   },
   {
    "duration": 18,
    "start_time": "2024-08-12T16:44:26.565Z"
   },
   {
    "duration": 41,
    "start_time": "2024-08-12T16:44:26.587Z"
   },
   {
    "duration": 4,
    "start_time": "2024-08-12T16:44:26.631Z"
   },
   {
    "duration": 14,
    "start_time": "2024-08-12T16:44:26.638Z"
   },
   {
    "duration": 13,
    "start_time": "2024-08-13T01:54:08.653Z"
   },
   {
    "duration": 4382,
    "start_time": "2024-08-13T01:54:39.239Z"
   },
   {
    "duration": 1750,
    "start_time": "2024-08-13T01:54:43.626Z"
   },
   {
    "duration": 32,
    "start_time": "2024-08-13T01:54:45.378Z"
   },
   {
    "duration": 69,
    "start_time": "2024-08-13T01:54:45.414Z"
   },
   {
    "duration": 11,
    "start_time": "2024-08-13T01:54:45.509Z"
   },
   {
    "duration": 23,
    "start_time": "2024-08-13T01:54:45.524Z"
   },
   {
    "duration": 7,
    "start_time": "2024-08-13T01:54:45.551Z"
   },
   {
    "duration": 249,
    "start_time": "2024-08-13T01:54:45.562Z"
   },
   {
    "duration": 228,
    "start_time": "2024-08-13T01:54:45.814Z"
   },
   {
    "duration": 16,
    "start_time": "2024-08-13T01:54:46.044Z"
   },
   {
    "duration": 16,
    "start_time": "2024-08-13T01:54:46.064Z"
   },
   {
    "duration": 37,
    "start_time": "2024-08-13T01:54:46.082Z"
   },
   {
    "duration": 24,
    "start_time": "2024-08-13T01:54:46.122Z"
   },
   {
    "duration": 55,
    "start_time": "2024-08-13T01:54:46.154Z"
   },
   {
    "duration": 9,
    "start_time": "2024-08-13T01:54:46.212Z"
   },
   {
    "duration": 7,
    "start_time": "2024-08-13T01:54:46.224Z"
   },
   {
    "duration": 14,
    "start_time": "2024-08-13T01:54:46.235Z"
   },
   {
    "duration": 9,
    "start_time": "2024-08-13T01:54:46.251Z"
   },
   {
    "duration": 7,
    "start_time": "2024-08-13T01:54:46.310Z"
   },
   {
    "duration": 41,
    "start_time": "2024-08-13T01:54:46.320Z"
   },
   {
    "duration": 61,
    "start_time": "2024-08-13T01:54:46.364Z"
   },
   {
    "duration": 98,
    "start_time": "2024-08-13T01:54:46.428Z"
   },
   {
    "duration": 1328,
    "start_time": "2024-08-13T01:54:46.529Z"
   },
   {
    "duration": 180,
    "start_time": "2024-08-13T01:54:47.859Z"
   },
   {
    "duration": 23,
    "start_time": "2024-08-13T01:54:48.043Z"
   },
   {
    "duration": 44,
    "start_time": "2024-08-13T01:54:48.069Z"
   },
   {
    "duration": 20,
    "start_time": "2024-08-13T01:54:48.116Z"
   },
   {
    "duration": 176,
    "start_time": "2024-08-13T01:54:48.139Z"
   },
   {
    "duration": 44,
    "start_time": "2024-08-13T01:54:48.318Z"
   },
   {
    "duration": 45,
    "start_time": "2024-08-13T01:54:48.365Z"
   },
   {
    "duration": 8,
    "start_time": "2024-08-13T01:54:48.412Z"
   },
   {
    "duration": 13,
    "start_time": "2024-08-13T01:54:48.423Z"
   },
   {
    "duration": 68,
    "start_time": "2024-08-13T01:54:48.440Z"
   },
   {
    "duration": 8,
    "start_time": "2024-08-13T01:54:48.511Z"
   },
   {
    "duration": 11,
    "start_time": "2024-08-13T01:54:48.522Z"
   },
   {
    "duration": 13,
    "start_time": "2024-08-13T01:54:48.536Z"
   },
   {
    "duration": 16,
    "start_time": "2024-08-13T01:54:48.552Z"
   },
   {
    "duration": 1347,
    "start_time": "2024-08-13T01:54:48.572Z"
   },
   {
    "duration": 1185,
    "start_time": "2024-08-13T01:54:49.923Z"
   },
   {
    "duration": 10,
    "start_time": "2024-08-13T01:54:51.111Z"
   },
   {
    "duration": 13,
    "start_time": "2024-08-13T01:54:51.134Z"
   },
   {
    "duration": 11,
    "start_time": "2024-08-13T01:54:51.150Z"
   },
   {
    "duration": 58,
    "start_time": "2024-08-13T01:54:51.163Z"
   },
   {
    "duration": 8,
    "start_time": "2024-08-13T01:54:51.224Z"
   },
   {
    "duration": 8,
    "start_time": "2024-08-13T01:54:51.234Z"
   },
   {
    "duration": 8,
    "start_time": "2024-08-13T01:54:51.245Z"
   },
   {
    "duration": 53,
    "start_time": "2024-08-13T01:54:51.256Z"
   },
   {
    "duration": 17,
    "start_time": "2024-08-13T01:54:51.312Z"
   },
   {
    "duration": 11,
    "start_time": "2024-08-13T01:54:51.333Z"
   },
   {
    "duration": 13,
    "start_time": "2024-08-13T01:54:51.348Z"
   },
   {
    "duration": 67,
    "start_time": "2024-08-13T01:54:51.364Z"
   },
   {
    "duration": 26,
    "start_time": "2024-08-13T01:54:51.434Z"
   },
   {
    "duration": 51,
    "start_time": "2024-08-13T01:54:51.463Z"
   },
   {
    "duration": 11,
    "start_time": "2024-08-13T01:54:51.517Z"
   },
   {
    "duration": 5,
    "start_time": "2024-08-13T01:54:51.531Z"
   },
   {
    "duration": 12,
    "start_time": "2024-08-13T01:54:51.539Z"
   },
   {
    "duration": 9,
    "start_time": "2024-08-13T01:54:51.554Z"
   },
   {
    "duration": 50,
    "start_time": "2024-08-13T01:54:51.566Z"
   },
   {
    "duration": 12,
    "start_time": "2024-08-13T01:54:51.619Z"
   },
   {
    "duration": 11,
    "start_time": "2024-08-13T01:54:51.634Z"
   },
   {
    "duration": 12,
    "start_time": "2024-08-13T01:54:51.647Z"
   },
   {
    "duration": 54,
    "start_time": "2024-08-13T01:54:51.662Z"
   },
   {
    "duration": 28,
    "start_time": "2024-08-13T01:54:51.719Z"
   },
   {
    "duration": 24,
    "start_time": "2024-08-13T01:54:51.750Z"
   },
   {
    "duration": 25,
    "start_time": "2024-08-13T01:54:51.809Z"
   },
   {
    "duration": 26,
    "start_time": "2024-08-13T01:54:51.837Z"
   },
   {
    "duration": 42,
    "start_time": "2024-08-13T01:54:51.866Z"
   },
   {
    "duration": 519,
    "start_time": "2024-08-13T01:54:51.911Z"
   },
   {
    "duration": 16,
    "start_time": "2024-08-13T01:54:52.436Z"
   },
   {
    "duration": 55,
    "start_time": "2024-08-13T01:54:52.455Z"
   },
   {
    "duration": 25,
    "start_time": "2024-08-13T01:54:52.513Z"
   },
   {
    "duration": 12,
    "start_time": "2024-08-13T01:54:52.541Z"
   },
   {
    "duration": 13,
    "start_time": "2024-08-13T01:54:52.557Z"
   },
   {
    "duration": 406,
    "start_time": "2024-08-13T01:54:52.609Z"
   },
   {
    "duration": 12,
    "start_time": "2024-08-13T01:54:53.018Z"
   },
   {
    "duration": 247,
    "start_time": "2024-08-13T01:54:53.033Z"
   },
   {
    "duration": 24,
    "start_time": "2024-08-13T01:54:53.284Z"
   },
   {
    "duration": 19,
    "start_time": "2024-08-13T01:54:53.313Z"
   },
   {
    "duration": 241,
    "start_time": "2024-08-13T01:54:53.335Z"
   },
   {
    "duration": 224,
    "start_time": "2024-08-13T01:54:53.579Z"
   },
   {
    "duration": 343,
    "start_time": "2024-08-13T01:54:53.809Z"
   },
   {
    "duration": 12,
    "start_time": "2024-08-13T01:54:54.155Z"
   },
   {
    "duration": 96,
    "start_time": "2024-08-13T01:54:54.170Z"
   },
   {
    "duration": 241,
    "start_time": "2024-08-13T01:54:54.269Z"
   },
   {
    "duration": 15,
    "start_time": "2024-08-13T01:54:54.513Z"
   },
   {
    "duration": 18,
    "start_time": "2024-08-13T01:54:54.531Z"
   },
   {
    "duration": 211,
    "start_time": "2024-08-13T01:54:54.552Z"
   },
   {
    "duration": 45,
    "start_time": "2024-08-13T01:54:54.766Z"
   },
   {
    "duration": 221,
    "start_time": "2024-08-13T01:54:54.815Z"
   },
   {
    "duration": 22,
    "start_time": "2024-08-13T01:54:55.039Z"
   },
   {
    "duration": 4,
    "start_time": "2024-08-13T01:54:55.063Z"
   },
   {
    "duration": 40,
    "start_time": "2024-08-13T01:54:55.070Z"
   },
   {
    "duration": 51,
    "start_time": "2024-08-13T01:54:55.113Z"
   },
   {
    "duration": 16,
    "start_time": "2024-08-13T01:54:55.167Z"
   },
   {
    "duration": 22,
    "start_time": "2024-08-13T01:54:55.211Z"
   },
   {
    "duration": 4,
    "start_time": "2024-08-13T01:54:55.235Z"
   },
   {
    "duration": 11,
    "start_time": "2024-08-13T01:54:55.243Z"
   },
   {
    "duration": 316,
    "start_time": "2024-08-13T13:28:02.048Z"
   },
   {
    "duration": 23,
    "start_time": "2024-08-13T13:28:07.962Z"
   },
   {
    "duration": 4385,
    "start_time": "2024-08-13T23:48:59.186Z"
   },
   {
    "duration": 1680,
    "start_time": "2024-08-13T23:49:03.575Z"
   },
   {
    "duration": 20,
    "start_time": "2024-08-13T23:49:05.258Z"
   },
   {
    "duration": 82,
    "start_time": "2024-08-13T23:49:05.281Z"
   },
   {
    "duration": 8,
    "start_time": "2024-08-13T23:49:05.369Z"
   },
   {
    "duration": 25,
    "start_time": "2024-08-13T23:49:05.402Z"
   },
   {
    "duration": 7,
    "start_time": "2024-08-13T23:49:05.430Z"
   },
   {
    "duration": 229,
    "start_time": "2024-08-13T23:49:05.440Z"
   },
   {
    "duration": 238,
    "start_time": "2024-08-13T23:49:05.672Z"
   },
   {
    "duration": 17,
    "start_time": "2024-08-13T23:49:05.913Z"
   },
   {
    "duration": 30,
    "start_time": "2024-08-13T23:49:05.934Z"
   },
   {
    "duration": 43,
    "start_time": "2024-08-13T23:49:05.969Z"
   },
   {
    "duration": 26,
    "start_time": "2024-08-13T23:49:06.015Z"
   },
   {
    "duration": 15,
    "start_time": "2024-08-13T23:49:06.048Z"
   },
   {
    "duration": 45,
    "start_time": "2024-08-13T23:49:06.066Z"
   },
   {
    "duration": 9,
    "start_time": "2024-08-13T23:49:06.115Z"
   },
   {
    "duration": 15,
    "start_time": "2024-08-13T23:49:06.127Z"
   },
   {
    "duration": 58,
    "start_time": "2024-08-13T23:49:06.145Z"
   },
   {
    "duration": 13,
    "start_time": "2024-08-13T23:49:06.206Z"
   },
   {
    "duration": 43,
    "start_time": "2024-08-13T23:49:06.222Z"
   },
   {
    "duration": 31,
    "start_time": "2024-08-13T23:49:06.304Z"
   },
   {
    "duration": 117,
    "start_time": "2024-08-13T23:49:06.338Z"
   },
   {
    "duration": 1486,
    "start_time": "2024-08-13T23:49:06.458Z"
   },
   {
    "duration": 194,
    "start_time": "2024-08-13T23:49:07.947Z"
   },
   {
    "duration": 18,
    "start_time": "2024-08-13T23:49:08.144Z"
   },
   {
    "duration": 48,
    "start_time": "2024-08-13T23:49:08.166Z"
   },
   {
    "duration": 25,
    "start_time": "2024-08-13T23:49:08.218Z"
   },
   {
    "duration": 209,
    "start_time": "2024-08-13T23:49:08.247Z"
   },
   {
    "duration": 68,
    "start_time": "2024-08-13T23:49:08.459Z"
   },
   {
    "duration": 26,
    "start_time": "2024-08-13T23:49:08.530Z"
   },
   {
    "duration": 8,
    "start_time": "2024-08-13T23:49:08.558Z"
   },
   {
    "duration": 42,
    "start_time": "2024-08-13T23:49:08.570Z"
   },
   {
    "duration": 36,
    "start_time": "2024-08-13T23:49:08.616Z"
   },
   {
    "duration": 7,
    "start_time": "2024-08-13T23:49:08.656Z"
   },
   {
    "duration": 41,
    "start_time": "2024-08-13T23:49:08.667Z"
   },
   {
    "duration": 9,
    "start_time": "2024-08-13T23:49:08.712Z"
   },
   {
    "duration": 9,
    "start_time": "2024-08-13T23:49:08.724Z"
   },
   {
    "duration": 1460,
    "start_time": "2024-08-13T23:49:08.736Z"
   },
   {
    "duration": 1328,
    "start_time": "2024-08-13T23:49:10.203Z"
   },
   {
    "duration": 11,
    "start_time": "2024-08-13T23:49:11.533Z"
   },
   {
    "duration": 13,
    "start_time": "2024-08-13T23:49:11.558Z"
   },
   {
    "duration": 12,
    "start_time": "2024-08-13T23:49:11.604Z"
   },
   {
    "duration": 20,
    "start_time": "2024-08-13T23:49:11.619Z"
   },
   {
    "duration": 9,
    "start_time": "2024-08-13T23:49:11.642Z"
   },
   {
    "duration": 51,
    "start_time": "2024-08-13T23:49:11.654Z"
   },
   {
    "duration": 7,
    "start_time": "2024-08-13T23:49:11.708Z"
   },
   {
    "duration": 7,
    "start_time": "2024-08-13T23:49:11.719Z"
   },
   {
    "duration": 10,
    "start_time": "2024-08-13T23:49:11.729Z"
   },
   {
    "duration": 60,
    "start_time": "2024-08-13T23:49:11.742Z"
   },
   {
    "duration": 10,
    "start_time": "2024-08-13T23:49:11.804Z"
   },
   {
    "duration": 27,
    "start_time": "2024-08-13T23:49:11.817Z"
   },
   {
    "duration": 62,
    "start_time": "2024-08-13T23:49:11.847Z"
   },
   {
    "duration": 24,
    "start_time": "2024-08-13T23:49:11.912Z"
   },
   {
    "duration": 11,
    "start_time": "2024-08-13T23:49:11.940Z"
   },
   {
    "duration": 4,
    "start_time": "2024-08-13T23:49:11.954Z"
   },
   {
    "duration": 44,
    "start_time": "2024-08-13T23:49:11.961Z"
   },
   {
    "duration": 10,
    "start_time": "2024-08-13T23:49:12.008Z"
   },
   {
    "duration": 10,
    "start_time": "2024-08-13T23:49:12.021Z"
   },
   {
    "duration": 14,
    "start_time": "2024-08-13T23:49:12.034Z"
   },
   {
    "duration": 60,
    "start_time": "2024-08-13T23:49:12.051Z"
   },
   {
    "duration": 14,
    "start_time": "2024-08-13T23:49:12.113Z"
   },
   {
    "duration": 11,
    "start_time": "2024-08-13T23:49:12.130Z"
   },
   {
    "duration": 74,
    "start_time": "2024-08-13T23:49:12.145Z"
   },
   {
    "duration": 26,
    "start_time": "2024-08-13T23:49:12.222Z"
   },
   {
    "duration": 54,
    "start_time": "2024-08-13T23:49:12.251Z"
   },
   {
    "duration": 29,
    "start_time": "2024-08-13T23:49:12.308Z"
   },
   {
    "duration": 6,
    "start_time": "2024-08-13T23:49:12.342Z"
   },
   {
    "duration": 598,
    "start_time": "2024-08-13T23:49:12.352Z"
   },
   {
    "duration": 16,
    "start_time": "2024-08-13T23:49:12.953Z"
   },
   {
    "duration": 51,
    "start_time": "2024-08-13T23:49:12.972Z"
   },
   {
    "duration": 25,
    "start_time": "2024-08-13T23:49:13.026Z"
   },
   {
    "duration": 11,
    "start_time": "2024-08-13T23:49:13.054Z"
   },
   {
    "duration": 41,
    "start_time": "2024-08-13T23:49:13.068Z"
   },
   {
    "duration": 376,
    "start_time": "2024-08-13T23:49:13.112Z"
   },
   {
    "duration": 17,
    "start_time": "2024-08-13T23:49:13.492Z"
   },
   {
    "duration": 258,
    "start_time": "2024-08-13T23:49:13.512Z"
   },
   {
    "duration": 11,
    "start_time": "2024-08-13T23:49:13.774Z"
   },
   {
    "duration": 22,
    "start_time": "2024-08-13T23:49:13.803Z"
   },
   {
    "duration": 252,
    "start_time": "2024-08-13T23:49:13.828Z"
   },
   {
    "duration": 249,
    "start_time": "2024-08-13T23:49:14.084Z"
   },
   {
    "duration": 356,
    "start_time": "2024-08-13T23:49:14.337Z"
   },
   {
    "duration": 12,
    "start_time": "2024-08-13T23:49:14.703Z"
   },
   {
    "duration": 104,
    "start_time": "2024-08-13T23:49:14.718Z"
   },
   {
    "duration": 318,
    "start_time": "2024-08-13T23:49:14.825Z"
   },
   {
    "duration": 11,
    "start_time": "2024-08-13T23:49:15.146Z"
   },
   {
    "duration": 11,
    "start_time": "2024-08-13T23:49:15.161Z"
   },
   {
    "duration": 195,
    "start_time": "2024-08-13T23:49:15.203Z"
   },
   {
    "duration": 39,
    "start_time": "2024-08-13T23:49:15.406Z"
   },
   {
    "duration": 237,
    "start_time": "2024-08-13T23:49:15.448Z"
   },
   {
    "duration": 30,
    "start_time": "2024-08-13T23:49:15.688Z"
   },
   {
    "duration": 4,
    "start_time": "2024-08-13T23:49:15.721Z"
   },
   {
    "duration": 11,
    "start_time": "2024-08-13T23:49:15.728Z"
   },
   {
    "duration": 87,
    "start_time": "2024-08-13T23:49:15.742Z"
   },
   {
    "duration": 17,
    "start_time": "2024-08-13T23:49:15.832Z"
   },
   {
    "duration": 20,
    "start_time": "2024-08-13T23:49:15.852Z"
   },
   {
    "duration": 30,
    "start_time": "2024-08-13T23:49:15.876Z"
   },
   {
    "duration": 13,
    "start_time": "2024-08-13T23:49:15.910Z"
   },
   {
    "duration": 21,
    "start_time": "2024-08-13T23:59:34.231Z"
   },
   {
    "duration": 8,
    "start_time": "2024-08-14T00:09:33.295Z"
   },
   {
    "duration": 21,
    "start_time": "2024-08-14T00:09:45.119Z"
   },
   {
    "duration": 10,
    "start_time": "2024-08-14T00:09:46.642Z"
   },
   {
    "duration": 6,
    "start_time": "2024-08-14T00:09:54.796Z"
   },
   {
    "duration": 39,
    "start_time": "2024-08-14T00:15:14.359Z"
   },
   {
    "duration": 25,
    "start_time": "2024-08-14T00:15:17.619Z"
   },
   {
    "duration": 7,
    "start_time": "2024-08-14T00:15:17.811Z"
   },
   {
    "duration": 14,
    "start_time": "2024-08-14T00:15:17.997Z"
   },
   {
    "duration": 38,
    "start_time": "2024-08-14T00:15:18.442Z"
   },
   {
    "duration": 4,
    "start_time": "2024-08-14T00:15:53.681Z"
   },
   {
    "duration": 1508,
    "start_time": "2024-08-14T00:15:53.873Z"
   },
   {
    "duration": 25,
    "start_time": "2024-08-14T00:15:55.385Z"
   },
   {
    "duration": 59,
    "start_time": "2024-08-14T00:15:55.413Z"
   },
   {
    "duration": 32,
    "start_time": "2024-08-14T00:15:55.476Z"
   },
   {
    "duration": 23,
    "start_time": "2024-08-14T00:15:55.511Z"
   },
   {
    "duration": 6,
    "start_time": "2024-08-14T00:15:55.537Z"
   },
   {
    "duration": 166,
    "start_time": "2024-08-14T00:15:55.954Z"
   },
   {
    "duration": 211,
    "start_time": "2024-08-14T00:15:56.124Z"
   },
   {
    "duration": 18,
    "start_time": "2024-08-14T00:15:56.391Z"
   },
   {
    "duration": 17,
    "start_time": "2024-08-14T00:15:56.928Z"
   },
   {
    "duration": 12,
    "start_time": "2024-08-14T00:15:57.112Z"
   },
   {
    "duration": 27,
    "start_time": "2024-08-14T00:15:57.480Z"
   },
   {
    "duration": 14,
    "start_time": "2024-08-14T00:15:57.651Z"
   },
   {
    "duration": 7,
    "start_time": "2024-08-14T00:15:58.379Z"
   },
   {
    "duration": 7,
    "start_time": "2024-08-14T00:15:58.555Z"
   },
   {
    "duration": 13,
    "start_time": "2024-08-14T00:15:58.725Z"
   },
   {
    "duration": 8,
    "start_time": "2024-08-14T00:15:58.927Z"
   },
   {
    "duration": 8,
    "start_time": "2024-08-14T00:15:59.106Z"
   },
   {
    "duration": 37,
    "start_time": "2024-08-14T00:15:59.295Z"
   },
   {
    "duration": 31,
    "start_time": "2024-08-14T00:15:59.481Z"
   },
   {
    "duration": 86,
    "start_time": "2024-08-14T00:15:59.649Z"
   },
   {
    "duration": 1329,
    "start_time": "2024-08-14T00:15:59.994Z"
   },
   {
    "duration": 165,
    "start_time": "2024-08-14T00:16:01.327Z"
   },
   {
    "duration": 13,
    "start_time": "2024-08-14T00:16:01.718Z"
   },
   {
    "duration": 20,
    "start_time": "2024-08-14T00:16:01.902Z"
   },
   {
    "duration": 21,
    "start_time": "2024-08-14T00:16:02.102Z"
   },
   {
    "duration": 9,
    "start_time": "2024-08-14T00:16:03.199Z"
   },
   {
    "duration": 6,
    "start_time": "2024-08-14T00:16:03.382Z"
   },
   {
    "duration": 21,
    "start_time": "2024-08-14T00:16:05.731Z"
   },
   {
    "duration": 7,
    "start_time": "2024-08-14T00:16:06.208Z"
   },
   {
    "duration": 15,
    "start_time": "2024-08-14T00:16:06.883Z"
   },
   {
    "duration": 40,
    "start_time": "2024-08-14T00:16:07.489Z"
   },
   {
    "duration": 39,
    "start_time": "2024-08-14T00:18:30.646Z"
   },
   {
    "duration": 9,
    "start_time": "2024-08-14T00:18:35.938Z"
   },
   {
    "duration": 9,
    "start_time": "2024-08-14T00:18:36.135Z"
   },
   {
    "duration": 10,
    "start_time": "2024-08-14T00:18:37.004Z"
   },
   {
    "duration": 9,
    "start_time": "2024-08-14T00:18:37.229Z"
   },
   {
    "duration": 1303,
    "start_time": "2024-08-14T00:18:40.039Z"
   },
   {
    "duration": 1165,
    "start_time": "2024-08-14T00:18:41.345Z"
   },
   {
    "duration": 11,
    "start_time": "2024-08-14T00:18:42.732Z"
   },
   {
    "duration": 16,
    "start_time": "2024-08-14T00:18:47.679Z"
   },
   {
    "duration": 12,
    "start_time": "2024-08-14T00:18:48.390Z"
   },
   {
    "duration": 21,
    "start_time": "2024-08-14T00:18:51.071Z"
   },
   {
    "duration": 9,
    "start_time": "2024-08-14T00:18:52.365Z"
   },
   {
    "duration": 9,
    "start_time": "2024-08-14T00:18:52.961Z"
   },
   {
    "duration": 8,
    "start_time": "2024-08-14T00:18:53.167Z"
   },
   {
    "duration": 8,
    "start_time": "2024-08-14T00:18:53.327Z"
   },
   {
    "duration": 10,
    "start_time": "2024-08-14T00:18:53.509Z"
   },
   {
    "duration": 9,
    "start_time": "2024-08-14T00:18:53.667Z"
   },
   {
    "duration": 9,
    "start_time": "2024-08-14T00:18:53.841Z"
   },
   {
    "duration": 29,
    "start_time": "2024-08-14T00:18:54.002Z"
   },
   {
    "duration": 28,
    "start_time": "2024-08-14T00:18:54.194Z"
   },
   {
    "duration": 22,
    "start_time": "2024-08-14T00:18:54.353Z"
   },
   {
    "duration": 11,
    "start_time": "2024-08-14T00:18:54.506Z"
   },
   {
    "duration": 4,
    "start_time": "2024-08-14T00:18:54.696Z"
   },
   {
    "duration": 7,
    "start_time": "2024-08-14T00:18:58.039Z"
   },
   {
    "duration": 14,
    "start_time": "2024-08-14T00:19:55.244Z"
   },
   {
    "duration": 20,
    "start_time": "2024-08-14T00:20:18.596Z"
   },
   {
    "duration": 10,
    "start_time": "2024-08-14T00:20:18.766Z"
   },
   {
    "duration": 4,
    "start_time": "2024-08-14T00:20:19.110Z"
   },
   {
    "duration": 13,
    "start_time": "2024-08-14T00:20:21.180Z"
   },
   {
    "duration": 11,
    "start_time": "2024-08-14T00:21:02.582Z"
   },
   {
    "duration": 14,
    "start_time": "2024-08-14T00:22:22.106Z"
   },
   {
    "duration": 9,
    "start_time": "2024-08-14T00:22:50.217Z"
   },
   {
    "duration": 11,
    "start_time": "2024-08-14T00:22:59.261Z"
   },
   {
    "duration": 26,
    "start_time": "2024-08-14T00:23:08.852Z"
   },
   {
    "duration": 13,
    "start_time": "2024-08-14T00:23:18.002Z"
   },
   {
    "duration": 4,
    "start_time": "2024-08-14T00:23:27.625Z"
   },
   {
    "duration": 1493,
    "start_time": "2024-08-14T00:23:29.214Z"
   },
   {
    "duration": 17,
    "start_time": "2024-08-14T00:23:30.710Z"
   },
   {
    "duration": 78,
    "start_time": "2024-08-14T00:23:30.730Z"
   },
   {
    "duration": 8,
    "start_time": "2024-08-14T00:23:30.812Z"
   },
   {
    "duration": 22,
    "start_time": "2024-08-14T00:23:30.825Z"
   },
   {
    "duration": 7,
    "start_time": "2024-08-14T00:23:30.850Z"
   },
   {
    "duration": 178,
    "start_time": "2024-08-14T00:23:30.902Z"
   },
   {
    "duration": 213,
    "start_time": "2024-08-14T00:23:31.083Z"
   },
   {
    "duration": 17,
    "start_time": "2024-08-14T00:23:31.302Z"
   },
   {
    "duration": 17,
    "start_time": "2024-08-14T00:23:31.324Z"
   },
   {
    "duration": 12,
    "start_time": "2024-08-14T00:23:31.344Z"
   },
   {
    "duration": 66,
    "start_time": "2024-08-14T00:23:31.359Z"
   },
   {
    "duration": 15,
    "start_time": "2024-08-14T00:23:31.427Z"
   },
   {
    "duration": 10,
    "start_time": "2024-08-14T00:23:31.446Z"
   },
   {
    "duration": 49,
    "start_time": "2024-08-14T00:23:31.459Z"
   },
   {
    "duration": 15,
    "start_time": "2024-08-14T00:23:31.511Z"
   },
   {
    "duration": 9,
    "start_time": "2024-08-14T00:23:31.530Z"
   },
   {
    "duration": 56,
    "start_time": "2024-08-14T00:23:31.545Z"
   },
   {
    "duration": 38,
    "start_time": "2024-08-14T00:23:31.604Z"
   },
   {
    "duration": 58,
    "start_time": "2024-08-14T00:23:31.645Z"
   },
   {
    "duration": 100,
    "start_time": "2024-08-14T00:23:31.707Z"
   },
   {
    "duration": 1291,
    "start_time": "2024-08-14T00:23:31.810Z"
   },
   {
    "duration": 152,
    "start_time": "2024-08-14T00:23:33.104Z"
   },
   {
    "duration": 12,
    "start_time": "2024-08-14T00:23:33.259Z"
   },
   {
    "duration": 35,
    "start_time": "2024-08-14T00:23:33.279Z"
   },
   {
    "duration": 24,
    "start_time": "2024-08-14T00:23:33.318Z"
   },
   {
    "duration": 10,
    "start_time": "2024-08-14T00:23:33.346Z"
   },
   {
    "duration": 43,
    "start_time": "2024-08-14T00:23:33.361Z"
   },
   {
    "duration": 24,
    "start_time": "2024-08-14T00:23:33.462Z"
   },
   {
    "duration": 7,
    "start_time": "2024-08-14T00:23:33.547Z"
   },
   {
    "duration": 13,
    "start_time": "2024-08-14T00:23:33.632Z"
   },
   {
    "duration": 38,
    "start_time": "2024-08-14T00:23:33.714Z"
   },
   {
    "duration": 8,
    "start_time": "2024-08-14T00:23:34.135Z"
   },
   {
    "duration": 8,
    "start_time": "2024-08-14T00:23:34.214Z"
   },
   {
    "duration": 8,
    "start_time": "2024-08-14T00:23:35.721Z"
   },
   {
    "duration": 9,
    "start_time": "2024-08-14T00:23:35.863Z"
   },
   {
    "duration": 1311,
    "start_time": "2024-08-14T00:23:37.136Z"
   },
   {
    "duration": 1258,
    "start_time": "2024-08-14T00:23:38.451Z"
   },
   {
    "duration": 11,
    "start_time": "2024-08-14T00:23:39.712Z"
   },
   {
    "duration": 14,
    "start_time": "2024-08-14T00:23:39.728Z"
   },
   {
    "duration": 55,
    "start_time": "2024-08-14T00:23:39.746Z"
   },
   {
    "duration": 20,
    "start_time": "2024-08-14T00:23:39.805Z"
   },
   {
    "duration": 11,
    "start_time": "2024-08-14T00:23:39.828Z"
   },
   {
    "duration": 7,
    "start_time": "2024-08-14T00:23:39.842Z"
   },
   {
    "duration": 51,
    "start_time": "2024-08-14T00:23:39.853Z"
   },
   {
    "duration": 7,
    "start_time": "2024-08-14T00:23:39.909Z"
   },
   {
    "duration": 10,
    "start_time": "2024-08-14T00:23:39.919Z"
   },
   {
    "duration": 9,
    "start_time": "2024-08-14T00:23:39.932Z"
   },
   {
    "duration": 10,
    "start_time": "2024-08-14T00:23:39.945Z"
   },
   {
    "duration": 29,
    "start_time": "2024-08-14T00:23:40.003Z"
   },
   {
    "duration": 28,
    "start_time": "2024-08-14T00:23:40.036Z"
   },
   {
    "duration": 46,
    "start_time": "2024-08-14T00:23:40.076Z"
   },
   {
    "duration": 10,
    "start_time": "2024-08-14T00:23:40.158Z"
   },
   {
    "duration": 3,
    "start_time": "2024-08-14T00:23:40.374Z"
   },
   {
    "duration": 14,
    "start_time": "2024-08-14T00:23:44.511Z"
   },
   {
    "duration": 9,
    "start_time": "2024-08-14T00:24:12.959Z"
   },
   {
    "duration": 9,
    "start_time": "2024-08-14T00:24:18.787Z"
   },
   {
    "duration": 10,
    "start_time": "2024-08-14T00:24:23.040Z"
   },
   {
    "duration": 28,
    "start_time": "2024-08-14T00:37:31.170Z"
   },
   {
    "duration": 8,
    "start_time": "2024-08-14T00:38:37.738Z"
   },
   {
    "duration": 6,
    "start_time": "2024-08-14T00:38:38.216Z"
   },
   {
    "duration": 39,
    "start_time": "2024-08-14T00:40:01.491Z"
   },
   {
    "duration": 4,
    "start_time": "2024-08-14T00:40:18.634Z"
   },
   {
    "duration": 1501,
    "start_time": "2024-08-14T00:40:18.721Z"
   },
   {
    "duration": 18,
    "start_time": "2024-08-14T00:40:20.226Z"
   },
   {
    "duration": 85,
    "start_time": "2024-08-14T00:40:20.247Z"
   },
   {
    "duration": 8,
    "start_time": "2024-08-14T00:40:20.337Z"
   },
   {
    "duration": 22,
    "start_time": "2024-08-14T00:40:20.348Z"
   },
   {
    "duration": 6,
    "start_time": "2024-08-14T00:40:20.403Z"
   },
   {
    "duration": 172,
    "start_time": "2024-08-14T00:40:20.413Z"
   },
   {
    "duration": 167,
    "start_time": "2024-08-14T00:40:20.588Z"
   },
   {
    "duration": 17,
    "start_time": "2024-08-14T00:40:20.757Z"
   },
   {
    "duration": 33,
    "start_time": "2024-08-14T00:40:20.779Z"
   },
   {
    "duration": 12,
    "start_time": "2024-08-14T00:40:20.815Z"
   },
   {
    "duration": 26,
    "start_time": "2024-08-14T00:40:20.830Z"
   },
   {
    "duration": 50,
    "start_time": "2024-08-14T00:40:20.862Z"
   },
   {
    "duration": 10,
    "start_time": "2024-08-14T00:40:20.915Z"
   },
   {
    "duration": 7,
    "start_time": "2024-08-14T00:40:20.929Z"
   },
   {
    "duration": 62,
    "start_time": "2024-08-14T00:40:20.940Z"
   },
   {
    "duration": 9,
    "start_time": "2024-08-14T00:40:21.005Z"
   },
   {
    "duration": 7,
    "start_time": "2024-08-14T00:40:21.019Z"
   },
   {
    "duration": 72,
    "start_time": "2024-08-14T00:40:21.030Z"
   },
   {
    "duration": 31,
    "start_time": "2024-08-14T00:40:21.105Z"
   },
   {
    "duration": 108,
    "start_time": "2024-08-14T00:40:21.142Z"
   },
   {
    "duration": 1367,
    "start_time": "2024-08-14T00:40:21.255Z"
   },
   {
    "duration": 153,
    "start_time": "2024-08-14T00:40:22.626Z"
   },
   {
    "duration": 21,
    "start_time": "2024-08-14T00:40:22.782Z"
   },
   {
    "duration": 20,
    "start_time": "2024-08-14T00:40:22.806Z"
   },
   {
    "duration": 20,
    "start_time": "2024-08-14T00:40:22.829Z"
   },
   {
    "duration": 50,
    "start_time": "2024-08-14T00:40:22.852Z"
   },
   {
    "duration": 6,
    "start_time": "2024-08-14T00:40:22.905Z"
   },
   {
    "duration": 23,
    "start_time": "2024-08-14T00:40:22.916Z"
   },
   {
    "duration": 9,
    "start_time": "2024-08-14T00:40:22.942Z"
   },
   {
    "duration": 55,
    "start_time": "2024-08-14T00:40:22.956Z"
   },
   {
    "duration": 37,
    "start_time": "2024-08-14T00:40:23.014Z"
   },
   {
    "duration": 7,
    "start_time": "2024-08-14T00:40:45.280Z"
   },
   {
    "duration": 9,
    "start_time": "2024-08-14T00:40:46.177Z"
   },
   {
    "duration": 8,
    "start_time": "2024-08-14T00:40:51.897Z"
   },
   {
    "duration": 8,
    "start_time": "2024-08-14T00:40:52.448Z"
   },
   {
    "duration": 1343,
    "start_time": "2024-08-14T00:41:11.470Z"
   },
   {
    "duration": 1182,
    "start_time": "2024-08-14T00:41:39.689Z"
   },
   {
    "duration": 11,
    "start_time": "2024-08-14T00:41:41.288Z"
   },
   {
    "duration": 14,
    "start_time": "2024-08-14T00:41:58.344Z"
   },
   {
    "duration": 12,
    "start_time": "2024-08-14T00:42:00.312Z"
   },
   {
    "duration": 19,
    "start_time": "2024-08-14T00:42:50.590Z"
   },
   {
    "duration": 7,
    "start_time": "2024-08-14T00:42:51.109Z"
   },
   {
    "duration": 4,
    "start_time": "2024-08-14T00:43:40.229Z"
   },
   {
    "duration": 1475,
    "start_time": "2024-08-14T00:43:40.534Z"
   },
   {
    "duration": 18,
    "start_time": "2024-08-14T00:43:42.013Z"
   },
   {
    "duration": 56,
    "start_time": "2024-08-14T00:43:42.754Z"
   },
   {
    "duration": 8,
    "start_time": "2024-08-14T00:43:43.253Z"
   },
   {
    "duration": 22,
    "start_time": "2024-08-14T00:43:43.333Z"
   },
   {
    "duration": 6,
    "start_time": "2024-08-14T00:43:43.415Z"
   },
   {
    "duration": 141,
    "start_time": "2024-08-14T00:43:43.589Z"
   },
   {
    "duration": 167,
    "start_time": "2024-08-14T00:43:43.734Z"
   },
   {
    "duration": 16,
    "start_time": "2024-08-14T00:43:43.905Z"
   },
   {
    "duration": 15,
    "start_time": "2024-08-14T00:43:44.002Z"
   },
   {
    "duration": 12,
    "start_time": "2024-08-14T00:43:44.086Z"
   },
   {
    "duration": 26,
    "start_time": "2024-08-14T00:43:44.252Z"
   },
   {
    "duration": 12,
    "start_time": "2024-08-14T00:43:44.338Z"
   },
   {
    "duration": 12,
    "start_time": "2024-08-14T00:43:44.418Z"
   },
   {
    "duration": 10,
    "start_time": "2024-08-14T00:43:44.508Z"
   },
   {
    "duration": 15,
    "start_time": "2024-08-14T00:43:44.586Z"
   },
   {
    "duration": 15,
    "start_time": "2024-08-14T00:43:44.673Z"
   },
   {
    "duration": 10,
    "start_time": "2024-08-14T00:43:44.752Z"
   },
   {
    "duration": 39,
    "start_time": "2024-08-14T00:43:44.834Z"
   },
   {
    "duration": 29,
    "start_time": "2024-08-14T00:43:44.919Z"
   },
   {
    "duration": 110,
    "start_time": "2024-08-14T00:43:45.004Z"
   },
   {
    "duration": 1506,
    "start_time": "2024-08-14T00:43:45.169Z"
   },
   {
    "duration": 162,
    "start_time": "2024-08-14T00:43:46.679Z"
   },
   {
    "duration": 13,
    "start_time": "2024-08-14T00:43:46.843Z"
   },
   {
    "duration": 45,
    "start_time": "2024-08-14T00:43:46.862Z"
   },
   {
    "duration": 23,
    "start_time": "2024-08-14T00:43:46.909Z"
   },
   {
    "duration": 11,
    "start_time": "2024-08-14T00:43:46.936Z"
   },
   {
    "duration": 8,
    "start_time": "2024-08-14T00:43:46.950Z"
   },
   {
    "duration": 29,
    "start_time": "2024-08-14T00:43:48.376Z"
   },
   {
    "duration": 8,
    "start_time": "2024-08-14T00:43:48.898Z"
   },
   {
    "duration": 15,
    "start_time": "2024-08-14T00:43:49.142Z"
   },
   {
    "duration": 42,
    "start_time": "2024-08-14T00:43:49.996Z"
   },
   {
    "duration": 7,
    "start_time": "2024-08-14T00:43:51.598Z"
   },
   {
    "duration": 10,
    "start_time": "2024-08-14T00:43:52.130Z"
   },
   {
    "duration": 10,
    "start_time": "2024-08-14T00:43:52.796Z"
   },
   {
    "duration": 9,
    "start_time": "2024-08-14T00:43:52.877Z"
   },
   {
    "duration": 1371,
    "start_time": "2024-08-14T00:43:53.213Z"
   },
   {
    "duration": 1260,
    "start_time": "2024-08-14T00:43:54.588Z"
   },
   {
    "duration": 10,
    "start_time": "2024-08-14T00:43:55.852Z"
   },
   {
    "duration": 41,
    "start_time": "2024-08-14T00:43:55.867Z"
   },
   {
    "duration": 12,
    "start_time": "2024-08-14T00:43:55.912Z"
   },
   {
    "duration": 20,
    "start_time": "2024-08-14T00:43:56.967Z"
   },
   {
    "duration": 8,
    "start_time": "2024-08-14T00:43:57.832Z"
   },
   {
    "duration": 7,
    "start_time": "2024-08-14T00:44:40.358Z"
   },
   {
    "duration": 8,
    "start_time": "2024-08-14T00:45:11.473Z"
   },
   {
    "duration": 518,
    "start_time": "2024-08-14T00:53:28.013Z"
   },
   {
    "duration": 15,
    "start_time": "2024-08-14T00:53:28.920Z"
   },
   {
    "duration": 26,
    "start_time": "2024-08-14T00:53:29.326Z"
   },
   {
    "duration": 24,
    "start_time": "2024-08-14T00:53:29.414Z"
   },
   {
    "duration": 11,
    "start_time": "2024-08-14T00:53:30.052Z"
   },
   {
    "duration": 14,
    "start_time": "2024-08-14T00:53:30.500Z"
   },
   {
    "duration": 363,
    "start_time": "2024-08-14T00:53:31.130Z"
   },
   {
    "duration": 329,
    "start_time": "2024-08-14T00:53:38.574Z"
   },
   {
    "duration": 344,
    "start_time": "2024-08-14T00:53:46.340Z"
   },
   {
    "duration": 345,
    "start_time": "2024-08-14T00:53:52.712Z"
   },
   {
    "duration": 12,
    "start_time": "2024-08-14T00:54:03.377Z"
   },
   {
    "duration": 226,
    "start_time": "2024-08-14T00:54:12.083Z"
   },
   {
    "duration": 363,
    "start_time": "2024-08-14T00:55:52.228Z"
   },
   {
    "duration": 27,
    "start_time": "2024-08-14T00:56:06.489Z"
   },
   {
    "duration": 23,
    "start_time": "2024-08-14T00:59:04.541Z"
   },
   {
    "duration": 11,
    "start_time": "2024-08-14T00:59:14.109Z"
   },
   {
    "duration": 104,
    "start_time": "2024-08-14T00:59:14.441Z"
   },
   {
    "duration": 391,
    "start_time": "2024-08-14T00:59:56.763Z"
   },
   {
    "duration": 1759,
    "start_time": "2024-08-14T01:01:11.456Z"
   },
   {
    "duration": 405,
    "start_time": "2024-08-14T01:01:41.743Z"
   },
   {
    "duration": 411,
    "start_time": "2024-08-14T01:02:08.903Z"
   },
   {
    "duration": 413,
    "start_time": "2024-08-14T01:02:41.558Z"
   },
   {
    "duration": 400,
    "start_time": "2024-08-14T01:03:31.744Z"
   },
   {
    "duration": 11,
    "start_time": "2024-08-14T01:04:10.902Z"
   },
   {
    "duration": 7,
    "start_time": "2024-08-14T01:04:27.520Z"
   },
   {
    "duration": 24,
    "start_time": "2024-08-14T01:04:41.942Z"
   },
   {
    "duration": 525,
    "start_time": "2024-08-14T01:04:50.291Z"
   },
   {
    "duration": 532,
    "start_time": "2024-08-14T01:05:03.050Z"
   },
   {
    "duration": 540,
    "start_time": "2024-08-14T01:05:42.764Z"
   },
   {
    "duration": 543,
    "start_time": "2024-08-14T01:30:52.022Z"
   },
   {
    "duration": 549,
    "start_time": "2024-08-14T01:31:02.024Z"
   },
   {
    "duration": 25,
    "start_time": "2024-08-14T01:37:30.365Z"
   },
   {
    "duration": 24,
    "start_time": "2024-08-14T01:39:12.411Z"
   },
   {
    "duration": 12,
    "start_time": "2024-08-14T01:40:30.805Z"
   },
   {
    "duration": 15,
    "start_time": "2024-08-14T01:40:37.575Z"
   },
   {
    "duration": 23,
    "start_time": "2024-08-14T01:42:13.426Z"
   },
   {
    "duration": 565,
    "start_time": "2024-08-14T01:44:01.341Z"
   },
   {
    "duration": 542,
    "start_time": "2024-08-14T01:44:12.747Z"
   },
   {
    "duration": 15,
    "start_time": "2024-08-14T01:47:22.841Z"
   },
   {
    "duration": 15,
    "start_time": "2024-08-14T01:53:39.607Z"
   },
   {
    "duration": 17,
    "start_time": "2024-08-14T01:53:52.239Z"
   },
   {
    "duration": 7,
    "start_time": "2024-08-14T01:54:07.985Z"
   },
   {
    "duration": 19,
    "start_time": "2024-08-14T01:54:50.238Z"
   },
   {
    "duration": 4368,
    "start_time": "2024-08-14T03:44:12.592Z"
   },
   {
    "duration": 1739,
    "start_time": "2024-08-14T03:44:16.967Z"
   },
   {
    "duration": 19,
    "start_time": "2024-08-14T03:44:18.709Z"
   },
   {
    "duration": 85,
    "start_time": "2024-08-14T03:44:18.731Z"
   },
   {
    "duration": 7,
    "start_time": "2024-08-14T03:44:18.823Z"
   },
   {
    "duration": 44,
    "start_time": "2024-08-14T03:44:18.833Z"
   },
   {
    "duration": 7,
    "start_time": "2024-08-14T03:44:18.880Z"
   },
   {
    "duration": 210,
    "start_time": "2024-08-14T03:44:18.891Z"
   },
   {
    "duration": 216,
    "start_time": "2024-08-14T03:44:19.107Z"
   },
   {
    "duration": 16,
    "start_time": "2024-08-14T03:44:19.325Z"
   },
   {
    "duration": 34,
    "start_time": "2024-08-14T03:44:19.344Z"
   },
   {
    "duration": 12,
    "start_time": "2024-08-14T03:44:19.382Z"
   },
   {
    "duration": 24,
    "start_time": "2024-08-14T03:44:19.398Z"
   },
   {
    "duration": 15,
    "start_time": "2024-08-14T03:44:19.469Z"
   },
   {
    "duration": 10,
    "start_time": "2024-08-14T03:44:19.487Z"
   },
   {
    "duration": 8,
    "start_time": "2024-08-14T03:44:19.502Z"
   },
   {
    "duration": 56,
    "start_time": "2024-08-14T03:44:19.513Z"
   },
   {
    "duration": 8,
    "start_time": "2024-08-14T03:44:19.573Z"
   },
   {
    "duration": 8,
    "start_time": "2024-08-14T03:44:19.585Z"
   },
   {
    "duration": 78,
    "start_time": "2024-08-14T03:44:19.596Z"
   },
   {
    "duration": 30,
    "start_time": "2024-08-14T03:44:19.677Z"
   },
   {
    "duration": 112,
    "start_time": "2024-08-14T03:44:19.712Z"
   },
   {
    "duration": 1420,
    "start_time": "2024-08-14T03:44:19.828Z"
   },
   {
    "duration": 184,
    "start_time": "2024-08-14T03:44:21.252Z"
   },
   {
    "duration": 30,
    "start_time": "2024-08-14T03:44:21.439Z"
   },
   {
    "duration": 20,
    "start_time": "2024-08-14T03:44:21.472Z"
   },
   {
    "duration": 20,
    "start_time": "2024-08-14T03:44:21.495Z"
   },
   {
    "duration": 9,
    "start_time": "2024-08-14T03:44:21.518Z"
   },
   {
    "duration": 7,
    "start_time": "2024-08-14T03:44:21.567Z"
   },
   {
    "duration": 22,
    "start_time": "2024-08-14T03:44:21.577Z"
   },
   {
    "duration": 7,
    "start_time": "2024-08-14T03:44:21.602Z"
   },
   {
    "duration": 55,
    "start_time": "2024-08-14T03:44:21.612Z"
   },
   {
    "duration": 38,
    "start_time": "2024-08-14T03:44:21.670Z"
   },
   {
    "duration": 10,
    "start_time": "2024-08-14T03:44:21.711Z"
   },
   {
    "duration": 9,
    "start_time": "2024-08-14T03:44:21.724Z"
   },
   {
    "duration": 9,
    "start_time": "2024-08-14T03:44:21.768Z"
   },
   {
    "duration": 9,
    "start_time": "2024-08-14T03:44:21.780Z"
   },
   {
    "duration": 1404,
    "start_time": "2024-08-14T03:44:21.792Z"
   },
   {
    "duration": 1254,
    "start_time": "2024-08-14T03:44:23.199Z"
   },
   {
    "duration": 21,
    "start_time": "2024-08-14T03:44:24.456Z"
   },
   {
    "duration": 15,
    "start_time": "2024-08-14T03:44:24.492Z"
   },
   {
    "duration": 13,
    "start_time": "2024-08-14T03:44:24.511Z"
   },
   {
    "duration": 20,
    "start_time": "2024-08-14T03:44:24.567Z"
   },
   {
    "duration": 8,
    "start_time": "2024-08-14T03:44:24.591Z"
   },
   {
    "duration": 7,
    "start_time": "2024-08-14T03:44:24.602Z"
   },
   {
    "duration": 8,
    "start_time": "2024-08-14T03:44:24.612Z"
   },
   {
    "duration": 50,
    "start_time": "2024-08-14T03:44:24.623Z"
   },
   {
    "duration": 11,
    "start_time": "2024-08-14T03:44:24.676Z"
   },
   {
    "duration": 12,
    "start_time": "2024-08-14T03:44:24.690Z"
   },
   {
    "duration": 11,
    "start_time": "2024-08-14T03:44:24.706Z"
   },
   {
    "duration": 72,
    "start_time": "2024-08-14T03:44:24.721Z"
   },
   {
    "duration": 27,
    "start_time": "2024-08-14T03:44:24.796Z"
   },
   {
    "duration": 60,
    "start_time": "2024-08-14T03:44:24.827Z"
   },
   {
    "duration": 3,
    "start_time": "2024-08-14T03:44:24.892Z"
   },
   {
    "duration": 15,
    "start_time": "2024-08-14T03:44:24.898Z"
   },
   {
    "duration": 9,
    "start_time": "2024-08-14T03:44:24.916Z"
   },
   {
    "duration": 44,
    "start_time": "2024-08-14T03:44:24.929Z"
   },
   {
    "duration": 12,
    "start_time": "2024-08-14T03:44:24.976Z"
   },
   {
    "duration": 15,
    "start_time": "2024-08-14T03:44:24.991Z"
   },
   {
    "duration": 13,
    "start_time": "2024-08-14T03:44:25.009Z"
   },
   {
    "duration": 13,
    "start_time": "2024-08-14T03:44:25.070Z"
   },
   {
    "duration": 27,
    "start_time": "2024-08-14T03:44:25.087Z"
   },
   {
    "duration": 57,
    "start_time": "2024-08-14T03:44:25.117Z"
   },
   {
    "duration": 25,
    "start_time": "2024-08-14T03:44:25.177Z"
   },
   {
    "duration": 26,
    "start_time": "2024-08-14T03:44:25.207Z"
   },
   {
    "duration": 35,
    "start_time": "2024-08-14T03:44:25.235Z"
   },
   {
    "duration": 24,
    "start_time": "2024-08-14T03:44:25.274Z"
   },
   {
    "duration": 590,
    "start_time": "2024-08-14T03:44:25.301Z"
   },
   {
    "duration": 19,
    "start_time": "2024-08-14T03:44:25.894Z"
   },
   {
    "duration": 53,
    "start_time": "2024-08-14T03:44:25.916Z"
   },
   {
    "duration": 25,
    "start_time": "2024-08-14T03:44:25.973Z"
   },
   {
    "duration": 13,
    "start_time": "2024-08-14T03:44:26.001Z"
   },
   {
    "duration": 51,
    "start_time": "2024-08-14T03:44:26.017Z"
   },
   {
    "duration": 354,
    "start_time": "2024-08-14T03:44:26.071Z"
   },
   {
    "duration": 14,
    "start_time": "2024-08-14T03:44:26.427Z"
   },
   {
    "duration": 253,
    "start_time": "2024-08-14T03:44:26.444Z"
   },
   {
    "duration": 12,
    "start_time": "2024-08-14T03:44:26.701Z"
   },
   {
    "duration": 445,
    "start_time": "2024-08-14T03:44:26.716Z"
   },
   {
    "duration": 22,
    "start_time": "2024-08-14T03:44:27.164Z"
   },
   {
    "duration": 312,
    "start_time": "2024-08-14T03:44:27.189Z"
   },
   {
    "duration": 229,
    "start_time": "2024-08-14T03:44:27.504Z"
   },
   {
    "duration": 369,
    "start_time": "2024-08-14T03:44:27.736Z"
   },
   {
    "duration": 12,
    "start_time": "2024-08-14T03:44:28.108Z"
   },
   {
    "duration": 98,
    "start_time": "2024-08-14T03:44:28.124Z"
   },
   {
    "duration": 252,
    "start_time": "2024-08-14T03:44:28.224Z"
   },
   {
    "duration": 12,
    "start_time": "2024-08-14T03:44:28.480Z"
   },
   {
    "duration": 11,
    "start_time": "2024-08-14T03:44:28.495Z"
   },
   {
    "duration": 204,
    "start_time": "2024-08-14T03:44:28.510Z"
   },
   {
    "duration": 33,
    "start_time": "2024-08-14T03:44:28.717Z"
   },
   {
    "duration": 214,
    "start_time": "2024-08-14T03:44:28.776Z"
   },
   {
    "duration": 21,
    "start_time": "2024-08-14T03:44:28.993Z"
   },
   {
    "duration": 4,
    "start_time": "2024-08-14T03:44:29.017Z"
   },
   {
    "duration": 12,
    "start_time": "2024-08-14T03:44:29.024Z"
   },
   {
    "duration": 55,
    "start_time": "2024-08-14T03:44:29.069Z"
   },
   {
    "duration": 41,
    "start_time": "2024-08-14T03:44:29.127Z"
   },
   {
    "duration": 22,
    "start_time": "2024-08-14T03:44:29.171Z"
   },
   {
    "duration": 4,
    "start_time": "2024-08-14T03:44:29.195Z"
   },
   {
    "duration": 12,
    "start_time": "2024-08-14T03:44:29.203Z"
   },
   {
    "duration": 1975,
    "start_time": "2024-08-14T03:45:43.064Z"
   },
   {
    "duration": 764,
    "start_time": "2024-08-14T03:45:51.896Z"
   },
   {
    "duration": 1555,
    "start_time": "2024-08-14T03:45:52.663Z"
   },
   {
    "duration": 20,
    "start_time": "2024-08-14T03:45:54.221Z"
   },
   {
    "duration": 98,
    "start_time": "2024-08-14T03:45:54.244Z"
   },
   {
    "duration": 24,
    "start_time": "2024-08-14T03:45:54.347Z"
   },
   {
    "duration": 23,
    "start_time": "2024-08-14T03:45:54.375Z"
   },
   {
    "duration": 7,
    "start_time": "2024-08-14T03:45:54.401Z"
   },
   {
    "duration": 211,
    "start_time": "2024-08-14T03:45:54.411Z"
   },
   {
    "duration": 204,
    "start_time": "2024-08-14T03:45:54.626Z"
   },
   {
    "duration": 17,
    "start_time": "2024-08-14T03:45:54.832Z"
   },
   {
    "duration": 31,
    "start_time": "2024-08-14T03:45:54.852Z"
   },
   {
    "duration": 11,
    "start_time": "2024-08-14T03:45:54.887Z"
   },
   {
    "duration": 24,
    "start_time": "2024-08-14T03:45:54.901Z"
   },
   {
    "duration": 15,
    "start_time": "2024-08-14T03:45:54.968Z"
   },
   {
    "duration": 8,
    "start_time": "2024-08-14T03:45:54.988Z"
   },
   {
    "duration": 8,
    "start_time": "2024-08-14T03:45:54.999Z"
   },
   {
    "duration": 15,
    "start_time": "2024-08-14T03:45:55.010Z"
   },
   {
    "duration": 9,
    "start_time": "2024-08-14T03:45:55.069Z"
   },
   {
    "duration": 7,
    "start_time": "2024-08-14T03:45:55.082Z"
   },
   {
    "duration": 78,
    "start_time": "2024-08-14T03:45:55.092Z"
   },
   {
    "duration": 31,
    "start_time": "2024-08-14T03:45:55.173Z"
   },
   {
    "duration": 116,
    "start_time": "2024-08-14T03:45:55.206Z"
   },
   {
    "duration": 1481,
    "start_time": "2024-08-14T03:45:55.325Z"
   },
   {
    "duration": 183,
    "start_time": "2024-08-14T03:45:56.809Z"
   },
   {
    "duration": 15,
    "start_time": "2024-08-14T03:45:56.996Z"
   },
   {
    "duration": 20,
    "start_time": "2024-08-14T03:45:57.014Z"
   },
   {
    "duration": 50,
    "start_time": "2024-08-14T03:45:57.037Z"
   },
   {
    "duration": 9,
    "start_time": "2024-08-14T03:45:57.090Z"
   },
   {
    "duration": 7,
    "start_time": "2024-08-14T03:45:57.103Z"
   },
   {
    "duration": 68,
    "start_time": "2024-08-14T03:45:57.112Z"
   },
   {
    "duration": 7,
    "start_time": "2024-08-14T03:45:57.183Z"
   },
   {
    "duration": 13,
    "start_time": "2024-08-14T03:45:57.193Z"
   },
   {
    "duration": 69,
    "start_time": "2024-08-14T03:45:57.209Z"
   },
   {
    "duration": 8,
    "start_time": "2024-08-14T03:45:57.281Z"
   },
   {
    "duration": 23,
    "start_time": "2024-08-14T03:45:57.292Z"
   },
   {
    "duration": 8,
    "start_time": "2024-08-14T03:45:57.318Z"
   },
   {
    "duration": 8,
    "start_time": "2024-08-14T03:45:57.330Z"
   },
   {
    "duration": 1482,
    "start_time": "2024-08-14T03:45:57.369Z"
   },
   {
    "duration": 1251,
    "start_time": "2024-08-14T03:45:58.854Z"
   },
   {
    "duration": 10,
    "start_time": "2024-08-14T03:46:00.108Z"
   },
   {
    "duration": 37,
    "start_time": "2024-08-14T03:46:00.131Z"
   },
   {
    "duration": 12,
    "start_time": "2024-08-14T03:46:00.171Z"
   },
   {
    "duration": 19,
    "start_time": "2024-08-14T03:46:00.186Z"
   },
   {
    "duration": 8,
    "start_time": "2024-08-14T03:46:00.209Z"
   },
   {
    "duration": 50,
    "start_time": "2024-08-14T03:46:00.220Z"
   },
   {
    "duration": 7,
    "start_time": "2024-08-14T03:46:00.273Z"
   },
   {
    "duration": 7,
    "start_time": "2024-08-14T03:46:00.284Z"
   },
   {
    "duration": 10,
    "start_time": "2024-08-14T03:46:00.294Z"
   },
   {
    "duration": 10,
    "start_time": "2024-08-14T03:46:00.307Z"
   },
   {
    "duration": 10,
    "start_time": "2024-08-14T03:46:00.367Z"
   },
   {
    "duration": 28,
    "start_time": "2024-08-14T03:46:00.379Z"
   },
   {
    "duration": 60,
    "start_time": "2024-08-14T03:46:00.410Z"
   },
   {
    "duration": 25,
    "start_time": "2024-08-14T03:46:00.473Z"
   },
   {
    "duration": 3,
    "start_time": "2024-08-14T03:46:00.501Z"
   },
   {
    "duration": 14,
    "start_time": "2024-08-14T03:46:00.508Z"
   },
   {
    "duration": 49,
    "start_time": "2024-08-14T03:46:00.525Z"
   },
   {
    "duration": 14,
    "start_time": "2024-08-14T03:46:00.577Z"
   },
   {
    "duration": 12,
    "start_time": "2024-08-14T03:46:00.594Z"
   },
   {
    "duration": 13,
    "start_time": "2024-08-14T03:46:00.609Z"
   },
   {
    "duration": 52,
    "start_time": "2024-08-14T03:46:00.624Z"
   },
   {
    "duration": 12,
    "start_time": "2024-08-14T03:46:00.679Z"
   },
   {
    "duration": 28,
    "start_time": "2024-08-14T03:46:00.695Z"
   },
   {
    "duration": 63,
    "start_time": "2024-08-14T03:46:00.727Z"
   },
   {
    "duration": 25,
    "start_time": "2024-08-14T03:46:00.793Z"
   },
   {
    "duration": 61,
    "start_time": "2024-08-14T03:46:00.821Z"
   },
   {
    "duration": 7,
    "start_time": "2024-08-14T03:46:00.885Z"
   },
   {
    "duration": 25,
    "start_time": "2024-08-14T03:46:00.896Z"
   },
   {
    "duration": 543,
    "start_time": "2024-08-14T03:46:00.924Z"
   },
   {
    "duration": 18,
    "start_time": "2024-08-14T03:46:01.470Z"
   },
   {
    "duration": 25,
    "start_time": "2024-08-14T03:46:01.491Z"
   },
   {
    "duration": 55,
    "start_time": "2024-08-14T03:46:01.519Z"
   },
   {
    "duration": 11,
    "start_time": "2024-08-14T03:46:01.577Z"
   },
   {
    "duration": 13,
    "start_time": "2024-08-14T03:46:01.591Z"
   },
   {
    "duration": 385,
    "start_time": "2024-08-14T03:46:01.608Z"
   },
   {
    "duration": 13,
    "start_time": "2024-08-14T03:46:01.996Z"
   },
   {
    "duration": 232,
    "start_time": "2024-08-14T03:46:02.012Z"
   },
   {
    "duration": 24,
    "start_time": "2024-08-14T03:46:02.247Z"
   },
   {
    "duration": 425,
    "start_time": "2024-08-14T03:46:02.274Z"
   },
   {
    "duration": 1970,
    "start_time": "2024-08-14T03:46:02.702Z"
   },
   {
    "duration": 0,
    "start_time": "2024-08-14T03:46:04.675Z"
   },
   {
    "duration": 0,
    "start_time": "2024-08-14T03:46:04.679Z"
   },
   {
    "duration": 0,
    "start_time": "2024-08-14T03:46:04.682Z"
   },
   {
    "duration": 0,
    "start_time": "2024-08-14T03:46:04.683Z"
   },
   {
    "duration": 0,
    "start_time": "2024-08-14T03:46:04.685Z"
   },
   {
    "duration": 0,
    "start_time": "2024-08-14T03:46:04.686Z"
   },
   {
    "duration": 0,
    "start_time": "2024-08-14T03:46:04.688Z"
   },
   {
    "duration": 0,
    "start_time": "2024-08-14T03:46:04.689Z"
   },
   {
    "duration": 0,
    "start_time": "2024-08-14T03:46:04.691Z"
   },
   {
    "duration": 0,
    "start_time": "2024-08-14T03:46:04.693Z"
   },
   {
    "duration": 0,
    "start_time": "2024-08-14T03:46:04.695Z"
   },
   {
    "duration": 0,
    "start_time": "2024-08-14T03:46:04.697Z"
   },
   {
    "duration": 0,
    "start_time": "2024-08-14T03:46:04.699Z"
   },
   {
    "duration": 0,
    "start_time": "2024-08-14T03:46:04.702Z"
   },
   {
    "duration": 0,
    "start_time": "2024-08-14T03:46:04.704Z"
   },
   {
    "duration": 0,
    "start_time": "2024-08-14T03:46:04.706Z"
   },
   {
    "duration": 0,
    "start_time": "2024-08-14T03:46:04.708Z"
   },
   {
    "duration": 0,
    "start_time": "2024-08-14T03:46:04.710Z"
   },
   {
    "duration": 0,
    "start_time": "2024-08-14T03:46:04.713Z"
   },
   {
    "duration": 0,
    "start_time": "2024-08-14T03:46:04.715Z"
   },
   {
    "duration": 449,
    "start_time": "2024-08-14T03:46:11.649Z"
   },
   {
    "duration": 463,
    "start_time": "2024-08-14T03:47:47.796Z"
   },
   {
    "duration": 16,
    "start_time": "2024-08-14T03:49:57.034Z"
   },
   {
    "duration": 111,
    "start_time": "2024-08-14T03:50:48.796Z"
   },
   {
    "duration": 107,
    "start_time": "2024-08-14T03:50:58.559Z"
   }
  ],
  "kernelspec": {
   "display_name": "python311",
   "language": "python",
   "name": "python3"
  },
  "language_info": {
   "codemirror_mode": {
    "name": "ipython",
    "version": 3
   },
   "file_extension": ".py",
   "mimetype": "text/x-python",
   "name": "python",
   "nbconvert_exporter": "python",
   "pygments_lexer": "ipython3",
   "version": "3.11.11"
  },
  "toc": {
   "base_numbering": 1,
   "nav_menu": {},
   "number_sections": true,
   "sideBar": true,
   "skip_h1_title": true,
   "title_cell": "Table of Contents",
   "title_sidebar": "Contents",
   "toc_cell": false,
   "toc_position": {},
   "toc_section_display": true,
   "toc_window_display": false
  }
 },
 "nbformat": 4,
 "nbformat_minor": 5
}
